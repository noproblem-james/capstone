{
 "cells": [
  {
   "cell_type": "code",
   "execution_count": 1,
   "metadata": {},
   "outputs": [],
   "source": [
    "import pandas as pd"
   ]
  },
  {
   "cell_type": "code",
   "execution_count": 2,
   "metadata": {},
   "outputs": [
    {
     "name": "stderr",
     "output_type": "stream",
     "text": [
      "/Users/jameshelfrich/miniconda3/envs/my_env/lib/python3.7/site-packages/ipykernel_launcher.py:1: FutureWarning: read_table is deprecated, use read_csv instead, passing sep='\\t'.\n",
      "  \"\"\"Entry point for launching an IPython kernel.\n"
     ]
    }
   ],
   "source": [
    "train_df = pd.read_table(\"cleaned-input.training.tsv\")"
   ]
  },
  {
   "cell_type": "code",
   "execution_count": 3,
   "metadata": {},
   "outputs": [
    {
     "data": {
      "text/html": [
       "<div>\n",
       "<style scoped>\n",
       "    .dataframe tbody tr th:only-of-type {\n",
       "        vertical-align: middle;\n",
       "    }\n",
       "\n",
       "    .dataframe tbody tr th {\n",
       "        vertical-align: top;\n",
       "    }\n",
       "\n",
       "    .dataframe thead th {\n",
       "        text-align: right;\n",
       "    }\n",
       "</style>\n",
       "<table border=\"1\" class=\"dataframe\">\n",
       "  <thead>\n",
       "    <tr style=\"text-align: right;\">\n",
       "      <th></th>\n",
       "      <th>FileNo</th>\n",
       "      <th>CountyName</th>\n",
       "      <th>CurrentOperator</th>\n",
       "      <th>CurrentWellName</th>\n",
       "      <th>DFElev</th>\n",
       "      <th>FieldName</th>\n",
       "      <th>Footages</th>\n",
       "      <th>GRElev</th>\n",
       "      <th>KBElev</th>\n",
       "      <th>LeaseName</th>\n",
       "      <th>...</th>\n",
       "      <th>std_tvd</th>\n",
       "      <th>stimulated_formation</th>\n",
       "      <th>surface_lat</th>\n",
       "      <th>surface_lng</th>\n",
       "      <th>total_lbs_proppant</th>\n",
       "      <th>total_num_stages</th>\n",
       "      <th>total_volume_bbls</th>\n",
       "      <th>tvd</th>\n",
       "      <th>type_treatment</th>\n",
       "      <th>well_status_date</th>\n",
       "    </tr>\n",
       "  </thead>\n",
       "  <tbody>\n",
       "    <tr>\n",
       "      <th>0</th>\n",
       "      <td>27863</td>\n",
       "      <td>WILLIAMS</td>\n",
       "      <td>WHITING OIL AND GAS CORPORATION</td>\n",
       "      <td>P WOOD  154-98-16-23-14-2H3</td>\n",
       "      <td>NaN</td>\n",
       "      <td>TRUAX</td>\n",
       "      <td>911 FSL  792 FEL</td>\n",
       "      <td>NaN</td>\n",
       "      <td>NaN</td>\n",
       "      <td>P WOOD</td>\n",
       "      <td>...</td>\n",
       "      <td>98.015839</td>\n",
       "      <td>bakken</td>\n",
       "      <td>48.142413</td>\n",
       "      <td>-103.240896</td>\n",
       "      <td>3991618.0</td>\n",
       "      <td>20</td>\n",
       "      <td>90232.0</td>\n",
       "      <td>10896.84</td>\n",
       "      <td>sand frac</td>\n",
       "      <td>2014-11-01</td>\n",
       "    </tr>\n",
       "    <tr>\n",
       "      <th>1</th>\n",
       "      <td>20136</td>\n",
       "      <td>MCKENZIE</td>\n",
       "      <td>HESS BAKKEN INVESTMENTS II, LLC</td>\n",
       "      <td>IVERSON TRUST  1-1H</td>\n",
       "      <td>NaN</td>\n",
       "      <td>GLASS BLUFF</td>\n",
       "      <td>300 FNL  1320 FEL</td>\n",
       "      <td>2216.0</td>\n",
       "      <td>2238.0</td>\n",
       "      <td>IVERSON TRUST</td>\n",
       "      <td>...</td>\n",
       "      <td>131.742252</td>\n",
       "      <td>bakken</td>\n",
       "      <td>47.934285</td>\n",
       "      <td>-103.802089</td>\n",
       "      <td>3668254.0</td>\n",
       "      <td>38</td>\n",
       "      <td>69347.0</td>\n",
       "      <td>10774.50</td>\n",
       "      <td>sand frac</td>\n",
       "      <td>2011-06-10</td>\n",
       "    </tr>\n",
       "    <tr>\n",
       "      <th>2</th>\n",
       "      <td>25780</td>\n",
       "      <td>MOUNTRAIL</td>\n",
       "      <td>LIME ROCK RESOURCES III-A, L.P.</td>\n",
       "      <td>CGB  30-31H</td>\n",
       "      <td>NaN</td>\n",
       "      <td>STANLEY</td>\n",
       "      <td>311 FNL  1795 FWL</td>\n",
       "      <td>2219.0</td>\n",
       "      <td>2247.0</td>\n",
       "      <td>CGB</td>\n",
       "      <td>...</td>\n",
       "      <td>144.805008</td>\n",
       "      <td>three forks</td>\n",
       "      <td>48.224994</td>\n",
       "      <td>-102.431774</td>\n",
       "      <td>3046163.0</td>\n",
       "      <td>46</td>\n",
       "      <td>46463.0</td>\n",
       "      <td>9906.50</td>\n",
       "      <td>fracture</td>\n",
       "      <td>2013-11-26</td>\n",
       "    </tr>\n",
       "    <tr>\n",
       "      <th>3</th>\n",
       "      <td>24575</td>\n",
       "      <td>STARK</td>\n",
       "      <td>WHITING OIL AND GAS CORPORATION</td>\n",
       "      <td>PAVLISH  31-30PH</td>\n",
       "      <td>NaN</td>\n",
       "      <td>SOUTH HEART</td>\n",
       "      <td>310 FNL  2000 FWL</td>\n",
       "      <td>2573.0</td>\n",
       "      <td>2600.0</td>\n",
       "      <td>PAVLISH</td>\n",
       "      <td>...</td>\n",
       "      <td>104.832581</td>\n",
       "      <td>bakken</td>\n",
       "      <td>46.918980</td>\n",
       "      <td>-102.969390</td>\n",
       "      <td>4811400.0</td>\n",
       "      <td>30</td>\n",
       "      <td>55196.0</td>\n",
       "      <td>10260.21</td>\n",
       "      <td>sand frac</td>\n",
       "      <td>2013-05-04</td>\n",
       "    </tr>\n",
       "    <tr>\n",
       "      <th>4</th>\n",
       "      <td>22752</td>\n",
       "      <td>MOUNTRAIL</td>\n",
       "      <td>LIME ROCK RESOURCES III-A, L.P.</td>\n",
       "      <td>STATE   34-33-28H</td>\n",
       "      <td>NaN</td>\n",
       "      <td>STANLEY</td>\n",
       "      <td>805 FSL  1222 FWL</td>\n",
       "      <td>2287.0</td>\n",
       "      <td>2317.0</td>\n",
       "      <td>STATE</td>\n",
       "      <td>...</td>\n",
       "      <td>87.433502</td>\n",
       "      <td>bakken</td>\n",
       "      <td>48.199037</td>\n",
       "      <td>-102.369400</td>\n",
       "      <td>NaN</td>\n",
       "      <td>30</td>\n",
       "      <td>NaN</td>\n",
       "      <td>9726.07</td>\n",
       "      <td>NaN</td>\n",
       "      <td>2013-01-08</td>\n",
       "    </tr>\n",
       "  </tbody>\n",
       "</table>\n",
       "<p>5 rows × 53 columns</p>\n",
       "</div>"
      ],
      "text/plain": [
       "   FileNo CountyName                  CurrentOperator  \\\n",
       "0   27863   WILLIAMS  WHITING OIL AND GAS CORPORATION   \n",
       "1   20136   MCKENZIE  HESS BAKKEN INVESTMENTS II, LLC   \n",
       "2   25780  MOUNTRAIL  LIME ROCK RESOURCES III-A, L.P.   \n",
       "3   24575      STARK  WHITING OIL AND GAS CORPORATION   \n",
       "4   22752  MOUNTRAIL  LIME ROCK RESOURCES III-A, L.P.   \n",
       "\n",
       "               CurrentWellName  DFElev    FieldName           Footages  \\\n",
       "0  P WOOD  154-98-16-23-14-2H3     NaN        TRUAX   911 FSL  792 FEL   \n",
       "1          IVERSON TRUST  1-1H     NaN  GLASS BLUFF  300 FNL  1320 FEL   \n",
       "2                  CGB  30-31H     NaN      STANLEY  311 FNL  1795 FWL   \n",
       "3             PAVLISH  31-30PH     NaN  SOUTH HEART  310 FNL  2000 FWL   \n",
       "4            STATE   34-33-28H     NaN      STANLEY  805 FSL  1222 FWL   \n",
       "\n",
       "   GRElev  KBElev      LeaseName  ...     std_tvd stimulated_formation  \\\n",
       "0     NaN     NaN         P WOOD  ...   98.015839               bakken   \n",
       "1  2216.0  2238.0  IVERSON TRUST  ...  131.742252               bakken   \n",
       "2  2219.0  2247.0            CGB  ...  144.805008          three forks   \n",
       "3  2573.0  2600.0        PAVLISH  ...  104.832581               bakken   \n",
       "4  2287.0  2317.0          STATE  ...   87.433502               bakken   \n",
       "\n",
       "  surface_lat surface_lng total_lbs_proppant total_num_stages  \\\n",
       "0   48.142413 -103.240896          3991618.0               20   \n",
       "1   47.934285 -103.802089          3668254.0               38   \n",
       "2   48.224994 -102.431774          3046163.0               46   \n",
       "3   46.918980 -102.969390          4811400.0               30   \n",
       "4   48.199037 -102.369400                NaN               30   \n",
       "\n",
       "   total_volume_bbls       tvd type_treatment well_status_date  \n",
       "0            90232.0  10896.84      sand frac       2014-11-01  \n",
       "1            69347.0  10774.50      sand frac       2011-06-10  \n",
       "2            46463.0   9906.50       fracture       2013-11-26  \n",
       "3            55196.0  10260.21      sand frac       2013-05-04  \n",
       "4                NaN   9726.07            NaN       2013-01-08  \n",
       "\n",
       "[5 rows x 53 columns]"
      ]
     },
     "execution_count": 3,
     "metadata": {},
     "output_type": "execute_result"
    }
   ],
   "source": [
    "train_df.head()"
   ]
  },
  {
   "cell_type": "code",
   "execution_count": 4,
   "metadata": {},
   "outputs": [
    {
     "data": {
      "text/plain": [
       "(6529, 53)"
      ]
     },
     "execution_count": 4,
     "metadata": {},
     "output_type": "execute_result"
    }
   ],
   "source": [
    "train_df.shape"
   ]
  },
  {
   "cell_type": "code",
   "execution_count": 5,
   "metadata": {},
   "outputs": [
    {
     "data": {
      "text/plain": [
       "Index(['FileNo', 'CountyName', 'CurrentOperator', 'CurrentWellName', 'DFElev',\n",
       "       'FieldName', 'Footages', 'GRElev', 'KBElev', 'LeaseName', 'LeaseNumber',\n",
       "       'OriginalOperator', 'OriginalWellName', 'ProducedPools', 'QQ', 'Range',\n",
       "       'Section', 'TD', 'Township', 'WellStatus', 'WellType', 'Wellbore',\n",
       "       'api', 'bakken_isopach_ft', 'bh_lat', 'bh_lng', 'choke_size', 'legs',\n",
       "       'max_tvd', 'mean_tvd', 'min_tvd', 'num_pools_produced',\n",
       "       'production_liquid_120', 'production_liquid_150',\n",
       "       'production_liquid_180', 'production_liquid_1825',\n",
       "       'production_liquid_270', 'production_liquid_30',\n",
       "       'production_liquid_365', 'production_liquid_60',\n",
       "       'production_liquid_730', 'production_liquid_90', 'spud_date', 'std_tvd',\n",
       "       'stimulated_formation', 'surface_lat', 'surface_lng',\n",
       "       'total_lbs_proppant', 'total_num_stages', 'total_volume_bbls', 'tvd',\n",
       "       'type_treatment', 'well_status_date'],\n",
       "      dtype='object')"
      ]
     },
     "execution_count": 5,
     "metadata": {},
     "output_type": "execute_result"
    }
   ],
   "source": [
    "train_df.columns"
   ]
  },
  {
   "cell_type": "code",
   "execution_count": 6,
   "metadata": {},
   "outputs": [
    {
     "data": {
      "text/plain": [
       "FileNo                       0\n",
       "CountyName                   0\n",
       "CurrentOperator              0\n",
       "CurrentWellName              0\n",
       "DFElev                    6527\n",
       "FieldName                    0\n",
       "Footages                     0\n",
       "GRElev                    1138\n",
       "KBElev                     393\n",
       "LeaseName                    0\n",
       "LeaseNumber                  3\n",
       "OriginalOperator             0\n",
       "OriginalWellName             0\n",
       "ProducedPools               11\n",
       "QQ                           0\n",
       "Range                        0\n",
       "Section                      0\n",
       "TD                          14\n",
       "Township                     0\n",
       "WellStatus                   0\n",
       "WellType                     0\n",
       "Wellbore                     0\n",
       "api                          0\n",
       "bakken_isopach_ft            0\n",
       "bh_lat                     333\n",
       "bh_lng                     333\n",
       "choke_size                 623\n",
       "legs                       333\n",
       "max_tvd                    333\n",
       "mean_tvd                   333\n",
       "min_tvd                    333\n",
       "num_pools_produced           0\n",
       "production_liquid_120      143\n",
       "production_liquid_150      165\n",
       "production_liquid_180      224\n",
       "production_liquid_1825    5860\n",
       "production_liquid_270      592\n",
       "production_liquid_30       109\n",
       "production_liquid_365     1065\n",
       "production_liquid_60       122\n",
       "production_liquid_730     2789\n",
       "production_liquid_90       133\n",
       "spud_date                   26\n",
       "std_tvd                    333\n",
       "stimulated_formation       816\n",
       "surface_lat                  0\n",
       "surface_lng                  0\n",
       "total_lbs_proppant         871\n",
       "total_num_stages             0\n",
       "total_volume_bbls          984\n",
       "tvd                        333\n",
       "type_treatment            1122\n",
       "well_status_date             0\n",
       "dtype: int64"
      ]
     },
     "execution_count": 6,
     "metadata": {},
     "output_type": "execute_result"
    }
   ],
   "source": [
    "train_df.isnull().sum()"
   ]
  },
  {
   "cell_type": "code",
   "execution_count": 7,
   "metadata": {},
   "outputs": [
    {
     "data": {
      "text/plain": [
       "bakken                3987\n",
       "three forks           1617\n",
       "spearfish               85\n",
       "pronghorn                7\n",
       "madison                  4\n",
       "tyler                    3\n",
       "red river                2\n",
       "bakken,three forks       2\n",
       "bakken/three forks       1\n",
       "lodgepole                1\n",
       "bluell                   1\n",
       "scallion                 1\n",
       "nesson                   1\n",
       "bakken,pronghorn         1\n",
       "Name: stimulated_formation, dtype: int64"
      ]
     },
     "execution_count": 7,
     "metadata": {},
     "output_type": "execute_result"
    }
   ],
   "source": [
    "train_df.stimulated_formation.value_counts()"
   ]
  },
  {
   "cell_type": "code",
   "execution_count": 9,
   "metadata": {},
   "outputs": [
    {
     "data": {
      "text/plain": [
       "(6529, 53)"
      ]
     },
     "execution_count": 9,
     "metadata": {},
     "output_type": "execute_result"
    }
   ],
   "source": [
    "train_df.shape"
   ]
  },
  {
   "cell_type": "code",
   "execution_count": 8,
   "metadata": {},
   "outputs": [
    {
     "data": {
      "text/html": [
       "<div>\n",
       "<style scoped>\n",
       "    .dataframe tbody tr th:only-of-type {\n",
       "        vertical-align: middle;\n",
       "    }\n",
       "\n",
       "    .dataframe tbody tr th {\n",
       "        vertical-align: top;\n",
       "    }\n",
       "\n",
       "    .dataframe thead th {\n",
       "        text-align: right;\n",
       "    }\n",
       "</style>\n",
       "<table border=\"1\" class=\"dataframe\">\n",
       "  <thead>\n",
       "    <tr style=\"text-align: right;\">\n",
       "      <th></th>\n",
       "      <th>production_liquid_180</th>\n",
       "    </tr>\n",
       "    <tr>\n",
       "      <th>stimulated_formation</th>\n",
       "      <th></th>\n",
       "    </tr>\n",
       "  </thead>\n",
       "  <tbody>\n",
       "    <tr>\n",
       "      <th>bakken</th>\n",
       "      <td>58952.0</td>\n",
       "    </tr>\n",
       "    <tr>\n",
       "      <th>bakken,pronghorn</th>\n",
       "      <td>35783.0</td>\n",
       "    </tr>\n",
       "    <tr>\n",
       "      <th>bakken,three forks</th>\n",
       "      <td>31542.0</td>\n",
       "    </tr>\n",
       "    <tr>\n",
       "      <th>bakken/three forks</th>\n",
       "      <td>NaN</td>\n",
       "    </tr>\n",
       "    <tr>\n",
       "      <th>bluell</th>\n",
       "      <td>NaN</td>\n",
       "    </tr>\n",
       "    <tr>\n",
       "      <th>lodgepole</th>\n",
       "      <td>NaN</td>\n",
       "    </tr>\n",
       "    <tr>\n",
       "      <th>madison</th>\n",
       "      <td>NaN</td>\n",
       "    </tr>\n",
       "    <tr>\n",
       "      <th>nesson</th>\n",
       "      <td>NaN</td>\n",
       "    </tr>\n",
       "    <tr>\n",
       "      <th>pronghorn</th>\n",
       "      <td>18810.0</td>\n",
       "    </tr>\n",
       "    <tr>\n",
       "      <th>red river</th>\n",
       "      <td>NaN</td>\n",
       "    </tr>\n",
       "    <tr>\n",
       "      <th>scallion</th>\n",
       "      <td>20168.0</td>\n",
       "    </tr>\n",
       "    <tr>\n",
       "      <th>spearfish</th>\n",
       "      <td>121828.5</td>\n",
       "    </tr>\n",
       "    <tr>\n",
       "      <th>three forks</th>\n",
       "      <td>53435.0</td>\n",
       "    </tr>\n",
       "    <tr>\n",
       "      <th>tyler</th>\n",
       "      <td>NaN</td>\n",
       "    </tr>\n",
       "  </tbody>\n",
       "</table>\n",
       "</div>"
      ],
      "text/plain": [
       "                      production_liquid_180\n",
       "stimulated_formation                       \n",
       "bakken                              58952.0\n",
       "bakken,pronghorn                    35783.0\n",
       "bakken,three forks                  31542.0\n",
       "bakken/three forks                      NaN\n",
       "bluell                                  NaN\n",
       "lodgepole                               NaN\n",
       "madison                                 NaN\n",
       "nesson                                  NaN\n",
       "pronghorn                           18810.0\n",
       "red river                               NaN\n",
       "scallion                            20168.0\n",
       "spearfish                          121828.5\n",
       "three forks                         53435.0\n",
       "tyler                                   NaN"
      ]
     },
     "execution_count": 8,
     "metadata": {},
     "output_type": "execute_result"
    }
   ],
   "source": [
    "train_df.filter([\"stimulated_formation\", \"production_liquid_180\"]).groupby(\"stimulated_formation\").median()"
   ]
  },
  {
   "cell_type": "code",
   "execution_count": null,
   "metadata": {},
   "outputs": [],
   "source": []
  }
 ],
 "metadata": {
  "kernelspec": {
   "display_name": "Python 3",
   "language": "python",
   "name": "python3"
  },
  "language_info": {
   "codemirror_mode": {
    "name": "ipython",
    "version": 3
   },
   "file_extension": ".py",
   "mimetype": "text/x-python",
   "name": "python",
   "nbconvert_exporter": "python",
   "pygments_lexer": "ipython3",
   "version": "3.7.2"
  }
 },
 "nbformat": 4,
 "nbformat_minor": 2
}
