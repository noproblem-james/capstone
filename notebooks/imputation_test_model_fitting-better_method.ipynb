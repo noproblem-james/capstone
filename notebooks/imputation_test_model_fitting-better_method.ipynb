{
 "cells": [
  {
   "cell_type": "markdown",
   "metadata": {},
   "source": [
    "# Testing Imputation Methods by Filling Actual Missing Values and Then Fitting Models"
   ]
  },
  {
   "cell_type": "code",
   "execution_count": 1,
   "metadata": {
    "collapsed": true
   },
   "outputs": [],
   "source": [
    "import pandas as pd\n",
    "import numpy as np\n",
    "import re"
   ]
  },
  {
   "cell_type": "code",
   "execution_count": 2,
   "metadata": {
    "collapsed": false,
    "scrolled": true
   },
   "outputs": [
    {
     "data": {
      "text/html": [
       "<style>.container { width:100% !important; }</style>"
      ],
      "text/plain": [
       "<IPython.core.display.HTML object>"
      ]
     },
     "metadata": {},
     "output_type": "display_data"
    }
   ],
   "source": [
    "from IPython.core.display import display, HTML\n",
    "display(HTML(\"<style>.container { width:100% !important; }</style>\"))\n",
    "pd.set_option('max_colwidth', 800)"
   ]
  },
  {
   "cell_type": "code",
   "execution_count": 128,
   "metadata": {
    "collapsed": true
   },
   "outputs": [],
   "source": [
    "import eda_tools as et"
   ]
  },
  {
   "cell_type": "code",
   "execution_count": 3,
   "metadata": {
    "collapsed": true
   },
   "outputs": [],
   "source": [
    "import matplotlib.pyplot as plt\n",
    "%matplotlib inline"
   ]
  },
  {
   "cell_type": "code",
   "execution_count": 4,
   "metadata": {
    "collapsed": false
   },
   "outputs": [],
   "source": [
    "testing_df = pd.read_csv('data/cleaned-input.test.tsv', sep='\\t', low_memory=False)\n",
    "training_df = pd.read_csv('data/cleaned-input.training.tsv', sep='\\t', low_memory=False)"
   ]
  },
  {
   "cell_type": "code",
   "execution_count": 5,
   "metadata": {
    "collapsed": false
   },
   "outputs": [
    {
     "data": {
      "text/html": [
       "<div>\n",
       "<style>\n",
       "    .dataframe thead tr:only-child th {\n",
       "        text-align: right;\n",
       "    }\n",
       "\n",
       "    .dataframe thead th {\n",
       "        text-align: left;\n",
       "    }\n",
       "\n",
       "    .dataframe tbody tr th {\n",
       "        vertical-align: top;\n",
       "    }\n",
       "</style>\n",
       "<table border=\"1\" class=\"dataframe\">\n",
       "  <thead>\n",
       "    <tr style=\"text-align: right;\">\n",
       "      <th></th>\n",
       "      <th>FileNo</th>\n",
       "      <th>CountyName</th>\n",
       "      <th>CurrentOperator</th>\n",
       "      <th>CurrentWellName</th>\n",
       "      <th>DFElev</th>\n",
       "      <th>FieldName</th>\n",
       "      <th>Footages</th>\n",
       "      <th>GRElev</th>\n",
       "      <th>KBElev</th>\n",
       "      <th>LeaseName</th>\n",
       "      <th>...</th>\n",
       "      <th>std_tvd</th>\n",
       "      <th>stimulated_formation</th>\n",
       "      <th>surface_lat</th>\n",
       "      <th>surface_lng</th>\n",
       "      <th>total_lbs_proppant</th>\n",
       "      <th>total_num_stages</th>\n",
       "      <th>total_volume_bbls</th>\n",
       "      <th>tvd</th>\n",
       "      <th>type_treatment</th>\n",
       "      <th>well_status_date</th>\n",
       "    </tr>\n",
       "  </thead>\n",
       "  <tbody>\n",
       "    <tr>\n",
       "      <th>0</th>\n",
       "      <td>25893</td>\n",
       "      <td>DIVIDE</td>\n",
       "      <td>HUNT OIL COMPANY</td>\n",
       "      <td>WRITING ROCK  161-101-30-31H-1</td>\n",
       "      <td>NaN</td>\n",
       "      <td>WRITING ROCK</td>\n",
       "      <td>365 FNL  1980 FEL</td>\n",
       "      <td>2149.0</td>\n",
       "      <td>2174.0</td>\n",
       "      <td>WRITING ROCK</td>\n",
       "      <td>...</td>\n",
       "      <td>109.078896</td>\n",
       "      <td>bakken</td>\n",
       "      <td>48.748656</td>\n",
       "      <td>-103.845225</td>\n",
       "      <td>2702100.0</td>\n",
       "      <td>25</td>\n",
       "      <td>58176.0</td>\n",
       "      <td>8756.79</td>\n",
       "      <td>sand frac</td>\n",
       "      <td>2014-02-07</td>\n",
       "    </tr>\n",
       "    <tr>\n",
       "      <th>1</th>\n",
       "      <td>21629</td>\n",
       "      <td>MOUNTRAIL</td>\n",
       "      <td>WHITING OIL AND GAS CORPORATION</td>\n",
       "      <td>JORGENSEN  11-27H</td>\n",
       "      <td>NaN</td>\n",
       "      <td>SANISH</td>\n",
       "      <td>450 FNL  1100 FWL</td>\n",
       "      <td>2324.0</td>\n",
       "      <td>2354.0</td>\n",
       "      <td>JORGENSEN</td>\n",
       "      <td>...</td>\n",
       "      <td>127.284840</td>\n",
       "      <td>bakken</td>\n",
       "      <td>48.137685</td>\n",
       "      <td>-102.370201</td>\n",
       "      <td>1866840.0</td>\n",
       "      <td>26</td>\n",
       "      <td>27187.0</td>\n",
       "      <td>9830.13</td>\n",
       "      <td>sand frac</td>\n",
       "      <td>2012-01-22</td>\n",
       "    </tr>\n",
       "    <tr>\n",
       "      <th>2</th>\n",
       "      <td>26027</td>\n",
       "      <td>MCKENZIE</td>\n",
       "      <td>NEWFIELD PRODUCTION COMPANY</td>\n",
       "      <td>MOBERG FEDERAL  149-95-29-32-11H</td>\n",
       "      <td>NaN</td>\n",
       "      <td>BEAR DEN</td>\n",
       "      <td>360 FNL  1898 FWL</td>\n",
       "      <td>2334.0</td>\n",
       "      <td>2359.0</td>\n",
       "      <td>MOBERG FEDERAL</td>\n",
       "      <td>...</td>\n",
       "      <td>111.836611</td>\n",
       "      <td>three forks</td>\n",
       "      <td>47.701894</td>\n",
       "      <td>-102.869198</td>\n",
       "      <td>1651440.0</td>\n",
       "      <td>32</td>\n",
       "      <td>16129.0</td>\n",
       "      <td>11023.77</td>\n",
       "      <td>sand frac</td>\n",
       "      <td>2013-12-03</td>\n",
       "    </tr>\n",
       "    <tr>\n",
       "      <th>3</th>\n",
       "      <td>24163</td>\n",
       "      <td>MCKENZIE</td>\n",
       "      <td>ENERPLUS RESOURCES USA CORPORATION</td>\n",
       "      <td>CIRRUS  149-94-33D-28H</td>\n",
       "      <td>NaN</td>\n",
       "      <td>EAGLE NEST</td>\n",
       "      <td>260 FSL  850 FEL</td>\n",
       "      <td>2424.0</td>\n",
       "      <td>2450.0</td>\n",
       "      <td>CIRRUS</td>\n",
       "      <td>...</td>\n",
       "      <td>120.535501</td>\n",
       "      <td>bakken</td>\n",
       "      <td>47.674779</td>\n",
       "      <td>-102.709854</td>\n",
       "      <td>6515590.0</td>\n",
       "      <td>23</td>\n",
       "      <td>47161.0</td>\n",
       "      <td>11068.31</td>\n",
       "      <td>sand frac</td>\n",
       "      <td>2013-04-14</td>\n",
       "    </tr>\n",
       "    <tr>\n",
       "      <th>4</th>\n",
       "      <td>24902</td>\n",
       "      <td>MCKENZIE</td>\n",
       "      <td>WHITING OIL AND GAS CORPORATION</td>\n",
       "      <td>SMOKEY  3-17-20-14H</td>\n",
       "      <td>NaN</td>\n",
       "      <td>PEMBROKE</td>\n",
       "      <td>350 FNL  1965 FWL</td>\n",
       "      <td>2213.0</td>\n",
       "      <td>2241.0</td>\n",
       "      <td>SMOKEY</td>\n",
       "      <td>...</td>\n",
       "      <td>139.224513</td>\n",
       "      <td>bakken</td>\n",
       "      <td>47.731386</td>\n",
       "      <td>-103.253209</td>\n",
       "      <td>4251992.0</td>\n",
       "      <td>33</td>\n",
       "      <td>96171.0</td>\n",
       "      <td>11190.58</td>\n",
       "      <td>sand frac</td>\n",
       "      <td>2014-01-01</td>\n",
       "    </tr>\n",
       "  </tbody>\n",
       "</table>\n",
       "<p>5 rows × 53 columns</p>\n",
       "</div>"
      ],
      "text/plain": [
       "   FileNo CountyName                     CurrentOperator  \\\n",
       "0   25893     DIVIDE                    HUNT OIL COMPANY   \n",
       "1   21629  MOUNTRAIL     WHITING OIL AND GAS CORPORATION   \n",
       "2   26027   MCKENZIE         NEWFIELD PRODUCTION COMPANY   \n",
       "3   24163   MCKENZIE  ENERPLUS RESOURCES USA CORPORATION   \n",
       "4   24902   MCKENZIE     WHITING OIL AND GAS CORPORATION   \n",
       "\n",
       "                    CurrentWellName  DFElev     FieldName           Footages  \\\n",
       "0    WRITING ROCK  161-101-30-31H-1     NaN  WRITING ROCK  365 FNL  1980 FEL   \n",
       "1                 JORGENSEN  11-27H     NaN        SANISH  450 FNL  1100 FWL   \n",
       "2  MOBERG FEDERAL  149-95-29-32-11H     NaN      BEAR DEN  360 FNL  1898 FWL   \n",
       "3            CIRRUS  149-94-33D-28H     NaN    EAGLE NEST   260 FSL  850 FEL   \n",
       "4               SMOKEY  3-17-20-14H     NaN      PEMBROKE  350 FNL  1965 FWL   \n",
       "\n",
       "   GRElev  KBElev       LeaseName       ...            std_tvd  \\\n",
       "0  2149.0  2174.0    WRITING ROCK       ...         109.078896   \n",
       "1  2324.0  2354.0       JORGENSEN       ...         127.284840   \n",
       "2  2334.0  2359.0  MOBERG FEDERAL       ...         111.836611   \n",
       "3  2424.0  2450.0          CIRRUS       ...         120.535501   \n",
       "4  2213.0  2241.0          SMOKEY       ...         139.224513   \n",
       "\n",
       "  stimulated_formation surface_lat surface_lng total_lbs_proppant  \\\n",
       "0               bakken   48.748656 -103.845225          2702100.0   \n",
       "1               bakken   48.137685 -102.370201          1866840.0   \n",
       "2          three forks   47.701894 -102.869198          1651440.0   \n",
       "3               bakken   47.674779 -102.709854          6515590.0   \n",
       "4               bakken   47.731386 -103.253209          4251992.0   \n",
       "\n",
       "  total_num_stages  total_volume_bbls       tvd type_treatment  \\\n",
       "0               25            58176.0   8756.79      sand frac   \n",
       "1               26            27187.0   9830.13      sand frac   \n",
       "2               32            16129.0  11023.77      sand frac   \n",
       "3               23            47161.0  11068.31      sand frac   \n",
       "4               33            96171.0  11190.58      sand frac   \n",
       "\n",
       "  well_status_date  \n",
       "0       2014-02-07  \n",
       "1       2012-01-22  \n",
       "2       2013-12-03  \n",
       "3       2013-04-14  \n",
       "4       2014-01-01  \n",
       "\n",
       "[5 rows x 53 columns]"
      ]
     },
     "execution_count": 5,
     "metadata": {},
     "output_type": "execute_result"
    }
   ],
   "source": [
    "testing_df.head()"
   ]
  },
  {
   "cell_type": "code",
   "execution_count": 6,
   "metadata": {
    "collapsed": false
   },
   "outputs": [
    {
     "name": "stdout",
     "output_type": "stream",
     "text": [
      "<class 'pandas.core.frame.DataFrame'>\n",
      "RangeIndex: 1586 entries, 0 to 1585\n",
      "Data columns (total 53 columns):\n",
      "FileNo                    1586 non-null int64\n",
      "CountyName                1586 non-null object\n",
      "CurrentOperator           1586 non-null object\n",
      "CurrentWellName           1586 non-null object\n",
      "DFElev                    0 non-null float64\n",
      "FieldName                 1586 non-null object\n",
      "Footages                  1586 non-null object\n",
      "GRElev                    1310 non-null float64\n",
      "KBElev                    1495 non-null float64\n",
      "LeaseName                 1586 non-null object\n",
      "LeaseNumber               1585 non-null object\n",
      "OriginalOperator          1586 non-null object\n",
      "OriginalWellName          1586 non-null object\n",
      "ProducedPools             1585 non-null object\n",
      "QQ                        1586 non-null object\n",
      "Range                     1586 non-null object\n",
      "Section                   1586 non-null int64\n",
      "TD                        1585 non-null float64\n",
      "Township                  1586 non-null object\n",
      "WellStatus                1586 non-null object\n",
      "WellType                  1586 non-null object\n",
      "Wellbore                  1586 non-null object\n",
      "api                       1586 non-null object\n",
      "bakken_isopach_ft         1586 non-null float64\n",
      "bh_lat                    1507 non-null float64\n",
      "bh_lng                    1507 non-null float64\n",
      "choke_size                1442 non-null object\n",
      "legs                      1507 non-null float64\n",
      "max_tvd                   1507 non-null float64\n",
      "mean_tvd                  1507 non-null float64\n",
      "min_tvd                   1507 non-null float64\n",
      "num_pools_produced        1586 non-null int64\n",
      "production_liquid_120     1557 non-null float64\n",
      "production_liquid_150     1543 non-null float64\n",
      "production_liquid_180     1532 non-null float64\n",
      "production_liquid_1825    151 non-null float64\n",
      "production_liquid_270     1443 non-null float64\n",
      "production_liquid_30      1562 non-null float64\n",
      "production_liquid_365     1316 non-null float64\n",
      "production_liquid_60      1560 non-null float64\n",
      "production_liquid_730     884 non-null float64\n",
      "production_liquid_90      1558 non-null float64\n",
      "spud_date                 1576 non-null object\n",
      "std_tvd                   1507 non-null float64\n",
      "stimulated_formation      1389 non-null object\n",
      "surface_lat               1586 non-null float64\n",
      "surface_lng               1586 non-null float64\n",
      "total_lbs_proppant        1375 non-null float64\n",
      "total_num_stages          1586 non-null int64\n",
      "total_volume_bbls         1367 non-null float64\n",
      "tvd                       1507 non-null float64\n",
      "type_treatment            1315 non-null object\n",
      "well_status_date          1586 non-null object\n",
      "dtypes: float64(27), int64(4), object(22)\n",
      "memory usage: 656.8+ KB\n"
     ]
    }
   ],
   "source": [
    "testing_df.info()"
   ]
  },
  {
   "cell_type": "markdown",
   "metadata": {},
   "source": [
    "## Step 0: Data Prep"
   ]
  },
  {
   "cell_type": "code",
   "execution_count": 7,
   "metadata": {
    "collapsed": true
   },
   "outputs": [],
   "source": [
    "import data_munging_tools as dmt"
   ]
  },
  {
   "cell_type": "code",
   "execution_count": 8,
   "metadata": {
    "collapsed": false
   },
   "outputs": [
    {
     "name": "stdout",
     "output_type": "stream",
     "text": [
      "df shape before removal (1586, 53)\n",
      "Shape before removal: (1586, 53)\n",
      "Blacklisted columns: ['bakken_isopach_ft', 'production_liquid_120', 'production_liquid_150', 'production_liquid_180', 'production_liquid_1825', 'production_liquid_270', 'production_liquid_30', 'production_liquid_365', 'production_liquid_60', 'production_liquid_730', 'total_num_stages']\n",
      "Number of blacklisted columns: 11\n",
      "Shape after removal: (1586, 42)\n",
      "Dropped CurrentWellName since it was categorical and had a high cardinality\n",
      "Dropped DFElev since it was empty\n",
      "Dropped Footages since it was categorical and had a high cardinality\n",
      "Dropped LeaseName since it was categorical and had a high cardinality\n",
      "Dropped LeaseNumber since it was categorical and had a high cardinality\n",
      "Dropped OriginalWellName since it was categorical and had a high cardinality\n",
      "Dropped api since it was categorical and had a high cardinality\n",
      "Dropped spud_date since it was categorical and had a high cardinality\n",
      "Dropped well_status_date since it was categorical and had a high cardinality\n",
      "df shape after removal (1586, 33)\n"
     ]
    }
   ],
   "source": [
    "my_blacklist_patterns = ['^recent_ipt_', '^production_', 'total_num_stages', 'bakken_isopach_ft']\n",
    "\n",
    "exception = set(['production_liquid_90'])\n",
    "\n",
    "testing_df = dmt.munge_pipe(testing_df, exceptions=exception, blacklist_patterns=my_blacklist_patterns)"
   ]
  },
  {
   "cell_type": "code",
   "execution_count": 9,
   "metadata": {
    "collapsed": false,
    "scrolled": false
   },
   "outputs": [
    {
     "name": "stdout",
     "output_type": "stream",
     "text": [
      "df shape before removal (6529, 53)\n",
      "Shape before removal: (6529, 53)\n",
      "Blacklisted columns: ['bakken_isopach_ft', 'production_liquid_120', 'production_liquid_150', 'production_liquid_180', 'production_liquid_1825', 'production_liquid_270', 'production_liquid_30', 'production_liquid_365', 'production_liquid_60', 'production_liquid_730', 'total_num_stages']\n",
      "Number of blacklisted columns: 11\n",
      "Shape after removal: (6529, 42)\n",
      "Dropped CurrentWellName since it was categorical and had a high cardinality\n",
      "Dropped Footages since it was categorical and had a high cardinality\n",
      "Dropped LeaseName since it was categorical and had a high cardinality\n",
      "Dropped LeaseNumber since it was categorical and had a high cardinality\n",
      "Dropped OriginalWellName since it was categorical and had a high cardinality\n",
      "Dropped api since it was categorical and had a high cardinality\n",
      "Dropped spud_date since it was categorical and had a high cardinality\n",
      "Dropped well_status_date since it was categorical and had a high cardinality\n",
      "Dropped DFElev since it had a high proportion of missing values. 0.999693674376\n",
      "df shape after removal (6529, 33)\n"
     ]
    }
   ],
   "source": [
    "training_df = dmt.munge_pipe(training_df, exceptions=exception, blacklist_patterns=my_blacklist_patterns)"
   ]
  },
  {
   "cell_type": "code",
   "execution_count": 10,
   "metadata": {
    "collapsed": false
   },
   "outputs": [
    {
     "name": "stdout",
     "output_type": "stream",
     "text": [
      "(1586, 31)\n",
      "(6529, 31)\n"
     ]
    }
   ],
   "source": [
    "# Dropping other unique identifiers\n",
    "testing_df.drop([\"FileNo\", \"Section\"], axis=1, inplace=True)\n",
    "training_df.drop([\"FileNo\", \"Section\"], axis=1, inplace=True)\n",
    "print testing_df.shape\n",
    "print training_df.shape"
   ]
  },
  {
   "cell_type": "markdown",
   "metadata": {},
   "source": [
    "# Imputation Tests"
   ]
  },
  {
   "cell_type": "markdown",
   "metadata": {},
   "source": [
    "## Instantiate imputers and predictive model"
   ]
  },
  {
   "cell_type": "code",
   "execution_count": 11,
   "metadata": {
    "collapsed": false
   },
   "outputs": [],
   "source": [
    "from fancyimpute import BiScaler, KNN, NuclearNormMinimization, SoftImpute, SimpleFill, MICE, MatrixFactorization, IterativeSVD"
   ]
  },
  {
   "cell_type": "code",
   "execution_count": 152,
   "metadata": {
    "collapsed": false
   },
   "outputs": [],
   "source": [
    "#instantiate imputers:\n",
    "sf_median = SimpleFill(fill_method=\"median\")\n",
    "sf_mean = SimpleFill(fill_method=\"mean\")\n",
    "knn_imputer = KNN(k=10, verbose=0)\n",
    "mice_imputer = MICE(verbose=0)\n",
    "mf_imputer = MatrixFactorization(verbose=0)\n",
    "nnm_imputer = NuclearNormMinimization(verbose=0)\n",
    "soft_imputer = SoftImpute(verbose=0)\n",
    "svd_imputer = IterativeSVD(verbose=0)\n",
    "\n",
    "#create dicts of imputers\n",
    "nonnormed_imputers_dict = {\"sf_median\" : sf_median, \"sf_mean\" : sf_mean}\n",
    "imputers_dict = {\"sf_median\" : sf_median, \"sf_mean\" : sf_mean, \"knn_imputer\" : knn_imputer, \"mice_imputer\" : mice_imputer, \"soft_imputer\": soft_imputer, \"svd_imputer\": svd_imputer}\n",
    "all_imputers_dict = {\"sf_median\" : sf_median, \"sf_mean\" : sf_mean, \"knn_imputer\" : knn_imputer, \"mice_imputer\": mice_imputer, \"mf_imputer\": mf_imputer}"
   ]
  },
  {
   "cell_type": "code",
   "execution_count": 13,
   "metadata": {
    "collapsed": false
   },
   "outputs": [],
   "source": [
    "import impute_eval as ie"
   ]
  },
  {
   "cell_type": "code",
   "execution_count": 14,
   "metadata": {
    "collapsed": true
   },
   "outputs": [],
   "source": [
    "import model_fitting_tools as mft"
   ]
  },
  {
   "cell_type": "code",
   "execution_count": 15,
   "metadata": {
    "collapsed": false
   },
   "outputs": [],
   "source": [
    "from sklearn.ensemble import ExtraTreesRegressor\n",
    "\n",
    "TREE_COUNT = 20\n",
    "MAX_DEPTH = 20\n",
    "TARGET = 'production_liquid_90'\n",
    "\n",
    "etr = ExtraTreesRegressor(n_estimators=TREE_COUNT, max_depth=MAX_DEPTH)"
   ]
  },
  {
   "cell_type": "code",
   "execution_count": 18,
   "metadata": {
    "collapsed": false
   },
   "outputs": [
    {
     "data": {
      "text/plain": [
       "'production_liquid_90'"
      ]
     },
     "execution_count": 18,
     "metadata": {},
     "output_type": "execute_result"
    }
   ],
   "source": [
    "TARGET"
   ]
  },
  {
   "cell_type": "code",
   "execution_count": 19,
   "metadata": {
    "collapsed": false
   },
   "outputs": [
    {
     "data": {
      "text/plain": [
       "{'knn_imputer': KNN(fill_method='zero', k=10, max_value=None, min_value=None, n_imputations=1, normalizer=None, orientation='rows', print_interval=100, verbose=0),\n",
       " 'mice_imputer': MICE(fill_method='mean', impute_type='col', max_value=None, min_value=None, n_burn_in=10, n_imputations=100, n_nearest_columns=inf, n_pmm_neighbors=5, normalizer=None, verbose=0, visit_sequence='monotone'),\n",
       " 'sf_mean': SimpleFill(fill_method='mean', max_value=None, min_value=None, n_imputations=1, normalizer=None),\n",
       " 'sf_median': SimpleFill(fill_method='median', max_value=None, min_value=None, n_imputations=1, normalizer=None),\n",
       " 'soft_imputer': SoftImpute(convergence_threshold=0.001, fill_method='zero', max_iters=100, max_rank=None, max_value=None, min_value=None, n_imputations=1, n_power_iterations=1, normalizer=None, shrinkage_value=None, verbose=0),\n",
       " 'svd_imputer': IterativeSVD(convergence_threshold=1e-05, fill_method='zero', gradual_rank_increase=True, max_iters=200, max_value=None, min_value=None, n_imputations=1, normalizer=None, rank=10, svd_algorithm='arpack', verbose=0)}"
      ]
     },
     "execution_count": 19,
     "metadata": {},
     "output_type": "execute_result"
    }
   ],
   "source": [
    "imputers_dict"
   ]
  },
  {
   "cell_type": "markdown",
   "metadata": {},
   "source": [
    "## Manual Testing"
   ]
  },
  {
   "cell_type": "markdown",
   "metadata": {},
   "source": [
    "### Testing numeric/nonnumeric split, impute and binarize, respectively"
   ]
  },
  {
   "cell_type": "code",
   "execution_count": 20,
   "metadata": {
    "collapsed": true
   },
   "outputs": [],
   "source": [
    "def short_info(df):\n",
    "    name =[x for x in globals() if globals()[x] is df][0]\n",
    "    print \"\\n\", \"*\"*50\n",
    "    print \"dataframe name: {}\".format(name)\n",
    "    print \"shape: {}\".format(df.shape)\n",
    "    print \"index: {}\".format(df.index)\n",
    "    print \"Nulls exist: {}\".format(np.any(df.isnull()))"
   ]
  },
  {
   "cell_type": "code",
   "execution_count": 21,
   "metadata": {
    "collapsed": false,
    "scrolled": true
   },
   "outputs": [
    {
     "name": "stdout",
     "output_type": "stream",
     "text": [
      "numeric columns: ['GRElev', 'KBElev', 'TD', 'bh_lat', 'bh_lng', 'legs', 'max_tvd', 'mean_tvd', 'min_tvd', 'num_pools_produced', 'production_liquid_90', 'std_tvd', 'surface_lat', 'surface_lng', 'total_lbs_proppant', 'total_volume_bbls', 'tvd']\n",
      "non-numeric columns: ['CountyName', 'CurrentOperator', 'FieldName', 'OriginalOperator', 'ProducedPools', 'QQ', 'Range', 'Township', 'WellStatus', 'WellType', 'Wellbore', 'choke_size', 'stimulated_formation', 'type_treatment']\n"
     ]
    }
   ],
   "source": [
    "num_df, nonnum_df = dmt.split_numerical_features(training_df, verbose=1)"
   ]
  },
  {
   "cell_type": "code",
   "execution_count": 22,
   "metadata": {
    "collapsed": false,
    "scrolled": false
   },
   "outputs": [
    {
     "data": {
      "text/html": [
       "<div>\n",
       "<style>\n",
       "    .dataframe thead tr:only-child th {\n",
       "        text-align: right;\n",
       "    }\n",
       "\n",
       "    .dataframe thead th {\n",
       "        text-align: left;\n",
       "    }\n",
       "\n",
       "    .dataframe tbody tr th {\n",
       "        vertical-align: top;\n",
       "    }\n",
       "</style>\n",
       "<table border=\"1\" class=\"dataframe\">\n",
       "  <thead>\n",
       "    <tr style=\"text-align: right;\">\n",
       "      <th></th>\n",
       "      <th>GRElev</th>\n",
       "      <th>KBElev</th>\n",
       "      <th>TD</th>\n",
       "      <th>bh_lat</th>\n",
       "      <th>bh_lng</th>\n",
       "      <th>legs</th>\n",
       "      <th>max_tvd</th>\n",
       "      <th>mean_tvd</th>\n",
       "      <th>min_tvd</th>\n",
       "      <th>num_pools_produced</th>\n",
       "      <th>production_liquid_90</th>\n",
       "      <th>std_tvd</th>\n",
       "      <th>surface_lat</th>\n",
       "      <th>surface_lng</th>\n",
       "      <th>total_lbs_proppant</th>\n",
       "      <th>total_volume_bbls</th>\n",
       "      <th>tvd</th>\n",
       "    </tr>\n",
       "  </thead>\n",
       "  <tbody>\n",
       "    <tr>\n",
       "      <th>0</th>\n",
       "      <td>NaN</td>\n",
       "      <td>NaN</td>\n",
       "      <td>20300.0</td>\n",
       "      <td>48.168154</td>\n",
       "      <td>-103.245166</td>\n",
       "      <td>2.0</td>\n",
       "      <td>10916.93</td>\n",
       "      <td>10868.577339</td>\n",
       "      <td>10395.89</td>\n",
       "      <td>1</td>\n",
       "      <td>33526.0</td>\n",
       "      <td>98.015839</td>\n",
       "      <td>48.142413</td>\n",
       "      <td>-103.240896</td>\n",
       "      <td>3991618.0</td>\n",
       "      <td>90232.0</td>\n",
       "      <td>10896.84</td>\n",
       "    </tr>\n",
       "    <tr>\n",
       "      <th>1</th>\n",
       "      <td>2216.0</td>\n",
       "      <td>2238.0</td>\n",
       "      <td>20552.0</td>\n",
       "      <td>47.906679</td>\n",
       "      <td>-103.802227</td>\n",
       "      <td>2.0</td>\n",
       "      <td>10784.08</td>\n",
       "      <td>10724.267533</td>\n",
       "      <td>10142.28</td>\n",
       "      <td>1</td>\n",
       "      <td>38197.0</td>\n",
       "      <td>131.742252</td>\n",
       "      <td>47.934285</td>\n",
       "      <td>-103.802089</td>\n",
       "      <td>3668254.0</td>\n",
       "      <td>69347.0</td>\n",
       "      <td>10774.50</td>\n",
       "    </tr>\n",
       "    <tr>\n",
       "      <th>2</th>\n",
       "      <td>2219.0</td>\n",
       "      <td>2247.0</td>\n",
       "      <td>16980.0</td>\n",
       "      <td>48.205268</td>\n",
       "      <td>-102.422482</td>\n",
       "      <td>2.0</td>\n",
       "      <td>9915.74</td>\n",
       "      <td>9830.268200</td>\n",
       "      <td>9198.87</td>\n",
       "      <td>1</td>\n",
       "      <td>9079.0</td>\n",
       "      <td>144.805008</td>\n",
       "      <td>48.224994</td>\n",
       "      <td>-102.431774</td>\n",
       "      <td>3046163.0</td>\n",
       "      <td>46463.0</td>\n",
       "      <td>9906.50</td>\n",
       "    </tr>\n",
       "    <tr>\n",
       "      <th>3</th>\n",
       "      <td>2573.0</td>\n",
       "      <td>2600.0</td>\n",
       "      <td>20135.0</td>\n",
       "      <td>46.891498</td>\n",
       "      <td>-102.967185</td>\n",
       "      <td>2.0</td>\n",
       "      <td>10305.91</td>\n",
       "      <td>10242.205128</td>\n",
       "      <td>9741.01</td>\n",
       "      <td>1</td>\n",
       "      <td>27155.0</td>\n",
       "      <td>104.832581</td>\n",
       "      <td>46.918980</td>\n",
       "      <td>-102.969390</td>\n",
       "      <td>4811400.0</td>\n",
       "      <td>55196.0</td>\n",
       "      <td>10260.21</td>\n",
       "    </tr>\n",
       "    <tr>\n",
       "      <th>4</th>\n",
       "      <td>2287.0</td>\n",
       "      <td>2317.0</td>\n",
       "      <td>19400.0</td>\n",
       "      <td>48.225065</td>\n",
       "      <td>-102.380393</td>\n",
       "      <td>2.0</td>\n",
       "      <td>9743.69</td>\n",
       "      <td>9706.356736</td>\n",
       "      <td>9269.02</td>\n",
       "      <td>1</td>\n",
       "      <td>58917.0</td>\n",
       "      <td>87.433502</td>\n",
       "      <td>48.199037</td>\n",
       "      <td>-102.369400</td>\n",
       "      <td>NaN</td>\n",
       "      <td>NaN</td>\n",
       "      <td>9726.07</td>\n",
       "    </tr>\n",
       "  </tbody>\n",
       "</table>\n",
       "</div>"
      ],
      "text/plain": [
       "   GRElev  KBElev       TD     bh_lat      bh_lng  legs   max_tvd  \\\n",
       "0     NaN     NaN  20300.0  48.168154 -103.245166   2.0  10916.93   \n",
       "1  2216.0  2238.0  20552.0  47.906679 -103.802227   2.0  10784.08   \n",
       "2  2219.0  2247.0  16980.0  48.205268 -102.422482   2.0   9915.74   \n",
       "3  2573.0  2600.0  20135.0  46.891498 -102.967185   2.0  10305.91   \n",
       "4  2287.0  2317.0  19400.0  48.225065 -102.380393   2.0   9743.69   \n",
       "\n",
       "       mean_tvd   min_tvd  num_pools_produced  production_liquid_90  \\\n",
       "0  10868.577339  10395.89                   1               33526.0   \n",
       "1  10724.267533  10142.28                   1               38197.0   \n",
       "2   9830.268200   9198.87                   1                9079.0   \n",
       "3  10242.205128   9741.01                   1               27155.0   \n",
       "4   9706.356736   9269.02                   1               58917.0   \n",
       "\n",
       "      std_tvd  surface_lat  surface_lng  total_lbs_proppant  \\\n",
       "0   98.015839    48.142413  -103.240896           3991618.0   \n",
       "1  131.742252    47.934285  -103.802089           3668254.0   \n",
       "2  144.805008    48.224994  -102.431774           3046163.0   \n",
       "3  104.832581    46.918980  -102.969390           4811400.0   \n",
       "4   87.433502    48.199037  -102.369400                 NaN   \n",
       "\n",
       "   total_volume_bbls       tvd  \n",
       "0            90232.0  10896.84  \n",
       "1            69347.0  10774.50  \n",
       "2            46463.0   9906.50  \n",
       "3            55196.0  10260.21  \n",
       "4                NaN   9726.07  "
      ]
     },
     "execution_count": 22,
     "metadata": {},
     "output_type": "execute_result"
    }
   ],
   "source": [
    "num_df.head()"
   ]
  },
  {
   "cell_type": "code",
   "execution_count": 23,
   "metadata": {
    "collapsed": false
   },
   "outputs": [
    {
     "data": {
      "text/html": [
       "<div>\n",
       "<style>\n",
       "    .dataframe thead tr:only-child th {\n",
       "        text-align: right;\n",
       "    }\n",
       "\n",
       "    .dataframe thead th {\n",
       "        text-align: left;\n",
       "    }\n",
       "\n",
       "    .dataframe tbody tr th {\n",
       "        vertical-align: top;\n",
       "    }\n",
       "</style>\n",
       "<table border=\"1\" class=\"dataframe\">\n",
       "  <thead>\n",
       "    <tr style=\"text-align: right;\">\n",
       "      <th></th>\n",
       "      <th>CountyName</th>\n",
       "      <th>CurrentOperator</th>\n",
       "      <th>FieldName</th>\n",
       "      <th>OriginalOperator</th>\n",
       "      <th>ProducedPools</th>\n",
       "      <th>QQ</th>\n",
       "      <th>Range</th>\n",
       "      <th>Township</th>\n",
       "      <th>WellStatus</th>\n",
       "      <th>WellType</th>\n",
       "      <th>Wellbore</th>\n",
       "      <th>choke_size</th>\n",
       "      <th>stimulated_formation</th>\n",
       "      <th>type_treatment</th>\n",
       "    </tr>\n",
       "  </thead>\n",
       "  <tbody>\n",
       "    <tr>\n",
       "      <th>0</th>\n",
       "      <td>WILLIAMS</td>\n",
       "      <td>WHITING OIL AND GAS CORPORATION</td>\n",
       "      <td>TRUAX</td>\n",
       "      <td>KODIAK OIL &amp; GAS (USA) INC.</td>\n",
       "      <td>BAKKEN</td>\n",
       "      <td>SESE</td>\n",
       "      <td>98 W</td>\n",
       "      <td>154 N</td>\n",
       "      <td>A</td>\n",
       "      <td>OG</td>\n",
       "      <td>HORIZONTAL</td>\n",
       "      <td>41/64</td>\n",
       "      <td>bakken</td>\n",
       "      <td>sand frac</td>\n",
       "    </tr>\n",
       "    <tr>\n",
       "      <th>1</th>\n",
       "      <td>MCKENZIE</td>\n",
       "      <td>HESS BAKKEN INVESTMENTS II, LLC</td>\n",
       "      <td>GLASS BLUFF</td>\n",
       "      <td>TRACKER RESOURCE DEVELOPMENT II, LLC</td>\n",
       "      <td>BAKKEN</td>\n",
       "      <td>LOT 2</td>\n",
       "      <td>103 W</td>\n",
       "      <td>151 N</td>\n",
       "      <td>A</td>\n",
       "      <td>OG</td>\n",
       "      <td>HORIZONTAL</td>\n",
       "      <td>20/64</td>\n",
       "      <td>bakken</td>\n",
       "      <td>sand frac</td>\n",
       "    </tr>\n",
       "    <tr>\n",
       "      <th>2</th>\n",
       "      <td>MOUNTRAIL</td>\n",
       "      <td>LIME ROCK RESOURCES III-A, L.P.</td>\n",
       "      <td>STANLEY</td>\n",
       "      <td>FIDELITY EXPLORATION &amp; PRODUCTION COMPANY</td>\n",
       "      <td>BAKKEN</td>\n",
       "      <td>NENW</td>\n",
       "      <td>91 W</td>\n",
       "      <td>155 N</td>\n",
       "      <td>A</td>\n",
       "      <td>OG</td>\n",
       "      <td>HORIZONTAL</td>\n",
       "      <td>32/64</td>\n",
       "      <td>three forks</td>\n",
       "      <td>fracture</td>\n",
       "    </tr>\n",
       "    <tr>\n",
       "      <th>3</th>\n",
       "      <td>STARK</td>\n",
       "      <td>WHITING OIL AND GAS CORPORATION</td>\n",
       "      <td>SOUTH HEART</td>\n",
       "      <td>WHITING OIL AND GAS CORPORATION</td>\n",
       "      <td>BAKKEN</td>\n",
       "      <td>NENW</td>\n",
       "      <td>97 W</td>\n",
       "      <td>140 N</td>\n",
       "      <td>A</td>\n",
       "      <td>OG</td>\n",
       "      <td>HORIZONTAL</td>\n",
       "      <td>48/64</td>\n",
       "      <td>bakken</td>\n",
       "      <td>sand frac</td>\n",
       "    </tr>\n",
       "    <tr>\n",
       "      <th>4</th>\n",
       "      <td>MOUNTRAIL</td>\n",
       "      <td>LIME ROCK RESOURCES III-A, L.P.</td>\n",
       "      <td>STANLEY</td>\n",
       "      <td>FIDELITY EXPLORATION &amp; PRODUCTION COMPANY</td>\n",
       "      <td>BAKKEN</td>\n",
       "      <td>SWSW</td>\n",
       "      <td>91 W</td>\n",
       "      <td>155 N</td>\n",
       "      <td>A</td>\n",
       "      <td>OG</td>\n",
       "      <td>HORIZONTAL</td>\n",
       "      <td>18/64</td>\n",
       "      <td>bakken</td>\n",
       "      <td>NaN</td>\n",
       "    </tr>\n",
       "  </tbody>\n",
       "</table>\n",
       "</div>"
      ],
      "text/plain": [
       "  CountyName                  CurrentOperator    FieldName  \\\n",
       "0   WILLIAMS  WHITING OIL AND GAS CORPORATION        TRUAX   \n",
       "1   MCKENZIE  HESS BAKKEN INVESTMENTS II, LLC  GLASS BLUFF   \n",
       "2  MOUNTRAIL  LIME ROCK RESOURCES III-A, L.P.      STANLEY   \n",
       "3      STARK  WHITING OIL AND GAS CORPORATION  SOUTH HEART   \n",
       "4  MOUNTRAIL  LIME ROCK RESOURCES III-A, L.P.      STANLEY   \n",
       "\n",
       "                            OriginalOperator ProducedPools     QQ  Range  \\\n",
       "0                KODIAK OIL & GAS (USA) INC.        BAKKEN   SESE   98 W   \n",
       "1       TRACKER RESOURCE DEVELOPMENT II, LLC        BAKKEN  LOT 2  103 W   \n",
       "2  FIDELITY EXPLORATION & PRODUCTION COMPANY        BAKKEN   NENW   91 W   \n",
       "3            WHITING OIL AND GAS CORPORATION        BAKKEN   NENW   97 W   \n",
       "4  FIDELITY EXPLORATION & PRODUCTION COMPANY        BAKKEN   SWSW   91 W   \n",
       "\n",
       "  Township WellStatus WellType    Wellbore choke_size stimulated_formation  \\\n",
       "0    154 N          A       OG  HORIZONTAL      41/64               bakken   \n",
       "1    151 N          A       OG  HORIZONTAL      20/64               bakken   \n",
       "2    155 N          A       OG  HORIZONTAL      32/64          three forks   \n",
       "3    140 N          A       OG  HORIZONTAL      48/64               bakken   \n",
       "4    155 N          A       OG  HORIZONTAL      18/64               bakken   \n",
       "\n",
       "  type_treatment  \n",
       "0      sand frac  \n",
       "1      sand frac  \n",
       "2       fracture  \n",
       "3      sand frac  \n",
       "4            NaN  "
      ]
     },
     "execution_count": 23,
     "metadata": {},
     "output_type": "execute_result"
    }
   ],
   "source": [
    "nonnum_df.head()"
   ]
  },
  {
   "cell_type": "code",
   "execution_count": 24,
   "metadata": {
    "collapsed": false
   },
   "outputs": [],
   "source": [
    "filled_df = dmt.fancy_impute(num_df, sf_mean)"
   ]
  },
  {
   "cell_type": "code",
   "execution_count": 25,
   "metadata": {
    "collapsed": false
   },
   "outputs": [
    {
     "data": {
      "text/html": [
       "<div>\n",
       "<style>\n",
       "    .dataframe thead tr:only-child th {\n",
       "        text-align: right;\n",
       "    }\n",
       "\n",
       "    .dataframe thead th {\n",
       "        text-align: left;\n",
       "    }\n",
       "\n",
       "    .dataframe tbody tr th {\n",
       "        vertical-align: top;\n",
       "    }\n",
       "</style>\n",
       "<table border=\"1\" class=\"dataframe\">\n",
       "  <thead>\n",
       "    <tr style=\"text-align: right;\">\n",
       "      <th></th>\n",
       "      <th>GRElev</th>\n",
       "      <th>KBElev</th>\n",
       "      <th>TD</th>\n",
       "      <th>bh_lat</th>\n",
       "      <th>bh_lng</th>\n",
       "      <th>legs</th>\n",
       "      <th>max_tvd</th>\n",
       "      <th>mean_tvd</th>\n",
       "      <th>min_tvd</th>\n",
       "      <th>num_pools_produced</th>\n",
       "      <th>production_liquid_90</th>\n",
       "      <th>std_tvd</th>\n",
       "      <th>surface_lat</th>\n",
       "      <th>surface_lng</th>\n",
       "      <th>total_lbs_proppant</th>\n",
       "      <th>total_volume_bbls</th>\n",
       "      <th>tvd</th>\n",
       "    </tr>\n",
       "  </thead>\n",
       "  <tbody>\n",
       "    <tr>\n",
       "      <th>0</th>\n",
       "      <td>2258.250603</td>\n",
       "      <td>2260.691982</td>\n",
       "      <td>20300.0</td>\n",
       "      <td>48.168154</td>\n",
       "      <td>-103.245166</td>\n",
       "      <td>2.0</td>\n",
       "      <td>10916.93</td>\n",
       "      <td>10868.577339</td>\n",
       "      <td>10395.89</td>\n",
       "      <td>1.0</td>\n",
       "      <td>33526.0</td>\n",
       "      <td>98.015839</td>\n",
       "      <td>48.142413</td>\n",
       "      <td>-103.240896</td>\n",
       "      <td>3.991618e+06</td>\n",
       "      <td>90232.00000</td>\n",
       "      <td>10896.84</td>\n",
       "    </tr>\n",
       "    <tr>\n",
       "      <th>1</th>\n",
       "      <td>2216.000000</td>\n",
       "      <td>2238.000000</td>\n",
       "      <td>20552.0</td>\n",
       "      <td>47.906679</td>\n",
       "      <td>-103.802227</td>\n",
       "      <td>2.0</td>\n",
       "      <td>10784.08</td>\n",
       "      <td>10724.267533</td>\n",
       "      <td>10142.28</td>\n",
       "      <td>1.0</td>\n",
       "      <td>38197.0</td>\n",
       "      <td>131.742252</td>\n",
       "      <td>47.934285</td>\n",
       "      <td>-103.802089</td>\n",
       "      <td>3.668254e+06</td>\n",
       "      <td>69347.00000</td>\n",
       "      <td>10774.50</td>\n",
       "    </tr>\n",
       "    <tr>\n",
       "      <th>2</th>\n",
       "      <td>2219.000000</td>\n",
       "      <td>2247.000000</td>\n",
       "      <td>16980.0</td>\n",
       "      <td>48.205268</td>\n",
       "      <td>-102.422482</td>\n",
       "      <td>2.0</td>\n",
       "      <td>9915.74</td>\n",
       "      <td>9830.268200</td>\n",
       "      <td>9198.87</td>\n",
       "      <td>1.0</td>\n",
       "      <td>9079.0</td>\n",
       "      <td>144.805008</td>\n",
       "      <td>48.224994</td>\n",
       "      <td>-102.431774</td>\n",
       "      <td>3.046163e+06</td>\n",
       "      <td>46463.00000</td>\n",
       "      <td>9906.50</td>\n",
       "    </tr>\n",
       "    <tr>\n",
       "      <th>3</th>\n",
       "      <td>2573.000000</td>\n",
       "      <td>2600.000000</td>\n",
       "      <td>20135.0</td>\n",
       "      <td>46.891498</td>\n",
       "      <td>-102.967185</td>\n",
       "      <td>2.0</td>\n",
       "      <td>10305.91</td>\n",
       "      <td>10242.205128</td>\n",
       "      <td>9741.01</td>\n",
       "      <td>1.0</td>\n",
       "      <td>27155.0</td>\n",
       "      <td>104.832581</td>\n",
       "      <td>46.918980</td>\n",
       "      <td>-102.969390</td>\n",
       "      <td>4.811400e+06</td>\n",
       "      <td>55196.00000</td>\n",
       "      <td>10260.21</td>\n",
       "    </tr>\n",
       "    <tr>\n",
       "      <th>4</th>\n",
       "      <td>2287.000000</td>\n",
       "      <td>2317.000000</td>\n",
       "      <td>19400.0</td>\n",
       "      <td>48.225065</td>\n",
       "      <td>-102.380393</td>\n",
       "      <td>2.0</td>\n",
       "      <td>9743.69</td>\n",
       "      <td>9706.356736</td>\n",
       "      <td>9269.02</td>\n",
       "      <td>1.0</td>\n",
       "      <td>58917.0</td>\n",
       "      <td>87.433502</td>\n",
       "      <td>48.199037</td>\n",
       "      <td>-102.369400</td>\n",
       "      <td>3.150597e+06</td>\n",
       "      <td>66247.62128</td>\n",
       "      <td>9726.07</td>\n",
       "    </tr>\n",
       "  </tbody>\n",
       "</table>\n",
       "</div>"
      ],
      "text/plain": [
       "        GRElev       KBElev       TD     bh_lat      bh_lng  legs   max_tvd  \\\n",
       "0  2258.250603  2260.691982  20300.0  48.168154 -103.245166   2.0  10916.93   \n",
       "1  2216.000000  2238.000000  20552.0  47.906679 -103.802227   2.0  10784.08   \n",
       "2  2219.000000  2247.000000  16980.0  48.205268 -102.422482   2.0   9915.74   \n",
       "3  2573.000000  2600.000000  20135.0  46.891498 -102.967185   2.0  10305.91   \n",
       "4  2287.000000  2317.000000  19400.0  48.225065 -102.380393   2.0   9743.69   \n",
       "\n",
       "       mean_tvd   min_tvd  num_pools_produced  production_liquid_90  \\\n",
       "0  10868.577339  10395.89                 1.0               33526.0   \n",
       "1  10724.267533  10142.28                 1.0               38197.0   \n",
       "2   9830.268200   9198.87                 1.0                9079.0   \n",
       "3  10242.205128   9741.01                 1.0               27155.0   \n",
       "4   9706.356736   9269.02                 1.0               58917.0   \n",
       "\n",
       "      std_tvd  surface_lat  surface_lng  total_lbs_proppant  \\\n",
       "0   98.015839    48.142413  -103.240896        3.991618e+06   \n",
       "1  131.742252    47.934285  -103.802089        3.668254e+06   \n",
       "2  144.805008    48.224994  -102.431774        3.046163e+06   \n",
       "3  104.832581    46.918980  -102.969390        4.811400e+06   \n",
       "4   87.433502    48.199037  -102.369400        3.150597e+06   \n",
       "\n",
       "   total_volume_bbls       tvd  \n",
       "0        90232.00000  10896.84  \n",
       "1        69347.00000  10774.50  \n",
       "2        46463.00000   9906.50  \n",
       "3        55196.00000  10260.21  \n",
       "4        66247.62128   9726.07  "
      ]
     },
     "execution_count": 25,
     "metadata": {},
     "output_type": "execute_result"
    }
   ],
   "source": [
    "filled_df.head()"
   ]
  },
  {
   "cell_type": "code",
   "execution_count": 26,
   "metadata": {
    "collapsed": true
   },
   "outputs": [],
   "source": [
    "binarized_df = pd.get_dummies(nonnum_df)"
   ]
  },
  {
   "cell_type": "code",
   "execution_count": 27,
   "metadata": {
    "collapsed": false
   },
   "outputs": [
    {
     "data": {
      "text/html": [
       "<div>\n",
       "<style>\n",
       "    .dataframe thead tr:only-child th {\n",
       "        text-align: right;\n",
       "    }\n",
       "\n",
       "    .dataframe thead th {\n",
       "        text-align: left;\n",
       "    }\n",
       "\n",
       "    .dataframe tbody tr th {\n",
       "        vertical-align: top;\n",
       "    }\n",
       "</style>\n",
       "<table border=\"1\" class=\"dataframe\">\n",
       "  <thead>\n",
       "    <tr style=\"text-align: right;\">\n",
       "      <th></th>\n",
       "      <th>CountyName_BILLINGS</th>\n",
       "      <th>CountyName_BOTTINEAU</th>\n",
       "      <th>CountyName_BURKE</th>\n",
       "      <th>CountyName_DIVIDE</th>\n",
       "      <th>CountyName_DUNN</th>\n",
       "      <th>CountyName_GOLDEN VALLEY</th>\n",
       "      <th>CountyName_MCKENZIE</th>\n",
       "      <th>CountyName_MCLEAN</th>\n",
       "      <th>CountyName_MERCER</th>\n",
       "      <th>CountyName_MOUNTRAIL</th>\n",
       "      <th>...</th>\n",
       "      <th>stimulated_formation_tyler</th>\n",
       "      <th>type_treatment_acid</th>\n",
       "      <th>type_treatment_acid,gelled acid</th>\n",
       "      <th>type_treatment_fracture</th>\n",
       "      <th>type_treatment_fracture,sand frac</th>\n",
       "      <th>type_treatment_hydrochloric acid</th>\n",
       "      <th>type_treatment_hydrochloric acid,sand frac</th>\n",
       "      <th>type_treatment_other</th>\n",
       "      <th>type_treatment_other,sand frac</th>\n",
       "      <th>type_treatment_sand frac</th>\n",
       "    </tr>\n",
       "  </thead>\n",
       "  <tbody>\n",
       "    <tr>\n",
       "      <th>0</th>\n",
       "      <td>0</td>\n",
       "      <td>0</td>\n",
       "      <td>0</td>\n",
       "      <td>0</td>\n",
       "      <td>0</td>\n",
       "      <td>0</td>\n",
       "      <td>0</td>\n",
       "      <td>0</td>\n",
       "      <td>0</td>\n",
       "      <td>0</td>\n",
       "      <td>...</td>\n",
       "      <td>0</td>\n",
       "      <td>0</td>\n",
       "      <td>0</td>\n",
       "      <td>0</td>\n",
       "      <td>0</td>\n",
       "      <td>0</td>\n",
       "      <td>0</td>\n",
       "      <td>0</td>\n",
       "      <td>0</td>\n",
       "      <td>1</td>\n",
       "    </tr>\n",
       "    <tr>\n",
       "      <th>1</th>\n",
       "      <td>0</td>\n",
       "      <td>0</td>\n",
       "      <td>0</td>\n",
       "      <td>0</td>\n",
       "      <td>0</td>\n",
       "      <td>0</td>\n",
       "      <td>1</td>\n",
       "      <td>0</td>\n",
       "      <td>0</td>\n",
       "      <td>0</td>\n",
       "      <td>...</td>\n",
       "      <td>0</td>\n",
       "      <td>0</td>\n",
       "      <td>0</td>\n",
       "      <td>0</td>\n",
       "      <td>0</td>\n",
       "      <td>0</td>\n",
       "      <td>0</td>\n",
       "      <td>0</td>\n",
       "      <td>0</td>\n",
       "      <td>1</td>\n",
       "    </tr>\n",
       "    <tr>\n",
       "      <th>2</th>\n",
       "      <td>0</td>\n",
       "      <td>0</td>\n",
       "      <td>0</td>\n",
       "      <td>0</td>\n",
       "      <td>0</td>\n",
       "      <td>0</td>\n",
       "      <td>0</td>\n",
       "      <td>0</td>\n",
       "      <td>0</td>\n",
       "      <td>1</td>\n",
       "      <td>...</td>\n",
       "      <td>0</td>\n",
       "      <td>0</td>\n",
       "      <td>0</td>\n",
       "      <td>1</td>\n",
       "      <td>0</td>\n",
       "      <td>0</td>\n",
       "      <td>0</td>\n",
       "      <td>0</td>\n",
       "      <td>0</td>\n",
       "      <td>0</td>\n",
       "    </tr>\n",
       "    <tr>\n",
       "      <th>3</th>\n",
       "      <td>0</td>\n",
       "      <td>0</td>\n",
       "      <td>0</td>\n",
       "      <td>0</td>\n",
       "      <td>0</td>\n",
       "      <td>0</td>\n",
       "      <td>0</td>\n",
       "      <td>0</td>\n",
       "      <td>0</td>\n",
       "      <td>0</td>\n",
       "      <td>...</td>\n",
       "      <td>0</td>\n",
       "      <td>0</td>\n",
       "      <td>0</td>\n",
       "      <td>0</td>\n",
       "      <td>0</td>\n",
       "      <td>0</td>\n",
       "      <td>0</td>\n",
       "      <td>0</td>\n",
       "      <td>0</td>\n",
       "      <td>1</td>\n",
       "    </tr>\n",
       "    <tr>\n",
       "      <th>4</th>\n",
       "      <td>0</td>\n",
       "      <td>0</td>\n",
       "      <td>0</td>\n",
       "      <td>0</td>\n",
       "      <td>0</td>\n",
       "      <td>0</td>\n",
       "      <td>0</td>\n",
       "      <td>0</td>\n",
       "      <td>0</td>\n",
       "      <td>1</td>\n",
       "      <td>...</td>\n",
       "      <td>0</td>\n",
       "      <td>0</td>\n",
       "      <td>0</td>\n",
       "      <td>0</td>\n",
       "      <td>0</td>\n",
       "      <td>0</td>\n",
       "      <td>0</td>\n",
       "      <td>0</td>\n",
       "      <td>0</td>\n",
       "      <td>0</td>\n",
       "    </tr>\n",
       "  </tbody>\n",
       "</table>\n",
       "<p>5 rows × 865 columns</p>\n",
       "</div>"
      ],
      "text/plain": [
       "   CountyName_BILLINGS  CountyName_BOTTINEAU  CountyName_BURKE  \\\n",
       "0                    0                     0                 0   \n",
       "1                    0                     0                 0   \n",
       "2                    0                     0                 0   \n",
       "3                    0                     0                 0   \n",
       "4                    0                     0                 0   \n",
       "\n",
       "   CountyName_DIVIDE  CountyName_DUNN  CountyName_GOLDEN VALLEY  \\\n",
       "0                  0                0                         0   \n",
       "1                  0                0                         0   \n",
       "2                  0                0                         0   \n",
       "3                  0                0                         0   \n",
       "4                  0                0                         0   \n",
       "\n",
       "   CountyName_MCKENZIE  CountyName_MCLEAN  CountyName_MERCER  \\\n",
       "0                    0                  0                  0   \n",
       "1                    1                  0                  0   \n",
       "2                    0                  0                  0   \n",
       "3                    0                  0                  0   \n",
       "4                    0                  0                  0   \n",
       "\n",
       "   CountyName_MOUNTRAIL            ...             stimulated_formation_tyler  \\\n",
       "0                     0            ...                                      0   \n",
       "1                     0            ...                                      0   \n",
       "2                     1            ...                                      0   \n",
       "3                     0            ...                                      0   \n",
       "4                     1            ...                                      0   \n",
       "\n",
       "   type_treatment_acid  type_treatment_acid,gelled acid  \\\n",
       "0                    0                                0   \n",
       "1                    0                                0   \n",
       "2                    0                                0   \n",
       "3                    0                                0   \n",
       "4                    0                                0   \n",
       "\n",
       "   type_treatment_fracture  type_treatment_fracture,sand frac  \\\n",
       "0                        0                                  0   \n",
       "1                        0                                  0   \n",
       "2                        1                                  0   \n",
       "3                        0                                  0   \n",
       "4                        0                                  0   \n",
       "\n",
       "   type_treatment_hydrochloric acid  \\\n",
       "0                                 0   \n",
       "1                                 0   \n",
       "2                                 0   \n",
       "3                                 0   \n",
       "4                                 0   \n",
       "\n",
       "   type_treatment_hydrochloric acid,sand frac  type_treatment_other  \\\n",
       "0                                           0                     0   \n",
       "1                                           0                     0   \n",
       "2                                           0                     0   \n",
       "3                                           0                     0   \n",
       "4                                           0                     0   \n",
       "\n",
       "   type_treatment_other,sand frac  type_treatment_sand frac  \n",
       "0                               0                         1  \n",
       "1                               0                         1  \n",
       "2                               0                         0  \n",
       "3                               0                         1  \n",
       "4                               0                         0  \n",
       "\n",
       "[5 rows x 865 columns]"
      ]
     },
     "execution_count": 27,
     "metadata": {},
     "output_type": "execute_result"
    }
   ],
   "source": [
    "binarized_df.head()"
   ]
  },
  {
   "cell_type": "code",
   "execution_count": 28,
   "metadata": {
    "collapsed": false
   },
   "outputs": [
    {
     "name": "stdout",
     "output_type": "stream",
     "text": [
      "*** preimpute df ***\n",
      "\n",
      "**************************************************\n",
      "dataframe name: num_df\n",
      "shape: (6529, 17)\n",
      "index: RangeIndex(start=0, stop=6529, step=1)\n",
      "Nulls exist: True\n"
     ]
    }
   ],
   "source": [
    "print \"*** preimpute df ***\"\n",
    "short_info(num_df)"
   ]
  },
  {
   "cell_type": "code",
   "execution_count": 29,
   "metadata": {
    "collapsed": false
   },
   "outputs": [
    {
     "name": "stdout",
     "output_type": "stream",
     "text": [
      "*** imputed df ***\n",
      "\n",
      "**************************************************\n",
      "dataframe name: filled_df\n",
      "shape: (6529, 17)\n",
      "index: RangeIndex(start=0, stop=6529, step=1)\n",
      "Nulls exist: False\n"
     ]
    }
   ],
   "source": [
    "print \"*** imputed df ***\"\n",
    "short_info(filled_df)"
   ]
  },
  {
   "cell_type": "code",
   "execution_count": 30,
   "metadata": {
    "collapsed": false
   },
   "outputs": [
    {
     "name": "stdout",
     "output_type": "stream",
     "text": [
      "*** prebinarized df ***\n",
      "\n",
      "**************************************************\n",
      "dataframe name: nonnum_df\n",
      "shape: (6529, 14)\n",
      "index: RangeIndex(start=0, stop=6529, step=1)\n",
      "Nulls exist: True\n",
      "\n",
      "*** binarized df ***\n",
      "\n",
      "**************************************************\n",
      "dataframe name: binarized_df\n",
      "shape: (6529, 865)\n",
      "index: RangeIndex(start=0, stop=6529, step=1)\n",
      "Nulls exist: False\n"
     ]
    }
   ],
   "source": [
    "print \"*** prebinarized df ***\"\n",
    "short_info(nonnum_df)\n",
    "\n",
    "print \"\\n*** binarized df ***\"\n",
    "short_info(binarized_df)"
   ]
  },
  {
   "cell_type": "code",
   "execution_count": 31,
   "metadata": {
    "collapsed": false
   },
   "outputs": [],
   "source": [
    "concat_df = pd.concat([binarized_df, filled_df], axis=1)"
   ]
  },
  {
   "cell_type": "code",
   "execution_count": 32,
   "metadata": {
    "collapsed": false
   },
   "outputs": [
    {
     "name": "stdout",
     "output_type": "stream",
     "text": [
      "\n",
      "**************************************************\n",
      "dataframe name: concat_df\n",
      "shape: (6529, 882)\n",
      "index: RangeIndex(start=0, stop=6529, step=1)\n",
      "Nulls exist: False\n"
     ]
    }
   ],
   "source": [
    "short_info(concat_df)"
   ]
  },
  {
   "cell_type": "code",
   "execution_count": 33,
   "metadata": {
    "collapsed": false
   },
   "outputs": [],
   "source": [
    "joined_df = filled_df.join(binarized_df)"
   ]
  },
  {
   "cell_type": "code",
   "execution_count": 34,
   "metadata": {
    "collapsed": false
   },
   "outputs": [
    {
     "name": "stdout",
     "output_type": "stream",
     "text": [
      "\n",
      "**************************************************\n",
      "dataframe name: joined_df\n",
      "shape: (6529, 882)\n",
      "index: RangeIndex(start=0, stop=6529, step=1)\n",
      "Nulls exist: False\n"
     ]
    }
   ],
   "source": [
    "short_info(joined_df)"
   ]
  },
  {
   "cell_type": "code",
   "execution_count": 35,
   "metadata": {
    "collapsed": false
   },
   "outputs": [
    {
     "data": {
      "text/plain": [
       "882"
      ]
     },
     "execution_count": 35,
     "metadata": {},
     "output_type": "execute_result"
    }
   ],
   "source": [
    "865 + 17"
   ]
  },
  {
   "cell_type": "markdown",
   "metadata": {},
   "source": [
    "# Manual test with test and train"
   ]
  },
  {
   "cell_type": "code",
   "execution_count": 36,
   "metadata": {
    "collapsed": true
   },
   "outputs": [],
   "source": [
    "testing_df_2 = testing_df.copy()\n",
    "\n",
    "training_df_2 =  training_df.copy()"
   ]
  },
  {
   "cell_type": "code",
   "execution_count": 37,
   "metadata": {
    "collapsed": false,
    "scrolled": true
   },
   "outputs": [
    {
     "data": {
      "text/plain": [
       "'production_liquid_90'"
      ]
     },
     "execution_count": 37,
     "metadata": {},
     "output_type": "execute_result"
    }
   ],
   "source": [
    "TARGET"
   ]
  },
  {
   "cell_type": "code",
   "execution_count": 38,
   "metadata": {
    "collapsed": false
   },
   "outputs": [
    {
     "name": "stdout",
     "output_type": "stream",
     "text": [
      "28\n",
      "133\n"
     ]
    }
   ],
   "source": [
    "print testing_df_2[TARGET].isnull().sum()\n",
    "print training_df_2[TARGET].isnull().sum()"
   ]
  },
  {
   "cell_type": "code",
   "execution_count": 39,
   "metadata": {
    "collapsed": true
   },
   "outputs": [],
   "source": [
    "testing_df_2.dropna(subset=[TARGET], inplace=True)\n",
    "\n",
    "training_df_2.dropna(subset=[TARGET], inplace=True)"
   ]
  },
  {
   "cell_type": "code",
   "execution_count": 40,
   "metadata": {
    "collapsed": false
   },
   "outputs": [
    {
     "name": "stdout",
     "output_type": "stream",
     "text": [
      "0\n",
      "0\n"
     ]
    }
   ],
   "source": [
    "print testing_df_2[TARGET].isnull().sum()\n",
    "print training_df_2[TARGET].isnull().sum()"
   ]
  },
  {
   "cell_type": "code",
   "execution_count": 41,
   "metadata": {
    "collapsed": false
   },
   "outputs": [],
   "source": [
    "testing_df_2.reset_index(inplace=True)"
   ]
  },
  {
   "cell_type": "code",
   "execution_count": 42,
   "metadata": {
    "collapsed": false
   },
   "outputs": [],
   "source": [
    "training_df_2.reset_index(inplace=True)"
   ]
  },
  {
   "cell_type": "code",
   "execution_count": 43,
   "metadata": {
    "collapsed": false,
    "scrolled": false
   },
   "outputs": [
    {
     "name": "stdout",
     "output_type": "stream",
     "text": [
      "\n",
      "**************************************************\n",
      "dataframe name: training_df\n",
      "shape: (6529, 31)\n",
      "index: RangeIndex(start=0, stop=6529, step=1)\n",
      "Nulls exist: True\n",
      "\n",
      "**************************************************\n",
      "dataframe name: training_df_2\n",
      "shape: (6396, 32)\n",
      "index: RangeIndex(start=0, stop=6396, step=1)\n",
      "Nulls exist: True\n",
      "\n",
      "**************************************************\n",
      "dataframe name: testing_df\n",
      "shape: (1586, 31)\n",
      "index: RangeIndex(start=0, stop=1586, step=1)\n",
      "Nulls exist: True\n",
      "\n",
      "**************************************************\n",
      "dataframe name: testing_df_2\n",
      "shape: (1558, 32)\n",
      "index: RangeIndex(start=0, stop=1558, step=1)\n",
      "Nulls exist: True\n"
     ]
    }
   ],
   "source": [
    "short_info(training_df)\n",
    "short_info(training_df_2)\n",
    "short_info(testing_df)\n",
    "short_info(testing_df_2)"
   ]
  },
  {
   "cell_type": "code",
   "execution_count": 44,
   "metadata": {
    "collapsed": false
   },
   "outputs": [
    {
     "data": {
      "text/html": [
       "<div>\n",
       "<style>\n",
       "    .dataframe thead tr:only-child th {\n",
       "        text-align: right;\n",
       "    }\n",
       "\n",
       "    .dataframe thead th {\n",
       "        text-align: left;\n",
       "    }\n",
       "\n",
       "    .dataframe tbody tr th {\n",
       "        vertical-align: top;\n",
       "    }\n",
       "</style>\n",
       "<table border=\"1\" class=\"dataframe\">\n",
       "  <thead>\n",
       "    <tr style=\"text-align: right;\">\n",
       "      <th></th>\n",
       "      <th>index</th>\n",
       "      <th>CountyName</th>\n",
       "      <th>CurrentOperator</th>\n",
       "      <th>FieldName</th>\n",
       "      <th>GRElev</th>\n",
       "      <th>KBElev</th>\n",
       "      <th>OriginalOperator</th>\n",
       "      <th>ProducedPools</th>\n",
       "      <th>QQ</th>\n",
       "      <th>Range</th>\n",
       "      <th>...</th>\n",
       "      <th>num_pools_produced</th>\n",
       "      <th>production_liquid_90</th>\n",
       "      <th>std_tvd</th>\n",
       "      <th>stimulated_formation</th>\n",
       "      <th>surface_lat</th>\n",
       "      <th>surface_lng</th>\n",
       "      <th>total_lbs_proppant</th>\n",
       "      <th>total_volume_bbls</th>\n",
       "      <th>tvd</th>\n",
       "      <th>type_treatment</th>\n",
       "    </tr>\n",
       "  </thead>\n",
       "  <tbody>\n",
       "    <tr>\n",
       "      <th>0</th>\n",
       "      <td>0</td>\n",
       "      <td>DIVIDE</td>\n",
       "      <td>HUNT OIL COMPANY</td>\n",
       "      <td>WRITING ROCK</td>\n",
       "      <td>2149.0</td>\n",
       "      <td>2174.0</td>\n",
       "      <td>HUNT OIL COMPANY</td>\n",
       "      <td>BAKKEN</td>\n",
       "      <td>NWNE</td>\n",
       "      <td>101 W</td>\n",
       "      <td>...</td>\n",
       "      <td>1</td>\n",
       "      <td>15093.0</td>\n",
       "      <td>109.078896</td>\n",
       "      <td>bakken</td>\n",
       "      <td>48.748656</td>\n",
       "      <td>-103.845225</td>\n",
       "      <td>2702100.0</td>\n",
       "      <td>58176.0</td>\n",
       "      <td>8756.79</td>\n",
       "      <td>sand frac</td>\n",
       "    </tr>\n",
       "    <tr>\n",
       "      <th>1</th>\n",
       "      <td>1</td>\n",
       "      <td>MOUNTRAIL</td>\n",
       "      <td>WHITING OIL AND GAS CORPORATION</td>\n",
       "      <td>SANISH</td>\n",
       "      <td>2324.0</td>\n",
       "      <td>2354.0</td>\n",
       "      <td>WHITING OIL AND GAS CORPORATION</td>\n",
       "      <td>BAKKEN</td>\n",
       "      <td>NWNW</td>\n",
       "      <td>91 W</td>\n",
       "      <td>...</td>\n",
       "      <td>1</td>\n",
       "      <td>23370.0</td>\n",
       "      <td>127.284840</td>\n",
       "      <td>bakken</td>\n",
       "      <td>48.137685</td>\n",
       "      <td>-102.370201</td>\n",
       "      <td>1866840.0</td>\n",
       "      <td>27187.0</td>\n",
       "      <td>9830.13</td>\n",
       "      <td>sand frac</td>\n",
       "    </tr>\n",
       "    <tr>\n",
       "      <th>2</th>\n",
       "      <td>2</td>\n",
       "      <td>MCKENZIE</td>\n",
       "      <td>NEWFIELD PRODUCTION COMPANY</td>\n",
       "      <td>BEAR DEN</td>\n",
       "      <td>2334.0</td>\n",
       "      <td>2359.0</td>\n",
       "      <td>NEWFIELD PRODUCTION COMPANY</td>\n",
       "      <td>BAKKEN</td>\n",
       "      <td>NENW</td>\n",
       "      <td>95 W</td>\n",
       "      <td>...</td>\n",
       "      <td>1</td>\n",
       "      <td>7104.0</td>\n",
       "      <td>111.836611</td>\n",
       "      <td>three forks</td>\n",
       "      <td>47.701894</td>\n",
       "      <td>-102.869198</td>\n",
       "      <td>1651440.0</td>\n",
       "      <td>16129.0</td>\n",
       "      <td>11023.77</td>\n",
       "      <td>sand frac</td>\n",
       "    </tr>\n",
       "    <tr>\n",
       "      <th>3</th>\n",
       "      <td>3</td>\n",
       "      <td>MCKENZIE</td>\n",
       "      <td>ENERPLUS RESOURCES USA CORPORATION</td>\n",
       "      <td>EAGLE NEST</td>\n",
       "      <td>2424.0</td>\n",
       "      <td>2450.0</td>\n",
       "      <td>ENERPLUS RESOURCES USA CORPORATION</td>\n",
       "      <td>BAKKEN</td>\n",
       "      <td>SESE</td>\n",
       "      <td>94 W</td>\n",
       "      <td>...</td>\n",
       "      <td>1</td>\n",
       "      <td>48239.0</td>\n",
       "      <td>120.535501</td>\n",
       "      <td>bakken</td>\n",
       "      <td>47.674779</td>\n",
       "      <td>-102.709854</td>\n",
       "      <td>6515590.0</td>\n",
       "      <td>47161.0</td>\n",
       "      <td>11068.31</td>\n",
       "      <td>sand frac</td>\n",
       "    </tr>\n",
       "    <tr>\n",
       "      <th>4</th>\n",
       "      <td>4</td>\n",
       "      <td>MCKENZIE</td>\n",
       "      <td>WHITING OIL AND GAS CORPORATION</td>\n",
       "      <td>PEMBROKE</td>\n",
       "      <td>2213.0</td>\n",
       "      <td>2241.0</td>\n",
       "      <td>KODIAK OIL &amp; GAS (USA) INC.</td>\n",
       "      <td>BAKKEN</td>\n",
       "      <td>NENW</td>\n",
       "      <td>98 W</td>\n",
       "      <td>...</td>\n",
       "      <td>1</td>\n",
       "      <td>51057.0</td>\n",
       "      <td>139.224513</td>\n",
       "      <td>bakken</td>\n",
       "      <td>47.731386</td>\n",
       "      <td>-103.253209</td>\n",
       "      <td>4251992.0</td>\n",
       "      <td>96171.0</td>\n",
       "      <td>11190.58</td>\n",
       "      <td>sand frac</td>\n",
       "    </tr>\n",
       "  </tbody>\n",
       "</table>\n",
       "<p>5 rows × 32 columns</p>\n",
       "</div>"
      ],
      "text/plain": [
       "   index CountyName                     CurrentOperator     FieldName  GRElev  \\\n",
       "0      0     DIVIDE                    HUNT OIL COMPANY  WRITING ROCK  2149.0   \n",
       "1      1  MOUNTRAIL     WHITING OIL AND GAS CORPORATION        SANISH  2324.0   \n",
       "2      2   MCKENZIE         NEWFIELD PRODUCTION COMPANY      BEAR DEN  2334.0   \n",
       "3      3   MCKENZIE  ENERPLUS RESOURCES USA CORPORATION    EAGLE NEST  2424.0   \n",
       "4      4   MCKENZIE     WHITING OIL AND GAS CORPORATION      PEMBROKE  2213.0   \n",
       "\n",
       "   KBElev                    OriginalOperator ProducedPools    QQ  Range  \\\n",
       "0  2174.0                    HUNT OIL COMPANY        BAKKEN  NWNE  101 W   \n",
       "1  2354.0     WHITING OIL AND GAS CORPORATION        BAKKEN  NWNW   91 W   \n",
       "2  2359.0         NEWFIELD PRODUCTION COMPANY        BAKKEN  NENW   95 W   \n",
       "3  2450.0  ENERPLUS RESOURCES USA CORPORATION        BAKKEN  SESE   94 W   \n",
       "4  2241.0         KODIAK OIL & GAS (USA) INC.        BAKKEN  NENW   98 W   \n",
       "\n",
       "        ...        num_pools_produced production_liquid_90     std_tvd  \\\n",
       "0       ...                         1              15093.0  109.078896   \n",
       "1       ...                         1              23370.0  127.284840   \n",
       "2       ...                         1               7104.0  111.836611   \n",
       "3       ...                         1              48239.0  120.535501   \n",
       "4       ...                         1              51057.0  139.224513   \n",
       "\n",
       "  stimulated_formation surface_lat  surface_lng  total_lbs_proppant  \\\n",
       "0               bakken   48.748656  -103.845225           2702100.0   \n",
       "1               bakken   48.137685  -102.370201           1866840.0   \n",
       "2          three forks   47.701894  -102.869198           1651440.0   \n",
       "3               bakken   47.674779  -102.709854           6515590.0   \n",
       "4               bakken   47.731386  -103.253209           4251992.0   \n",
       "\n",
       "  total_volume_bbls       tvd  type_treatment  \n",
       "0           58176.0   8756.79       sand frac  \n",
       "1           27187.0   9830.13       sand frac  \n",
       "2           16129.0  11023.77       sand frac  \n",
       "3           47161.0  11068.31       sand frac  \n",
       "4           96171.0  11190.58       sand frac  \n",
       "\n",
       "[5 rows x 32 columns]"
      ]
     },
     "execution_count": 44,
     "metadata": {},
     "output_type": "execute_result"
    }
   ],
   "source": [
    "testing_df_2.head()"
   ]
  },
  {
   "cell_type": "code",
   "execution_count": 45,
   "metadata": {
    "collapsed": false,
    "scrolled": true
   },
   "outputs": [
    {
     "data": {
      "text/plain": [
       "Index([u'index', u'CountyName', u'CurrentOperator', u'FieldName', u'GRElev',\n",
       "       u'KBElev', u'OriginalOperator', u'ProducedPools', u'QQ', u'Range',\n",
       "       u'TD', u'Township', u'WellStatus', u'WellType', u'Wellbore', u'bh_lat',\n",
       "       u'bh_lng', u'choke_size', u'legs', u'max_tvd', u'mean_tvd', u'min_tvd',\n",
       "       u'num_pools_produced', u'production_liquid_90', u'std_tvd',\n",
       "       u'stimulated_formation', u'surface_lat', u'surface_lng',\n",
       "       u'total_lbs_proppant', u'total_volume_bbls', u'tvd', u'type_treatment'],\n",
       "      dtype='object')"
      ]
     },
     "execution_count": 45,
     "metadata": {},
     "output_type": "execute_result"
    }
   ],
   "source": [
    "testing_df_2.columns"
   ]
  },
  {
   "cell_type": "code",
   "execution_count": 46,
   "metadata": {
    "collapsed": true
   },
   "outputs": [],
   "source": [
    "def flag_test_train(df_train, df_test):\n",
    "    '''\n",
    "    #create flags for test and train\n",
    "    '''\n",
    "    df_train[\"flag\"] = 0\n",
    "    df_test[\"flag\"] = 1\n",
    "    df_train[\"flag_str\"] = \"train\"\n",
    "    df_test[\"flag_str\"] = \"test\""
   ]
  },
  {
   "cell_type": "code",
   "execution_count": 47,
   "metadata": {
    "collapsed": false
   },
   "outputs": [],
   "source": [
    "flag_test_train(training_df_2, testing_df_2)"
   ]
  },
  {
   "cell_type": "code",
   "execution_count": 48,
   "metadata": {
    "collapsed": false
   },
   "outputs": [
    {
     "data": {
      "text/plain": [
       "Index([u'index', u'CountyName', u'CurrentOperator', u'FieldName', u'GRElev',\n",
       "       u'KBElev', u'OriginalOperator', u'ProducedPools', u'QQ', u'Range',\n",
       "       u'TD', u'Township', u'WellStatus', u'WellType', u'Wellbore', u'bh_lat',\n",
       "       u'bh_lng', u'choke_size', u'legs', u'max_tvd', u'mean_tvd', u'min_tvd',\n",
       "       u'num_pools_produced', u'production_liquid_90', u'std_tvd',\n",
       "       u'stimulated_formation', u'surface_lat', u'surface_lng',\n",
       "       u'total_lbs_proppant', u'total_volume_bbls', u'tvd', u'type_treatment',\n",
       "       u'flag', u'flag_str'],\n",
       "      dtype='object')"
      ]
     },
     "execution_count": 48,
     "metadata": {},
     "output_type": "execute_result"
    }
   ],
   "source": [
    "training_df_2.columns"
   ]
  },
  {
   "cell_type": "code",
   "execution_count": 49,
   "metadata": {
    "collapsed": false
   },
   "outputs": [
    {
     "data": {
      "text/plain": [
       "Index([u'index', u'CountyName', u'CurrentOperator', u'FieldName', u'GRElev',\n",
       "       u'KBElev', u'OriginalOperator', u'ProducedPools', u'QQ', u'Range',\n",
       "       u'TD', u'Township', u'WellStatus', u'WellType', u'Wellbore', u'bh_lat',\n",
       "       u'bh_lng', u'choke_size', u'legs', u'max_tvd', u'mean_tvd', u'min_tvd',\n",
       "       u'num_pools_produced', u'production_liquid_90', u'std_tvd',\n",
       "       u'stimulated_formation', u'surface_lat', u'surface_lng',\n",
       "       u'total_lbs_proppant', u'total_volume_bbls', u'tvd', u'type_treatment',\n",
       "       u'flag', u'flag_str'],\n",
       "      dtype='object')"
      ]
     },
     "execution_count": 49,
     "metadata": {},
     "output_type": "execute_result"
    }
   ],
   "source": [
    "testing_df_2.columns"
   ]
  },
  {
   "cell_type": "code",
   "execution_count": 50,
   "metadata": {
    "collapsed": false,
    "scrolled": true
   },
   "outputs": [
    {
     "name": "stdout",
     "output_type": "stream",
     "text": [
      "0    6396\n",
      "Name: flag, dtype: int64\n",
      "1    1558\n",
      "Name: flag, dtype: int64\n",
      "train    6396\n",
      "Name: flag_str, dtype: int64\n",
      "test    1558\n",
      "Name: flag_str, dtype: int64\n"
     ]
    }
   ],
   "source": [
    "print training_df_2[\"flag\"].value_counts()\n",
    "print testing_df_2[\"flag\"].value_counts()\n",
    "print training_df_2[\"flag_str\"].value_counts()\n",
    "print testing_df_2[\"flag_str\"].value_counts()"
   ]
  },
  {
   "cell_type": "markdown",
   "metadata": {},
   "source": [
    "### Split into X and y"
   ]
  },
  {
   "cell_type": "code",
   "execution_count": 51,
   "metadata": {
    "collapsed": false
   },
   "outputs": [
    {
     "name": "stdout",
     "output_type": "stream",
     "text": [
      "Feature matrix shape:  (6396, 33)\n",
      "Feature matrix shape:  (1558, 33)\n"
     ]
    }
   ],
   "source": [
    "X_train, y_train = mft.X_y_split(training_df_2, TARGET)\n",
    "X_test, y_test = mft.X_y_split(testing_df_2, TARGET)"
   ]
  },
  {
   "cell_type": "code",
   "execution_count": 52,
   "metadata": {
    "collapsed": false
   },
   "outputs": [
    {
     "data": {
      "text/html": [
       "<div>\n",
       "<style>\n",
       "    .dataframe thead tr:only-child th {\n",
       "        text-align: right;\n",
       "    }\n",
       "\n",
       "    .dataframe thead th {\n",
       "        text-align: left;\n",
       "    }\n",
       "\n",
       "    .dataframe tbody tr th {\n",
       "        vertical-align: top;\n",
       "    }\n",
       "</style>\n",
       "<table border=\"1\" class=\"dataframe\">\n",
       "  <thead>\n",
       "    <tr style=\"text-align: right;\">\n",
       "      <th></th>\n",
       "      <th>index</th>\n",
       "      <th>CountyName</th>\n",
       "      <th>CurrentOperator</th>\n",
       "      <th>FieldName</th>\n",
       "      <th>GRElev</th>\n",
       "      <th>KBElev</th>\n",
       "      <th>OriginalOperator</th>\n",
       "      <th>ProducedPools</th>\n",
       "      <th>QQ</th>\n",
       "      <th>Range</th>\n",
       "      <th>...</th>\n",
       "      <th>std_tvd</th>\n",
       "      <th>stimulated_formation</th>\n",
       "      <th>surface_lat</th>\n",
       "      <th>surface_lng</th>\n",
       "      <th>total_lbs_proppant</th>\n",
       "      <th>total_volume_bbls</th>\n",
       "      <th>tvd</th>\n",
       "      <th>type_treatment</th>\n",
       "      <th>flag</th>\n",
       "      <th>flag_str</th>\n",
       "    </tr>\n",
       "  </thead>\n",
       "  <tbody>\n",
       "    <tr>\n",
       "      <th>0</th>\n",
       "      <td>0</td>\n",
       "      <td>WILLIAMS</td>\n",
       "      <td>WHITING OIL AND GAS CORPORATION</td>\n",
       "      <td>TRUAX</td>\n",
       "      <td>NaN</td>\n",
       "      <td>NaN</td>\n",
       "      <td>KODIAK OIL &amp; GAS (USA) INC.</td>\n",
       "      <td>BAKKEN</td>\n",
       "      <td>SESE</td>\n",
       "      <td>98 W</td>\n",
       "      <td>...</td>\n",
       "      <td>98.015839</td>\n",
       "      <td>bakken</td>\n",
       "      <td>48.142413</td>\n",
       "      <td>-103.240896</td>\n",
       "      <td>3991618.0</td>\n",
       "      <td>90232.0</td>\n",
       "      <td>10896.84</td>\n",
       "      <td>sand frac</td>\n",
       "      <td>0</td>\n",
       "      <td>train</td>\n",
       "    </tr>\n",
       "    <tr>\n",
       "      <th>1</th>\n",
       "      <td>1</td>\n",
       "      <td>MCKENZIE</td>\n",
       "      <td>HESS BAKKEN INVESTMENTS II, LLC</td>\n",
       "      <td>GLASS BLUFF</td>\n",
       "      <td>2216.0</td>\n",
       "      <td>2238.0</td>\n",
       "      <td>TRACKER RESOURCE DEVELOPMENT II, LLC</td>\n",
       "      <td>BAKKEN</td>\n",
       "      <td>LOT 2</td>\n",
       "      <td>103 W</td>\n",
       "      <td>...</td>\n",
       "      <td>131.742252</td>\n",
       "      <td>bakken</td>\n",
       "      <td>47.934285</td>\n",
       "      <td>-103.802089</td>\n",
       "      <td>3668254.0</td>\n",
       "      <td>69347.0</td>\n",
       "      <td>10774.50</td>\n",
       "      <td>sand frac</td>\n",
       "      <td>0</td>\n",
       "      <td>train</td>\n",
       "    </tr>\n",
       "    <tr>\n",
       "      <th>2</th>\n",
       "      <td>2</td>\n",
       "      <td>MOUNTRAIL</td>\n",
       "      <td>LIME ROCK RESOURCES III-A, L.P.</td>\n",
       "      <td>STANLEY</td>\n",
       "      <td>2219.0</td>\n",
       "      <td>2247.0</td>\n",
       "      <td>FIDELITY EXPLORATION &amp; PRODUCTION COMPANY</td>\n",
       "      <td>BAKKEN</td>\n",
       "      <td>NENW</td>\n",
       "      <td>91 W</td>\n",
       "      <td>...</td>\n",
       "      <td>144.805008</td>\n",
       "      <td>three forks</td>\n",
       "      <td>48.224994</td>\n",
       "      <td>-102.431774</td>\n",
       "      <td>3046163.0</td>\n",
       "      <td>46463.0</td>\n",
       "      <td>9906.50</td>\n",
       "      <td>fracture</td>\n",
       "      <td>0</td>\n",
       "      <td>train</td>\n",
       "    </tr>\n",
       "    <tr>\n",
       "      <th>3</th>\n",
       "      <td>3</td>\n",
       "      <td>STARK</td>\n",
       "      <td>WHITING OIL AND GAS CORPORATION</td>\n",
       "      <td>SOUTH HEART</td>\n",
       "      <td>2573.0</td>\n",
       "      <td>2600.0</td>\n",
       "      <td>WHITING OIL AND GAS CORPORATION</td>\n",
       "      <td>BAKKEN</td>\n",
       "      <td>NENW</td>\n",
       "      <td>97 W</td>\n",
       "      <td>...</td>\n",
       "      <td>104.832581</td>\n",
       "      <td>bakken</td>\n",
       "      <td>46.918980</td>\n",
       "      <td>-102.969390</td>\n",
       "      <td>4811400.0</td>\n",
       "      <td>55196.0</td>\n",
       "      <td>10260.21</td>\n",
       "      <td>sand frac</td>\n",
       "      <td>0</td>\n",
       "      <td>train</td>\n",
       "    </tr>\n",
       "    <tr>\n",
       "      <th>4</th>\n",
       "      <td>4</td>\n",
       "      <td>MOUNTRAIL</td>\n",
       "      <td>LIME ROCK RESOURCES III-A, L.P.</td>\n",
       "      <td>STANLEY</td>\n",
       "      <td>2287.0</td>\n",
       "      <td>2317.0</td>\n",
       "      <td>FIDELITY EXPLORATION &amp; PRODUCTION COMPANY</td>\n",
       "      <td>BAKKEN</td>\n",
       "      <td>SWSW</td>\n",
       "      <td>91 W</td>\n",
       "      <td>...</td>\n",
       "      <td>87.433502</td>\n",
       "      <td>bakken</td>\n",
       "      <td>48.199037</td>\n",
       "      <td>-102.369400</td>\n",
       "      <td>NaN</td>\n",
       "      <td>NaN</td>\n",
       "      <td>9726.07</td>\n",
       "      <td>NaN</td>\n",
       "      <td>0</td>\n",
       "      <td>train</td>\n",
       "    </tr>\n",
       "  </tbody>\n",
       "</table>\n",
       "<p>5 rows × 33 columns</p>\n",
       "</div>"
      ],
      "text/plain": [
       "   index CountyName                  CurrentOperator    FieldName  GRElev  \\\n",
       "0      0   WILLIAMS  WHITING OIL AND GAS CORPORATION        TRUAX     NaN   \n",
       "1      1   MCKENZIE  HESS BAKKEN INVESTMENTS II, LLC  GLASS BLUFF  2216.0   \n",
       "2      2  MOUNTRAIL  LIME ROCK RESOURCES III-A, L.P.      STANLEY  2219.0   \n",
       "3      3      STARK  WHITING OIL AND GAS CORPORATION  SOUTH HEART  2573.0   \n",
       "4      4  MOUNTRAIL  LIME ROCK RESOURCES III-A, L.P.      STANLEY  2287.0   \n",
       "\n",
       "   KBElev                           OriginalOperator ProducedPools     QQ  \\\n",
       "0     NaN                KODIAK OIL & GAS (USA) INC.        BAKKEN   SESE   \n",
       "1  2238.0       TRACKER RESOURCE DEVELOPMENT II, LLC        BAKKEN  LOT 2   \n",
       "2  2247.0  FIDELITY EXPLORATION & PRODUCTION COMPANY        BAKKEN   NENW   \n",
       "3  2600.0            WHITING OIL AND GAS CORPORATION        BAKKEN   NENW   \n",
       "4  2317.0  FIDELITY EXPLORATION & PRODUCTION COMPANY        BAKKEN   SWSW   \n",
       "\n",
       "   Range    ...        std_tvd stimulated_formation surface_lat surface_lng  \\\n",
       "0   98 W    ...      98.015839               bakken   48.142413 -103.240896   \n",
       "1  103 W    ...     131.742252               bakken   47.934285 -103.802089   \n",
       "2   91 W    ...     144.805008          three forks   48.224994 -102.431774   \n",
       "3   97 W    ...     104.832581               bakken   46.918980 -102.969390   \n",
       "4   91 W    ...      87.433502               bakken   48.199037 -102.369400   \n",
       "\n",
       "  total_lbs_proppant  total_volume_bbls       tvd type_treatment  flag  \\\n",
       "0          3991618.0            90232.0  10896.84      sand frac     0   \n",
       "1          3668254.0            69347.0  10774.50      sand frac     0   \n",
       "2          3046163.0            46463.0   9906.50       fracture     0   \n",
       "3          4811400.0            55196.0  10260.21      sand frac     0   \n",
       "4                NaN                NaN   9726.07            NaN     0   \n",
       "\n",
       "   flag_str  \n",
       "0     train  \n",
       "1     train  \n",
       "2     train  \n",
       "3     train  \n",
       "4     train  \n",
       "\n",
       "[5 rows x 33 columns]"
      ]
     },
     "execution_count": 52,
     "metadata": {},
     "output_type": "execute_result"
    }
   ],
   "source": [
    "X_train.head()"
   ]
  },
  {
   "cell_type": "code",
   "execution_count": 53,
   "metadata": {
    "collapsed": false,
    "scrolled": true
   },
   "outputs": [
    {
     "data": {
      "text/html": [
       "<div>\n",
       "<style>\n",
       "    .dataframe thead tr:only-child th {\n",
       "        text-align: right;\n",
       "    }\n",
       "\n",
       "    .dataframe thead th {\n",
       "        text-align: left;\n",
       "    }\n",
       "\n",
       "    .dataframe tbody tr th {\n",
       "        vertical-align: top;\n",
       "    }\n",
       "</style>\n",
       "<table border=\"1\" class=\"dataframe\">\n",
       "  <thead>\n",
       "    <tr style=\"text-align: right;\">\n",
       "      <th></th>\n",
       "      <th>index</th>\n",
       "      <th>CountyName</th>\n",
       "      <th>CurrentOperator</th>\n",
       "      <th>FieldName</th>\n",
       "      <th>GRElev</th>\n",
       "      <th>KBElev</th>\n",
       "      <th>OriginalOperator</th>\n",
       "      <th>ProducedPools</th>\n",
       "      <th>QQ</th>\n",
       "      <th>Range</th>\n",
       "      <th>...</th>\n",
       "      <th>std_tvd</th>\n",
       "      <th>stimulated_formation</th>\n",
       "      <th>surface_lat</th>\n",
       "      <th>surface_lng</th>\n",
       "      <th>total_lbs_proppant</th>\n",
       "      <th>total_volume_bbls</th>\n",
       "      <th>tvd</th>\n",
       "      <th>type_treatment</th>\n",
       "      <th>flag</th>\n",
       "      <th>flag_str</th>\n",
       "    </tr>\n",
       "  </thead>\n",
       "  <tbody>\n",
       "    <tr>\n",
       "      <th>0</th>\n",
       "      <td>0</td>\n",
       "      <td>WILLIAMS</td>\n",
       "      <td>WHITING OIL AND GAS CORPORATION</td>\n",
       "      <td>TRUAX</td>\n",
       "      <td>NaN</td>\n",
       "      <td>NaN</td>\n",
       "      <td>KODIAK OIL &amp; GAS (USA) INC.</td>\n",
       "      <td>BAKKEN</td>\n",
       "      <td>SESE</td>\n",
       "      <td>98 W</td>\n",
       "      <td>...</td>\n",
       "      <td>98.015839</td>\n",
       "      <td>bakken</td>\n",
       "      <td>48.142413</td>\n",
       "      <td>-103.240896</td>\n",
       "      <td>3991618.0</td>\n",
       "      <td>90232.0</td>\n",
       "      <td>10896.84</td>\n",
       "      <td>sand frac</td>\n",
       "      <td>0</td>\n",
       "      <td>train</td>\n",
       "    </tr>\n",
       "    <tr>\n",
       "      <th>1</th>\n",
       "      <td>1</td>\n",
       "      <td>MCKENZIE</td>\n",
       "      <td>HESS BAKKEN INVESTMENTS II, LLC</td>\n",
       "      <td>GLASS BLUFF</td>\n",
       "      <td>2216.0</td>\n",
       "      <td>2238.0</td>\n",
       "      <td>TRACKER RESOURCE DEVELOPMENT II, LLC</td>\n",
       "      <td>BAKKEN</td>\n",
       "      <td>LOT 2</td>\n",
       "      <td>103 W</td>\n",
       "      <td>...</td>\n",
       "      <td>131.742252</td>\n",
       "      <td>bakken</td>\n",
       "      <td>47.934285</td>\n",
       "      <td>-103.802089</td>\n",
       "      <td>3668254.0</td>\n",
       "      <td>69347.0</td>\n",
       "      <td>10774.50</td>\n",
       "      <td>sand frac</td>\n",
       "      <td>0</td>\n",
       "      <td>train</td>\n",
       "    </tr>\n",
       "    <tr>\n",
       "      <th>2</th>\n",
       "      <td>2</td>\n",
       "      <td>MOUNTRAIL</td>\n",
       "      <td>LIME ROCK RESOURCES III-A, L.P.</td>\n",
       "      <td>STANLEY</td>\n",
       "      <td>2219.0</td>\n",
       "      <td>2247.0</td>\n",
       "      <td>FIDELITY EXPLORATION &amp; PRODUCTION COMPANY</td>\n",
       "      <td>BAKKEN</td>\n",
       "      <td>NENW</td>\n",
       "      <td>91 W</td>\n",
       "      <td>...</td>\n",
       "      <td>144.805008</td>\n",
       "      <td>three forks</td>\n",
       "      <td>48.224994</td>\n",
       "      <td>-102.431774</td>\n",
       "      <td>3046163.0</td>\n",
       "      <td>46463.0</td>\n",
       "      <td>9906.50</td>\n",
       "      <td>fracture</td>\n",
       "      <td>0</td>\n",
       "      <td>train</td>\n",
       "    </tr>\n",
       "    <tr>\n",
       "      <th>3</th>\n",
       "      <td>3</td>\n",
       "      <td>STARK</td>\n",
       "      <td>WHITING OIL AND GAS CORPORATION</td>\n",
       "      <td>SOUTH HEART</td>\n",
       "      <td>2573.0</td>\n",
       "      <td>2600.0</td>\n",
       "      <td>WHITING OIL AND GAS CORPORATION</td>\n",
       "      <td>BAKKEN</td>\n",
       "      <td>NENW</td>\n",
       "      <td>97 W</td>\n",
       "      <td>...</td>\n",
       "      <td>104.832581</td>\n",
       "      <td>bakken</td>\n",
       "      <td>46.918980</td>\n",
       "      <td>-102.969390</td>\n",
       "      <td>4811400.0</td>\n",
       "      <td>55196.0</td>\n",
       "      <td>10260.21</td>\n",
       "      <td>sand frac</td>\n",
       "      <td>0</td>\n",
       "      <td>train</td>\n",
       "    </tr>\n",
       "    <tr>\n",
       "      <th>4</th>\n",
       "      <td>4</td>\n",
       "      <td>MOUNTRAIL</td>\n",
       "      <td>LIME ROCK RESOURCES III-A, L.P.</td>\n",
       "      <td>STANLEY</td>\n",
       "      <td>2287.0</td>\n",
       "      <td>2317.0</td>\n",
       "      <td>FIDELITY EXPLORATION &amp; PRODUCTION COMPANY</td>\n",
       "      <td>BAKKEN</td>\n",
       "      <td>SWSW</td>\n",
       "      <td>91 W</td>\n",
       "      <td>...</td>\n",
       "      <td>87.433502</td>\n",
       "      <td>bakken</td>\n",
       "      <td>48.199037</td>\n",
       "      <td>-102.369400</td>\n",
       "      <td>NaN</td>\n",
       "      <td>NaN</td>\n",
       "      <td>9726.07</td>\n",
       "      <td>NaN</td>\n",
       "      <td>0</td>\n",
       "      <td>train</td>\n",
       "    </tr>\n",
       "  </tbody>\n",
       "</table>\n",
       "<p>5 rows × 34 columns</p>\n",
       "</div>"
      ],
      "text/plain": [
       "   index CountyName                  CurrentOperator    FieldName  GRElev  \\\n",
       "0      0   WILLIAMS  WHITING OIL AND GAS CORPORATION        TRUAX     NaN   \n",
       "1      1   MCKENZIE  HESS BAKKEN INVESTMENTS II, LLC  GLASS BLUFF  2216.0   \n",
       "2      2  MOUNTRAIL  LIME ROCK RESOURCES III-A, L.P.      STANLEY  2219.0   \n",
       "3      3      STARK  WHITING OIL AND GAS CORPORATION  SOUTH HEART  2573.0   \n",
       "4      4  MOUNTRAIL  LIME ROCK RESOURCES III-A, L.P.      STANLEY  2287.0   \n",
       "\n",
       "   KBElev                           OriginalOperator ProducedPools     QQ  \\\n",
       "0     NaN                KODIAK OIL & GAS (USA) INC.        BAKKEN   SESE   \n",
       "1  2238.0       TRACKER RESOURCE DEVELOPMENT II, LLC        BAKKEN  LOT 2   \n",
       "2  2247.0  FIDELITY EXPLORATION & PRODUCTION COMPANY        BAKKEN   NENW   \n",
       "3  2600.0            WHITING OIL AND GAS CORPORATION        BAKKEN   NENW   \n",
       "4  2317.0  FIDELITY EXPLORATION & PRODUCTION COMPANY        BAKKEN   SWSW   \n",
       "\n",
       "   Range    ...        std_tvd stimulated_formation surface_lat surface_lng  \\\n",
       "0   98 W    ...      98.015839               bakken   48.142413 -103.240896   \n",
       "1  103 W    ...     131.742252               bakken   47.934285 -103.802089   \n",
       "2   91 W    ...     144.805008          three forks   48.224994 -102.431774   \n",
       "3   97 W    ...     104.832581               bakken   46.918980 -102.969390   \n",
       "4   91 W    ...      87.433502               bakken   48.199037 -102.369400   \n",
       "\n",
       "  total_lbs_proppant  total_volume_bbls       tvd type_treatment  flag  \\\n",
       "0          3991618.0            90232.0  10896.84      sand frac     0   \n",
       "1          3668254.0            69347.0  10774.50      sand frac     0   \n",
       "2          3046163.0            46463.0   9906.50       fracture     0   \n",
       "3          4811400.0            55196.0  10260.21      sand frac     0   \n",
       "4                NaN                NaN   9726.07            NaN     0   \n",
       "\n",
       "   flag_str  \n",
       "0     train  \n",
       "1     train  \n",
       "2     train  \n",
       "3     train  \n",
       "4     train  \n",
       "\n",
       "[5 rows x 34 columns]"
      ]
     },
     "execution_count": 53,
     "metadata": {},
     "output_type": "execute_result"
    }
   ],
   "source": [
    "training_df_2.head()"
   ]
  },
  {
   "cell_type": "code",
   "execution_count": 54,
   "metadata": {
    "collapsed": true
   },
   "outputs": [],
   "source": [
    "#Merge  \n",
    "merged_df = pd.concat([X_train, X_test])"
   ]
  },
  {
   "cell_type": "code",
   "execution_count": 55,
   "metadata": {
    "collapsed": false
   },
   "outputs": [
    {
     "name": "stdout",
     "output_type": "stream",
     "text": [
      "\n",
      "**************************************************\n",
      "dataframe name: merged_df\n",
      "shape: (7954, 33)\n",
      "index: Int64Index([   0,    1,    2,    3,    4,    5,    6,    7,    8,    9,\n",
      "            ...\n",
      "            1548, 1549, 1550, 1551, 1552, 1553, 1554, 1555, 1556, 1557],\n",
      "           dtype='int64', length=7954)\n",
      "Nulls exist: True\n"
     ]
    }
   ],
   "source": [
    "short_info(merged_df)"
   ]
  },
  {
   "cell_type": "code",
   "execution_count": 56,
   "metadata": {
    "collapsed": false
   },
   "outputs": [
    {
     "name": "stdout",
     "output_type": "stream",
     "text": [
      "\n",
      "**************************************************\n",
      "dataframe name: X_train\n",
      "shape: (6396, 33)\n",
      "index: RangeIndex(start=0, stop=6396, step=1)\n",
      "Nulls exist: True\n"
     ]
    }
   ],
   "source": [
    "short_info(X_train)"
   ]
  },
  {
   "cell_type": "code",
   "execution_count": 57,
   "metadata": {
    "collapsed": false
   },
   "outputs": [
    {
     "name": "stdout",
     "output_type": "stream",
     "text": [
      "\n",
      "**************************************************\n",
      "dataframe name: X_test\n",
      "shape: (1558, 33)\n",
      "index: RangeIndex(start=0, stop=1558, step=1)\n",
      "Nulls exist: True\n"
     ]
    }
   ],
   "source": [
    "short_info(X_test)"
   ]
  },
  {
   "cell_type": "code",
   "execution_count": 58,
   "metadata": {
    "collapsed": false
   },
   "outputs": [
    {
     "data": {
      "text/html": [
       "<div>\n",
       "<style>\n",
       "    .dataframe thead tr:only-child th {\n",
       "        text-align: right;\n",
       "    }\n",
       "\n",
       "    .dataframe thead th {\n",
       "        text-align: left;\n",
       "    }\n",
       "\n",
       "    .dataframe tbody tr th {\n",
       "        vertical-align: top;\n",
       "    }\n",
       "</style>\n",
       "<table border=\"1\" class=\"dataframe\">\n",
       "  <thead>\n",
       "    <tr style=\"text-align: right;\">\n",
       "      <th></th>\n",
       "      <th>index</th>\n",
       "      <th>CountyName</th>\n",
       "      <th>CurrentOperator</th>\n",
       "      <th>FieldName</th>\n",
       "      <th>GRElev</th>\n",
       "      <th>KBElev</th>\n",
       "      <th>OriginalOperator</th>\n",
       "      <th>ProducedPools</th>\n",
       "      <th>QQ</th>\n",
       "      <th>Range</th>\n",
       "      <th>...</th>\n",
       "      <th>std_tvd</th>\n",
       "      <th>stimulated_formation</th>\n",
       "      <th>surface_lat</th>\n",
       "      <th>surface_lng</th>\n",
       "      <th>total_lbs_proppant</th>\n",
       "      <th>total_volume_bbls</th>\n",
       "      <th>tvd</th>\n",
       "      <th>type_treatment</th>\n",
       "      <th>flag</th>\n",
       "      <th>flag_str</th>\n",
       "    </tr>\n",
       "  </thead>\n",
       "  <tbody>\n",
       "    <tr>\n",
       "      <th>6394</th>\n",
       "      <td>6527</td>\n",
       "      <td>MCKENZIE</td>\n",
       "      <td>CONTINENTAL RESOURCES, INC.</td>\n",
       "      <td>BANKS</td>\n",
       "      <td>2215.0</td>\n",
       "      <td>2235.0</td>\n",
       "      <td>CONTINENTAL RESOURCES, INC.</td>\n",
       "      <td>BAKKEN</td>\n",
       "      <td>NENE</td>\n",
       "      <td>99 W</td>\n",
       "      <td>...</td>\n",
       "      <td>90.318592</td>\n",
       "      <td>three forks</td>\n",
       "      <td>47.962888</td>\n",
       "      <td>-103.307826</td>\n",
       "      <td>2777.0</td>\n",
       "      <td>58626.0</td>\n",
       "      <td>11249.11</td>\n",
       "      <td>sand frac</td>\n",
       "      <td>0</td>\n",
       "      <td>train</td>\n",
       "    </tr>\n",
       "    <tr>\n",
       "      <th>6395</th>\n",
       "      <td>6528</td>\n",
       "      <td>BILLINGS</td>\n",
       "      <td>PETRO-HUNT, L.L.C.</td>\n",
       "      <td>LITTLE KNIFE</td>\n",
       "      <td>2527.0</td>\n",
       "      <td>2552.0</td>\n",
       "      <td>PETRO-HUNT, L.L.C.</td>\n",
       "      <td>BAKKEN</td>\n",
       "      <td>NENE</td>\n",
       "      <td>98 W</td>\n",
       "      <td>...</td>\n",
       "      <td>70.919905</td>\n",
       "      <td>bakken</td>\n",
       "      <td>47.327882</td>\n",
       "      <td>-103.078961</td>\n",
       "      <td>2778518.0</td>\n",
       "      <td>61915.0</td>\n",
       "      <td>10974.61</td>\n",
       "      <td>sand frac</td>\n",
       "      <td>0</td>\n",
       "      <td>train</td>\n",
       "    </tr>\n",
       "    <tr>\n",
       "      <th>0</th>\n",
       "      <td>0</td>\n",
       "      <td>DIVIDE</td>\n",
       "      <td>HUNT OIL COMPANY</td>\n",
       "      <td>WRITING ROCK</td>\n",
       "      <td>2149.0</td>\n",
       "      <td>2174.0</td>\n",
       "      <td>HUNT OIL COMPANY</td>\n",
       "      <td>BAKKEN</td>\n",
       "      <td>NWNE</td>\n",
       "      <td>101 W</td>\n",
       "      <td>...</td>\n",
       "      <td>109.078896</td>\n",
       "      <td>bakken</td>\n",
       "      <td>48.748656</td>\n",
       "      <td>-103.845225</td>\n",
       "      <td>2702100.0</td>\n",
       "      <td>58176.0</td>\n",
       "      <td>8756.79</td>\n",
       "      <td>sand frac</td>\n",
       "      <td>1</td>\n",
       "      <td>test</td>\n",
       "    </tr>\n",
       "    <tr>\n",
       "      <th>1</th>\n",
       "      <td>1</td>\n",
       "      <td>MOUNTRAIL</td>\n",
       "      <td>WHITING OIL AND GAS CORPORATION</td>\n",
       "      <td>SANISH</td>\n",
       "      <td>2324.0</td>\n",
       "      <td>2354.0</td>\n",
       "      <td>WHITING OIL AND GAS CORPORATION</td>\n",
       "      <td>BAKKEN</td>\n",
       "      <td>NWNW</td>\n",
       "      <td>91 W</td>\n",
       "      <td>...</td>\n",
       "      <td>127.284840</td>\n",
       "      <td>bakken</td>\n",
       "      <td>48.137685</td>\n",
       "      <td>-102.370201</td>\n",
       "      <td>1866840.0</td>\n",
       "      <td>27187.0</td>\n",
       "      <td>9830.13</td>\n",
       "      <td>sand frac</td>\n",
       "      <td>1</td>\n",
       "      <td>test</td>\n",
       "    </tr>\n",
       "  </tbody>\n",
       "</table>\n",
       "<p>4 rows × 33 columns</p>\n",
       "</div>"
      ],
      "text/plain": [
       "      index CountyName                  CurrentOperator     FieldName  GRElev  \\\n",
       "6394   6527   MCKENZIE      CONTINENTAL RESOURCES, INC.         BANKS  2215.0   \n",
       "6395   6528   BILLINGS               PETRO-HUNT, L.L.C.  LITTLE KNIFE  2527.0   \n",
       "0         0     DIVIDE                 HUNT OIL COMPANY  WRITING ROCK  2149.0   \n",
       "1         1  MOUNTRAIL  WHITING OIL AND GAS CORPORATION        SANISH  2324.0   \n",
       "\n",
       "      KBElev                 OriginalOperator ProducedPools    QQ  Range  \\\n",
       "6394  2235.0      CONTINENTAL RESOURCES, INC.        BAKKEN  NENE   99 W   \n",
       "6395  2552.0               PETRO-HUNT, L.L.C.        BAKKEN  NENE   98 W   \n",
       "0     2174.0                 HUNT OIL COMPANY        BAKKEN  NWNE  101 W   \n",
       "1     2354.0  WHITING OIL AND GAS CORPORATION        BAKKEN  NWNW   91 W   \n",
       "\n",
       "        ...        std_tvd stimulated_formation surface_lat surface_lng  \\\n",
       "6394    ...      90.318592          three forks   47.962888 -103.307826   \n",
       "6395    ...      70.919905               bakken   47.327882 -103.078961   \n",
       "0       ...     109.078896               bakken   48.748656 -103.845225   \n",
       "1       ...     127.284840               bakken   48.137685 -102.370201   \n",
       "\n",
       "     total_lbs_proppant  total_volume_bbls       tvd type_treatment  flag  \\\n",
       "6394             2777.0            58626.0  11249.11      sand frac     0   \n",
       "6395          2778518.0            61915.0  10974.61      sand frac     0   \n",
       "0             2702100.0            58176.0   8756.79      sand frac     1   \n",
       "1             1866840.0            27187.0   9830.13      sand frac     1   \n",
       "\n",
       "      flag_str  \n",
       "6394     train  \n",
       "6395     train  \n",
       "0         test  \n",
       "1         test  \n",
       "\n",
       "[4 rows x 33 columns]"
      ]
     },
     "execution_count": 58,
     "metadata": {},
     "output_type": "execute_result"
    }
   ],
   "source": [
    "merged_df.iloc[6394:6398,]"
   ]
  },
  {
   "cell_type": "code",
   "execution_count": 59,
   "metadata": {
    "collapsed": false
   },
   "outputs": [
    {
     "name": "stdout",
     "output_type": "stream",
     "text": [
      "numeric columns: ['index', 'GRElev', 'KBElev', 'TD', 'bh_lat', 'bh_lng', 'legs', 'max_tvd', 'mean_tvd', 'min_tvd', 'num_pools_produced', 'std_tvd', 'surface_lat', 'surface_lng', 'total_lbs_proppant', 'total_volume_bbls', 'tvd', 'flag']\n",
      "non-numeric columns: ['CountyName', 'CurrentOperator', 'FieldName', 'OriginalOperator', 'ProducedPools', 'QQ', 'Range', 'Township', 'WellStatus', 'WellType', 'Wellbore', 'choke_size', 'stimulated_formation', 'type_treatment', 'flag_str']\n"
     ]
    }
   ],
   "source": [
    "#split into numeric and nonnumeric\n",
    "numeric_df, nonnumeric_df = dmt.split_numerical_features(merged_df)"
   ]
  },
  {
   "cell_type": "code",
   "execution_count": 60,
   "metadata": {
    "collapsed": false
   },
   "outputs": [
    {
     "name": "stdout",
     "output_type": "stream",
     "text": [
      "\n",
      "**************************************************\n",
      "dataframe name: merged_df\n",
      "shape: (7954, 33)\n",
      "index: Int64Index([   0,    1,    2,    3,    4,    5,    6,    7,    8,    9,\n",
      "            ...\n",
      "            1548, 1549, 1550, 1551, 1552, 1553, 1554, 1555, 1556, 1557],\n",
      "           dtype='int64', length=7954)\n",
      "Nulls exist: True\n"
     ]
    }
   ],
   "source": [
    "short_info(merged_df)"
   ]
  },
  {
   "cell_type": "code",
   "execution_count": 61,
   "metadata": {
    "collapsed": true
   },
   "outputs": [],
   "source": [
    "#Binarize nonnumeric features\n",
    "binarized_df = pd.get_dummies(nonnumeric_df)"
   ]
  },
  {
   "cell_type": "code",
   "execution_count": 62,
   "metadata": {
    "collapsed": false
   },
   "outputs": [
    {
     "name": "stdout",
     "output_type": "stream",
     "text": [
      "\n",
      "**************************************************\n",
      "dataframe name: binarized_df\n",
      "shape: (7954, 829)\n",
      "index: Int64Index([   0,    1,    2,    3,    4,    5,    6,    7,    8,    9,\n",
      "            ...\n",
      "            1548, 1549, 1550, 1551, 1552, 1553, 1554, 1555, 1556, 1557],\n",
      "           dtype='int64', length=7954)\n",
      "Nulls exist: False\n"
     ]
    }
   ],
   "source": [
    "short_info(binarized_df)"
   ]
  },
  {
   "cell_type": "code",
   "execution_count": 75,
   "metadata": {
    "collapsed": true
   },
   "outputs": [],
   "source": [
    "#resplit into train and test\n",
    "numerics_train_df = numeric_df[numeric_df[\"flag\"] == 0]\n",
    "numerics_test_df = numeric_df[numeric_df[\"flag\"] == 1]\n",
    "binarized_train_df = binarized_df[binarized_df[\"flag_str_train\"] == 1]\n",
    "binarized_test_df = binarized_df[binarized_df[\"flag_str_test\"] == 1] "
   ]
  },
  {
   "cell_type": "code",
   "execution_count": 76,
   "metadata": {
    "collapsed": false
   },
   "outputs": [
    {
     "name": "stdout",
     "output_type": "stream",
     "text": [
      "\n",
      "**************************************************\n",
      "dataframe name: numerics_train_df\n",
      "shape: (6396, 18)\n",
      "index: Int64Index([   0,    1,    2,    3,    4,    5,    6,    7,    8,    9,\n",
      "            ...\n",
      "            6386, 6387, 6388, 6389, 6390, 6391, 6392, 6393, 6394, 6395],\n",
      "           dtype='int64', length=6396)\n",
      "Nulls exist: True\n",
      "\n",
      "**************************************************\n",
      "dataframe name: numerics_test_df\n",
      "shape: (1558, 18)\n",
      "index: Int64Index([   0,    1,    2,    3,    4,    5,    6,    7,    8,    9,\n",
      "            ...\n",
      "            1548, 1549, 1550, 1551, 1552, 1553, 1554, 1555, 1556, 1557],\n",
      "           dtype='int64', length=1558)\n",
      "Nulls exist: True\n",
      "\n",
      "**************************************************\n",
      "dataframe name: binarized_train_df\n",
      "shape: (6396, 829)\n",
      "index: Int64Index([   0,    1,    2,    3,    4,    5,    6,    7,    8,    9,\n",
      "            ...\n",
      "            6386, 6387, 6388, 6389, 6390, 6391, 6392, 6393, 6394, 6395],\n",
      "           dtype='int64', length=6396)\n",
      "Nulls exist: False\n",
      "\n",
      "**************************************************\n",
      "dataframe name: binarized_test_df\n",
      "shape: (1558, 829)\n",
      "index: Int64Index([   0,    1,    2,    3,    4,    5,    6,    7,    8,    9,\n",
      "            ...\n",
      "            1548, 1549, 1550, 1551, 1552, 1553, 1554, 1555, 1556, 1557],\n",
      "           dtype='int64', length=1558)\n",
      "Nulls exist: False\n"
     ]
    }
   ],
   "source": [
    "short_info(numerics_train_df)\n",
    "short_info(numerics_test_df)\n",
    "short_info(binarized_train_df)\n",
    "short_info(binarized_test_df)"
   ]
  },
  {
   "cell_type": "code",
   "execution_count": 77,
   "metadata": {
    "collapsed": false
   },
   "outputs": [],
   "source": [
    "filled_train_df = dmt.fancy_impute(numerics_train_df, sf_mean)\n",
    "filled_df = dmt.fancy_impute(numeric_df, sf_mean)"
   ]
  },
  {
   "cell_type": "code",
   "execution_count": 78,
   "metadata": {
    "collapsed": false
   },
   "outputs": [
    {
     "name": "stdout",
     "output_type": "stream",
     "text": [
      "\n",
      "**************************************************\n",
      "dataframe name: filled_train_df\n",
      "shape: (6396, 18)\n",
      "index: RangeIndex(start=0, stop=6396, step=1)\n",
      "Nulls exist: False\n",
      "\n",
      "**************************************************\n",
      "dataframe name: filled_df\n",
      "shape: (7954, 18)\n",
      "index: RangeIndex(start=0, stop=7954, step=1)\n",
      "Nulls exist: False\n"
     ]
    }
   ],
   "source": [
    "short_info(filled_train_df)\n",
    "short_info(filled_df)"
   ]
  },
  {
   "cell_type": "code",
   "execution_count": 79,
   "metadata": {
    "collapsed": true
   },
   "outputs": [],
   "source": [
    "filled_test_df = filled_df[filled_df[\"flag\"] == 1]"
   ]
  },
  {
   "cell_type": "code",
   "execution_count": 73,
   "metadata": {
    "collapsed": false
   },
   "outputs": [
    {
     "data": {
      "text/plain": [
       "-1557"
      ]
     },
     "execution_count": 73,
     "metadata": {},
     "output_type": "execute_result"
    }
   ],
   "source": [
    "6396-7953"
   ]
  },
  {
   "cell_type": "code",
   "execution_count": 82,
   "metadata": {
    "collapsed": false,
    "scrolled": true
   },
   "outputs": [
    {
     "name": "stdout",
     "output_type": "stream",
     "text": [
      "\n",
      "**************************************************\n",
      "dataframe name: filled_test_df\n",
      "shape: (1558, 18)\n",
      "index: Int64Index([6396, 6397, 6398, 6399, 6400, 6401, 6402, 6403, 6404, 6405,\n",
      "            ...\n",
      "            7944, 7945, 7946, 7947, 7948, 7949, 7950, 7951, 7952, 7953],\n",
      "           dtype='int64', length=1558)\n",
      "Nulls exist: False\n",
      "\n",
      "**************************************************\n",
      "dataframe name: binarized_test_df\n",
      "shape: (1558, 829)\n",
      "index: Int64Index([   0,    1,    2,    3,    4,    5,    6,    7,    8,    9,\n",
      "            ...\n",
      "            1548, 1549, 1550, 1551, 1552, 1553, 1554, 1555, 1556, 1557],\n",
      "           dtype='int64', length=1558)\n",
      "Nulls exist: False\n"
     ]
    }
   ],
   "source": [
    "short_info(filled_test_df)\n",
    "short_info(binarized_test_df)"
   ]
  },
  {
   "cell_type": "code",
   "execution_count": 83,
   "metadata": {
    "collapsed": false
   },
   "outputs": [],
   "source": [
    "rejoined_train_df = filled_train_df.join(binarized_train_df)\n",
    "rejoined_test_df = filled_test_df.join(binarized_test_df)"
   ]
  },
  {
   "cell_type": "code",
   "execution_count": 85,
   "metadata": {
    "collapsed": true
   },
   "outputs": [],
   "source": [
    "filled_test_df.reset_index(inplace=True)"
   ]
  },
  {
   "cell_type": "code",
   "execution_count": 86,
   "metadata": {
    "collapsed": false
   },
   "outputs": [
    {
     "name": "stdout",
     "output_type": "stream",
     "text": [
      "\n",
      "**************************************************\n",
      "dataframe name: filled_test_df\n",
      "shape: (1558, 19)\n",
      "index: RangeIndex(start=0, stop=1558, step=1)\n",
      "Nulls exist: False\n"
     ]
    }
   ],
   "source": [
    "short_info(filled_test_df)"
   ]
  },
  {
   "cell_type": "code",
   "execution_count": 88,
   "metadata": {
    "collapsed": true
   },
   "outputs": [],
   "source": [
    "rejoined_test_df = filled_test_df.join(binarized_test_df)"
   ]
  },
  {
   "cell_type": "code",
   "execution_count": 91,
   "metadata": {
    "collapsed": false
   },
   "outputs": [],
   "source": [
    "rejoined_test_df.drop(\"index\", axis=1, inplace=True)"
   ]
  },
  {
   "cell_type": "code",
   "execution_count": 92,
   "metadata": {
    "collapsed": false
   },
   "outputs": [
    {
     "name": "stdout",
     "output_type": "stream",
     "text": [
      "\n",
      "**************************************************\n",
      "dataframe name: rejoined_train_df\n",
      "shape: (6396, 847)\n",
      "index: RangeIndex(start=0, stop=6396, step=1)\n",
      "Nulls exist: False\n",
      "\n",
      "**************************************************\n",
      "dataframe name: rejoined_test_df\n",
      "shape: (1558, 847)\n",
      "index: RangeIndex(start=0, stop=1558, step=1)\n",
      "Nulls exist: False\n"
     ]
    }
   ],
   "source": [
    "short_info(rejoined_train_df)\n",
    "short_info(rejoined_test_df)"
   ]
  },
  {
   "cell_type": "code",
   "execution_count": 93,
   "metadata": {
    "collapsed": false
   },
   "outputs": [
    {
     "data": {
      "text/plain": [
       "0"
      ]
     },
     "execution_count": 93,
     "metadata": {},
     "output_type": "execute_result"
    }
   ],
   "source": [
    "sum(rejoined_train_df.isnull().sum())"
   ]
  },
  {
   "cell_type": "code",
   "execution_count": 94,
   "metadata": {
    "collapsed": false
   },
   "outputs": [
    {
     "data": {
      "text/plain": [
       "0"
      ]
     },
     "execution_count": 94,
     "metadata": {},
     "output_type": "execute_result"
    }
   ],
   "source": [
    "sum(rejoined_test_df.isnull().sum())"
   ]
  },
  {
   "cell_type": "code",
   "execution_count": 96,
   "metadata": {
    "collapsed": false
   },
   "outputs": [
    {
     "name": "stdout",
     "output_type": "stream",
     "text": [
      "\n",
      "**************************************************\n",
      "dataframe name: y_train\n",
      "shape: (6396,)\n",
      "index: RangeIndex(start=0, stop=6396, step=1)\n",
      "Nulls exist: False\n",
      "\n",
      "**************************************************\n",
      "dataframe name: y_test\n",
      "shape: (1558,)\n",
      "index: RangeIndex(start=0, stop=1558, step=1)\n",
      "Nulls exist: False\n"
     ]
    }
   ],
   "source": [
    "short_info(y_train)\n",
    "short_info(y_test)"
   ]
  },
  {
   "cell_type": "code",
   "execution_count": 99,
   "metadata": {
    "collapsed": false
   },
   "outputs": [],
   "source": [
    "results_dict ={}\n",
    "etr.fit(rejoined_train_df, y_train)\n",
    "accuracy = etr.score(rejoined_test_df, y_test)\n",
    "mse, mae, rmse, rrse = mft.eval_model(etr, rejoined_test_df, y_test, y_train)\n",
    "results_dict[sf_mean] = {\"r^2\": accuracy, \"rmse\": rmse, \"mae\": mae}"
   ]
  },
  {
   "cell_type": "code",
   "execution_count": 100,
   "metadata": {
    "collapsed": false,
    "scrolled": false
   },
   "outputs": [
    {
     "data": {
      "text/plain": [
       "{SimpleFill(fill_method='mean', max_value=None, min_value=None, n_imputations=1, normalizer=None): {'mae': 9495.9127880612978,\n",
       "  'r^2': 0.58077989479049674,\n",
       "  'rmse': 13053.357841622894}}"
      ]
     },
     "execution_count": 100,
     "metadata": {},
     "output_type": "execute_result"
    }
   ],
   "source": [
    "results_dict"
   ]
  },
  {
   "cell_type": "markdown",
   "metadata": {},
   "source": [
    "# Automated Test"
   ]
  },
  {
   "cell_type": "code",
   "execution_count": 272,
   "metadata": {
    "collapsed": false
   },
   "outputs": [],
   "source": [
    "def fancy_impute_test_pipe(train_df, test_df, target, imputer):\n",
    "    \"\"\"\n",
    "    Parameters: training dataframe, testing dataframe, target variable name (as a string), imputer object\n",
    "    Returns: filled and binarized training dataframe, filled and binarized training dataframe\n",
    "    \"\"\" \n",
    "    test_df = test_df.copy()\n",
    "    train_df = train_df.copy()\n",
    "    \n",
    "    # Drop rows with missing target values\n",
    "    test_df.dropna(subset=[target], inplace=True)\n",
    "    train_df.dropna(subset=[target], inplace=True)\n",
    "    test_df.reset_index(inplace=True)\n",
    "    train_df.reset_index(inplace=True)\n",
    "\n",
    "    #create flags for test and train\n",
    "    mft.flag_test_train(train_df, test_df)\n",
    "\n",
    "    ### Split into X and y\n",
    "    X_train, y_train = mft.X_y_split(training_df_2, TARGET)\n",
    "    X_test, y_test = mft.X_y_split(testing_df_2, TARGET)\n",
    "\n",
    "    #Merge train and test for binarization of train and test and imputation of test\n",
    "    merged_df = pd.concat([X_train, X_test])\n",
    "\n",
    "    #split into numeric and nonnumeric\n",
    "    numeric_df, nonnumeric_df = dmt.split_numerical_features(merged_df, verbose=0)\n",
    "\n",
    "    #Binarize nonnumeric features\n",
    "    binarized_df = pd.get_dummies(nonnumeric_df)\n",
    "\n",
    "    #resplit into train and test\n",
    "    numerics_train_df = numeric_df[numeric_df[\"flag\"] == 0]\n",
    "    numerics_test_df = numeric_df[numeric_df[\"flag\"] == 1]\n",
    "    binarized_train_df = binarized_df[binarized_df[\"flag_str_train\"] == 1]\n",
    "    binarized_test_df = binarized_df[binarized_df[\"flag_str_test\"] == 1] \n",
    "\n",
    "    #perform imputations\n",
    "    filled_train_df = dmt.fancy_impute(numerics_train_df, imputer)\n",
    "    filled_df = dmt.fancy_impute(numeric_df, imputer)\n",
    "\n",
    "    #scaling and/or imputing creates rounding error\n",
    "    filled_df[\"flag\"] = filled_df[\"flag\"].round(0)\n",
    "\n",
    "    #separate imputed test set from imputed train set\n",
    "    filled_test_df = filled_df[filled_df[\"flag\"] == 1]\n",
    "\n",
    "    #rejoin test and train\n",
    "    rejoined_train_df = filled_train_df.join(binarized_train_df)\n",
    "    filled_test_df.reset_index(inplace=True)\n",
    "    rejoined_test_df = filled_test_df.join(binarized_test_df)\n",
    "    rejoined_test_df.drop(\"index\", axis=1, inplace=True)\n",
    "\n",
    "    return rejoined_train_df, rejoined_test_df, y_train, y_test "
   ]
  },
  {
   "cell_type": "code",
   "execution_count": 328,
   "metadata": {
    "collapsed": false,
    "scrolled": true
   },
   "outputs": [],
   "source": [
    "rejoined_train_df, rejoined_test_df, y_train, y_test = ie.fancy_impute_test_pipe(training_df, testing_df, TARGET, svd_imputer)"
   ]
  },
  {
   "cell_type": "code",
   "execution_count": 334,
   "metadata": {
    "collapsed": false,
    "scrolled": true
   },
   "outputs": [],
   "source": [
    "filled_train_df, filled_test_df, y_train, y_test = ie.fancy_impute_test_pipe_2(training_df, testing_df, TARGET, svd_imputer)"
   ]
  },
  {
   "cell_type": "code",
   "execution_count": 335,
   "metadata": {
    "collapsed": false
   },
   "outputs": [],
   "source": [
    "result_dict = {}\n",
    "etr.fit(filled_train_df, y_train)\n",
    "accuracy = etr.score(filled_test_df, y_test)\n",
    "mse, mae, rmse, rrse = mft.eval_model(etr, filled_test_df, y_test, y_train)\n",
    "result_dict[\"svd_2\"] = {\"r^2\": accuracy, \"rmse\": rmse, \"mae\": mae}"
   ]
  },
  {
   "cell_type": "code",
   "execution_count": 329,
   "metadata": {
    "collapsed": false
   },
   "outputs": [],
   "source": [
    "result_dict = {}\n",
    "etr.fit(rejoined_train_df, y_train)\n",
    "accuracy = etr.score(rejoined_test_df, y_test)\n",
    "mse, mae, rmse, rrse = mft.eval_model(etr, rejoined_test_df, y_test, y_train)\n",
    "result_dict[\"svd\"] = {\"r^2\": accuracy, \"rmse\": rmse, \"mae\": mae}"
   ]
  },
  {
   "cell_type": "code",
   "execution_count": 336,
   "metadata": {
    "collapsed": false
   },
   "outputs": [
    {
     "data": {
      "text/plain": [
       "{'svd_2': {'mae': 10050.943416133063,\n",
       "  'r^2': 0.52111158002642566,\n",
       "  'rmse': 13951.418301502041}}"
      ]
     },
     "execution_count": 336,
     "metadata": {},
     "output_type": "execute_result"
    }
   ],
   "source": [
    "result_dict"
   ]
  },
  {
   "cell_type": "code",
   "execution_count": 330,
   "metadata": {
    "collapsed": false
   },
   "outputs": [
    {
     "data": {
      "text/plain": [
       "{'svd': {'mae': 9491.5026331185218,\n",
       "  'r^2': 0.57657711588309657,\n",
       "  'rmse': 13118.626138937288}}"
      ]
     },
     "execution_count": 330,
     "metadata": {},
     "output_type": "execute_result"
    }
   ],
   "source": [
    "result_dict"
   ]
  },
  {
   "cell_type": "code",
   "execution_count": 268,
   "metadata": {
    "collapsed": false
   },
   "outputs": [
    {
     "data": {
      "text/plain": [
       "{'knn': {'mae': 9350.3087214365478,\n",
       "  'r^2': 0.5814199140549321,\n",
       "  'rmse': 13043.389818307411}}"
      ]
     },
     "execution_count": 268,
     "metadata": {},
     "output_type": "execute_result"
    }
   ],
   "source": [
    "result_dict"
   ]
  },
  {
   "cell_type": "code",
   "execution_count": 269,
   "metadata": {
    "collapsed": false
   },
   "outputs": [
    {
     "data": {
      "text/plain": [
       "{'knn': {'mae': 9482.5160429618936,\n",
       "  'r^2': 0.57642489153878684,\n",
       "  'rmse': 13120.98405921845},\n",
       " 'knn_imputer': {'mae': 9470.1190525437651,\n",
       "  'r^2': 0.58649248190158509,\n",
       "  'rmse': 12964.115676242905},\n",
       " 'mice_imputer': {'mae': 9406.4821387506781,\n",
       "  'r^2': 0.59015364770991818,\n",
       "  'rmse': 12906.596401657451},\n",
       " 'sf_mean': {'mae': 9407.8934816563906,\n",
       "  'r^2': 0.58096263092897615,\n",
       "  'rmse': 13050.512581852727},\n",
       " 'sf_median': {'mae': 9463.904701825255,\n",
       "  'r^2': 0.57393804688588868,\n",
       "  'rmse': 13159.444883919221},\n",
       " 'soft_imputer': {'mae': 9329.6002497769496,\n",
       "  'r^2': 0.59768631836856845,\n",
       "  'rmse': 12787.439545188432},\n",
       " 'svd_imputer': {'mae': 9300.1329663993092,\n",
       "  'r^2': 0.5954153863784688,\n",
       "  'rmse': 12823.479260679756}}"
      ]
     },
     "execution_count": 269,
     "metadata": {},
     "output_type": "execute_result"
    }
   ],
   "source": [
    "results_dict"
   ]
  },
  {
   "cell_type": "code",
   "execution_count": 337,
   "metadata": {
    "collapsed": false
   },
   "outputs": [],
   "source": [
    "def fit_and_score_imputers_2(train_df, test_df, model, target, imputers_dict, multiscores=True, verbose=1):\n",
    "    results_dict ={}\n",
    "    for imputer_name, imputer in imputers_dict.iteritems():\n",
    "        rejoined_train_df, rejoined_test_df, y_train, y_test = ie.fancy_impute_test_pipe_2(train_df, test_df, target, imputer)\n",
    "        print \"fitting model to dataframe imputed with: {}\".format(imputer_name)\n",
    "        model.fit(rejoined_train_df, y_train)\n",
    "        r2 = model.score(rejoined_test_df, y_test)\n",
    "        mse, mae, rmse, rrse = mft.eval_model(model, rejoined_test_df, y_test, y_train)\n",
    "        if multiscores == True:\n",
    "            results_dict[imputer_name] = {\"r^2\": r2, \"rmse\": rmse, \"mae\": mae}\n",
    "        else:\n",
    "            results_dict[imputer_name] = {\"mae\": mae}\n",
    "    return results_dict"
   ]
  },
  {
   "cell_type": "code",
   "execution_count": 338,
   "metadata": {
    "collapsed": false,
    "scrolled": true
   },
   "outputs": [
    {
     "name": "stdout",
     "output_type": "stream",
     "text": [
      "fitting model to dataframe imputed with: knn_imputer\n",
      "fitting model to dataframe imputed with: soft_imputer\n",
      "fitting model to dataframe imputed with: sf_mean\n",
      "fitting model to dataframe imputed with: sf_median\n",
      "fitting model to dataframe imputed with: mice_imputer\n",
      "fitting model to dataframe imputed with: svd_imputer\n"
     ]
    }
   ],
   "source": [
    "results_dict_2 = fit_and_score_imputers_2(training_df, testing_df, target=TARGET, imputers_dict=imputers_dict, model=etr)"
   ]
  },
  {
   "cell_type": "code",
   "execution_count": 339,
   "metadata": {
    "collapsed": false,
    "scrolled": true
   },
   "outputs": [
    {
     "data": {
      "text/plain": [
       "{'knn_imputer': {'mae': 9825.8782123172732,\n",
       "  'r^2': 0.54600231421437728,\n",
       "  'rmse': 13584.010607953634},\n",
       " 'mice_imputer': {'mae': 9747.0283911607476,\n",
       "  'r^2': 0.54793198940724108,\n",
       "  'rmse': 13555.111075909286},\n",
       " 'sf_mean': {'mae': 9464.4753950531995,\n",
       "  'r^2': 0.57743872167368537,\n",
       "  'rmse': 13105.272066008105},\n",
       " 'sf_median': {'mae': 9484.1992219721542,\n",
       "  'r^2': 0.58236671140417173,\n",
       "  'rmse': 13028.629873180875},\n",
       " 'soft_imputer': {'mae': 9792.9529909275388,\n",
       "  'r^2': 0.5502930207142025,\n",
       "  'rmse': 13519.667362239177},\n",
       " 'svd_imputer': {'mae': 9891.4886925267801,\n",
       "  'r^2': 0.5332333961717044,\n",
       "  'rmse': 13773.714613609927}}"
      ]
     },
     "execution_count": 339,
     "metadata": {},
     "output_type": "execute_result"
    }
   ],
   "source": [
    "results_dict_2"
   ]
  },
  {
   "cell_type": "code",
   "execution_count": 287,
   "metadata": {
    "collapsed": false,
    "scrolled": false
   },
   "outputs": [
    {
     "data": {
      "text/plain": [
       "{'knn_imputer': {'mae': 9559.760498366215,\n",
       "  'r^2': 0.58037429410325236,\n",
       "  'rmse': 13059.670958351931},\n",
       " 'mice_imputer': {'mae': 9357.5275458902743,\n",
       "  'r^2': 0.58504143754803883,\n",
       "  'rmse': 12986.842025821987},\n",
       " 'sf_mean': {'mae': 9386.9253869837084,\n",
       "  'r^2': 0.58671483802164026,\n",
       "  'rmse': 12960.629599251648},\n",
       " 'sf_median': {'mae': 9484.5062807399281,\n",
       "  'r^2': 0.57937754577963141,\n",
       "  'rmse': 13075.172254017218},\n",
       " 'soft_imputer': {'mae': 9340.9201098765934,\n",
       "  'r^2': 0.58980269136559316,\n",
       "  'rmse': 12912.121255766386},\n",
       " 'svd_imputer': {'mae': 9388.9199043158133,\n",
       "  'r^2': 0.58696335297912183,\n",
       "  'rmse': 12956.732296672257}}"
      ]
     },
     "execution_count": 287,
     "metadata": {},
     "output_type": "execute_result"
    }
   ],
   "source": [
    "results_dict"
   ]
  },
  {
   "cell_type": "code",
   "execution_count": 288,
   "metadata": {
    "collapsed": false,
    "scrolled": true
   },
   "outputs": [
    {
     "data": {
      "text/html": [
       "<div>\n",
       "<style>\n",
       "    .dataframe thead tr:only-child th {\n",
       "        text-align: right;\n",
       "    }\n",
       "\n",
       "    .dataframe thead th {\n",
       "        text-align: left;\n",
       "    }\n",
       "\n",
       "    .dataframe tbody tr th {\n",
       "        vertical-align: top;\n",
       "    }\n",
       "</style>\n",
       "<table border=\"1\" class=\"dataframe\">\n",
       "  <thead>\n",
       "    <tr style=\"text-align: right;\">\n",
       "      <th></th>\n",
       "      <th>mae</th>\n",
       "      <th>r^2</th>\n",
       "      <th>rmse</th>\n",
       "    </tr>\n",
       "  </thead>\n",
       "  <tbody>\n",
       "    <tr>\n",
       "      <th>knn_imputer</th>\n",
       "      <td>9559.760498</td>\n",
       "      <td>0.580374</td>\n",
       "      <td>13059.670958</td>\n",
       "    </tr>\n",
       "    <tr>\n",
       "      <th>mice_imputer</th>\n",
       "      <td>9357.527546</td>\n",
       "      <td>0.585041</td>\n",
       "      <td>12986.842026</td>\n",
       "    </tr>\n",
       "    <tr>\n",
       "      <th>sf_mean</th>\n",
       "      <td>9386.925387</td>\n",
       "      <td>0.586715</td>\n",
       "      <td>12960.629599</td>\n",
       "    </tr>\n",
       "    <tr>\n",
       "      <th>sf_median</th>\n",
       "      <td>9484.506281</td>\n",
       "      <td>0.579378</td>\n",
       "      <td>13075.172254</td>\n",
       "    </tr>\n",
       "    <tr>\n",
       "      <th>soft_imputer</th>\n",
       "      <td>9340.920110</td>\n",
       "      <td>0.589803</td>\n",
       "      <td>12912.121256</td>\n",
       "    </tr>\n",
       "    <tr>\n",
       "      <th>svd_imputer</th>\n",
       "      <td>9388.919904</td>\n",
       "      <td>0.586963</td>\n",
       "      <td>12956.732297</td>\n",
       "    </tr>\n",
       "  </tbody>\n",
       "</table>\n",
       "</div>"
      ],
      "text/plain": [
       "                      mae       r^2          rmse\n",
       "knn_imputer   9559.760498  0.580374  13059.670958\n",
       "mice_imputer  9357.527546  0.585041  12986.842026\n",
       "sf_mean       9386.925387  0.586715  12960.629599\n",
       "sf_median     9484.506281  0.579378  13075.172254\n",
       "soft_imputer  9340.920110  0.589803  12912.121256\n",
       "svd_imputer   9388.919904  0.586963  12956.732297"
      ]
     },
     "execution_count": 288,
     "metadata": {},
     "output_type": "execute_result"
    }
   ],
   "source": [
    "pd.DataFrame(results_dict).T"
   ]
  },
  {
   "cell_type": "code",
   "execution_count": 340,
   "metadata": {
    "collapsed": false,
    "scrolled": true
   },
   "outputs": [
    {
     "data": {
      "text/html": [
       "<div>\n",
       "<style>\n",
       "    .dataframe thead tr:only-child th {\n",
       "        text-align: right;\n",
       "    }\n",
       "\n",
       "    .dataframe thead th {\n",
       "        text-align: left;\n",
       "    }\n",
       "\n",
       "    .dataframe tbody tr th {\n",
       "        vertical-align: top;\n",
       "    }\n",
       "</style>\n",
       "<table border=\"1\" class=\"dataframe\">\n",
       "  <thead>\n",
       "    <tr style=\"text-align: right;\">\n",
       "      <th></th>\n",
       "      <th>mae</th>\n",
       "      <th>r^2</th>\n",
       "      <th>rmse</th>\n",
       "    </tr>\n",
       "  </thead>\n",
       "  <tbody>\n",
       "    <tr>\n",
       "      <th>knn_imputer</th>\n",
       "      <td>9825.878212</td>\n",
       "      <td>0.546002</td>\n",
       "      <td>13584.010608</td>\n",
       "    </tr>\n",
       "    <tr>\n",
       "      <th>mice_imputer</th>\n",
       "      <td>9747.028391</td>\n",
       "      <td>0.547932</td>\n",
       "      <td>13555.111076</td>\n",
       "    </tr>\n",
       "    <tr>\n",
       "      <th>sf_mean</th>\n",
       "      <td>9464.475395</td>\n",
       "      <td>0.577439</td>\n",
       "      <td>13105.272066</td>\n",
       "    </tr>\n",
       "    <tr>\n",
       "      <th>sf_median</th>\n",
       "      <td>9484.199222</td>\n",
       "      <td>0.582367</td>\n",
       "      <td>13028.629873</td>\n",
       "    </tr>\n",
       "    <tr>\n",
       "      <th>soft_imputer</th>\n",
       "      <td>9792.952991</td>\n",
       "      <td>0.550293</td>\n",
       "      <td>13519.667362</td>\n",
       "    </tr>\n",
       "    <tr>\n",
       "      <th>svd_imputer</th>\n",
       "      <td>9891.488693</td>\n",
       "      <td>0.533233</td>\n",
       "      <td>13773.714614</td>\n",
       "    </tr>\n",
       "  </tbody>\n",
       "</table>\n",
       "</div>"
      ],
      "text/plain": [
       "                      mae       r^2          rmse\n",
       "knn_imputer   9825.878212  0.546002  13584.010608\n",
       "mice_imputer  9747.028391  0.547932  13555.111076\n",
       "sf_mean       9464.475395  0.577439  13105.272066\n",
       "sf_median     9484.199222  0.582367  13028.629873\n",
       "soft_imputer  9792.952991  0.550293  13519.667362\n",
       "svd_imputer   9891.488693  0.533233  13773.714614"
      ]
     },
     "execution_count": 340,
     "metadata": {},
     "output_type": "execute_result"
    }
   ],
   "source": [
    "pd.DataFrame(results_dict_2).T"
   ]
  },
  {
   "cell_type": "code",
   "execution_count": 290,
   "metadata": {
    "collapsed": false
   },
   "outputs": [
    {
     "name": "stdout",
     "output_type": "stream",
     "text": [
      "fitting model to dataframe imputed with: knn_imputer\n",
      "fitting model to dataframe imputed with: soft_imputer\n",
      "fitting model to dataframe imputed with: sf_mean\n",
      "fitting model to dataframe imputed with: sf_median\n",
      "fitting model to dataframe imputed with: mice_imputer\n",
      "fitting model to dataframe imputed with: svd_imputer\n",
      "fitting model to dataframe imputed with: knn_imputer\n",
      "fitting model to dataframe imputed with: soft_imputer\n",
      "fitting model to dataframe imputed with: sf_mean\n",
      "fitting model to dataframe imputed with: sf_median\n",
      "fitting model to dataframe imputed with: mice_imputer\n",
      "fitting model to dataframe imputed with: svd_imputer\n",
      "fitting model to dataframe imputed with: knn_imputer\n",
      "fitting model to dataframe imputed with: soft_imputer\n",
      "fitting model to dataframe imputed with: sf_mean\n",
      "fitting model to dataframe imputed with: sf_median\n",
      "fitting model to dataframe imputed with: mice_imputer\n",
      "fitting model to dataframe imputed with: svd_imputer\n",
      "fitting model to dataframe imputed with: knn_imputer\n",
      "fitting model to dataframe imputed with: soft_imputer\n",
      "fitting model to dataframe imputed with: sf_mean\n",
      "fitting model to dataframe imputed with: sf_median\n",
      "fitting model to dataframe imputed with: mice_imputer\n",
      "fitting model to dataframe imputed with: svd_imputer\n",
      "fitting model to dataframe imputed with: knn_imputer\n",
      "fitting model to dataframe imputed with: soft_imputer\n",
      "fitting model to dataframe imputed with: sf_mean\n",
      "fitting model to dataframe imputed with: sf_median\n",
      "fitting model to dataframe imputed with: mice_imputer\n",
      "fitting model to dataframe imputed with: svd_imputer\n",
      "fitting model to dataframe imputed with: knn_imputer\n",
      "fitting model to dataframe imputed with: soft_imputer\n",
      "fitting model to dataframe imputed with: sf_mean\n",
      "fitting model to dataframe imputed with: sf_median\n",
      "fitting model to dataframe imputed with: mice_imputer\n",
      "fitting model to dataframe imputed with: svd_imputer\n",
      "fitting model to dataframe imputed with: knn_imputer\n",
      "fitting model to dataframe imputed with: soft_imputer\n",
      "fitting model to dataframe imputed with: sf_mean\n",
      "fitting model to dataframe imputed with: sf_median\n",
      "fitting model to dataframe imputed with: mice_imputer\n",
      "fitting model to dataframe imputed with: svd_imputer\n",
      "fitting model to dataframe imputed with: knn_imputer\n",
      "fitting model to dataframe imputed with: soft_imputer\n",
      "fitting model to dataframe imputed with: sf_mean\n",
      "fitting model to dataframe imputed with: sf_median\n",
      "fitting model to dataframe imputed with: mice_imputer\n",
      "fitting model to dataframe imputed with: svd_imputer\n",
      "fitting model to dataframe imputed with: knn_imputer\n",
      "fitting model to dataframe imputed with: soft_imputer\n",
      "fitting model to dataframe imputed with: sf_mean\n",
      "fitting model to dataframe imputed with: sf_median\n",
      "fitting model to dataframe imputed with: mice_imputer\n",
      "fitting model to dataframe imputed with: svd_imputer\n",
      "fitting model to dataframe imputed with: knn_imputer\n",
      "fitting model to dataframe imputed with: soft_imputer\n",
      "fitting model to dataframe imputed with: sf_mean\n",
      "fitting model to dataframe imputed with: sf_median\n",
      "fitting model to dataframe imputed with: mice_imputer\n",
      "fitting model to dataframe imputed with: svd_imputer\n"
     ]
    }
   ],
   "source": [
    "multiround_results = ie.imputers_multifit_test(training_df, testing_df, TARGET, imputers_dict, etr)"
   ]
  },
  {
   "cell_type": "code",
   "execution_count": 318,
   "metadata": {
    "collapsed": false
   },
   "outputs": [],
   "source": [
    "mae_scores_df = pd.DataFrame(multiround_results)"
   ]
  },
  {
   "cell_type": "code",
   "execution_count": 326,
   "metadata": {
    "collapsed": false
   },
   "outputs": [
    {
     "data": {
      "text/html": [
       "<div>\n",
       "<style>\n",
       "    .dataframe thead tr:only-child th {\n",
       "        text-align: right;\n",
       "    }\n",
       "\n",
       "    .dataframe thead th {\n",
       "        text-align: left;\n",
       "    }\n",
       "\n",
       "    .dataframe tbody tr th {\n",
       "        vertical-align: top;\n",
       "    }\n",
       "</style>\n",
       "<table border=\"1\" class=\"dataframe\">\n",
       "  <thead>\n",
       "    <tr style=\"text-align: right;\">\n",
       "      <th></th>\n",
       "      <th>knn_imputer</th>\n",
       "      <th>mice_imputer</th>\n",
       "      <th>sf_mean</th>\n",
       "      <th>sf_median</th>\n",
       "      <th>soft_imputer</th>\n",
       "      <th>svd_imputer</th>\n",
       "    </tr>\n",
       "  </thead>\n",
       "  <tbody>\n",
       "    <tr>\n",
       "      <th>0</th>\n",
       "      <td>9441.268102</td>\n",
       "      <td>9491.930365</td>\n",
       "      <td>9550.277159</td>\n",
       "      <td>9334.437141</td>\n",
       "      <td>9382.351859</td>\n",
       "      <td>9434.503022</td>\n",
       "    </tr>\n",
       "    <tr>\n",
       "      <th>1</th>\n",
       "      <td>9350.295677</td>\n",
       "      <td>9395.626633</td>\n",
       "      <td>9388.976852</td>\n",
       "      <td>9383.252765</td>\n",
       "      <td>9374.785927</td>\n",
       "      <td>9446.985223</td>\n",
       "    </tr>\n",
       "    <tr>\n",
       "      <th>2</th>\n",
       "      <td>9560.464509</td>\n",
       "      <td>9316.663526</td>\n",
       "      <td>9555.493247</td>\n",
       "      <td>9459.135898</td>\n",
       "      <td>9427.880350</td>\n",
       "      <td>9521.483456</td>\n",
       "    </tr>\n",
       "    <tr>\n",
       "      <th>3</th>\n",
       "      <td>9498.725333</td>\n",
       "      <td>9409.816100</td>\n",
       "      <td>9446.568372</td>\n",
       "      <td>9338.660713</td>\n",
       "      <td>9481.512433</td>\n",
       "      <td>9360.933800</td>\n",
       "    </tr>\n",
       "    <tr>\n",
       "      <th>4</th>\n",
       "      <td>9390.944360</td>\n",
       "      <td>9454.231413</td>\n",
       "      <td>9492.006080</td>\n",
       "      <td>9415.949124</td>\n",
       "      <td>9395.758238</td>\n",
       "      <td>9512.846268</td>\n",
       "    </tr>\n",
       "    <tr>\n",
       "      <th>5</th>\n",
       "      <td>9485.833195</td>\n",
       "      <td>9397.076073</td>\n",
       "      <td>9438.893445</td>\n",
       "      <td>9417.224754</td>\n",
       "      <td>9361.926366</td>\n",
       "      <td>9382.346505</td>\n",
       "    </tr>\n",
       "    <tr>\n",
       "      <th>6</th>\n",
       "      <td>9482.932352</td>\n",
       "      <td>9398.845533</td>\n",
       "      <td>9378.339803</td>\n",
       "      <td>9556.261394</td>\n",
       "      <td>9349.308283</td>\n",
       "      <td>9499.519763</td>\n",
       "    </tr>\n",
       "    <tr>\n",
       "      <th>7</th>\n",
       "      <td>9392.262778</td>\n",
       "      <td>9479.593380</td>\n",
       "      <td>9341.919300</td>\n",
       "      <td>9410.345350</td>\n",
       "      <td>9199.059686</td>\n",
       "      <td>9476.895414</td>\n",
       "    </tr>\n",
       "    <tr>\n",
       "      <th>8</th>\n",
       "      <td>9355.218962</td>\n",
       "      <td>9483.730577</td>\n",
       "      <td>9428.088032</td>\n",
       "      <td>9334.854684</td>\n",
       "      <td>9272.632687</td>\n",
       "      <td>9498.759303</td>\n",
       "    </tr>\n",
       "    <tr>\n",
       "      <th>9</th>\n",
       "      <td>9445.718769</td>\n",
       "      <td>9393.875020</td>\n",
       "      <td>9496.667795</td>\n",
       "      <td>9388.681886</td>\n",
       "      <td>9432.437692</td>\n",
       "      <td>9403.654373</td>\n",
       "    </tr>\n",
       "  </tbody>\n",
       "</table>\n",
       "</div>"
      ],
      "text/plain": [
       "   knn_imputer  mice_imputer      sf_mean    sf_median  soft_imputer  \\\n",
       "0  9441.268102   9491.930365  9550.277159  9334.437141   9382.351859   \n",
       "1  9350.295677   9395.626633  9388.976852  9383.252765   9374.785927   \n",
       "2  9560.464509   9316.663526  9555.493247  9459.135898   9427.880350   \n",
       "3  9498.725333   9409.816100  9446.568372  9338.660713   9481.512433   \n",
       "4  9390.944360   9454.231413  9492.006080  9415.949124   9395.758238   \n",
       "5  9485.833195   9397.076073  9438.893445  9417.224754   9361.926366   \n",
       "6  9482.932352   9398.845533  9378.339803  9556.261394   9349.308283   \n",
       "7  9392.262778   9479.593380  9341.919300  9410.345350   9199.059686   \n",
       "8  9355.218962   9483.730577  9428.088032  9334.854684   9272.632687   \n",
       "9  9445.718769   9393.875020  9496.667795  9388.681886   9432.437692   \n",
       "\n",
       "   svd_imputer  \n",
       "0  9434.503022  \n",
       "1  9446.985223  \n",
       "2  9521.483456  \n",
       "3  9360.933800  \n",
       "4  9512.846268  \n",
       "5  9382.346505  \n",
       "6  9499.519763  \n",
       "7  9476.895414  \n",
       "8  9498.759303  \n",
       "9  9403.654373  "
      ]
     },
     "execution_count": 326,
     "metadata": {},
     "output_type": "execute_result"
    }
   ],
   "source": [
    "mae_scores_df = mae_scores_df.applymap(lambda x : x.get(\"mae\"))"
   ]
  },
  {
   "cell_type": "code",
   "execution_count": 324,
   "metadata": {
    "collapsed": false
   },
   "outputs": [
    {
     "data": {
      "text/html": [
       "<div>\n",
       "<style>\n",
       "    .dataframe thead tr:only-child th {\n",
       "        text-align: right;\n",
       "    }\n",
       "\n",
       "    .dataframe thead th {\n",
       "        text-align: left;\n",
       "    }\n",
       "\n",
       "    .dataframe tbody tr th {\n",
       "        vertical-align: top;\n",
       "    }\n",
       "</style>\n",
       "<table border=\"1\" class=\"dataframe\">\n",
       "  <thead>\n",
       "    <tr style=\"text-align: right;\">\n",
       "      <th></th>\n",
       "      <th>knn_imputer</th>\n",
       "      <th>mice_imputer</th>\n",
       "      <th>sf_mean</th>\n",
       "      <th>sf_median</th>\n",
       "      <th>soft_imputer</th>\n",
       "      <th>svd_imputer</th>\n",
       "    </tr>\n",
       "  </thead>\n",
       "  <tbody>\n",
       "    <tr>\n",
       "      <th>0</th>\n",
       "      <td>9441.268102</td>\n",
       "      <td>9491.930365</td>\n",
       "      <td>9550.277159</td>\n",
       "      <td>9334.437141</td>\n",
       "      <td>9382.351859</td>\n",
       "      <td>9434.503022</td>\n",
       "    </tr>\n",
       "    <tr>\n",
       "      <th>1</th>\n",
       "      <td>9350.295677</td>\n",
       "      <td>9395.626633</td>\n",
       "      <td>9388.976852</td>\n",
       "      <td>9383.252765</td>\n",
       "      <td>9374.785927</td>\n",
       "      <td>9446.985223</td>\n",
       "    </tr>\n",
       "    <tr>\n",
       "      <th>2</th>\n",
       "      <td>9560.464509</td>\n",
       "      <td>9316.663526</td>\n",
       "      <td>9555.493247</td>\n",
       "      <td>9459.135898</td>\n",
       "      <td>9427.880350</td>\n",
       "      <td>9521.483456</td>\n",
       "    </tr>\n",
       "    <tr>\n",
       "      <th>3</th>\n",
       "      <td>9498.725333</td>\n",
       "      <td>9409.816100</td>\n",
       "      <td>9446.568372</td>\n",
       "      <td>9338.660713</td>\n",
       "      <td>9481.512433</td>\n",
       "      <td>9360.933800</td>\n",
       "    </tr>\n",
       "    <tr>\n",
       "      <th>4</th>\n",
       "      <td>9390.944360</td>\n",
       "      <td>9454.231413</td>\n",
       "      <td>9492.006080</td>\n",
       "      <td>9415.949124</td>\n",
       "      <td>9395.758238</td>\n",
       "      <td>9512.846268</td>\n",
       "    </tr>\n",
       "    <tr>\n",
       "      <th>5</th>\n",
       "      <td>9485.833195</td>\n",
       "      <td>9397.076073</td>\n",
       "      <td>9438.893445</td>\n",
       "      <td>9417.224754</td>\n",
       "      <td>9361.926366</td>\n",
       "      <td>9382.346505</td>\n",
       "    </tr>\n",
       "    <tr>\n",
       "      <th>6</th>\n",
       "      <td>9482.932352</td>\n",
       "      <td>9398.845533</td>\n",
       "      <td>9378.339803</td>\n",
       "      <td>9556.261394</td>\n",
       "      <td>9349.308283</td>\n",
       "      <td>9499.519763</td>\n",
       "    </tr>\n",
       "    <tr>\n",
       "      <th>7</th>\n",
       "      <td>9392.262778</td>\n",
       "      <td>9479.593380</td>\n",
       "      <td>9341.919300</td>\n",
       "      <td>9410.345350</td>\n",
       "      <td>9199.059686</td>\n",
       "      <td>9476.895414</td>\n",
       "    </tr>\n",
       "    <tr>\n",
       "      <th>8</th>\n",
       "      <td>9355.218962</td>\n",
       "      <td>9483.730577</td>\n",
       "      <td>9428.088032</td>\n",
       "      <td>9334.854684</td>\n",
       "      <td>9272.632687</td>\n",
       "      <td>9498.759303</td>\n",
       "    </tr>\n",
       "    <tr>\n",
       "      <th>9</th>\n",
       "      <td>9445.718769</td>\n",
       "      <td>9393.875020</td>\n",
       "      <td>9496.667795</td>\n",
       "      <td>9388.681886</td>\n",
       "      <td>9432.437692</td>\n",
       "      <td>9403.654373</td>\n",
       "    </tr>\n",
       "  </tbody>\n",
       "</table>\n",
       "</div>"
      ],
      "text/plain": [
       "   knn_imputer  mice_imputer      sf_mean    sf_median  soft_imputer  \\\n",
       "0  9441.268102   9491.930365  9550.277159  9334.437141   9382.351859   \n",
       "1  9350.295677   9395.626633  9388.976852  9383.252765   9374.785927   \n",
       "2  9560.464509   9316.663526  9555.493247  9459.135898   9427.880350   \n",
       "3  9498.725333   9409.816100  9446.568372  9338.660713   9481.512433   \n",
       "4  9390.944360   9454.231413  9492.006080  9415.949124   9395.758238   \n",
       "5  9485.833195   9397.076073  9438.893445  9417.224754   9361.926366   \n",
       "6  9482.932352   9398.845533  9378.339803  9556.261394   9349.308283   \n",
       "7  9392.262778   9479.593380  9341.919300  9410.345350   9199.059686   \n",
       "8  9355.218962   9483.730577  9428.088032  9334.854684   9272.632687   \n",
       "9  9445.718769   9393.875020  9496.667795  9388.681886   9432.437692   \n",
       "\n",
       "   svd_imputer  \n",
       "0  9434.503022  \n",
       "1  9446.985223  \n",
       "2  9521.483456  \n",
       "3  9360.933800  \n",
       "4  9512.846268  \n",
       "5  9382.346505  \n",
       "6  9499.519763  \n",
       "7  9476.895414  \n",
       "8  9498.759303  \n",
       "9  9403.654373  "
      ]
     },
     "execution_count": 324,
     "metadata": {},
     "output_type": "execute_result"
    }
   ],
   "source": [
    "mae_scores_df"
   ]
  },
  {
   "cell_type": "code",
   "execution_count": 342,
   "metadata": {
    "collapsed": false
   },
   "outputs": [],
   "source": [
    "mae_scores_df.to_csv(\"epoch_test_bakken.csv\")"
   ]
  },
  {
   "cell_type": "code",
   "execution_count": 327,
   "metadata": {
    "collapsed": false
   },
   "outputs": [
    {
     "data": {
      "text/plain": [
       "<matplotlib.axes._subplots.AxesSubplot at 0x124808c90>"
      ]
     },
     "execution_count": 327,
     "metadata": {},
     "output_type": "execute_result"
    },
    {
     "data": {
      "image/png": "[encoded data removed]",
      "text/plain": [
       "<matplotlib.figure.Figure at 0x124808690>"
      ]
     },
     "metadata": {},
     "output_type": "display_data"
    }
   ],
   "source": [
    "mae_scores_df.plot.box(figsize=(20,10), fontsize=20)"
   ]
  },
  {
   "cell_type": "markdown",
   "metadata": {},
   "source": [
    "take ten rows from clusters.\n",
    "append ten rows to train set.\n",
    "conduct multifit test"
   ]
  }
 ],
 "metadata": {
  "kernelspec": {
   "display_name": "Python 2",
   "language": "python",
   "name": "python2"
  },
  "language_info": {
   "codemirror_mode": {
    "name": "ipython",
    "version": 2
   },
   "file_extension": ".py",
   "mimetype": "text/x-python",
   "name": "python",
   "nbconvert_exporter": "python",
   "pygments_lexer": "ipython2",
   "version": "2.7.13"
  }
 },
 "nbformat": 4,
 "nbformat_minor": 2
}
