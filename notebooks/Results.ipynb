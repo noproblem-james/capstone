{
 "cells": [
  {
   "cell_type": "code",
   "execution_count": 1,
   "metadata": {
    "collapsed": true
   },
   "outputs": [],
   "source": [
    "from imports import *"
   ]
  },
  {
   "cell_type": "code",
   "execution_count": 2,
   "metadata": {
    "collapsed": false
   },
   "outputs": [
    {
     "data": {
      "text/html": [
       "<style>.container { width:100% !important; }</style>"
      ],
      "text/plain": [
       "<IPython.core.display.HTML object>"
      ]
     },
     "metadata": {},
     "output_type": "display_data"
    }
   ],
   "source": [
    "from IPython.core.display import display, HTML\n",
    "display(HTML(\"<style>.container { width:100% !important; }</style>\"))"
   ]
  },
  {
   "cell_type": "code",
   "execution_count": 13,
   "metadata": {
    "collapsed": true
   },
   "outputs": [],
   "source": [
    "import seaborn as sns"
   ]
  },
  {
   "cell_type": "code",
   "execution_count": 14,
   "metadata": {
    "collapsed": true
   },
   "outputs": [],
   "source": [
    "%matplotlib inline"
   ]
  },
  {
   "cell_type": "code",
   "execution_count": 5,
   "metadata": {
    "collapsed": false
   },
   "outputs": [
    {
     "data": {
      "text/plain": [
       "Soft Impute    112\n",
       "Mean           112\n",
       "MICE           112\n",
       "Median         112\n",
       "KNN            112\n",
       "Name: imputer, dtype: int64"
      ]
     },
     "execution_count": 5,
     "metadata": {},
     "output_type": "execute_result"
    }
   ],
   "source": [
    "percent_imputation_results = pd.read_csv(\"../results/percent_imputation_results.csv\")\n",
    "percent_imputation_results.drop(\"Unnamed: 0\", axis=1, inplace=True)\n",
    "percent_imputation_results.head()\n",
    "percent_imputation_results['imputer'].replace(\"SoftMax\", \"Soft Impute\",inplace=True)\n",
    "percent_imputation_results.imputer.value_counts()"
   ]
  },
  {
   "cell_type": "code",
   "execution_count": 9,
   "metadata": {
    "collapsed": false
   },
   "outputs": [],
   "source": [
    "# Plotting\n",
    "\n",
    "import plotly.plotly as py\n",
    "import plotly.graph_objs as go\n",
    "\n",
    "def plot_errors(feature):\n",
    "    current = feature\n",
    "    N = 10\n",
    "    x_axis = np.linspace(10, 100, 10)\n",
    "#     svd_y = svd_impute_test.loc[current].values\n",
    "    knn_y = percent_imputation_results[(percent_imputation_results[\"imputer\"] == \"KNN\") & (percent_imputation_results[\"feature\"] == current)][\"mae\"]\n",
    "    mice_y = percent_imputation_results[(percent_imputation_results[\"imputer\"] == \"MICE\") & (percent_imputation_results[\"feature\"] == current)][\"mae\"]\n",
    "    soft_y = percent_imputation_results[(percent_imputation_results[\"imputer\"] == \"Soft Impute\") & (percent_imputation_results[\"feature\"] == current)][\"mae\"]\n",
    "    mean_y = percent_imputation_results[(percent_imputation_results[\"imputer\"] == \"Mean\") & (percent_imputation_results[\"feature\"] == current)][\"mae\"]\n",
    "    median_y = percent_imputation_results[(percent_imputation_results[\"imputer\"] == \"Median\") & (percent_imputation_results[\"feature\"] == current)][\"mae\"]\n",
    "\n",
    "    # Create traces\n",
    "    trace0 = go.Scatter(\n",
    "        x =  x_axis,\n",
    "        y = knn_y,\n",
    "        mode = 'lines+markers',\n",
    "        name = 'KNN Imputer'\n",
    "    )\n",
    "    trace1 = go.Scatter(\n",
    "        x =  x_axis,\n",
    "        y = median_y,\n",
    "        mode = 'lines+markers',\n",
    "        name = 'Median Imputer'\n",
    "    )\n",
    "\n",
    "    trace2 = go.Scatter(\n",
    "        x = x_axis,\n",
    "        y = mean_y,\n",
    "        mode = 'lines+markers',\n",
    "        name = 'Mean Imputer'\n",
    "    )\n",
    "    trace3 = go.Scatter(\n",
    "        x = x_axis,\n",
    "        y = mice_y,\n",
    "        mode = 'lines+markers',\n",
    "        name = 'MICE Imputer'\n",
    "    )\n",
    "    trace4 = go.Scatter(\n",
    "        x = x_axis,\n",
    "        y = soft_y,\n",
    "        mode = 'lines+markers',\n",
    "        name = 'Softmax Imputer'\n",
    "    )\n",
    "    \n",
    "\n",
    "\n",
    "    data = [trace0, trace1, trace2, trace3, trace4]\n",
    "\n",
    "\n",
    "    layout = dict(title = current,\n",
    "                  xaxis = dict(title = 'Percent of data imputed'),\n",
    "                 yaxis = dict(title = 'Mean Absolute Error'),\n",
    "                  )\n",
    "\n",
    "    fig = dict(data=data, layout=layout)\n",
    "\n",
    "    return py.iplot(fig, filename='line-mode')"
   ]
  },
  {
   "cell_type": "code",
   "execution_count": 10,
   "metadata": {
    "collapsed": false
   },
   "outputs": [
    {
     "data": {
      "text/html": [
       "<iframe id=\"igraph\" scrolling=\"no\" style=\"border:none;\" seamless=\"seamless\" src=\"https://plot.ly/~noproblem-james/17.embed\" height=\"525px\" width=\"100%\"></iframe>"
      ],
      "text/plain": [
       "<plotly.tools.PlotlyDisplay object>"
      ]
     },
     "execution_count": 10,
     "metadata": {},
     "output_type": "execute_result"
    }
   ],
   "source": [
    "plot_errors(\"total_lbs_proppant\")"
   ]
  },
  {
   "cell_type": "code",
   "execution_count": null,
   "metadata": {
    "collapsed": true
   },
   "outputs": [],
   "source": [
    "## Some top features:\n",
    "### 'surface_lat', 'bh_lat', 'total_lbs_proppant', 'total_volume_bbls', 'mean_tvd', 'max_tvd'\n",
    "\n",
    "plot_errors(\"surface_lat\")\n",
    "\n",
    "plot_errors(\"total_volume_bbls\")\n",
    "\n",
    "plot_errors(\"mean_tvd\")\n",
    "\n",
    "plot_errors(\"legs\")"
   ]
  },
  {
   "cell_type": "code",
   "execution_count": 29,
   "metadata": {
    "collapsed": true
   },
   "outputs": [],
   "source": [
    "bakken_big_test_90_100_df = pd.read_csv(\"../results/bakken_big_test_90_100_all.csv\")\n",
    "\n",
    "bakken_big_test_90_100_df.drop(\"Unnamed: 0\", axis=1, inplace=True)"
   ]
  },
  {
   "cell_type": "code",
   "execution_count": 30,
   "metadata": {
    "collapsed": false
   },
   "outputs": [
    {
     "data": {
      "text/plain": [
       "mice_imputer    140\n",
       "soft_imputer    140\n",
       "sf_median       140\n",
       "knn_imputer     140\n",
       "sf_mean         140\n",
       "Name: imputer_type, dtype: int64"
      ]
     },
     "execution_count": 30,
     "metadata": {},
     "output_type": "execute_result"
    }
   ],
   "source": [
    "bakken_big_test_90_200_df.imputer_type.value_counts()"
   ]
  },
  {
   "cell_type": "code",
   "execution_count": 31,
   "metadata": {
    "collapsed": false,
    "scrolled": true
   },
   "outputs": [
    {
     "data": {
      "text/html": [
       "<div>\n",
       "<style>\n",
       "    .dataframe thead tr:only-child th {\n",
       "        text-align: right;\n",
       "    }\n",
       "\n",
       "    .dataframe thead th {\n",
       "        text-align: left;\n",
       "    }\n",
       "\n",
       "    .dataframe tbody tr th {\n",
       "        vertical-align: top;\n",
       "    }\n",
       "</style>\n",
       "<table border=\"1\" class=\"dataframe\">\n",
       "  <thead>\n",
       "    <tr style=\"text-align: right;\">\n",
       "      <th></th>\n",
       "      <th>num_rows</th>\n",
       "      <th>imputer_type</th>\n",
       "      <th>mae</th>\n",
       "    </tr>\n",
       "  </thead>\n",
       "  <tbody>\n",
       "    <tr>\n",
       "      <th>0</th>\n",
       "      <td>0</td>\n",
       "      <td>soft_imputer</td>\n",
       "      <td>10129.674282</td>\n",
       "    </tr>\n",
       "    <tr>\n",
       "      <th>1</th>\n",
       "      <td>0</td>\n",
       "      <td>knn_imputer</td>\n",
       "      <td>10250.535838</td>\n",
       "    </tr>\n",
       "    <tr>\n",
       "      <th>2</th>\n",
       "      <td>0</td>\n",
       "      <td>mice_imputer</td>\n",
       "      <td>10116.593341</td>\n",
       "    </tr>\n",
       "    <tr>\n",
       "      <th>3</th>\n",
       "      <td>0</td>\n",
       "      <td>soft_imputer</td>\n",
       "      <td>10147.885859</td>\n",
       "    </tr>\n",
       "    <tr>\n",
       "      <th>4</th>\n",
       "      <td>0</td>\n",
       "      <td>sf_median</td>\n",
       "      <td>10228.034744</td>\n",
       "    </tr>\n",
       "  </tbody>\n",
       "</table>\n",
       "</div>"
      ],
      "text/plain": [
       "   num_rows  imputer_type           mae\n",
       "0         0  soft_imputer  10129.674282\n",
       "1         0   knn_imputer  10250.535838\n",
       "2         0  mice_imputer  10116.593341\n",
       "3         0  soft_imputer  10147.885859\n",
       "4         0     sf_median  10228.034744"
      ]
     },
     "execution_count": 31,
     "metadata": {},
     "output_type": "execute_result"
    }
   ],
   "source": [
    "bakken_big_test_90_100_df.head()"
   ]
  },
  {
   "cell_type": "code",
   "execution_count": 32,
   "metadata": {
    "collapsed": false
   },
   "outputs": [
    {
     "data": {
      "text/plain": [
       "<matplotlib.axes._subplots.AxesSubplot at 0x1144fc1d0>"
      ]
     },
     "execution_count": 32,
     "metadata": {},
     "output_type": "execute_result"
    },
    {
     "data": {
      "image/png": "[encoded data removed]",
      "text/plain": [
       "<matplotlib.figure.Figure at 0x114ec7210>"
      ]
     },
     "metadata": {},
     "output_type": "display_data"
    }
   ],
   "source": [
    "sns.set(style=\"ticks\")\n",
    "\n",
    "results_df = bakken_big_test_90_200_df\n",
    "\n",
    "filtered_df = results_df[((results_df['imputer_type'] == \"sf_median\") | (results_df['imputer_type'] == \"knn_imputer\") | \\\n",
    "                          (results_df['imputer_type'] == \"mice_imputer\") | (results_df['imputer_type'] == \"soft_imputer\"))\n",
    "                            ]\n",
    "\n",
    "fig, ax = plt.subplots()\n",
    "# the size of A4 paper\n",
    "fig.set_size_inches(24, 9)\n",
    "\n",
    "sns.boxplot(x=\"num_rows\", y=\"mae\", hue=\"imputer_type\", data=filtered_df, palette=\"deep\")"
   ]
  },
  {
   "cell_type": "code",
   "execution_count": 38,
   "metadata": {
    "collapsed": true
   },
   "outputs": [],
   "source": [
    "newfield_big_test_90_200_df = pd.read_csv(\"../results/big_test_90_200.csv\")\n",
    "\n",
    "newfield_big_test_90_200_df.drop(\"Unnamed: 0\", axis=1, inplace=True)"
   ]
  },
  {
   "cell_type": "code",
   "execution_count": 39,
   "metadata": {
    "collapsed": false
   },
   "outputs": [
    {
     "data": {
      "text/html": [
       "<div>\n",
       "<style>\n",
       "    .dataframe thead tr:only-child th {\n",
       "        text-align: right;\n",
       "    }\n",
       "\n",
       "    .dataframe thead th {\n",
       "        text-align: left;\n",
       "    }\n",
       "\n",
       "    .dataframe tbody tr th {\n",
       "        vertical-align: top;\n",
       "    }\n",
       "</style>\n",
       "<table border=\"1\" class=\"dataframe\">\n",
       "  <thead>\n",
       "    <tr style=\"text-align: right;\">\n",
       "      <th></th>\n",
       "      <th>num_rows</th>\n",
       "      <th>imputer_type</th>\n",
       "      <th>mae</th>\n",
       "    </tr>\n",
       "  </thead>\n",
       "  <tbody>\n",
       "    <tr>\n",
       "      <th>0</th>\n",
       "      <td>0</td>\n",
       "      <td>soft_imputer</td>\n",
       "      <td>14907.594005</td>\n",
       "    </tr>\n",
       "    <tr>\n",
       "      <th>1</th>\n",
       "      <td>0</td>\n",
       "      <td>mice_imputer</td>\n",
       "      <td>14920.297315</td>\n",
       "    </tr>\n",
       "    <tr>\n",
       "      <th>2</th>\n",
       "      <td>0</td>\n",
       "      <td>knn_imputer</td>\n",
       "      <td>14871.356418</td>\n",
       "    </tr>\n",
       "    <tr>\n",
       "      <th>3</th>\n",
       "      <td>0</td>\n",
       "      <td>sf_mean</td>\n",
       "      <td>14678.609609</td>\n",
       "    </tr>\n",
       "    <tr>\n",
       "      <th>4</th>\n",
       "      <td>0</td>\n",
       "      <td>sf_median</td>\n",
       "      <td>14238.107398</td>\n",
       "    </tr>\n",
       "  </tbody>\n",
       "</table>\n",
       "</div>"
      ],
      "text/plain": [
       "   num_rows  imputer_type           mae\n",
       "0         0  soft_imputer  14907.594005\n",
       "1         0  mice_imputer  14920.297315\n",
       "2         0   knn_imputer  14871.356418\n",
       "3         0       sf_mean  14678.609609\n",
       "4         0     sf_median  14238.107398"
      ]
     },
     "execution_count": 39,
     "metadata": {},
     "output_type": "execute_result"
    }
   ],
   "source": [
    "newfield_big_test_90_200_df.head()"
   ]
  },
  {
   "cell_type": "code",
   "execution_count": 40,
   "metadata": {
    "collapsed": false,
    "scrolled": true
   },
   "outputs": [
    {
     "data": {
      "text/plain": [
       "mice_imputer    210\n",
       "soft_imputer    210\n",
       "sf_median       210\n",
       "knn_imputer     210\n",
       "sf_mean         210\n",
       "Name: imputer_type, dtype: int64"
      ]
     },
     "execution_count": 40,
     "metadata": {},
     "output_type": "execute_result"
    }
   ],
   "source": [
    "newfield_big_test_90_200_df.imputer_type.value_counts()"
   ]
  },
  {
   "cell_type": "code",
   "execution_count": 41,
   "metadata": {
    "collapsed": false,
    "scrolled": true
   },
   "outputs": [
    {
     "data": {
      "text/plain": [
       "<matplotlib.axes._subplots.AxesSubplot at 0x115b3db10>"
      ]
     },
     "execution_count": 41,
     "metadata": {},
     "output_type": "execute_result"
    },
    {
     "data": {
      "image/png": "[encoded data removed]",
      "text/plain": [
       "<matplotlib.figure.Figure at 0x1156ad790>"
      ]
     },
     "metadata": {},
     "output_type": "display_data"
    }
   ],
   "source": [
    "sns.set(style=\"ticks\")\n",
    "\n",
    "results_df = newfield_big_test_90_200_df\n",
    "\n",
    "filtered_df = results_df[((results_df['imputer_type'] == \"sf_median\") | (results_df['imputer_type'] == \"knn_imputer\") | \\\n",
    "                          (results_df['imputer_type'] == \"mice_imputer\") | (results_df['imputer_type'] == \"soft_imputer\"))\n",
    "                            ]\n",
    "\n",
    "fig, ax = plt.subplots()\n",
    "# the size of A4 paper\n",
    "fig.set_size_inches(24, 9)\n",
    "\n",
    "sns.boxplot(x=\"num_rows\", y=\"mae\", hue=\"imputer_type\", data=filtered_df, palette=\"deep\")"
   ]
  },
  {
   "cell_type": "code",
   "execution_count": null,
   "metadata": {
    "collapsed": true
   },
   "outputs": [],
   "source": []
  },
  {
   "cell_type": "code",
   "execution_count": 42,
   "metadata": {
    "collapsed": false
   },
   "outputs": [
    {
     "data": {
      "text/html": [
       "<div>\n",
       "<style>\n",
       "    .dataframe thead tr:only-child th {\n",
       "        text-align: right;\n",
       "    }\n",
       "\n",
       "    .dataframe thead th {\n",
       "        text-align: left;\n",
       "    }\n",
       "\n",
       "    .dataframe tbody tr th {\n",
       "        vertical-align: top;\n",
       "    }\n",
       "</style>\n",
       "<table border=\"1\" class=\"dataframe\">\n",
       "  <thead>\n",
       "    <tr style=\"text-align: right;\">\n",
       "      <th></th>\n",
       "      <th>num_rows</th>\n",
       "      <th>imputer_type</th>\n",
       "      <th>mae</th>\n",
       "    </tr>\n",
       "  </thead>\n",
       "  <tbody>\n",
       "    <tr>\n",
       "      <th>0</th>\n",
       "      <td>0</td>\n",
       "      <td>soft_imputer</td>\n",
       "      <td>24789.013097</td>\n",
       "    </tr>\n",
       "    <tr>\n",
       "      <th>1</th>\n",
       "      <td>0</td>\n",
       "      <td>sf_median</td>\n",
       "      <td>24373.280343</td>\n",
       "    </tr>\n",
       "    <tr>\n",
       "      <th>2</th>\n",
       "      <td>0</td>\n",
       "      <td>soft_imputer</td>\n",
       "      <td>24494.361576</td>\n",
       "    </tr>\n",
       "    <tr>\n",
       "      <th>3</th>\n",
       "      <td>0</td>\n",
       "      <td>mice_imputer</td>\n",
       "      <td>24314.835510</td>\n",
       "    </tr>\n",
       "    <tr>\n",
       "      <th>4</th>\n",
       "      <td>0</td>\n",
       "      <td>knn_imputer</td>\n",
       "      <td>24520.249819</td>\n",
       "    </tr>\n",
       "  </tbody>\n",
       "</table>\n",
       "</div>"
      ],
      "text/plain": [
       "   num_rows  imputer_type           mae\n",
       "0         0  soft_imputer  24789.013097\n",
       "1         0     sf_median  24373.280343\n",
       "2         0  soft_imputer  24494.361576\n",
       "3         0  mice_imputer  24314.835510\n",
       "4         0   knn_imputer  24520.249819"
      ]
     },
     "execution_count": 42,
     "metadata": {},
     "output_type": "execute_result"
    }
   ],
   "source": [
    "newfield_big_test_180_200_df = pd.read_csv(\"../results/big_test_180_200.csv\")\n",
    "\n",
    "newfield_big_test_180_200_df.drop(\"Unnamed: 0\", axis=1, inplace=True)\n",
    "\n",
    "newfield_big_test_180_200_df.head()"
   ]
  },
  {
   "cell_type": "code",
   "execution_count": 44,
   "metadata": {
    "collapsed": false,
    "scrolled": false
   },
   "outputs": [
    {
     "data": {
      "text/plain": [
       "sf_mean         700\n",
       "soft_imputer    700\n",
       "sf_median       700\n",
       "mice_imputer    700\n",
       "knn_imputer     700\n",
       "Name: imputer_type, dtype: int64"
      ]
     },
     "execution_count": 44,
     "metadata": {},
     "output_type": "execute_result"
    }
   ],
   "source": [
    "newfield_big_test_180_200_df.imputer_type.value_counts()"
   ]
  },
  {
   "cell_type": "code",
   "execution_count": 46,
   "metadata": {
    "collapsed": false,
    "scrolled": true
   },
   "outputs": [
    {
     "data": {
      "text/plain": [
       "<matplotlib.axes._subplots.AxesSubplot at 0x116c11c10>"
      ]
     },
     "execution_count": 46,
     "metadata": {},
     "output_type": "execute_result"
    },
    {
     "data": {
      "image/png": "[encoded data removed]",
      "text/plain": [
       "<matplotlib.figure.Figure at 0x116b833d0>"
      ]
     },
     "metadata": {},
     "output_type": "display_data"
    }
   ],
   "source": [
    "sns.set(style=\"ticks\")\n",
    "\n",
    "results_df = newfield_big_test_180_200_df\n",
    "\n",
    "filtered_df = results_df[((results_df['imputer_type'] == \"sf_median\") | (results_df['imputer_type'] == \"knn_imputer\") | \\\n",
    "                          (results_df['imputer_type'] == \"mice_imputer\") | (results_df['imputer_type'] == \"soft_imputer\"))\n",
    "                            ]\n",
    "\n",
    "fig, ax = plt.subplots()\n",
    "# the size of A4 paper\n",
    "fig.set_size_inches(24, 9)\n",
    "\n",
    "sns.boxplot(x=\"num_rows\", y=\"mae\", hue=\"imputer_type\", data=filtered_df, palette=\"deep\")"
   ]
  },
  {
   "cell_type": "code",
   "execution_count": 47,
   "metadata": {
    "collapsed": false
   },
   "outputs": [
    {
     "data": {
      "text/html": [
       "<div>\n",
       "<style>\n",
       "    .dataframe thead tr:only-child th {\n",
       "        text-align: right;\n",
       "    }\n",
       "\n",
       "    .dataframe thead th {\n",
       "        text-align: left;\n",
       "    }\n",
       "\n",
       "    .dataframe tbody tr th {\n",
       "        vertical-align: top;\n",
       "    }\n",
       "</style>\n",
       "<table border=\"1\" class=\"dataframe\">\n",
       "  <thead>\n",
       "    <tr style=\"text-align: right;\">\n",
       "      <th></th>\n",
       "      <th>num_rows</th>\n",
       "      <th>imputer_type</th>\n",
       "      <th>mae</th>\n",
       "    </tr>\n",
       "  </thead>\n",
       "  <tbody>\n",
       "    <tr>\n",
       "      <th>0</th>\n",
       "      <td>0</td>\n",
       "      <td>soft_imputer</td>\n",
       "      <td>33758.220415</td>\n",
       "    </tr>\n",
       "    <tr>\n",
       "      <th>1</th>\n",
       "      <td>0</td>\n",
       "      <td>sf_median</td>\n",
       "      <td>33369.227003</td>\n",
       "    </tr>\n",
       "    <tr>\n",
       "      <th>2</th>\n",
       "      <td>0</td>\n",
       "      <td>soft_imputer</td>\n",
       "      <td>34562.360847</td>\n",
       "    </tr>\n",
       "    <tr>\n",
       "      <th>3</th>\n",
       "      <td>0</td>\n",
       "      <td>mice_imputer</td>\n",
       "      <td>33729.901325</td>\n",
       "    </tr>\n",
       "    <tr>\n",
       "      <th>4</th>\n",
       "      <td>0</td>\n",
       "      <td>knn_imputer</td>\n",
       "      <td>34449.989303</td>\n",
       "    </tr>\n",
       "  </tbody>\n",
       "</table>\n",
       "</div>"
      ],
      "text/plain": [
       "   num_rows  imputer_type           mae\n",
       "0         0  soft_imputer  33758.220415\n",
       "1         0     sf_median  33369.227003\n",
       "2         0  soft_imputer  34562.360847\n",
       "3         0  mice_imputer  33729.901325\n",
       "4         0   knn_imputer  34449.989303"
      ]
     },
     "execution_count": 47,
     "metadata": {},
     "output_type": "execute_result"
    }
   ],
   "source": [
    "newfield_big_test_365_200_df = pd.read_csv(\"../results/big_test_365_200.csv\")\n",
    "\n",
    "newfield_big_test_365_200_df.drop(\"Unnamed: 0\", axis=1, inplace=True)\n",
    "\n",
    "newfield_big_test_365_200_df.head()"
   ]
  },
  {
   "cell_type": "code",
   "execution_count": 49,
   "metadata": {
    "collapsed": false,
    "scrolled": false
   },
   "outputs": [
    {
     "data": {
      "text/plain": [
       "sf_mean         700\n",
       "soft_imputer    700\n",
       "sf_median       700\n",
       "mice_imputer    700\n",
       "knn_imputer     700\n",
       "Name: imputer_type, dtype: int64"
      ]
     },
     "execution_count": 49,
     "metadata": {},
     "output_type": "execute_result"
    }
   ],
   "source": [
    "newfield_big_test_365_200_df.imputer_type.value_counts()"
   ]
  },
  {
   "cell_type": "code",
   "execution_count": 51,
   "metadata": {
    "collapsed": false,
    "scrolled": true
   },
   "outputs": [
    {
     "data": {
      "text/plain": [
       "<matplotlib.axes._subplots.AxesSubplot at 0x1177d7110>"
      ]
     },
     "execution_count": 51,
     "metadata": {},
     "output_type": "execute_result"
    },
    {
     "data": {
      "image/png": "[encoded data removed]",
      "text/plain": [
       "<matplotlib.figure.Figure at 0x116f7f2d0>"
      ]
     },
     "metadata": {},
     "output_type": "display_data"
    }
   ],
   "source": [
    "sns.set(style=\"ticks\")\n",
    "\n",
    "results_df = newfield_big_test_365_200_df\n",
    "\n",
    "filtered_df = results_df[((results_df['imputer_type'] == \"sf_median\") | (results_df['imputer_type'] == \"knn_imputer\") | \\\n",
    "                          (results_df['imputer_type'] == \"mice_imputer\") | (results_df['imputer_type'] == \"soft_imputer\"))\n",
    "                            ]\n",
    "\n",
    "fig, ax = plt.subplots()\n",
    "# the size of A4 paper\n",
    "fig.set_size_inches(24, 9)\n",
    "\n",
    "sns.boxplot(x=\"num_rows\", y=\"mae\", hue=\"imputer_type\", data=filtered_df, palette=\"deep\")"
   ]
  },
  {
   "cell_type": "code",
   "execution_count": null,
   "metadata": {
    "collapsed": true
   },
   "outputs": [],
   "source": []
  }
 ],
 "metadata": {
  "kernelspec": {
   "display_name": "Python 2",
   "language": "python",
   "name": "python2"
  },
  "language_info": {
   "codemirror_mode": {
    "name": "ipython",
    "version": 2
   },
   "file_extension": ".py",
   "mimetype": "text/x-python",
   "name": "python",
   "nbconvert_exporter": "python",
   "pygments_lexer": "ipython2",
   "version": "2.7.13"
  }
 },
 "nbformat": 4,
 "nbformat_minor": 2
}
