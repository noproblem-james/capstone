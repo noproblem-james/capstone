{
 "cells": [
  {
   "cell_type": "code",
   "execution_count": 1,
   "metadata": {},
   "outputs": [],
   "source": [
    "import pandas as pd\n",
    "import numpy as np\n",
    "# import matplotlib.pyplot as plt\n",
    "# %matplotlib inline\n",
    "import sys\n",
    "sys.path.insert(1, '../scripts/')\n",
    "import data_munging_tools as dmt\n",
    "import utils"
   ]
  },
  {
   "cell_type": "code",
   "execution_count": null,
   "metadata": {},
   "outputs": [],
   "source": []
  },
  {
   "cell_type": "code",
   "execution_count": 174,
   "metadata": {},
   "outputs": [],
   "source": [
    "# Load the dataframes\n",
    "test_df = pd.read_csv('../data/cleaned-input.test.tsv', sep='\\t', low_memory=False)\n",
    "train_df = pd.read_csv('../data/cleaned-input.training.tsv', sep='\\t', low_memory=False)\n",
    "\n",
    "blacklist_patterns = ['^recent_ipt_', '^production_']\n",
    "\n",
    "test_df.shape\n",
    "\n",
    "whitelist = ['production_liquid_180']"
   ]
  },
  {
   "cell_type": "code",
   "execution_count": 175,
   "metadata": {
    "scrolled": false
   },
   "outputs": [
    {
     "data": {
      "text/plain": [
       "bakken                3987\n",
       "three forks           1617\n",
       "spearfish               85\n",
       "pronghorn                7\n",
       "madison                  4\n",
       "tyler                    3\n",
       "bakken,three forks       2\n",
       "red river                2\n",
       "bakken/three forks       1\n",
       "nesson                   1\n",
       "lodgepole                1\n",
       "bakken,pronghorn         1\n",
       "bluell                   1\n",
       "scallion                 1\n",
       "Name: stimulated_formation, dtype: int64"
      ]
     },
     "execution_count": 175,
     "metadata": {},
     "output_type": "execute_result"
    }
   ],
   "source": [
    "train_df.stimulated_formation.value_counts()"
   ]
  },
  {
   "cell_type": "code",
   "execution_count": 176,
   "metadata": {},
   "outputs": [],
   "source": [
    "from math import radians, cos, sin, asin, sqrt\n",
    "\n",
    "def haversine(lat1, lon1, lat2, lon2):\n",
    "\n",
    "      R = 3959.87433 # this is in miles.  For Earth radius in kilometers use 6372.8 km\n",
    "\n",
    "      dLat = radians(lat2 - lat1)\n",
    "      dLon = radians(lon2 - lon1)\n",
    "      lat1 = radians(lat1)\n",
    "      lat2 = radians(lat2)\n",
    "\n",
    "      a = sin(dLat/2)**2 + cos(lat1)*cos(lat2)*sin(dLon/2)**2\n",
    "      c = 2*asin(sqrt(a))\n",
    "\n",
    "      return R * c"
   ]
  },
  {
   "cell_type": "code",
   "execution_count": 194,
   "metadata": {},
   "outputs": [],
   "source": [
    "def munge_pipe(df, blacklist_patterns=[], exceptions={}, null_cutoff=.05):\n",
    "    '''\n",
    "    parameters: dataframe, blacklist patterns (as list), exceptions to blacklist patterns\n",
    "        (as set)\n",
    "    returns: copy of munged dataframe\n",
    "    '''\n",
    "    print(f\"df shape before removals {df.shape}\")\n",
    "    \n",
    "    df = (df.copy()\n",
    "            .rename(columns=str.lower)\n",
    "            .set_index(\"api\")\n",
    "            .pipe(dmt.drop_blacklist, blacklist_patterns=blacklist_patterns, exceptions=whitelist)\n",
    "            .pipe(dmt.drop_high_cardinality, exceptions=exceptions)\n",
    "            .pipe(dmt.drop_high_nulls, exceptions=exceptions, cutoff=null_cutoff)\n",
    "            .select_dtypes(\"number\")\n",
    "            .assign(length=lambda x: distance(x[\"surface_lat\"], x[\"surface_lng\"], x[\"bh_lat\"], x[\"bh_lng\"]))\n",
    "#             .query(\"length > \")\n",
    "            )\n",
    "    \n",
    "    print (f\"df shape after removals {df.shape}\")\n",
    "    return df"
   ]
  },
  {
   "cell_type": "code",
   "execution_count": 190,
   "metadata": {
    "scrolled": true
   },
   "outputs": [
    {
     "name": "stdout",
     "output_type": "stream",
     "text": [
      "df shape before removals (6529, 53)\n",
      "Number of columns dropped for blacklist_pattern: 0\n",
      "Shape before cardinality removal: (6529, 43)\n",
      "Shape after cardinality removal: (6529, 35)\n",
      "Shape before high null removal: (6529, 35)\n",
      "Shape before high null removal: (6529, 34)\n",
      "df shape after removals (6529, 21)\n"
     ]
    }
   ],
   "source": [
    "munged_df = munge_pipe(train_df, blacklist_patterns=blacklist_patterns, null_cutoff=0.5)"
   ]
  },
  {
   "cell_type": "code",
   "execution_count": 191,
   "metadata": {},
   "outputs": [
    {
     "data": {
      "text/html": [
       "<div>\n",
       "<style scoped>\n",
       "    .dataframe tbody tr th:only-of-type {\n",
       "        vertical-align: middle;\n",
       "    }\n",
       "\n",
       "    .dataframe tbody tr th {\n",
       "        vertical-align: top;\n",
       "    }\n",
       "\n",
       "    .dataframe thead th {\n",
       "        text-align: right;\n",
       "    }\n",
       "</style>\n",
       "<table border=\"1\" class=\"dataframe\">\n",
       "  <thead>\n",
       "    <tr style=\"text-align: right;\">\n",
       "      <th></th>\n",
       "      <th>grelev</th>\n",
       "      <th>kbelev</th>\n",
       "      <th>section</th>\n",
       "      <th>td</th>\n",
       "      <th>bakken_isopach_ft</th>\n",
       "      <th>bh_lat</th>\n",
       "      <th>bh_lng</th>\n",
       "      <th>legs</th>\n",
       "      <th>max_tvd</th>\n",
       "      <th>mean_tvd</th>\n",
       "      <th>...</th>\n",
       "      <th>num_pools_produced</th>\n",
       "      <th>production_liquid_180</th>\n",
       "      <th>std_tvd</th>\n",
       "      <th>surface_lat</th>\n",
       "      <th>surface_lng</th>\n",
       "      <th>total_lbs_proppant</th>\n",
       "      <th>total_num_stages</th>\n",
       "      <th>total_volume_bbls</th>\n",
       "      <th>tvd</th>\n",
       "      <th>length</th>\n",
       "    </tr>\n",
       "    <tr>\n",
       "      <th>fileno</th>\n",
       "      <th></th>\n",
       "      <th></th>\n",
       "      <th></th>\n",
       "      <th></th>\n",
       "      <th></th>\n",
       "      <th></th>\n",
       "      <th></th>\n",
       "      <th></th>\n",
       "      <th></th>\n",
       "      <th></th>\n",
       "      <th></th>\n",
       "      <th></th>\n",
       "      <th></th>\n",
       "      <th></th>\n",
       "      <th></th>\n",
       "      <th></th>\n",
       "      <th></th>\n",
       "      <th></th>\n",
       "      <th></th>\n",
       "      <th></th>\n",
       "      <th></th>\n",
       "    </tr>\n",
       "  </thead>\n",
       "  <tbody>\n",
       "    <tr>\n",
       "      <th>27863</th>\n",
       "      <td>NaN</td>\n",
       "      <td>NaN</td>\n",
       "      <td>23</td>\n",
       "      <td>20300.0</td>\n",
       "      <td>90.0</td>\n",
       "      <td>48.168154</td>\n",
       "      <td>-103.245166</td>\n",
       "      <td>2.0</td>\n",
       "      <td>10916.93</td>\n",
       "      <td>10868.577339</td>\n",
       "      <td>...</td>\n",
       "      <td>1</td>\n",
       "      <td>48302.0</td>\n",
       "      <td>98.015839</td>\n",
       "      <td>48.142413</td>\n",
       "      <td>-103.240896</td>\n",
       "      <td>3991618.0</td>\n",
       "      <td>20</td>\n",
       "      <td>90232.0</td>\n",
       "      <td>10896.84</td>\n",
       "      <td>15209.710646</td>\n",
       "    </tr>\n",
       "    <tr>\n",
       "      <th>20136</th>\n",
       "      <td>2216.0</td>\n",
       "      <td>2238.0</td>\n",
       "      <td>1</td>\n",
       "      <td>20552.0</td>\n",
       "      <td>50.0</td>\n",
       "      <td>47.906679</td>\n",
       "      <td>-103.802227</td>\n",
       "      <td>2.0</td>\n",
       "      <td>10784.08</td>\n",
       "      <td>10724.267533</td>\n",
       "      <td>...</td>\n",
       "      <td>1</td>\n",
       "      <td>58729.0</td>\n",
       "      <td>131.742252</td>\n",
       "      <td>47.934285</td>\n",
       "      <td>-103.802089</td>\n",
       "      <td>3668254.0</td>\n",
       "      <td>38</td>\n",
       "      <td>69347.0</td>\n",
       "      <td>10774.50</td>\n",
       "      <td>16213.011546</td>\n",
       "    </tr>\n",
       "    <tr>\n",
       "      <th>25780</th>\n",
       "      <td>2219.0</td>\n",
       "      <td>2247.0</td>\n",
       "      <td>30</td>\n",
       "      <td>16980.0</td>\n",
       "      <td>110.0</td>\n",
       "      <td>48.205268</td>\n",
       "      <td>-102.422482</td>\n",
       "      <td>2.0</td>\n",
       "      <td>9915.74</td>\n",
       "      <td>9830.268200</td>\n",
       "      <td>...</td>\n",
       "      <td>1</td>\n",
       "      <td>17221.0</td>\n",
       "      <td>144.805008</td>\n",
       "      <td>48.224994</td>\n",
       "      <td>-102.431774</td>\n",
       "      <td>3046163.0</td>\n",
       "      <td>46</td>\n",
       "      <td>46463.0</td>\n",
       "      <td>9906.50</td>\n",
       "      <td>12142.523957</td>\n",
       "    </tr>\n",
       "    <tr>\n",
       "      <th>24575</th>\n",
       "      <td>2573.0</td>\n",
       "      <td>2600.0</td>\n",
       "      <td>30</td>\n",
       "      <td>20135.0</td>\n",
       "      <td>40.0</td>\n",
       "      <td>46.891498</td>\n",
       "      <td>-102.967185</td>\n",
       "      <td>2.0</td>\n",
       "      <td>10305.91</td>\n",
       "      <td>10242.205128</td>\n",
       "      <td>...</td>\n",
       "      <td>1</td>\n",
       "      <td>44904.0</td>\n",
       "      <td>104.832581</td>\n",
       "      <td>46.918980</td>\n",
       "      <td>-102.969390</td>\n",
       "      <td>4811400.0</td>\n",
       "      <td>30</td>\n",
       "      <td>55196.0</td>\n",
       "      <td>10260.21</td>\n",
       "      <td>16164.423799</td>\n",
       "    </tr>\n",
       "    <tr>\n",
       "      <th>22752</th>\n",
       "      <td>2287.0</td>\n",
       "      <td>2317.0</td>\n",
       "      <td>34</td>\n",
       "      <td>19400.0</td>\n",
       "      <td>90.0</td>\n",
       "      <td>48.225065</td>\n",
       "      <td>-102.380393</td>\n",
       "      <td>2.0</td>\n",
       "      <td>9743.69</td>\n",
       "      <td>9706.356736</td>\n",
       "      <td>...</td>\n",
       "      <td>1</td>\n",
       "      <td>104497.0</td>\n",
       "      <td>87.433502</td>\n",
       "      <td>48.199037</td>\n",
       "      <td>-102.369400</td>\n",
       "      <td>NaN</td>\n",
       "      <td>30</td>\n",
       "      <td>NaN</td>\n",
       "      <td>9726.07</td>\n",
       "      <td>15880.180407</td>\n",
       "    </tr>\n",
       "  </tbody>\n",
       "</table>\n",
       "<p>5 rows × 21 columns</p>\n",
       "</div>"
      ],
      "text/plain": [
       "        grelev  kbelev  section       td  bakken_isopach_ft     bh_lat  \\\n",
       "fileno                                                                   \n",
       "27863      NaN     NaN       23  20300.0               90.0  48.168154   \n",
       "20136   2216.0  2238.0        1  20552.0               50.0  47.906679   \n",
       "25780   2219.0  2247.0       30  16980.0              110.0  48.205268   \n",
       "24575   2573.0  2600.0       30  20135.0               40.0  46.891498   \n",
       "22752   2287.0  2317.0       34  19400.0               90.0  48.225065   \n",
       "\n",
       "            bh_lng  legs   max_tvd      mean_tvd  ...  num_pools_produced  \\\n",
       "fileno                                            ...                       \n",
       "27863  -103.245166   2.0  10916.93  10868.577339  ...                   1   \n",
       "20136  -103.802227   2.0  10784.08  10724.267533  ...                   1   \n",
       "25780  -102.422482   2.0   9915.74   9830.268200  ...                   1   \n",
       "24575  -102.967185   2.0  10305.91  10242.205128  ...                   1   \n",
       "22752  -102.380393   2.0   9743.69   9706.356736  ...                   1   \n",
       "\n",
       "        production_liquid_180     std_tvd  surface_lat  surface_lng  \\\n",
       "fileno                                                                \n",
       "27863                 48302.0   98.015839    48.142413  -103.240896   \n",
       "20136                 58729.0  131.742252    47.934285  -103.802089   \n",
       "25780                 17221.0  144.805008    48.224994  -102.431774   \n",
       "24575                 44904.0  104.832581    46.918980  -102.969390   \n",
       "22752                104497.0   87.433502    48.199037  -102.369400   \n",
       "\n",
       "        total_lbs_proppant  total_num_stages  total_volume_bbls       tvd  \\\n",
       "fileno                                                                      \n",
       "27863            3991618.0                20            90232.0  10896.84   \n",
       "20136            3668254.0                38            69347.0  10774.50   \n",
       "25780            3046163.0                46            46463.0   9906.50   \n",
       "24575            4811400.0                30            55196.0  10260.21   \n",
       "22752                  NaN                30                NaN   9726.07   \n",
       "\n",
       "              length  \n",
       "fileno                \n",
       "27863   15209.710646  \n",
       "20136   16213.011546  \n",
       "25780   12142.523957  \n",
       "24575   16164.423799  \n",
       "22752   15880.180407  \n",
       "\n",
       "[5 rows x 21 columns]"
      ]
     },
     "execution_count": 191,
     "metadata": {},
     "output_type": "execute_result"
    }
   ],
   "source": [
    "munged_df.head()"
   ]
  },
  {
   "cell_type": "code",
   "execution_count": 193,
   "metadata": {},
   "outputs": [
    {
     "data": {
      "text/plain": [
       "fileno\n",
       "27863    23\n",
       "20136     1\n",
       "25780    30\n",
       "24575    30\n",
       "22752    34\n",
       "         ..\n",
       "19319    25\n",
       "27541    27\n",
       "24573    25\n",
       "23049    26\n",
       "21534     3\n",
       "Name: section, Length: 6529, dtype: int64"
      ]
     },
     "execution_count": 193,
     "metadata": {},
     "output_type": "execute_result"
    }
   ],
   "source": [
    "munged_df.section"
   ]
  },
  {
   "cell_type": "code",
   "execution_count": 165,
   "metadata": {},
   "outputs": [
    {
     "data": {
      "text/plain": [
       "2.0    5148\n",
       "3.0     819\n",
       "4.0     170\n",
       "5.0      35\n",
       "1.0      11\n",
       "6.0       9\n",
       "7.0       3\n",
       "9.0       1\n",
       "Name: legs, dtype: int64"
      ]
     },
     "execution_count": 165,
     "metadata": {},
     "output_type": "execute_result"
    }
   ],
   "source": [
    "munged_df.legs.value_counts()"
   ]
  },
  {
   "cell_type": "code",
   "execution_count": 167,
   "metadata": {},
   "outputs": [
    {
     "data": {
      "text/plain": [
       "<matplotlib.axes._subplots.AxesSubplot at 0x113f96e48>"
      ]
     },
     "execution_count": 167,
     "metadata": {},
     "output_type": "execute_result"
    },
    {
     "data": {
      "image/png": "[encoded data removed]",
      "text/plain": [
       "<Figure size 432x288 with 1 Axes>"
      ]
     },
     "metadata": {
      "needs_background": "light"
     },
     "output_type": "display_data"
    }
   ],
   "source": [
    "sns.scatterplot(data=munged_df, x=\"legs\", y=\"production_liquid_180\")"
   ]
  },
  {
   "cell_type": "code",
   "execution_count": 172,
   "metadata": {},
   "outputs": [
    {
     "data": {
      "text/plain": [
       "6529"
      ]
     },
     "execution_count": 172,
     "metadata": {},
     "output_type": "execute_result"
    }
   ],
   "source": [
    "munged_df.shape[0]"
   ]
  },
  {
   "cell_type": "code",
   "execution_count": 173,
   "metadata": {},
   "outputs": [
    {
     "data": {
      "text/plain": [
       "6529"
      ]
     },
     "execution_count": 173,
     "metadata": {},
     "output_type": "execute_result"
    }
   ],
   "source": [
    "train_df.FileNo.nunique()"
   ]
  },
  {
   "cell_type": "code",
   "execution_count": null,
   "metadata": {},
   "outputs": [],
   "source": []
  },
  {
   "cell_type": "code",
   "execution_count": 135,
   "metadata": {},
   "outputs": [
    {
     "data": {
      "text/html": [
       "<div>\n",
       "<style scoped>\n",
       "    .dataframe tbody tr th:only-of-type {\n",
       "        vertical-align: middle;\n",
       "    }\n",
       "\n",
       "    .dataframe tbody tr th {\n",
       "        vertical-align: top;\n",
       "    }\n",
       "\n",
       "    .dataframe thead th {\n",
       "        text-align: right;\n",
       "    }\n",
       "</style>\n",
       "<table border=\"1\" class=\"dataframe\">\n",
       "  <thead>\n",
       "    <tr style=\"text-align: right;\">\n",
       "      <th></th>\n",
       "      <th>FileNo</th>\n",
       "      <th>GRElev</th>\n",
       "      <th>KBElev</th>\n",
       "      <th>Section</th>\n",
       "      <th>TD</th>\n",
       "      <th>bakken_isopach_ft</th>\n",
       "      <th>bh_lat</th>\n",
       "      <th>bh_lng</th>\n",
       "      <th>legs</th>\n",
       "      <th>max_tvd</th>\n",
       "      <th>...</th>\n",
       "      <th>min_tvd</th>\n",
       "      <th>num_pools_produced</th>\n",
       "      <th>std_tvd</th>\n",
       "      <th>surface_lat</th>\n",
       "      <th>surface_lng</th>\n",
       "      <th>total_lbs_proppant</th>\n",
       "      <th>total_num_stages</th>\n",
       "      <th>total_volume_bbls</th>\n",
       "      <th>tvd</th>\n",
       "      <th>length</th>\n",
       "    </tr>\n",
       "  </thead>\n",
       "  <tbody>\n",
       "    <tr>\n",
       "      <th>0</th>\n",
       "      <td>27863</td>\n",
       "      <td>NaN</td>\n",
       "      <td>NaN</td>\n",
       "      <td>23</td>\n",
       "      <td>20300.0</td>\n",
       "      <td>90.0</td>\n",
       "      <td>48.168154</td>\n",
       "      <td>-103.245166</td>\n",
       "      <td>2.0</td>\n",
       "      <td>10916.93</td>\n",
       "      <td>...</td>\n",
       "      <td>10395.89</td>\n",
       "      <td>1</td>\n",
       "      <td>98.015839</td>\n",
       "      <td>48.142413</td>\n",
       "      <td>-103.240896</td>\n",
       "      <td>3991618.0</td>\n",
       "      <td>20</td>\n",
       "      <td>90232.0</td>\n",
       "      <td>10896.84</td>\n",
       "      <td>15209.710646</td>\n",
       "    </tr>\n",
       "    <tr>\n",
       "      <th>1</th>\n",
       "      <td>20136</td>\n",
       "      <td>2216.0</td>\n",
       "      <td>2238.0</td>\n",
       "      <td>1</td>\n",
       "      <td>20552.0</td>\n",
       "      <td>50.0</td>\n",
       "      <td>47.906679</td>\n",
       "      <td>-103.802227</td>\n",
       "      <td>2.0</td>\n",
       "      <td>10784.08</td>\n",
       "      <td>...</td>\n",
       "      <td>10142.28</td>\n",
       "      <td>1</td>\n",
       "      <td>131.742252</td>\n",
       "      <td>47.934285</td>\n",
       "      <td>-103.802089</td>\n",
       "      <td>3668254.0</td>\n",
       "      <td>38</td>\n",
       "      <td>69347.0</td>\n",
       "      <td>10774.50</td>\n",
       "      <td>16213.011546</td>\n",
       "    </tr>\n",
       "    <tr>\n",
       "      <th>2</th>\n",
       "      <td>25780</td>\n",
       "      <td>2219.0</td>\n",
       "      <td>2247.0</td>\n",
       "      <td>30</td>\n",
       "      <td>16980.0</td>\n",
       "      <td>110.0</td>\n",
       "      <td>48.205268</td>\n",
       "      <td>-102.422482</td>\n",
       "      <td>2.0</td>\n",
       "      <td>9915.74</td>\n",
       "      <td>...</td>\n",
       "      <td>9198.87</td>\n",
       "      <td>1</td>\n",
       "      <td>144.805008</td>\n",
       "      <td>48.224994</td>\n",
       "      <td>-102.431774</td>\n",
       "      <td>3046163.0</td>\n",
       "      <td>46</td>\n",
       "      <td>46463.0</td>\n",
       "      <td>9906.50</td>\n",
       "      <td>12142.523957</td>\n",
       "    </tr>\n",
       "    <tr>\n",
       "      <th>3</th>\n",
       "      <td>24575</td>\n",
       "      <td>2573.0</td>\n",
       "      <td>2600.0</td>\n",
       "      <td>30</td>\n",
       "      <td>20135.0</td>\n",
       "      <td>40.0</td>\n",
       "      <td>46.891498</td>\n",
       "      <td>-102.967185</td>\n",
       "      <td>2.0</td>\n",
       "      <td>10305.91</td>\n",
       "      <td>...</td>\n",
       "      <td>9741.01</td>\n",
       "      <td>1</td>\n",
       "      <td>104.832581</td>\n",
       "      <td>46.918980</td>\n",
       "      <td>-102.969390</td>\n",
       "      <td>4811400.0</td>\n",
       "      <td>30</td>\n",
       "      <td>55196.0</td>\n",
       "      <td>10260.21</td>\n",
       "      <td>16164.423799</td>\n",
       "    </tr>\n",
       "    <tr>\n",
       "      <th>4</th>\n",
       "      <td>22752</td>\n",
       "      <td>2287.0</td>\n",
       "      <td>2317.0</td>\n",
       "      <td>34</td>\n",
       "      <td>19400.0</td>\n",
       "      <td>90.0</td>\n",
       "      <td>48.225065</td>\n",
       "      <td>-102.380393</td>\n",
       "      <td>2.0</td>\n",
       "      <td>9743.69</td>\n",
       "      <td>...</td>\n",
       "      <td>9269.02</td>\n",
       "      <td>1</td>\n",
       "      <td>87.433502</td>\n",
       "      <td>48.199037</td>\n",
       "      <td>-102.369400</td>\n",
       "      <td>NaN</td>\n",
       "      <td>30</td>\n",
       "      <td>NaN</td>\n",
       "      <td>9726.07</td>\n",
       "      <td>15880.180407</td>\n",
       "    </tr>\n",
       "  </tbody>\n",
       "</table>\n",
       "<p>5 rows × 21 columns</p>\n",
       "</div>"
      ],
      "text/plain": [
       "   FileNo  GRElev  KBElev  Section       TD  bakken_isopach_ft     bh_lat  \\\n",
       "0   27863     NaN     NaN       23  20300.0               90.0  48.168154   \n",
       "1   20136  2216.0  2238.0        1  20552.0               50.0  47.906679   \n",
       "2   25780  2219.0  2247.0       30  16980.0              110.0  48.205268   \n",
       "3   24575  2573.0  2600.0       30  20135.0               40.0  46.891498   \n",
       "4   22752  2287.0  2317.0       34  19400.0               90.0  48.225065   \n",
       "\n",
       "       bh_lng  legs   max_tvd  ...   min_tvd  num_pools_produced     std_tvd  \\\n",
       "0 -103.245166   2.0  10916.93  ...  10395.89                   1   98.015839   \n",
       "1 -103.802227   2.0  10784.08  ...  10142.28                   1  131.742252   \n",
       "2 -102.422482   2.0   9915.74  ...   9198.87                   1  144.805008   \n",
       "3 -102.967185   2.0  10305.91  ...   9741.01                   1  104.832581   \n",
       "4 -102.380393   2.0   9743.69  ...   9269.02                   1   87.433502   \n",
       "\n",
       "   surface_lat  surface_lng  total_lbs_proppant  total_num_stages  \\\n",
       "0    48.142413  -103.240896           3991618.0                20   \n",
       "1    47.934285  -103.802089           3668254.0                38   \n",
       "2    48.224994  -102.431774           3046163.0                46   \n",
       "3    46.918980  -102.969390           4811400.0                30   \n",
       "4    48.199037  -102.369400                 NaN                30   \n",
       "\n",
       "   total_volume_bbls       tvd        length  \n",
       "0            90232.0  10896.84  15209.710646  \n",
       "1            69347.0  10774.50  16213.011546  \n",
       "2            46463.0   9906.50  12142.523957  \n",
       "3            55196.0  10260.21  16164.423799  \n",
       "4                NaN   9726.07  15880.180407  \n",
       "\n",
       "[5 rows x 21 columns]"
      ]
     },
     "execution_count": 135,
     "metadata": {},
     "output_type": "execute_result"
    }
   ],
   "source": [
    "munged_df.head()"
   ]
  },
  {
   "cell_type": "code",
   "execution_count": 118,
   "metadata": {},
   "outputs": [
    {
     "data": {
      "text/plain": [
       "Index(['FileNo', 'GRElev', 'KBElev', 'Section', 'TD', 'bakken_isopach_ft',\n",
       "       'bh_lat', 'bh_lng', 'legs', 'max_tvd', 'mean_tvd', 'min_tvd',\n",
       "       'num_pools_produced', 'std_tvd', 'surface_lat', 'surface_lng',\n",
       "       'total_lbs_proppant', 'total_num_stages', 'total_volume_bbls', 'tvd',\n",
       "       'length'],\n",
       "      dtype='object')"
      ]
     },
     "execution_count": 118,
     "metadata": {},
     "output_type": "execute_result"
    }
   ],
   "source": [
    "munged_df.columns"
   ]
  },
  {
   "cell_type": "code",
   "execution_count": 125,
   "metadata": {
    "scrolled": true
   },
   "outputs": [
    {
     "data": {
      "text/plain": [
       "<matplotlib.axes._subplots.AxesSubplot at 0x11473ea90>"
      ]
     },
     "execution_count": 125,
     "metadata": {},
     "output_type": "execute_result"
    },
    {
     "data": {
      "image/png": "[encoded data removed]",
      "text/plain": [
       "<Figure size 432x288 with 1 Axes>"
      ]
     },
     "metadata": {
      "needs_background": "light"
     },
     "output_type": "display_data"
    }
   ],
   "source": [
    "sns.scatterplot(data=munged_df, x=\"surface_lng\", y=\"surface_lat\", hue=\"bakken_isopach_ft\")"
   ]
  },
  {
   "cell_type": "code",
   "execution_count": 128,
   "metadata": {
    "scrolled": false
   },
   "outputs": [
    {
     "data": {
      "text/plain": [
       "<matplotlib.axes._subplots.AxesSubplot at 0x115120cc0>"
      ]
     },
     "execution_count": 128,
     "metadata": {},
     "output_type": "execute_result"
    },
    {
     "data": {
      "image/png": "[encoded data removed]",
      "text/plain": [
       "<Figure size 432x288 with 1 Axes>"
      ]
     },
     "metadata": {
      "needs_background": "light"
     },
     "output_type": "display_data"
    }
   ],
   "source": [
    "sns.scatterplot(data=train_df, y=\"production_liquid_180\", x=\"bakken_isopach_ft\")"
   ]
  },
  {
   "cell_type": "code",
   "execution_count": 124,
   "metadata": {
    "scrolled": true
   },
   "outputs": [
    {
     "data": {
      "text/plain": [
       "<matplotlib.axes._subplots.AxesSubplot at 0x114c8bdd8>"
      ]
     },
     "execution_count": 124,
     "metadata": {},
     "output_type": "execute_result"
    },
    {
     "data": {
      "image/png": "[encoded data removed]",
      "text/plain": [
       "<Figure size 432x288 with 1 Axes>"
      ]
     },
     "metadata": {
      "needs_background": "light"
     },
     "output_type": "display_data"
    }
   ],
   "source": [
    "sns.stripplot(data=munged_df, x=\"bakken_isopach_ft\")"
   ]
  },
  {
   "cell_type": "code",
   "execution_count": 121,
   "metadata": {
    "scrolled": true
   },
   "outputs": [
    {
     "data": {
      "text/plain": [
       "<matplotlib.axes._subplots.AxesSubplot at 0x1148c4320>"
      ]
     },
     "execution_count": 121,
     "metadata": {},
     "output_type": "execute_result"
    },
    {
     "data": {
      "image/png": "[encoded data removed]",
      "text/plain": [
       "<Figure size 432x288 with 1 Axes>"
      ]
     },
     "metadata": {
      "needs_background": "light"
     },
     "output_type": "display_data"
    }
   ],
   "source": [
    "sns.stripplot(data=munged_df, x=\"num_pools_produced\")"
   ]
  },
  {
   "cell_type": "code",
   "execution_count": 80,
   "metadata": {
    "scrolled": false
   },
   "outputs": [
    {
     "data": {
      "text/plain": [
       "MCKENZIE     1796\n",
       "MOUNTRAIL    1605\n",
       "WILLIAMS     1081\n",
       "DUNN         1078\n",
       "OTHER         537\n",
       "DIVIDE        432\n",
       "Name: CountyName, dtype: int64"
      ]
     },
     "metadata": {},
     "output_type": "display_data"
    },
    {
     "data": {
      "text/plain": [
       "OTHER                              3425\n",
       "WHITING OIL AND GAS CORPORATION     867\n",
       "CONTINENTAL RESOURCES, INC.         752\n",
       "HESS BAKKEN INVESTMENTS II, LLC     640\n",
       "XTO ENERGY INC.                     431\n",
       "EOG RESOURCES, INC.                 414\n",
       "Name: CurrentOperator, dtype: int64"
      ]
     },
     "metadata": {},
     "output_type": "display_data"
    },
    {
     "data": {
      "text/plain": [
       "OTHER           5402\n",
       "SANISH           395\n",
       "PARSHALL         264\n",
       "ALGER            197\n",
       "MURPHY CREEK     144\n",
       "VAN HOOK         127\n",
       "Name: FieldName, dtype: int64"
      ]
     },
     "metadata": {},
     "output_type": "display_data"
    },
    {
     "data": {
      "text/plain": [
       "OTHER                              3910\n",
       "CONTINENTAL RESOURCES, INC.         722\n",
       "WHITING OIL AND GAS CORPORATION     595\n",
       "HESS CORPORATION                    523\n",
       "EOG RESOURCES, INC.                 414\n",
       "MARATHON OIL COMPANY                365\n",
       "Name: OriginalOperator, dtype: int64"
      ]
     },
     "metadata": {},
     "output_type": "display_data"
    },
    {
     "data": {
      "text/plain": [
       "BAKKEN    6310\n",
       "OTHER      208\n",
       "Name: ProducedPools, dtype: int64"
      ]
     },
     "metadata": {},
     "output_type": "display_data"
    },
    {
     "data": {
      "text/plain": [
       "OTHER    2887\n",
       "SWSE      919\n",
       "SESE      761\n",
       "SESW      739\n",
       "NENW      628\n",
       "NWNE      595\n",
       "Name: QQ, dtype: int64"
      ]
     },
     "metadata": {},
     "output_type": "display_data"
    },
    {
     "data": {
      "text/plain": [
       "OTHER    3408\n",
       "95 W      740\n",
       "92 W      670\n",
       "96 W      583\n",
       "99 W      576\n",
       "93 W      552\n",
       "Name: Range, dtype: int64"
      ]
     },
     "metadata": {},
     "output_type": "display_data"
    },
    {
     "data": {
      "text/plain": [
       "OTHER    3681\n",
       "152 N     661\n",
       "153 N     588\n",
       "155 N     540\n",
       "154 N     531\n",
       "151 N     528\n",
       "Name: Township, dtype: int64"
      ]
     },
     "metadata": {},
     "output_type": "display_data"
    },
    {
     "data": {
      "text/plain": [
       "A        6248\n",
       "IA        250\n",
       "OTHER      31\n",
       "Name: WellStatus, dtype: int64"
      ]
     },
     "metadata": {},
     "output_type": "display_data"
    },
    {
     "data": {
      "text/plain": [
       "OG    6529\n",
       "Name: WellType, dtype: int64"
      ]
     },
     "metadata": {},
     "output_type": "display_data"
    },
    {
     "data": {
      "text/plain": [
       "HORIZONTAL    6519\n",
       "OTHER           10\n",
       "Name: Wellbore, dtype: int64"
      ]
     },
     "metadata": {},
     "output_type": "display_data"
    },
    {
     "data": {
      "text/plain": [
       "OTHER    3690\n",
       "48/64     533\n",
       "24/64     524\n",
       "32/64     494\n",
       "20/64     338\n",
       "28/64     327\n",
       "Name: choke_size, dtype: int64"
      ]
     },
     "metadata": {},
     "output_type": "display_data"
    },
    {
     "data": {
      "text/plain": [
       "bakken         3987\n",
       "three forks    1617\n",
       "OTHER           109\n",
       "Name: stimulated_formation, dtype: int64"
      ]
     },
     "metadata": {},
     "output_type": "display_data"
    },
    {
     "data": {
      "text/plain": [
       "sand frac    4618\n",
       "other         622\n",
       "fracture      158\n",
       "OTHER           9\n",
       "Name: type_treatment, dtype: int64"
      ]
     },
     "metadata": {},
     "output_type": "display_data"
    }
   ],
   "source": [
    "for col in munged_df.select_dtypes(\"O\").columns:\n",
    "    display(munged_df.filter([col]).squeeze().value_counts())"
   ]
  },
  {
   "cell_type": "code",
   "execution_count": 24,
   "metadata": {},
   "outputs": [
    {
     "data": {
      "text/plain": [
       "bakken                3987\n",
       "three forks           1617\n",
       "spearfish               85\n",
       "pronghorn                7\n",
       "madison                  4\n",
       "tyler                    3\n",
       "bakken,three forks       2\n",
       "red river                2\n",
       "bakken/three forks       1\n",
       "nesson                   1\n",
       "lodgepole                1\n",
       "bakken,pronghorn         1\n",
       "bluell                   1\n",
       "scallion                 1\n",
       "Name: stimulated_formation, dtype: int64"
      ]
     },
     "execution_count": 24,
     "metadata": {},
     "output_type": "execute_result"
    }
   ],
   "source": [
    "train_df.stimulated_formation.value_counts()"
   ]
  },
  {
   "cell_type": "code",
   "execution_count": 25,
   "metadata": {},
   "outputs": [
    {
     "data": {
      "text/plain": [
       "bakken         3987\n",
       "three forks    1617\n",
       "OTHER           109\n",
       "Name: stimulated_formation, dtype: int64"
      ]
     },
     "execution_count": 25,
     "metadata": {},
     "output_type": "execute_result"
    }
   ],
   "source": [
    "munged_df.stimulated_formation.value_counts()"
   ]
  },
  {
   "cell_type": "code",
   "execution_count": 30,
   "metadata": {},
   "outputs": [],
   "source": [
    "import seaborn as sns"
   ]
  },
  {
   "cell_type": "code",
   "execution_count": 59,
   "metadata": {},
   "outputs": [],
   "source": [
    "plot_df = (munged_df.copy()\n",
    "               .filter([\"stimulated_formation\", 'bh_lat', 'bh_lng', 'max_tvd', 'mean_tvd', 'min_tvd'])\n",
    "               .assign(tvd_min_max_range=lambda x: x[\"max_tvd\"] - x[\"min_tvd\"],\n",
    "                       tvd_mean_max_range=lambda x: x[\"max_tvd\"] - x[\"mean_tvd\"],\n",
    "                       tvd_mean_min_range=lambda x: x[\"mean_tvd\"] - x[\"min_tvd\"],\n",
    "                      )\n",
    "#                .query(\"mean_tvd > 6000\")\n",
    "            )\n",
    "                   "
   ]
  },
  {
   "cell_type": "code",
   "execution_count": null,
   "metadata": {},
   "outputs": [],
   "source": []
  },
  {
   "cell_type": "code",
   "execution_count": 85,
   "metadata": {},
   "outputs": [
    {
     "data": {
      "text/plain": [
       "HORIZONTAL             6519\n",
       "HORIZONTAL RE-ENTRY       6\n",
       "DIRECTIONAL               4\n",
       "Name: Wellbore, dtype: int64"
      ]
     },
     "execution_count": 85,
     "metadata": {},
     "output_type": "execute_result"
    }
   ],
   "source": [
    "train_df.Wellbore.value_counts()"
   ]
  },
  {
   "cell_type": "code",
   "execution_count": 83,
   "metadata": {},
   "outputs": [
    {
     "data": {
      "text/plain": [
       "OG    6529\n",
       "Name: WellType, dtype: int64"
      ]
     },
     "execution_count": 83,
     "metadata": {},
     "output_type": "execute_result"
    }
   ],
   "source": [
    "train_df.WellType.value_counts()"
   ]
  },
  {
   "cell_type": "code",
   "execution_count": 86,
   "metadata": {},
   "outputs": [
    {
     "ename": "ModuleNotFoundError",
     "evalue": "No module named 'geopy'",
     "output_type": "error",
     "traceback": [
      "\u001b[0;31m---------------------------------------------------------------------------\u001b[0m",
      "\u001b[0;31mModuleNotFoundError\u001b[0m                       Traceback (most recent call last)",
      "\u001b[0;32m<ipython-input-86-87ce3cee18ba>\u001b[0m in \u001b[0;36m<module>\u001b[0;34m\u001b[0m\n\u001b[0;32m----> 1\u001b[0;31m \u001b[0;32mimport\u001b[0m \u001b[0mgeopy\u001b[0m\u001b[0;34m.\u001b[0m\u001b[0mdistance\u001b[0m\u001b[0;34m\u001b[0m\u001b[0;34m\u001b[0m\u001b[0m\n\u001b[0m",
      "\u001b[0;31mModuleNotFoundError\u001b[0m: No module named 'geopy'"
     ]
    }
   ],
   "source": [
    "import geopy.distance"
   ]
  },
  {
   "cell_type": "code",
   "execution_count": 103,
   "metadata": {},
   "outputs": [],
   "source": []
  },
  {
   "cell_type": "code",
   "execution_count": 104,
   "metadata": {},
   "outputs": [
    {
     "data": {
      "text/plain": [
       "Index(['FileNo', 'CountyName', 'CurrentOperator', 'CurrentWellName', 'DFElev',\n",
       "       'FieldName', 'Footages', 'GRElev', 'KBElev', 'LeaseName', 'LeaseNumber',\n",
       "       'OriginalOperator', 'OriginalWellName', 'ProducedPools', 'QQ', 'Range',\n",
       "       'Section', 'TD', 'Township', 'WellStatus', 'WellType', 'Wellbore',\n",
       "       'api', 'bakken_isopach_ft', 'bh_lat', 'bh_lng', 'choke_size', 'legs',\n",
       "       'max_tvd', 'mean_tvd', 'min_tvd', 'num_pools_produced',\n",
       "       'production_liquid_120', 'production_liquid_150',\n",
       "       'production_liquid_180', 'production_liquid_1825',\n",
       "       'production_liquid_270', 'production_liquid_30',\n",
       "       'production_liquid_365', 'production_liquid_60',\n",
       "       'production_liquid_730', 'production_liquid_90', 'spud_date', 'std_tvd',\n",
       "       'stimulated_formation', 'surface_lat', 'surface_lng',\n",
       "       'total_lbs_proppant', 'total_num_stages', 'total_volume_bbls', 'tvd',\n",
       "       'type_treatment', 'well_status_date'],\n",
       "      dtype='object')"
      ]
     },
     "execution_count": 104,
     "metadata": {},
     "output_type": "execute_result"
    }
   ],
   "source": [
    "train_df.columns"
   ]
  },
  {
   "cell_type": "code",
   "execution_count": 105,
   "metadata": {
    "scrolled": false
   },
   "outputs": [],
   "source": [
    "munged_df = munged_df"
   ]
  },
  {
   "cell_type": "code",
   "execution_count": 107,
   "metadata": {},
   "outputs": [
    {
     "data": {
      "text/plain": [
       "<matplotlib.axes._subplots.AxesSubplot at 0x1147db550>"
      ]
     },
     "execution_count": 107,
     "metadata": {},
     "output_type": "execute_result"
    },
    {
     "data": {
      "image/png": "[encoded data removed]",
      "text/plain": [
       "<Figure size 432x288 with 1 Axes>"
      ]
     },
     "metadata": {
      "needs_background": "light"
     },
     "output_type": "display_data"
    }
   ],
   "source": [
    "sns.scatterplot(data=munged_df, y=\"surface_lat\", x=\"surface_lng\")"
   ]
  },
  {
   "cell_type": "code",
   "execution_count": 108,
   "metadata": {},
   "outputs": [
    {
     "data": {
      "text/plain": [
       "<matplotlib.axes._subplots.AxesSubplot at 0x1148a1e10>"
      ]
     },
     "execution_count": 108,
     "metadata": {},
     "output_type": "execute_result"
    },
    {
     "data": {
      "image/png": "[encoded data removed]",
      "text/plain": [
       "<Figure size 432x288 with 1 Axes>"
      ]
     },
     "metadata": {
      "needs_background": "light"
     },
     "output_type": "display_data"
    }
   ],
   "source": [
    "sns.stripplot(data=munged_df, x=\"length\")"
   ]
  },
  {
   "cell_type": "code",
   "execution_count": 109,
   "metadata": {},
   "outputs": [
    {
     "data": {
      "text/plain": [
       "Index(['FileNo', 'CountyName', 'CurrentOperator', 'FieldName', 'GRElev',\n",
       "       'KBElev', 'OriginalOperator', 'ProducedPools', 'QQ', 'Range', 'Section',\n",
       "       'TD', 'Township', 'WellStatus', 'WellType', 'Wellbore',\n",
       "       'bakken_isopach_ft', 'bh_lat', 'bh_lng', 'choke_size', 'legs',\n",
       "       'max_tvd', 'mean_tvd', 'min_tvd', 'num_pools_produced', 'std_tvd',\n",
       "       'stimulated_formation', 'surface_lat', 'surface_lng',\n",
       "       'total_lbs_proppant', 'total_num_stages', 'total_volume_bbls', 'tvd',\n",
       "       'type_treatment', 'length'],\n",
       "      dtype='object')"
      ]
     },
     "execution_count": 109,
     "metadata": {},
     "output_type": "execute_result"
    }
   ],
   "source": [
    "munged_df.columns"
   ]
  },
  {
   "cell_type": "code",
   "execution_count": 111,
   "metadata": {},
   "outputs": [
    {
     "data": {
      "text/plain": [
       "<matplotlib.axes._subplots.AxesSubplot at 0x114a9a4e0>"
      ]
     },
     "execution_count": 111,
     "metadata": {},
     "output_type": "execute_result"
    },
    {
     "data": {
      "image/png": "[encoded data removed]",
      "text/plain": [
       "<Figure size 432x288 with 1 Axes>"
      ]
     },
     "metadata": {
      "needs_background": "light"
     },
     "output_type": "display_data"
    }
   ],
   "source": [
    "sns.scatterplot(data=munged_df, x=\"tvd\", y=\"length\")"
   ]
  },
  {
   "cell_type": "code",
   "execution_count": null,
   "metadata": {},
   "outputs": [],
   "source": []
  },
  {
   "cell_type": "code",
   "execution_count": 97,
   "metadata": {
    "scrolled": false
   },
   "outputs": [
    {
     "ename": "TypeError",
     "evalue": "cannot convert the series to <class 'float'>",
     "output_type": "error",
     "traceback": [
      "\u001b[0;31m---------------------------------------------------------------------------\u001b[0m",
      "\u001b[0;31mTypeError\u001b[0m                                 Traceback (most recent call last)",
      "\u001b[0;32m<ipython-input-97-804140cd8077>\u001b[0m in \u001b[0;36m<module>\u001b[0;34m\u001b[0m\n\u001b[0;32m----> 1\u001b[0;31m \u001b[0mmunged_df\u001b[0m \u001b[0;34m=\u001b[0m \u001b[0mmunged_df\u001b[0m\u001b[0;34m.\u001b[0m\u001b[0massign\u001b[0m\u001b[0;34m(\u001b[0m\u001b[0mhaversine\u001b[0m\u001b[0;34m=\u001b[0m\u001b[0;32mlambda\u001b[0m \u001b[0mx\u001b[0m\u001b[0;34m:\u001b[0m \u001b[0mhaversine\u001b[0m\u001b[0;34m(\u001b[0m\u001b[0mx\u001b[0m\u001b[0;34m[\u001b[0m\u001b[0;34m\"surface_lat\"\u001b[0m\u001b[0;34m]\u001b[0m\u001b[0;34m,\u001b[0m \u001b[0mx\u001b[0m\u001b[0;34m[\u001b[0m\u001b[0;34m\"surface_lng\"\u001b[0m\u001b[0;34m]\u001b[0m\u001b[0;34m,\u001b[0m \u001b[0mx\u001b[0m\u001b[0;34m[\u001b[0m\u001b[0;34m\"bh_lat\"\u001b[0m\u001b[0;34m]\u001b[0m\u001b[0;34m,\u001b[0m \u001b[0mx\u001b[0m\u001b[0;34m[\u001b[0m\u001b[0;34m\"bh_lng\"\u001b[0m\u001b[0;34m]\u001b[0m\u001b[0;34m)\u001b[0m\u001b[0;34m)\u001b[0m\u001b[0;34m\u001b[0m\u001b[0;34m\u001b[0m\u001b[0m\n\u001b[0m",
      "\u001b[0;32m~/miniconda3/envs/my_env/lib/python3.7/site-packages/pandas/core/frame.py\u001b[0m in \u001b[0;36massign\u001b[0;34m(self, **kwargs)\u001b[0m\n\u001b[1;32m   3647\u001b[0m         \u001b[0;32mif\u001b[0m \u001b[0mPY36\u001b[0m\u001b[0;34m:\u001b[0m\u001b[0;34m\u001b[0m\u001b[0;34m\u001b[0m\u001b[0m\n\u001b[1;32m   3648\u001b[0m             \u001b[0;32mfor\u001b[0m \u001b[0mk\u001b[0m\u001b[0;34m,\u001b[0m \u001b[0mv\u001b[0m \u001b[0;32min\u001b[0m \u001b[0mkwargs\u001b[0m\u001b[0;34m.\u001b[0m\u001b[0mitems\u001b[0m\u001b[0;34m(\u001b[0m\u001b[0;34m)\u001b[0m\u001b[0;34m:\u001b[0m\u001b[0;34m\u001b[0m\u001b[0;34m\u001b[0m\u001b[0m\n\u001b[0;32m-> 3649\u001b[0;31m                 \u001b[0mdata\u001b[0m\u001b[0;34m[\u001b[0m\u001b[0mk\u001b[0m\u001b[0;34m]\u001b[0m \u001b[0;34m=\u001b[0m \u001b[0mcom\u001b[0m\u001b[0;34m.\u001b[0m\u001b[0mapply_if_callable\u001b[0m\u001b[0;34m(\u001b[0m\u001b[0mv\u001b[0m\u001b[0;34m,\u001b[0m \u001b[0mdata\u001b[0m\u001b[0;34m)\u001b[0m\u001b[0;34m\u001b[0m\u001b[0;34m\u001b[0m\u001b[0m\n\u001b[0m\u001b[1;32m   3650\u001b[0m         \u001b[0;32melse\u001b[0m\u001b[0;34m:\u001b[0m\u001b[0;34m\u001b[0m\u001b[0;34m\u001b[0m\u001b[0m\n\u001b[1;32m   3651\u001b[0m             \u001b[0;31m# <= 3.5: do all calculations first...\u001b[0m\u001b[0;34m\u001b[0m\u001b[0;34m\u001b[0m\u001b[0;34m\u001b[0m\u001b[0m\n",
      "\u001b[0;32m~/miniconda3/envs/my_env/lib/python3.7/site-packages/pandas/core/common.py\u001b[0m in \u001b[0;36mapply_if_callable\u001b[0;34m(maybe_callable, obj, **kwargs)\u001b[0m\n\u001b[1;32m    363\u001b[0m \u001b[0;34m\u001b[0m\u001b[0m\n\u001b[1;32m    364\u001b[0m     \u001b[0;32mif\u001b[0m \u001b[0mcallable\u001b[0m\u001b[0;34m(\u001b[0m\u001b[0mmaybe_callable\u001b[0m\u001b[0;34m)\u001b[0m\u001b[0;34m:\u001b[0m\u001b[0;34m\u001b[0m\u001b[0;34m\u001b[0m\u001b[0m\n\u001b[0;32m--> 365\u001b[0;31m         \u001b[0;32mreturn\u001b[0m \u001b[0mmaybe_callable\u001b[0m\u001b[0;34m(\u001b[0m\u001b[0mobj\u001b[0m\u001b[0;34m,\u001b[0m \u001b[0;34m**\u001b[0m\u001b[0mkwargs\u001b[0m\u001b[0;34m)\u001b[0m\u001b[0;34m\u001b[0m\u001b[0;34m\u001b[0m\u001b[0m\n\u001b[0m\u001b[1;32m    366\u001b[0m \u001b[0;34m\u001b[0m\u001b[0m\n\u001b[1;32m    367\u001b[0m     \u001b[0;32mreturn\u001b[0m \u001b[0mmaybe_callable\u001b[0m\u001b[0;34m\u001b[0m\u001b[0;34m\u001b[0m\u001b[0m\n",
      "\u001b[0;32m<ipython-input-97-804140cd8077>\u001b[0m in \u001b[0;36m<lambda>\u001b[0;34m(x)\u001b[0m\n\u001b[0;32m----> 1\u001b[0;31m \u001b[0mmunged_df\u001b[0m \u001b[0;34m=\u001b[0m \u001b[0mmunged_df\u001b[0m\u001b[0;34m.\u001b[0m\u001b[0massign\u001b[0m\u001b[0;34m(\u001b[0m\u001b[0mhaversine\u001b[0m\u001b[0;34m=\u001b[0m\u001b[0;32mlambda\u001b[0m \u001b[0mx\u001b[0m\u001b[0;34m:\u001b[0m \u001b[0mhaversine\u001b[0m\u001b[0;34m(\u001b[0m\u001b[0mx\u001b[0m\u001b[0;34m[\u001b[0m\u001b[0;34m\"surface_lat\"\u001b[0m\u001b[0;34m]\u001b[0m\u001b[0;34m,\u001b[0m \u001b[0mx\u001b[0m\u001b[0;34m[\u001b[0m\u001b[0;34m\"surface_lng\"\u001b[0m\u001b[0;34m]\u001b[0m\u001b[0;34m,\u001b[0m \u001b[0mx\u001b[0m\u001b[0;34m[\u001b[0m\u001b[0;34m\"bh_lat\"\u001b[0m\u001b[0;34m]\u001b[0m\u001b[0;34m,\u001b[0m \u001b[0mx\u001b[0m\u001b[0;34m[\u001b[0m\u001b[0;34m\"bh_lng\"\u001b[0m\u001b[0;34m]\u001b[0m\u001b[0;34m)\u001b[0m\u001b[0;34m)\u001b[0m\u001b[0;34m\u001b[0m\u001b[0;34m\u001b[0m\u001b[0m\n\u001b[0m",
      "\u001b[0;32m<ipython-input-95-774888de4b41>\u001b[0m in \u001b[0;36mhaversine\u001b[0;34m(lat1, lon1, lat2, lon2)\u001b[0m\n\u001b[1;32m      5\u001b[0m       \u001b[0mR\u001b[0m \u001b[0;34m=\u001b[0m \u001b[0;36m3959.87433\u001b[0m \u001b[0;31m# this is in miles.  For Earth radius in kilometers use 6372.8 km\u001b[0m\u001b[0;34m\u001b[0m\u001b[0;34m\u001b[0m\u001b[0m\n\u001b[1;32m      6\u001b[0m \u001b[0;34m\u001b[0m\u001b[0m\n\u001b[0;32m----> 7\u001b[0;31m       \u001b[0mdLat\u001b[0m \u001b[0;34m=\u001b[0m \u001b[0mradians\u001b[0m\u001b[0;34m(\u001b[0m\u001b[0mlat2\u001b[0m \u001b[0;34m-\u001b[0m \u001b[0mlat1\u001b[0m\u001b[0;34m)\u001b[0m\u001b[0;34m\u001b[0m\u001b[0;34m\u001b[0m\u001b[0m\n\u001b[0m\u001b[1;32m      8\u001b[0m       \u001b[0mdLon\u001b[0m \u001b[0;34m=\u001b[0m \u001b[0mradians\u001b[0m\u001b[0;34m(\u001b[0m\u001b[0mlon2\u001b[0m \u001b[0;34m-\u001b[0m \u001b[0mlon1\u001b[0m\u001b[0;34m)\u001b[0m\u001b[0;34m\u001b[0m\u001b[0;34m\u001b[0m\u001b[0m\n\u001b[1;32m      9\u001b[0m       \u001b[0mlat1\u001b[0m \u001b[0;34m=\u001b[0m \u001b[0mradians\u001b[0m\u001b[0;34m(\u001b[0m\u001b[0mlat1\u001b[0m\u001b[0;34m)\u001b[0m\u001b[0;34m\u001b[0m\u001b[0;34m\u001b[0m\u001b[0m\n",
      "\u001b[0;32m~/miniconda3/envs/my_env/lib/python3.7/site-packages/pandas/core/series.py\u001b[0m in \u001b[0;36mwrapper\u001b[0;34m(self)\u001b[0m\n\u001b[1;32m    129\u001b[0m         \u001b[0;32mif\u001b[0m \u001b[0mlen\u001b[0m\u001b[0;34m(\u001b[0m\u001b[0mself\u001b[0m\u001b[0;34m)\u001b[0m \u001b[0;34m==\u001b[0m \u001b[0;36m1\u001b[0m\u001b[0;34m:\u001b[0m\u001b[0;34m\u001b[0m\u001b[0;34m\u001b[0m\u001b[0m\n\u001b[1;32m    130\u001b[0m             \u001b[0;32mreturn\u001b[0m \u001b[0mconverter\u001b[0m\u001b[0;34m(\u001b[0m\u001b[0mself\u001b[0m\u001b[0;34m.\u001b[0m\u001b[0miloc\u001b[0m\u001b[0;34m[\u001b[0m\u001b[0;36m0\u001b[0m\u001b[0;34m]\u001b[0m\u001b[0;34m)\u001b[0m\u001b[0;34m\u001b[0m\u001b[0;34m\u001b[0m\u001b[0m\n\u001b[0;32m--> 131\u001b[0;31m         \u001b[0;32mraise\u001b[0m \u001b[0mTypeError\u001b[0m\u001b[0;34m(\u001b[0m\u001b[0;34m\"cannot convert the series to \"\u001b[0m \u001b[0;34m\"{0}\"\u001b[0m\u001b[0;34m.\u001b[0m\u001b[0mformat\u001b[0m\u001b[0;34m(\u001b[0m\u001b[0mstr\u001b[0m\u001b[0;34m(\u001b[0m\u001b[0mconverter\u001b[0m\u001b[0;34m)\u001b[0m\u001b[0;34m)\u001b[0m\u001b[0;34m)\u001b[0m\u001b[0;34m\u001b[0m\u001b[0;34m\u001b[0m\u001b[0m\n\u001b[0m\u001b[1;32m    132\u001b[0m \u001b[0;34m\u001b[0m\u001b[0m\n\u001b[1;32m    133\u001b[0m     \u001b[0mwrapper\u001b[0m\u001b[0;34m.\u001b[0m\u001b[0m__name__\u001b[0m \u001b[0;34m=\u001b[0m \u001b[0;34m\"__{name}__\"\u001b[0m\u001b[0;34m.\u001b[0m\u001b[0mformat\u001b[0m\u001b[0;34m(\u001b[0m\u001b[0mname\u001b[0m\u001b[0;34m=\u001b[0m\u001b[0mconverter\u001b[0m\u001b[0;34m.\u001b[0m\u001b[0m__name__\u001b[0m\u001b[0;34m)\u001b[0m\u001b[0;34m\u001b[0m\u001b[0;34m\u001b[0m\u001b[0m\n",
      "\u001b[0;31mTypeError\u001b[0m: cannot convert the series to <class 'float'>"
     ]
    }
   ],
   "source": [
    "munged_df = munged_df.assign(haversine=lambda x: haversine(x[\"surface_lat\"], x[\"surface_lng\"], x[\"bh_lat\"], x[\"bh_lng\"]))"
   ]
  },
  {
   "cell_type": "code",
   "execution_count": null,
   "metadata": {},
   "outputs": [],
   "source": []
  },
  {
   "cell_type": "code",
   "execution_count": null,
   "metadata": {},
   "outputs": [],
   "source": [
    "\n",
    "\n",
    "coords_1 = (52.2296756, 21.0122287)\n",
    "coords_2 = (52.406374, 16.9251681)\n",
    "\n",
    "print geopy.distance.vincenty(coords_1, coords_2).km"
   ]
  },
  {
   "cell_type": "code",
   "execution_count": 60,
   "metadata": {},
   "outputs": [
    {
     "data": {
      "text/html": [
       "<div>\n",
       "<style scoped>\n",
       "    .dataframe tbody tr th:only-of-type {\n",
       "        vertical-align: middle;\n",
       "    }\n",
       "\n",
       "    .dataframe tbody tr th {\n",
       "        vertical-align: top;\n",
       "    }\n",
       "\n",
       "    .dataframe thead th {\n",
       "        text-align: right;\n",
       "    }\n",
       "</style>\n",
       "<table border=\"1\" class=\"dataframe\">\n",
       "  <thead>\n",
       "    <tr style=\"text-align: right;\">\n",
       "      <th></th>\n",
       "      <th>stimulated_formation</th>\n",
       "      <th>bh_lat</th>\n",
       "      <th>bh_lng</th>\n",
       "      <th>max_tvd</th>\n",
       "      <th>mean_tvd</th>\n",
       "      <th>min_tvd</th>\n",
       "      <th>tvd_min_max_range</th>\n",
       "      <th>tvd_mean_max_range</th>\n",
       "      <th>tvd_mean_min_range</th>\n",
       "    </tr>\n",
       "  </thead>\n",
       "  <tbody>\n",
       "    <tr>\n",
       "      <th>0</th>\n",
       "      <td>bakken</td>\n",
       "      <td>48.168154</td>\n",
       "      <td>-103.245166</td>\n",
       "      <td>10916.93</td>\n",
       "      <td>10868.577339</td>\n",
       "      <td>10395.89</td>\n",
       "      <td>521.04</td>\n",
       "      <td>48.352661</td>\n",
       "      <td>472.687339</td>\n",
       "    </tr>\n",
       "    <tr>\n",
       "      <th>1</th>\n",
       "      <td>bakken</td>\n",
       "      <td>47.906679</td>\n",
       "      <td>-103.802227</td>\n",
       "      <td>10784.08</td>\n",
       "      <td>10724.267533</td>\n",
       "      <td>10142.28</td>\n",
       "      <td>641.80</td>\n",
       "      <td>59.812467</td>\n",
       "      <td>581.987532</td>\n",
       "    </tr>\n",
       "    <tr>\n",
       "      <th>2</th>\n",
       "      <td>three forks</td>\n",
       "      <td>48.205268</td>\n",
       "      <td>-102.422482</td>\n",
       "      <td>9915.74</td>\n",
       "      <td>9830.268200</td>\n",
       "      <td>9198.87</td>\n",
       "      <td>716.87</td>\n",
       "      <td>85.471800</td>\n",
       "      <td>631.398200</td>\n",
       "    </tr>\n",
       "    <tr>\n",
       "      <th>3</th>\n",
       "      <td>bakken</td>\n",
       "      <td>46.891498</td>\n",
       "      <td>-102.967185</td>\n",
       "      <td>10305.91</td>\n",
       "      <td>10242.205128</td>\n",
       "      <td>9741.01</td>\n",
       "      <td>564.90</td>\n",
       "      <td>63.704872</td>\n",
       "      <td>501.195128</td>\n",
       "    </tr>\n",
       "    <tr>\n",
       "      <th>4</th>\n",
       "      <td>bakken</td>\n",
       "      <td>48.225065</td>\n",
       "      <td>-102.380393</td>\n",
       "      <td>9743.69</td>\n",
       "      <td>9706.356736</td>\n",
       "      <td>9269.02</td>\n",
       "      <td>474.67</td>\n",
       "      <td>37.333264</td>\n",
       "      <td>437.336736</td>\n",
       "    </tr>\n",
       "  </tbody>\n",
       "</table>\n",
       "</div>"
      ],
      "text/plain": [
       "  stimulated_formation     bh_lat      bh_lng   max_tvd      mean_tvd  \\\n",
       "0               bakken  48.168154 -103.245166  10916.93  10868.577339   \n",
       "1               bakken  47.906679 -103.802227  10784.08  10724.267533   \n",
       "2          three forks  48.205268 -102.422482   9915.74   9830.268200   \n",
       "3               bakken  46.891498 -102.967185  10305.91  10242.205128   \n",
       "4               bakken  48.225065 -102.380393   9743.69   9706.356736   \n",
       "\n",
       "    min_tvd  tvd_min_max_range  tvd_mean_max_range  tvd_mean_min_range  \n",
       "0  10395.89             521.04           48.352661          472.687339  \n",
       "1  10142.28             641.80           59.812467          581.987532  \n",
       "2   9198.87             716.87           85.471800          631.398200  \n",
       "3   9741.01             564.90           63.704872          501.195128  \n",
       "4   9269.02             474.67           37.333264          437.336736  "
      ]
     },
     "execution_count": 60,
     "metadata": {},
     "output_type": "execute_result"
    }
   ],
   "source": []
  },
  {
   "cell_type": "code",
   "execution_count": 63,
   "metadata": {},
   "outputs": [
    {
     "data": {
      "text/plain": [
       "<matplotlib.axes._subplots.AxesSubplot at 0x10ef1aba8>"
      ]
     },
     "execution_count": 63,
     "metadata": {},
     "output_type": "execute_result"
    },
    {
     "data": {
      "image/png": "[encoded data removed]",
      "text/plain": [
       "<Figure size 432x288 with 1 Axes>"
      ]
     },
     "metadata": {
      "needs_background": "light"
     },
     "output_type": "display_data"
    }
   ],
   "source": [
    "sns.scatterplot(data=plot_df, x=\"mean_tvd\", y=\"tvd_mean_min_range\")"
   ]
  },
  {
   "cell_type": "code",
   "execution_count": 64,
   "metadata": {},
   "outputs": [
    {
     "data": {
      "text/plain": [
       "<matplotlib.axes._subplots.AxesSubplot at 0x10da93cc0>"
      ]
     },
     "execution_count": 64,
     "metadata": {},
     "output_type": "execute_result"
    },
    {
     "data": {
      "image/png": "[encoded data removed]",
      "text/plain": [
       "<Figure size 432x288 with 1 Axes>"
      ]
     },
     "metadata": {
      "needs_background": "light"
     },
     "output_type": "display_data"
    }
   ],
   "source": [
    "sns.scatterplot(data=plot_df, x=\"mean_tvd\", y=\"tvd_mean_max_range\")"
   ]
  },
  {
   "cell_type": "code",
   "execution_count": 68,
   "metadata": {},
   "outputs": [
    {
     "data": {
      "text/plain": [
       "<matplotlib.axes._subplots.AxesSubplot at 0x10e4ab438>"
      ]
     },
     "execution_count": 68,
     "metadata": {},
     "output_type": "execute_result"
    },
    {
     "data": {
      "image/png": "[encoded data removed]",
      "text/plain": [
       "<Figure size 432x288 with 1 Axes>"
      ]
     },
     "metadata": {
      "needs_background": "light"
     },
     "output_type": "display_data"
    }
   ],
   "source": [
    "sns.scatterplot(data=plot_df, x=\"tvd_mean_min_range\", y=\"tvd_mean_max_range\")"
   ]
  },
  {
   "cell_type": "code",
   "execution_count": null,
   "metadata": {},
   "outputs": [],
   "source": []
  },
  {
   "cell_type": "code",
   "execution_count": 51,
   "metadata": {},
   "outputs": [
    {
     "data": {
      "text/plain": [
       "<matplotlib.axes._subplots.AxesSubplot at 0x1115b42e8>"
      ]
     },
     "execution_count": 51,
     "metadata": {},
     "output_type": "execute_result"
    },
    {
     "data": {
      "image/png": "[encoded data removed]",
      "text/plain": [
       "<Figure size 432x288 with 1 Axes>"
      ]
     },
     "metadata": {
      "needs_background": "light"
     },
     "output_type": "display_data"
    }
   ],
   "source": [
    "sns.stripplot(data=plot_df, x=\"tvd_range\")"
   ]
  },
  {
   "cell_type": "code",
   "execution_count": 44,
   "metadata": {},
   "outputs": [
    {
     "data": {
      "text/plain": [
       "(6529, 34)"
      ]
     },
     "execution_count": 44,
     "metadata": {},
     "output_type": "execute_result"
    }
   ],
   "source": [
    "munged_df.shape"
   ]
  },
  {
   "cell_type": "code",
   "execution_count": 45,
   "metadata": {
    "scrolled": true
   },
   "outputs": [
    {
     "data": {
      "text/plain": [
       "(6119, 7)"
      ]
     },
     "execution_count": 45,
     "metadata": {},
     "output_type": "execute_result"
    }
   ],
   "source": [
    "plot_df.shape"
   ]
  },
  {
   "cell_type": "code",
   "execution_count": 46,
   "metadata": {},
   "outputs": [
    {
     "data": {
      "text/plain": [
       "<matplotlib.axes._subplots.AxesSubplot at 0x111532b00>"
      ]
     },
     "execution_count": 46,
     "metadata": {},
     "output_type": "execute_result"
    },
    {
     "data": {
      "image/png": "[encoded data removed]",
      "text/plain": [
       "<Figure size 432x288 with 1 Axes>"
      ]
     },
     "metadata": {
      "needs_background": "light"
     },
     "output_type": "display_data"
    }
   ],
   "source": [
    "sns.violinplot(data=plot_df, x=\"stimulated_formation\", y=\"mean_tvd\")"
   ]
  },
  {
   "cell_type": "code",
   "execution_count": 28,
   "metadata": {},
   "outputs": [
    {
     "data": {
      "text/html": [
       "<div>\n",
       "<style scoped>\n",
       "    .dataframe tbody tr th:only-of-type {\n",
       "        vertical-align: middle;\n",
       "    }\n",
       "\n",
       "    .dataframe tbody tr th {\n",
       "        vertical-align: top;\n",
       "    }\n",
       "\n",
       "    .dataframe thead th {\n",
       "        text-align: right;\n",
       "    }\n",
       "</style>\n",
       "<table border=\"1\" class=\"dataframe\">\n",
       "  <thead>\n",
       "    <tr style=\"text-align: right;\">\n",
       "      <th></th>\n",
       "      <th>stimulated_formation</th>\n",
       "      <th>mean_tvd</th>\n",
       "    </tr>\n",
       "  </thead>\n",
       "  <tbody>\n",
       "    <tr>\n",
       "      <th>0</th>\n",
       "      <td>bakken</td>\n",
       "      <td>10868.577339</td>\n",
       "    </tr>\n",
       "    <tr>\n",
       "      <th>1</th>\n",
       "      <td>bakken</td>\n",
       "      <td>10724.267533</td>\n",
       "    </tr>\n",
       "    <tr>\n",
       "      <th>2</th>\n",
       "      <td>three forks</td>\n",
       "      <td>9830.268200</td>\n",
       "    </tr>\n",
       "    <tr>\n",
       "      <th>3</th>\n",
       "      <td>bakken</td>\n",
       "      <td>10242.205128</td>\n",
       "    </tr>\n",
       "    <tr>\n",
       "      <th>4</th>\n",
       "      <td>bakken</td>\n",
       "      <td>9706.356736</td>\n",
       "    </tr>\n",
       "    <tr>\n",
       "      <th>5</th>\n",
       "      <td>bakken</td>\n",
       "      <td>10271.044725</td>\n",
       "    </tr>\n",
       "    <tr>\n",
       "      <th>6</th>\n",
       "      <td>bakken</td>\n",
       "      <td>10804.180300</td>\n",
       "    </tr>\n",
       "    <tr>\n",
       "      <th>7</th>\n",
       "      <td>bakken</td>\n",
       "      <td>10910.599879</td>\n",
       "    </tr>\n",
       "    <tr>\n",
       "      <th>8</th>\n",
       "      <td>bakken</td>\n",
       "      <td>11110.017742</td>\n",
       "    </tr>\n",
       "    <tr>\n",
       "      <th>9</th>\n",
       "      <td>bakken</td>\n",
       "      <td>9909.697687</td>\n",
       "    </tr>\n",
       "    <tr>\n",
       "      <th>10</th>\n",
       "      <td>three forks</td>\n",
       "      <td>10743.700876</td>\n",
       "    </tr>\n",
       "    <tr>\n",
       "      <th>11</th>\n",
       "      <td>bakken</td>\n",
       "      <td>10319.225890</td>\n",
       "    </tr>\n",
       "    <tr>\n",
       "      <th>12</th>\n",
       "      <td>three forks</td>\n",
       "      <td>10678.741429</td>\n",
       "    </tr>\n",
       "    <tr>\n",
       "      <th>13</th>\n",
       "      <td>three forks</td>\n",
       "      <td>10988.365556</td>\n",
       "    </tr>\n",
       "    <tr>\n",
       "      <th>14</th>\n",
       "      <td>bakken</td>\n",
       "      <td>10476.993273</td>\n",
       "    </tr>\n",
       "    <tr>\n",
       "      <th>15</th>\n",
       "      <td>bakken</td>\n",
       "      <td>10860.270500</td>\n",
       "    </tr>\n",
       "    <tr>\n",
       "      <th>16</th>\n",
       "      <td>three forks</td>\n",
       "      <td>10627.641648</td>\n",
       "    </tr>\n",
       "    <tr>\n",
       "      <th>17</th>\n",
       "      <td>bakken</td>\n",
       "      <td>10259.383407</td>\n",
       "    </tr>\n",
       "    <tr>\n",
       "      <th>18</th>\n",
       "      <td>bakken</td>\n",
       "      <td>10238.603111</td>\n",
       "    </tr>\n",
       "    <tr>\n",
       "      <th>19</th>\n",
       "      <td>NaN</td>\n",
       "      <td>9588.995586</td>\n",
       "    </tr>\n",
       "    <tr>\n",
       "      <th>20</th>\n",
       "      <td>three forks</td>\n",
       "      <td>8513.754599</td>\n",
       "    </tr>\n",
       "    <tr>\n",
       "      <th>21</th>\n",
       "      <td>bakken</td>\n",
       "      <td>8747.478788</td>\n",
       "    </tr>\n",
       "    <tr>\n",
       "      <th>22</th>\n",
       "      <td>NaN</td>\n",
       "      <td>9293.849667</td>\n",
       "    </tr>\n",
       "    <tr>\n",
       "      <th>23</th>\n",
       "      <td>bakken</td>\n",
       "      <td>NaN</td>\n",
       "    </tr>\n",
       "    <tr>\n",
       "      <th>24</th>\n",
       "      <td>three forks</td>\n",
       "      <td>7810.784178</td>\n",
       "    </tr>\n",
       "    <tr>\n",
       "      <th>25</th>\n",
       "      <td>bakken</td>\n",
       "      <td>10491.580663</td>\n",
       "    </tr>\n",
       "    <tr>\n",
       "      <th>26</th>\n",
       "      <td>three forks</td>\n",
       "      <td>7717.452719</td>\n",
       "    </tr>\n",
       "    <tr>\n",
       "      <th>27</th>\n",
       "      <td>NaN</td>\n",
       "      <td>10366.660152</td>\n",
       "    </tr>\n",
       "    <tr>\n",
       "      <th>28</th>\n",
       "      <td>three forks</td>\n",
       "      <td>NaN</td>\n",
       "    </tr>\n",
       "    <tr>\n",
       "      <th>29</th>\n",
       "      <td>bakken</td>\n",
       "      <td>NaN</td>\n",
       "    </tr>\n",
       "    <tr>\n",
       "      <th>...</th>\n",
       "      <td>...</td>\n",
       "      <td>...</td>\n",
       "    </tr>\n",
       "    <tr>\n",
       "      <th>6499</th>\n",
       "      <td>three forks</td>\n",
       "      <td>10923.184793</td>\n",
       "    </tr>\n",
       "    <tr>\n",
       "      <th>6500</th>\n",
       "      <td>three forks</td>\n",
       "      <td>8982.806202</td>\n",
       "    </tr>\n",
       "    <tr>\n",
       "      <th>6501</th>\n",
       "      <td>bakken</td>\n",
       "      <td>11136.216536</td>\n",
       "    </tr>\n",
       "    <tr>\n",
       "      <th>6502</th>\n",
       "      <td>three forks</td>\n",
       "      <td>9656.114538</td>\n",
       "    </tr>\n",
       "    <tr>\n",
       "      <th>6503</th>\n",
       "      <td>bakken</td>\n",
       "      <td>10972.504844</td>\n",
       "    </tr>\n",
       "    <tr>\n",
       "      <th>6504</th>\n",
       "      <td>NaN</td>\n",
       "      <td>9893.641866</td>\n",
       "    </tr>\n",
       "    <tr>\n",
       "      <th>6505</th>\n",
       "      <td>bakken</td>\n",
       "      <td>10975.250260</td>\n",
       "    </tr>\n",
       "    <tr>\n",
       "      <th>6506</th>\n",
       "      <td>bakken</td>\n",
       "      <td>10720.853435</td>\n",
       "    </tr>\n",
       "    <tr>\n",
       "      <th>6507</th>\n",
       "      <td>bakken</td>\n",
       "      <td>10448.887829</td>\n",
       "    </tr>\n",
       "    <tr>\n",
       "      <th>6508</th>\n",
       "      <td>bakken</td>\n",
       "      <td>10238.270984</td>\n",
       "    </tr>\n",
       "    <tr>\n",
       "      <th>6509</th>\n",
       "      <td>bakken</td>\n",
       "      <td>9919.778808</td>\n",
       "    </tr>\n",
       "    <tr>\n",
       "      <th>6510</th>\n",
       "      <td>bakken</td>\n",
       "      <td>10918.358561</td>\n",
       "    </tr>\n",
       "    <tr>\n",
       "      <th>6511</th>\n",
       "      <td>bakken</td>\n",
       "      <td>10392.411047</td>\n",
       "    </tr>\n",
       "    <tr>\n",
       "      <th>6512</th>\n",
       "      <td>bakken</td>\n",
       "      <td>10260.174964</td>\n",
       "    </tr>\n",
       "    <tr>\n",
       "      <th>6513</th>\n",
       "      <td>three forks</td>\n",
       "      <td>NaN</td>\n",
       "    </tr>\n",
       "    <tr>\n",
       "      <th>6514</th>\n",
       "      <td>three forks</td>\n",
       "      <td>10877.505000</td>\n",
       "    </tr>\n",
       "    <tr>\n",
       "      <th>6515</th>\n",
       "      <td>bakken</td>\n",
       "      <td>9552.788385</td>\n",
       "    </tr>\n",
       "    <tr>\n",
       "      <th>6516</th>\n",
       "      <td>bakken</td>\n",
       "      <td>8087.333667</td>\n",
       "    </tr>\n",
       "    <tr>\n",
       "      <th>6517</th>\n",
       "      <td>NaN</td>\n",
       "      <td>10985.204479</td>\n",
       "    </tr>\n",
       "    <tr>\n",
       "      <th>6518</th>\n",
       "      <td>bakken</td>\n",
       "      <td>10855.601406</td>\n",
       "    </tr>\n",
       "    <tr>\n",
       "      <th>6519</th>\n",
       "      <td>bakken</td>\n",
       "      <td>10943.741008</td>\n",
       "    </tr>\n",
       "    <tr>\n",
       "      <th>6520</th>\n",
       "      <td>bakken</td>\n",
       "      <td>NaN</td>\n",
       "    </tr>\n",
       "    <tr>\n",
       "      <th>6521</th>\n",
       "      <td>three forks</td>\n",
       "      <td>10796.812500</td>\n",
       "    </tr>\n",
       "    <tr>\n",
       "      <th>6522</th>\n",
       "      <td>bakken</td>\n",
       "      <td>10535.812993</td>\n",
       "    </tr>\n",
       "    <tr>\n",
       "      <th>6523</th>\n",
       "      <td>three forks</td>\n",
       "      <td>NaN</td>\n",
       "    </tr>\n",
       "    <tr>\n",
       "      <th>6524</th>\n",
       "      <td>bakken</td>\n",
       "      <td>8920.906336</td>\n",
       "    </tr>\n",
       "    <tr>\n",
       "      <th>6525</th>\n",
       "      <td>three forks</td>\n",
       "      <td>10663.160435</td>\n",
       "    </tr>\n",
       "    <tr>\n",
       "      <th>6526</th>\n",
       "      <td>bakken</td>\n",
       "      <td>10603.987440</td>\n",
       "    </tr>\n",
       "    <tr>\n",
       "      <th>6527</th>\n",
       "      <td>three forks</td>\n",
       "      <td>11224.318952</td>\n",
       "    </tr>\n",
       "    <tr>\n",
       "      <th>6528</th>\n",
       "      <td>bakken</td>\n",
       "      <td>10951.493000</td>\n",
       "    </tr>\n",
       "  </tbody>\n",
       "</table>\n",
       "<p>6529 rows × 2 columns</p>\n",
       "</div>"
      ],
      "text/plain": [
       "     stimulated_formation      mean_tvd\n",
       "0                  bakken  10868.577339\n",
       "1                  bakken  10724.267533\n",
       "2             three forks   9830.268200\n",
       "3                  bakken  10242.205128\n",
       "4                  bakken   9706.356736\n",
       "...                   ...           ...\n",
       "6524               bakken   8920.906336\n",
       "6525          three forks  10663.160435\n",
       "6526               bakken  10603.987440\n",
       "6527          three forks  11224.318952\n",
       "6528               bakken  10951.493000\n",
       "\n",
       "[6529 rows x 2 columns]"
      ]
     },
     "execution_count": 28,
     "metadata": {},
     "output_type": "execute_result"
    }
   ],
   "source": [
    "munged_df.filter([\"stimulated_formation\", \"mean_tvd\"])"
   ]
  },
  {
   "cell_type": "code",
   "execution_count": 13,
   "metadata": {
    "scrolled": false
   },
   "outputs": [
    {
     "name": "stdout",
     "output_type": "stream",
     "text": [
      "df shape before removals (6529, 48)\n",
      "Shape before blacklist removal: (6529, 48)\n",
      "Blacklisted columns: ['bakken_isopach_ft', 'production_liquid_120', 'production_liquid_150', 'production_liquid_180', 'production_liquid_1825', 'production_liquid_270', 'production_liquid_30', 'production_liquid_365', 'production_liquid_60', 'production_liquid_730', 'total_num_stages']\n",
      "Number of blacklisted columns: 11\n",
      "Shape after blacklist removal: (6529, 37)\n",
      "**************************************************\n",
      "Shape before cardinality removal: (6529, 37)\n",
      "Dropped CurrentWellName since it was categorical and had a high cardinality\n",
      "Dropped Footages since it was categorical and had a high cardinality\n",
      "Dropped LeaseName since it was categorical and had a high cardinality\n",
      "Dropped LeaseNumber since it was categorical and had a high cardinality\n",
      "Dropped OriginalWellName since it was categorical and had a high cardinality\n",
      "Shape after cardinality removal: (6529, 32)\n",
      "**************************************************\n",
      "Shape before high null removal: (6529, 32)\n",
      "Dropped DFElev since it had a high proportion of missing values. 0.999693674376\n",
      "Shape before high null removal: (6529, 31)\n",
      "df shape after removals (6529, 31)\n"
     ]
    }
   ],
   "source": [
    "train_df = munge_pipe(train_df, blacklist_patterns=my_blacklist_patterns, exceptions=set([TARGET_1]), null_cutoff=.18)"
   ]
  },
  {
   "cell_type": "code",
   "execution_count": 14,
   "metadata": {
    "scrolled": true
   },
   "outputs": [
    {
     "name": "stdout",
     "output_type": "stream",
     "text": [
      "df shape before removals (1586, 48)\n",
      "Shape before blacklist removal: (1586, 48)\n",
      "Blacklisted columns: ['bakken_isopach_ft', 'production_liquid_120', 'production_liquid_150', 'production_liquid_180', 'production_liquid_1825', 'production_liquid_270', 'production_liquid_30', 'production_liquid_365', 'production_liquid_60', 'production_liquid_730', 'total_num_stages']\n",
      "Number of blacklisted columns: 11\n",
      "Shape after blacklist removal: (1586, 37)\n",
      "**************************************************\n",
      "Shape before cardinality removal: (1586, 37)\n",
      "Dropped CurrentWellName since it was categorical and had a high cardinality\n",
      "Dropped DFElev since it was empty\n",
      "Dropped Footages since it was categorical and had a high cardinality\n",
      "Dropped LeaseName since it was categorical and had a high cardinality\n",
      "Dropped LeaseNumber since it was categorical and had a high cardinality\n",
      "Dropped OriginalWellName since it was categorical and had a high cardinality\n",
      "Shape after cardinality removal: (1586, 31)\n",
      "**************************************************\n",
      "Shape before high null removal: (1586, 31)\n",
      "Shape before high null removal: (1586, 31)\n",
      "df shape after removals (1586, 31)\n"
     ]
    }
   ],
   "source": [
    "test_df = munge_pipe(test_df, blacklist_patterns=my_blacklist_patterns, exceptions=set([TARGET_1]), null_cutoff=.18)"
   ]
  },
  {
   "cell_type": "markdown",
   "metadata": {},
   "source": [
    "### Split"
   ]
  },
  {
   "cell_type": "code",
   "execution_count": 15,
   "metadata": {},
   "outputs": [
    {
     "name": "stdout",
     "output_type": "stream",
     "text": [
      "(6529, 31)\n"
     ]
    }
   ],
   "source": [
    "print train_df.shape"
   ]
  },
  {
   "cell_type": "code",
   "execution_count": 16,
   "metadata": {
    "scrolled": true
   },
   "outputs": [
    {
     "name": "stdout",
     "output_type": "stream",
     "text": [
      "(1586, 31)\n"
     ]
    }
   ],
   "source": [
    "print test_df.shape"
   ]
  },
  {
   "cell_type": "code",
   "execution_count": 17,
   "metadata": {
    "scrolled": true
   },
   "outputs": [
    {
     "data": {
      "text/plain": [
       "28"
      ]
     },
     "execution_count": 17,
     "metadata": {},
     "output_type": "execute_result"
    }
   ],
   "source": [
    "test_df[TARGET_1].isnull().sum()"
   ]
  },
  {
   "cell_type": "code",
   "execution_count": 18,
   "metadata": {},
   "outputs": [
    {
     "data": {
      "text/plain": [
       "133"
      ]
     },
     "execution_count": 18,
     "metadata": {},
     "output_type": "execute_result"
    }
   ],
   "source": [
    "train_df[TARGET_1].isnull().sum()"
   ]
  },
  {
   "cell_type": "code",
   "execution_count": null,
   "metadata": {
    "collapsed": true
   },
   "outputs": [],
   "source": [
    "# Build Models\n",
    "\n",
    "etr = ExtraTreesRegressor(n_estimators=TREE_COUNT, max_depth=MAX_DEPTH, n_jobs=-1)\n",
    "\n",
    "etr.fit(rejoined_train_df, y_train)"
   ]
  },
  {
   "cell_type": "markdown",
   "metadata": {},
   "source": [
    "### Imputation"
   ]
  },
  {
   "cell_type": "code",
   "execution_count": 109,
   "metadata": {
    "collapsed": true
   },
   "outputs": [],
   "source": [
    "from fancyimpute import BiScaler, KNN, NuclearNormMinimization, SoftImpute, SimpleFill, MICE, MatrixFactorization, IterativeSVD"
   ]
  },
  {
   "cell_type": "markdown",
   "metadata": {},
   "source": [
    "### GBT"
   ]
  },
  {
   "cell_type": "code",
   "execution_count": 175,
   "metadata": {
    "collapsed": true
   },
   "outputs": [],
   "source": [
    "from sklearn.ensemble import GradientBoostingRegressor"
   ]
  },
  {
   "cell_type": "code",
   "execution_count": 191,
   "metadata": {
    "scrolled": false
   },
   "outputs": [
    {
     "data": {
      "text/plain": [
       "{'learning_rate': 0.05,\n",
       " 'max_depth': 5,\n",
       " 'min_samples_split': 3,\n",
       " 'n_estimators': 1000,\n",
       " 'subsample': 0.6}"
      ]
     },
     "execution_count": 191,
     "metadata": {},
     "output_type": "execute_result"
    }
   ],
   "source": [
    "grid.best_params_"
   ]
  },
  {
   "cell_type": "code",
   "execution_count": 199,
   "metadata": {
    "scrolled": false
   },
   "outputs": [
    {
     "data": {
      "text/plain": [
       "{'learning_rate': 0.01,\n",
       " 'max_depth': 7,\n",
       " 'min_samples_split': 3,\n",
       " 'n_estimators': 2000,\n",
       " 'subsample': 0.7}"
      ]
     },
     "execution_count": 199,
     "metadata": {},
     "output_type": "execute_result"
    }
   ],
   "source": [
    "grid.best_params_"
   ]
  },
  {
   "cell_type": "code",
   "execution_count": 200,
   "metadata": {},
   "outputs": [],
   "source": [
    "gbr = GradientBoostingRegressor(learning_rate=0.01, n_estimators=2000, subsample = .7, max_depth =7, min_samples_split= 3, random_state=1984)"
   ]
  },
  {
   "cell_type": "code",
   "execution_count": 201,
   "metadata": {},
   "outputs": [
    {
     "data": {
      "text/plain": [
       "GradientBoostingRegressor(alpha=0.9, criterion='friedman_mse', init=None,\n",
       "             learning_rate=0.01, loss='ls', max_depth=7, max_features=None,\n",
       "             max_leaf_nodes=None, min_impurity_decrease=0.0,\n",
       "             min_impurity_split=None, min_samples_leaf=1,\n",
       "             min_samples_split=3, min_weight_fraction_leaf=0.0,\n",
       "             n_estimators=2000, presort='auto', random_state=1984,\n",
       "             subsample=0.7, verbose=0, warm_start=False)"
      ]
     },
     "execution_count": 201,
     "metadata": {},
     "output_type": "execute_result"
    }
   ],
   "source": [
    "gbr.fit(rejoined_train_df, y_train)"
   ]
  },
  {
   "cell_type": "code",
   "execution_count": 202,
   "metadata": {
    "scrolled": true
   },
   "outputs": [
    {
     "data": {
      "text/plain": [
       "0.6266726640775433"
      ]
     },
     "execution_count": 202,
     "metadata": {},
     "output_type": "execute_result"
    }
   ],
   "source": [
    "gbr.score(rejoined_test_df, y_test)"
   ]
  },
  {
   "cell_type": "code",
   "execution_count": 196,
   "metadata": {
    "scrolled": true
   },
   "outputs": [
    {
     "data": {
      "text/plain": [
       "0.61430816909047947"
      ]
     },
     "execution_count": 196,
     "metadata": {},
     "output_type": "execute_result"
    }
   ],
   "source": [
    "gbr.score(rejoined_test_df, y_test)"
   ]
  },
  {
   "cell_type": "code",
   "execution_count": 197,
   "metadata": {
    "scrolled": true
   },
   "outputs": [],
   "source": [
    "from sklearn.model_selection import GridSearchCV\n",
    "\n",
    "gbr2 = GradientBoostingRegressor(random_state=1984)\n",
    "\n",
    "params = {\"learning_rate\": [.001, .01, .05], \"n_estimators\": [1000, 2000], \"max_depth\": [3, 5, 7], \"min_samples_split\": [3, 4], \"subsample\": [.5, .6, .7]}\n",
    "\n",
    "grid = GridSearchCV(estimator=gbr2,param_grid=params, n_jobs=-1)\n"
   ]
  },
  {
   "cell_type": "code",
   "execution_count": 198,
   "metadata": {},
   "outputs": [
    {
     "data": {
      "text/plain": [
       "GridSearchCV(cv=None, error_score='raise',\n",
       "       estimator=GradientBoostingRegressor(alpha=0.9, criterion='friedman_mse', init=None,\n",
       "             learning_rate=0.1, loss='ls', max_depth=3, max_features=None,\n",
       "             max_leaf_nodes=None, min_impurity_decrease=0.0,\n",
       "             min_impurity_split=None, min_samples_leaf=1,\n",
       "             min_samples_split=2, min_weight_fraction_leaf=0.0,\n",
       "             n_estimators=100, presort='auto', random_state=1984,\n",
       "             subsample=1.0, verbose=0, warm_start=False),\n",
       "       fit_params=None, iid=True, n_jobs=-1,\n",
       "       param_grid={'n_estimators': [1000, 2000], 'min_samples_split': [3, 4], 'learning_rate': [0.001, 0.01, 0.05], 'max_depth': [3, 5, 7], 'subsample': [0.5, 0.6, 0.7]},\n",
       "       pre_dispatch='2*n_jobs', refit=True, return_train_score=True,\n",
       "       scoring=None, verbose=0)"
      ]
     },
     "execution_count": 198,
     "metadata": {},
     "output_type": "execute_result"
    }
   ],
   "source": [
    "grid.fit(rejoined_train_df, y_train)"
   ]
  },
  {
   "cell_type": "markdown",
   "metadata": {},
   "source": [
    "## Model Evaluation"
   ]
  },
  {
   "cell_type": "code",
   "execution_count": null,
   "metadata": {
    "collapsed": true,
    "scrolled": false
   },
   "outputs": [],
   "source": [
    "etr.score(X_test, y_test)"
   ]
  },
  {
   "cell_type": "code",
   "execution_count": null,
   "metadata": {
    "collapsed": true,
    "scrolled": true
   },
   "outputs": [],
   "source": [
    "mft.eval_model(etr, X_test, y_test, y_train)"
   ]
  },
  {
   "cell_type": "code",
   "execution_count": null,
   "metadata": {
    "collapsed": true
   },
   "outputs": [],
   "source": [
    "mft.eval_model(gbr, X_test, y_test, y_train)"
   ]
  },
  {
   "cell_type": "code",
   "execution_count": null,
   "metadata": {
    "collapsed": true
   },
   "outputs": [],
   "source": [
    "from sklearn.model_selection import GridSearchCV"
   ]
  },
  {
   "cell_type": "markdown",
   "metadata": {},
   "source": [
    "### Feature Importances"
   ]
  },
  {
   "cell_type": "code",
   "execution_count": null,
   "metadata": {
    "collapsed": true
   },
   "outputs": [],
   "source": [
    "feature_array = np.array(X_train.columns)"
   ]
  },
  {
   "cell_type": "code",
   "execution_count": null,
   "metadata": {
    "collapsed": true
   },
   "outputs": [],
   "source": []
  },
  {
   "cell_type": "code",
   "execution_count": null,
   "metadata": {
    "collapsed": true
   },
   "outputs": [],
   "source": [
    "models = [etr, gbr]"
   ]
  },
  {
   "cell_type": "code",
   "execution_count": null,
   "metadata": {
    "collapsed": true,
    "scrolled": true
   },
   "outputs": [],
   "source": [
    "mft.most_important_features(etr, feature_array)"
   ]
  },
  {
   "cell_type": "code",
   "execution_count": null,
   "metadata": {
    "collapsed": true
   },
   "outputs": [],
   "source": [
    "mft.most_important_features(gbr, feature_array)"
   ]
  },
  {
   "cell_type": "code",
   "execution_count": null,
   "metadata": {
    "collapsed": true
   },
   "outputs": [],
   "source": [
    "#whoops, index is still in there"
   ]
  },
  {
   "cell_type": "code",
   "execution_count": null,
   "metadata": {
    "collapsed": true
   },
   "outputs": [],
   "source": []
  }
 ],
 "metadata": {
  "kernelspec": {
   "display_name": "Python 3",
   "language": "python",
   "name": "python3"
  },
  "language_info": {
   "codemirror_mode": {
    "name": "ipython",
    "version": 3
   },
   "file_extension": ".py",
   "mimetype": "text/x-python",
   "name": "python",
   "nbconvert_exporter": "python",
   "pygments_lexer": "ipython3",
   "version": "3.7.3"
  }
 },
 "nbformat": 4,
 "nbformat_minor": 2
}
