{
 "cells": [
  {
   "cell_type": "markdown",
   "metadata": {},
   "source": [
    "# Missingness\n",
<<<<<<< HEAD
    "- A problem both common and insidious\n",
=======
    "- A problem that is both common and insidious\n",
>>>>>>> 08c300d1bea6bb230179bcd532ecffb75a91ba4e
    "\n",
    "### Diagnosis: \n",
    "- How many rows are missing at least one value?\n",
    "- What fraction of columns/features are missing values?\n",
    "- Is there any pattern to the missing values? (What is the missigness regime?)\n",
<<<<<<< HEAD
    " - Create a missingness indicator for each feature with missing values, and run pairwise correlations against other features in the dataset. \n",
    " - Compute Pearson correlation strength of model features with count of the number of missing values per observation.\n",
    "\n",
    "#### Looking at some auxiliary features\n",
    "- Not expecting to use frac year in the model, but it can be used to test missingness regime\n",
    "\n",
    " ### Remedy:\n",
    "- Use modern multiple imputation technique\n",
    "- Test different imputation techniques using cross-validation\n",
    "  - First create a dataset that is close to MCAR (missing completely at random).\n",
    "  - Mask out a portion of known datapoints, then build models over and over again on different random partitions of the dataset."
=======
    " - a missingness indicator for each feature with missing values, and run pairwise correlations against other featuresin the dataset. \n",
    " - Pearson correlation strength of model features with count of the number of missing values per observation.\n",
    "\n",
    "#### Looking at some auxiliary features\n",
    "- not expecting to use frac year in the model, but it can be used to test missingness regime\n",
    "\n",
    " ### Remedy:\n",
    "- Use modern multiple imputation technique"
>>>>>>> 08c300d1bea6bb230179bcd532ecffb75a91ba4e
   ]
  },
  {
   "cell_type": "code",
<<<<<<< HEAD
   "execution_count": 99,
=======
   "execution_count": 46,
>>>>>>> 08c300d1bea6bb230179bcd532ecffb75a91ba4e
   "metadata": {},
   "outputs": [],
   "source": [
    "import matplotlib.pyplot as plt\n",
    "%matplotlib inline\n",
    "import seaborn as sns\n",
    "import pandas as pd\n",
    "\n",
    "# custom tools\n",
    "import sys\n",
    "sys.path.insert(1, '../scripts/')\n",
    "# import eda_tools as et\n",
    "# import data_munging_tools as dmt\n",
    "import model_fitting_tools as mft"
   ]
  },
  {
   "cell_type": "code",
<<<<<<< HEAD
   "execution_count": 100,
=======
   "execution_count": 37,
>>>>>>> 08c300d1bea6bb230179bcd532ecffb75a91ba4e
   "metadata": {},
   "outputs": [],
   "source": [
    "full_df =  pd.read_csv(\"../data/full_df.tsv\", sep=\"\\t\", index_col=\"api\")"
   ]
  },
  {
   "cell_type": "code",
<<<<<<< HEAD
   "execution_count": 101,
=======
   "execution_count": 3,
>>>>>>> 08c300d1bea6bb230179bcd532ecffb75a91ba4e
   "metadata": {},
   "outputs": [],
   "source": [
    "def count_missings(df):\n",
    "    percent_missing_df = (df.isnull().sum() / full_df.shape[0] * 100).round(2).to_frame().rename(columns={0: \"percent_missing\"})\n",
    "    return percent_missing_df"
   ]
  },
  {
   "cell_type": "code",
<<<<<<< HEAD
   "execution_count": 102,
=======
   "execution_count": 4,
>>>>>>> 08c300d1bea6bb230179bcd532ecffb75a91ba4e
   "metadata": {
    "scrolled": false
   },
   "outputs": [
    {
     "data": {
      "text/html": [
       "<div>\n",
       "<style scoped>\n",
       "    .dataframe tbody tr th:only-of-type {\n",
       "        vertical-align: middle;\n",
       "    }\n",
       "\n",
       "    .dataframe tbody tr th {\n",
       "        vertical-align: top;\n",
       "    }\n",
       "\n",
       "    .dataframe thead th {\n",
       "        text-align: right;\n",
       "    }\n",
       "</style>\n",
       "<table border=\"1\" class=\"dataframe\">\n",
       "  <thead>\n",
       "    <tr style=\"text-align: right;\">\n",
       "      <th></th>\n",
       "      <th>percent_missing</th>\n",
       "    </tr>\n",
       "  </thead>\n",
       "  <tbody>\n",
       "    <tr>\n",
       "      <th>bakken_isopach_ft</th>\n",
       "      <td>0.00</td>\n",
       "    </tr>\n",
       "    <tr>\n",
       "      <th>bh_lat</th>\n",
       "      <td>0.00</td>\n",
       "    </tr>\n",
       "    <tr>\n",
       "      <th>bh_lng</th>\n",
       "      <td>0.00</td>\n",
       "    </tr>\n",
       "    <tr>\n",
       "      <th>choke_size</th>\n",
       "      <td>19.94</td>\n",
       "    </tr>\n",
       "    <tr>\n",
       "      <th>data_group</th>\n",
       "      <td>0.00</td>\n",
       "    </tr>\n",
       "    <tr>\n",
       "      <th>legs</th>\n",
       "      <td>0.00</td>\n",
       "    </tr>\n",
       "    <tr>\n",
       "      <th>mean_tvd</th>\n",
       "      <td>0.00</td>\n",
       "    </tr>\n",
       "    <tr>\n",
       "      <th>min_tvd</th>\n",
       "      <td>0.00</td>\n",
       "    </tr>\n",
       "    <tr>\n",
       "      <th>production_liquid_180</th>\n",
       "      <td>0.00</td>\n",
       "    </tr>\n",
       "    <tr>\n",
       "      <th>std_tvd</th>\n",
       "      <td>0.00</td>\n",
       "    </tr>\n",
       "    <tr>\n",
       "      <th>surface_lat</th>\n",
       "      <td>0.00</td>\n",
       "    </tr>\n",
       "    <tr>\n",
       "      <th>surface_lng</th>\n",
       "      <td>0.00</td>\n",
       "    </tr>\n",
       "    <tr>\n",
       "      <th>td</th>\n",
       "      <td>0.08</td>\n",
       "    </tr>\n",
       "    <tr>\n",
       "      <th>total_lbs_proppant</th>\n",
       "      <td>14.18</td>\n",
       "    </tr>\n",
       "    <tr>\n",
       "      <th>total_num_stages</th>\n",
       "      <td>9.46</td>\n",
       "    </tr>\n",
       "    <tr>\n",
       "      <th>total_volume_bbls</th>\n",
       "      <td>15.24</td>\n",
       "    </tr>\n",
       "    <tr>\n",
       "      <th>tvd</th>\n",
       "      <td>0.00</td>\n",
       "    </tr>\n",
       "    <tr>\n",
       "      <th>length</th>\n",
       "      <td>5.11</td>\n",
       "    </tr>\n",
       "    <tr>\n",
       "      <th>stage_spacing</th>\n",
       "      <td>13.94</td>\n",
       "    </tr>\n",
       "    <tr>\n",
       "      <th>spud_year</th>\n",
       "      <td>0.25</td>\n",
       "    </tr>\n",
       "    <tr>\n",
       "      <th>shortest_dist</th>\n",
       "      <td>0.00</td>\n",
       "    </tr>\n",
       "    <tr>\n",
       "      <th>target_formation</th>\n",
       "      <td>0.15</td>\n",
       "    </tr>\n",
       "  </tbody>\n",
       "</table>\n",
       "</div>"
      ],
      "text/plain": [
       "                       percent_missing\n",
       "bakken_isopach_ft                 0.00\n",
       "bh_lat                            0.00\n",
       "bh_lng                            0.00\n",
       "choke_size                       19.94\n",
       "data_group                        0.00\n",
       "legs                              0.00\n",
       "mean_tvd                          0.00\n",
       "min_tvd                           0.00\n",
       "production_liquid_180             0.00\n",
       "std_tvd                           0.00\n",
       "surface_lat                       0.00\n",
       "surface_lng                       0.00\n",
       "td                                0.08\n",
       "total_lbs_proppant               14.18\n",
       "total_num_stages                  9.46\n",
       "total_volume_bbls                15.24\n",
       "tvd                               0.00\n",
       "length                            5.11\n",
       "stage_spacing                    13.94\n",
       "spud_year                         0.25\n",
       "shortest_dist                     0.00\n",
       "target_formation                  0.15"
      ]
     },
<<<<<<< HEAD
     "execution_count": 102,
=======
     "execution_count": 4,
>>>>>>> 08c300d1bea6bb230179bcd532ecffb75a91ba4e
     "metadata": {},
     "output_type": "execute_result"
    }
   ],
   "source": [
    "percent_missing_df = count_missings(full_df)\n",
    "percent_missing_df"
   ]
  },
  {
   "cell_type": "code",
<<<<<<< HEAD
   "execution_count": 103,
=======
   "execution_count": 5,
>>>>>>> 08c300d1bea6bb230179bcd532ecffb75a91ba4e
   "metadata": {
    "scrolled": false
   },
   "outputs": [
    {
     "data": {
      "text/html": [
       "<div>\n",
       "<style scoped>\n",
       "    .dataframe tbody tr th:only-of-type {\n",
       "        vertical-align: middle;\n",
       "    }\n",
       "\n",
       "    .dataframe tbody tr th {\n",
       "        vertical-align: top;\n",
       "    }\n",
       "\n",
       "    .dataframe thead th {\n",
       "        text-align: right;\n",
       "    }\n",
       "</style>\n",
       "<table border=\"1\" class=\"dataframe\">\n",
       "  <thead>\n",
       "    <tr style=\"text-align: right;\">\n",
       "      <th></th>\n",
       "      <th>percent_missing</th>\n",
       "    </tr>\n",
       "  </thead>\n",
       "  <tbody>\n",
       "    <tr>\n",
       "      <th>bakken_isopach_ft</th>\n",
       "      <td>0.00</td>\n",
       "    </tr>\n",
       "    <tr>\n",
       "      <th>bh_lat</th>\n",
       "      <td>0.00</td>\n",
       "    </tr>\n",
       "    <tr>\n",
       "      <th>bh_lng</th>\n",
       "      <td>0.00</td>\n",
       "    </tr>\n",
       "    <tr>\n",
       "      <th>choke_size</th>\n",
       "      <td>14.92</td>\n",
       "    </tr>\n",
       "    <tr>\n",
       "      <th>data_group</th>\n",
       "      <td>0.00</td>\n",
       "    </tr>\n",
       "    <tr>\n",
       "      <th>legs</th>\n",
       "      <td>0.00</td>\n",
       "    </tr>\n",
       "    <tr>\n",
       "      <th>mean_tvd</th>\n",
       "      <td>0.00</td>\n",
       "    </tr>\n",
       "    <tr>\n",
       "      <th>min_tvd</th>\n",
       "      <td>0.00</td>\n",
       "    </tr>\n",
       "    <tr>\n",
       "      <th>production_liquid_180</th>\n",
       "      <td>0.00</td>\n",
       "    </tr>\n",
       "    <tr>\n",
       "      <th>std_tvd</th>\n",
       "      <td>0.00</td>\n",
       "    </tr>\n",
       "    <tr>\n",
       "      <th>surface_lat</th>\n",
       "      <td>0.00</td>\n",
       "    </tr>\n",
       "    <tr>\n",
       "      <th>surface_lng</th>\n",
       "      <td>0.00</td>\n",
       "    </tr>\n",
       "    <tr>\n",
       "      <th>td</th>\n",
       "      <td>0.08</td>\n",
       "    </tr>\n",
       "    <tr>\n",
       "      <th>total_lbs_proppant</th>\n",
       "      <td>2.59</td>\n",
       "    </tr>\n",
       "    <tr>\n",
       "      <th>total_num_stages</th>\n",
       "      <td>0.45</td>\n",
       "    </tr>\n",
       "    <tr>\n",
       "      <th>total_volume_bbls</th>\n",
       "      <td>3.56</td>\n",
       "    </tr>\n",
       "    <tr>\n",
       "      <th>tvd</th>\n",
       "      <td>0.00</td>\n",
       "    </tr>\n",
       "    <tr>\n",
       "      <th>length</th>\n",
       "      <td>4.35</td>\n",
       "    </tr>\n",
       "    <tr>\n",
       "      <th>stage_spacing</th>\n",
       "      <td>4.77</td>\n",
       "    </tr>\n",
       "    <tr>\n",
       "      <th>spud_year</th>\n",
       "      <td>0.00</td>\n",
       "    </tr>\n",
       "    <tr>\n",
       "      <th>shortest_dist</th>\n",
       "      <td>0.00</td>\n",
       "    </tr>\n",
       "    <tr>\n",
       "      <th>target_formation</th>\n",
       "      <td>0.09</td>\n",
       "    </tr>\n",
       "  </tbody>\n",
       "</table>\n",
       "</div>"
      ],
      "text/plain": [
       "                       percent_missing\n",
       "bakken_isopach_ft                 0.00\n",
       "bh_lat                            0.00\n",
       "bh_lng                            0.00\n",
       "choke_size                       14.92\n",
       "data_group                        0.00\n",
       "legs                              0.00\n",
       "mean_tvd                          0.00\n",
       "min_tvd                           0.00\n",
       "production_liquid_180             0.00\n",
       "std_tvd                           0.00\n",
       "surface_lat                       0.00\n",
       "surface_lng                       0.00\n",
       "td                                0.08\n",
       "total_lbs_proppant                2.59\n",
       "total_num_stages                  0.45\n",
       "total_volume_bbls                 3.56\n",
       "tvd                               0.00\n",
       "length                            4.35\n",
       "stage_spacing                     4.77\n",
       "spud_year                         0.00\n",
       "shortest_dist                     0.00\n",
       "target_formation                  0.09"
      ]
     },
<<<<<<< HEAD
     "execution_count": 103,
=======
     "execution_count": 5,
>>>>>>> 08c300d1bea6bb230179bcd532ecffb75a91ba4e
     "metadata": {},
     "output_type": "execute_result"
    }
   ],
   "source": [
    "percent_missing_df = count_missings(full_df.query(\"spud_year > 2009\"))\n",
    "percent_missing_df"
   ]
  },
  {
   "cell_type": "code",
<<<<<<< HEAD
   "execution_count": 104,
=======
   "execution_count": 6,
>>>>>>> 08c300d1bea6bb230179bcd532ecffb75a91ba4e
   "metadata": {},
   "outputs": [
    {
     "data": {
      "text/plain": [
       "(383, 22)"
      ]
     },
<<<<<<< HEAD
     "execution_count": 104,
=======
     "execution_count": 6,
>>>>>>> 08c300d1bea6bb230179bcd532ecffb75a91ba4e
     "metadata": {},
     "output_type": "execute_result"
    }
   ],
   "source": [
    "#TODO this is a problem. haversine is not working properly for about 5% of observations\n",
    "full_df.query(\"length != length\").shape"
   ]
  },
  {
   "cell_type": "code",
<<<<<<< HEAD
   "execution_count": 105,
=======
   "execution_count": 7,
>>>>>>> 08c300d1bea6bb230179bcd532ecffb75a91ba4e
   "metadata": {},
   "outputs": [
    {
     "data": {
      "text/plain": [
       "(7502, 22)"
      ]
     },
<<<<<<< HEAD
     "execution_count": 105,
=======
     "execution_count": 7,
>>>>>>> 08c300d1bea6bb230179bcd532ecffb75a91ba4e
     "metadata": {},
     "output_type": "execute_result"
    }
   ],
   "source": [
    "full_df.shape"
   ]
  },
  {
   "cell_type": "code",
<<<<<<< HEAD
   "execution_count": 106,
=======
   "execution_count": 8,
>>>>>>> 08c300d1bea6bb230179bcd532ecffb75a91ba4e
   "metadata": {},
   "outputs": [
    {
     "data": {
      "text/plain": [
       "(5915, 21)"
      ]
     },
<<<<<<< HEAD
     "execution_count": 106,
=======
     "execution_count": 8,
>>>>>>> 08c300d1bea6bb230179bcd532ecffb75a91ba4e
     "metadata": {},
     "output_type": "execute_result"
    }
   ],
   "source": [
    "full_df.drop(\"choke_size\", axis=1).dropna().shape"
   ]
  },
  {
   "cell_type": "code",
<<<<<<< HEAD
   "execution_count": 107,
=======
   "execution_count": 9,
>>>>>>> 08c300d1bea6bb230179bcd532ecffb75a91ba4e
   "metadata": {},
   "outputs": [
    {
     "data": {
      "text/plain": [
       "(5831, 21)"
      ]
     },
<<<<<<< HEAD
     "execution_count": 107,
=======
     "execution_count": 9,
>>>>>>> 08c300d1bea6bb230179bcd532ecffb75a91ba4e
     "metadata": {},
     "output_type": "execute_result"
    }
   ],
   "source": [
    "full_df.drop(\"choke_size\", axis=1).query(\"spud_year > 2009\").dropna().shape"
   ]
  },
  {
   "cell_type": "code",
<<<<<<< HEAD
   "execution_count": 108,
=======
   "execution_count": 10,
>>>>>>> 08c300d1bea6bb230179bcd532ecffb75a91ba4e
   "metadata": {},
   "outputs": [],
   "source": [
    "later_df = full_df.copy().drop(\"choke_size\", axis=1).query(\"spud_year > 2009\")"
   ]
  },
  {
   "cell_type": "code",
<<<<<<< HEAD
   "execution_count": 109,
=======
   "execution_count": 11,
>>>>>>> 08c300d1bea6bb230179bcd532ecffb75a91ba4e
   "metadata": {
    "scrolled": true
   },
   "outputs": [
    {
     "data": {
      "text/plain": [
       "(6518, 21)"
      ]
     },
<<<<<<< HEAD
     "execution_count": 109,
=======
     "execution_count": 11,
>>>>>>> 08c300d1bea6bb230179bcd532ecffb75a91ba4e
     "metadata": {},
     "output_type": "execute_result"
    }
   ],
   "source": [
    "later_df.shape"
   ]
  },
  {
   "cell_type": "code",
<<<<<<< HEAD
   "execution_count": 110,
=======
   "execution_count": 12,
>>>>>>> 08c300d1bea6bb230179bcd532ecffb75a91ba4e
   "metadata": {},
   "outputs": [
    {
     "name": "stdout",
     "output_type": "stream",
     "text": [
<<<<<<< HEAD
      "\n",
      "    353 missing either fluid OR proppant,\n",
      "    108 missing both fluid AND proppant,\n",
      "    159 missing only fluid\n",
      "    86 missing only proppant\n",
      "    \n"
=======
      "353 108 159 86\n"
>>>>>>> 08c300d1bea6bb230179bcd532ecffb75a91ba4e
     ]
    }
   ],
   "source": [
    "missing_fluid = set(later_df.query(\"total_volume_bbls != total_volume_bbls\").index.values)\n",
    "\n",
    "missing_proppant = set(later_df.query(\"total_lbs_proppant!= total_lbs_proppant\").index.values)\n",
    "\n",
<<<<<<< HEAD
    "print(f'''\n",
    "    {len(missing_fluid.union(missing_proppant))} missing either fluid OR proppant,\n",
    "    {len(missing_fluid.intersection(missing_proppant))} missing both fluid AND proppant,\n",
    "    {len(missing_fluid - missing_proppant)} missing only fluid\n",
    "    {len(missing_proppant - missing_fluid)} missing only proppant\n",
    "    ''')\n"
=======
    "print(\n",
    "    len(missing_fluid.union(missing_proppant)),\n",
    "    len(missing_fluid.intersection(missing_proppant)),\n",
    "    len(missing_fluid - missing_proppant),\n",
    "    len(missing_proppant - missing_fluid)\n",
    "     )"
>>>>>>> 08c300d1bea6bb230179bcd532ecffb75a91ba4e
   ]
  },
  {
   "cell_type": "code",
<<<<<<< HEAD
   "execution_count": 111,
=======
   "execution_count": 14,
   "metadata": {
    "scrolled": false
   },
   "outputs": [
    {
     "data": {
      "text/plain": [
       "bakken_isopach_ft          0\n",
       "bh_lat                     0\n",
       "bh_lng                     0\n",
       "data_group                 0\n",
       "legs                       0\n",
       "mean_tvd                   0\n",
       "min_tvd                    0\n",
       "production_liquid_180      0\n",
       "std_tvd                    0\n",
       "surface_lat                0\n",
       "surface_lng                0\n",
       "td                         6\n",
       "total_lbs_proppant       194\n",
       "total_num_stages          34\n",
       "total_volume_bbls        267\n",
       "tvd                        0\n",
       "length                   326\n",
       "stage_spacing            358\n",
       "spud_year                  0\n",
       "shortest_dist              0\n",
       "target_formation           7\n",
       "dtype: int64"
      ]
     },
     "execution_count": 14,
     "metadata": {},
     "output_type": "execute_result"
    }
   ],
   "source": [
    "later_df.isnull().sum()"
   ]
  },
  {
   "cell_type": "code",
   "execution_count": 15,
   "metadata": {
    "scrolled": false
   },
   "outputs": [
    {
     "data": {
      "text/plain": [
       "bakken_isopach_ft           0\n",
       "bh_lat                      0\n",
       "bh_lng                      0\n",
       "choke_size               1496\n",
       "data_group                  0\n",
       "legs                        0\n",
       "mean_tvd                    0\n",
       "min_tvd                     0\n",
       "production_liquid_180       0\n",
       "std_tvd                     0\n",
       "surface_lat                 0\n",
       "surface_lng                 0\n",
       "td                          6\n",
       "total_lbs_proppant       1064\n",
       "total_num_stages          710\n",
       "total_volume_bbls        1143\n",
       "tvd                         0\n",
       "length                    383\n",
       "stage_spacing            1046\n",
       "spud_year                  19\n",
       "shortest_dist               0\n",
       "target_formation           11\n",
       "dtype: int64"
      ]
     },
     "execution_count": 15,
     "metadata": {},
     "output_type": "execute_result"
    }
   ],
   "source": [
    "full_df.isnull().sum()"
   ]
  },
  {
   "cell_type": "code",
   "execution_count": 16,
   "metadata": {
    "scrolled": true
   },
   "outputs": [
    {
     "data": {
      "text/plain": [
       "['bakken_isopach_ft',\n",
       " 'bh_lat',\n",
       " 'bh_lng',\n",
       " 'choke_size',\n",
       " 'data_group',\n",
       " 'legs',\n",
       " 'mean_tvd',\n",
       " 'min_tvd',\n",
       " 'production_liquid_180',\n",
       " 'std_tvd',\n",
       " 'surface_lat',\n",
       " 'surface_lng',\n",
       " 'td',\n",
       " 'total_lbs_proppant',\n",
       " 'total_num_stages',\n",
       " 'total_volume_bbls',\n",
       " 'tvd',\n",
       " 'length',\n",
       " 'stage_spacing',\n",
       " 'spud_year',\n",
       " 'shortest_dist',\n",
       " 'target_formation']"
      ]
     },
     "execution_count": 16,
     "metadata": {},
     "output_type": "execute_result"
    }
   ],
   "source": [
    "full_df.columns.tolist()"
   ]
  },
  {
   "cell_type": "code",
   "execution_count": 17,
>>>>>>> 08c300d1bea6bb230179bcd532ecffb75a91ba4e
   "metadata": {},
   "outputs": [],
   "source": [
    "foi = [\"std_tvd\", \n",
    "       \"tvd\", \n",
    "       \"total_lbs_proppant\", \n",
    "       \"total_volume_bbls\", \n",
    "       \"total_num_stages\", \n",
    "       \"spud_year\", \n",
    "       \"bh_lat\", \n",
    "       \"bh_lng\", \n",
    "       \"target_formation\",\n",
    "       \"production_liquid_180\"]"
   ]
  },
  {
   "cell_type": "code",
<<<<<<< HEAD
   "execution_count": 112,
=======
   "execution_count": 18,
>>>>>>> 08c300d1bea6bb230179bcd532ecffb75a91ba4e
   "metadata": {},
   "outputs": [
    {
     "data": {
      "text/plain": [
       "std_tvd                  0.000000\n",
       "tvd                      0.000000\n",
       "total_lbs_proppant       0.141829\n",
       "total_volume_bbls        0.152359\n",
       "total_num_stages         0.094641\n",
       "spud_year                0.002533\n",
       "bh_lat                   0.000000\n",
       "bh_lng                   0.000000\n",
       "target_formation         0.001466\n",
       "production_liquid_180    0.000000\n",
       "dtype: float64"
      ]
     },
<<<<<<< HEAD
     "execution_count": 112,
=======
     "execution_count": 18,
>>>>>>> 08c300d1bea6bb230179bcd532ecffb75a91ba4e
     "metadata": {},
     "output_type": "execute_result"
    }
   ],
   "source": [
    "full_df[foi].isnull().sum() / full_df[foi].shape[0]"
   ]
  },
  {
   "cell_type": "code",
<<<<<<< HEAD
   "execution_count": 113,
=======
   "execution_count": 19,
>>>>>>> 08c300d1bea6bb230179bcd532ecffb75a91ba4e
   "metadata": {},
   "outputs": [],
   "source": [
    "null_count_df = full_df[foi].isnull().sum().to_frame().rename(columns={0: \"null_count\"})"
   ]
  },
  {
   "cell_type": "code",
<<<<<<< HEAD
   "execution_count": 114,
=======
   "execution_count": 20,
>>>>>>> 08c300d1bea6bb230179bcd532ecffb75a91ba4e
   "metadata": {},
   "outputs": [
    {
     "data": {
      "text/plain": [
       "['total_lbs_proppant',\n",
       " 'total_volume_bbls',\n",
       " 'total_num_stages',\n",
       " 'spud_year',\n",
       " 'target_formation']"
      ]
     },
<<<<<<< HEAD
     "execution_count": 114,
=======
     "execution_count": 20,
>>>>>>> 08c300d1bea6bb230179bcd532ecffb75a91ba4e
     "metadata": {},
     "output_type": "execute_result"
    }
   ],
   "source": [
    "null_count_df.query(\"null_count > 1\").index.tolist()"
   ]
  },
  {
   "cell_type": "code",
<<<<<<< HEAD
   "execution_count": 115,
=======
   "execution_count": 21,
>>>>>>> 08c300d1bea6bb230179bcd532ecffb75a91ba4e
   "metadata": {},
   "outputs": [],
   "source": [
    "null_flag_df = full_df.copy()\n",
    "\n",
    "for col in foi:\n",
    "    null_flag_df[col + \"_isnull\"] = null_flag_df[col].isnull()"
   ]
  },
  {
   "cell_type": "code",
<<<<<<< HEAD
   "execution_count": 116,
=======
   "execution_count": 22,
>>>>>>> 08c300d1bea6bb230179bcd532ecffb75a91ba4e
   "metadata": {},
   "outputs": [],
   "source": [
    "completion_features = \\\n",
    "['total_lbs_proppant',\n",
    " 'total_volume_bbls',\n",
    " 'total_num_stages']"
   ]
  },
  {
   "cell_type": "code",
<<<<<<< HEAD
   "execution_count": 117,
=======
   "execution_count": 23,
>>>>>>> 08c300d1bea6bb230179bcd532ecffb75a91ba4e
   "metadata": {},
   "outputs": [],
   "source": [
    "null_flag_corr_df = null_flag_df[[\"surface_lat\", \"surface_lng\", \"spud_year\"] + [x + \"_isnull\" for x in completion_features]].corr()"
   ]
  },
  {
<<<<<<< HEAD
   "cell_type": "markdown",
   "metadata": {},
   "source": [
    "## Missingness of `total_lbs_proppant` is highly correlated (~87%) with missingness of `total_volume_bbls`"
   ]
  },
  {
   "cell_type": "code",
   "execution_count": 119,
   "metadata": {
    "scrolled": true
=======
   "cell_type": "code",
   "execution_count": 24,
   "metadata": {
    "scrolled": false
>>>>>>> 08c300d1bea6bb230179bcd532ecffb75a91ba4e
   },
   "outputs": [
    {
     "data": {
      "text/html": [
       "<div>\n",
       "<style scoped>\n",
       "    .dataframe tbody tr th:only-of-type {\n",
       "        vertical-align: middle;\n",
       "    }\n",
       "\n",
       "    .dataframe tbody tr th {\n",
       "        vertical-align: top;\n",
       "    }\n",
       "\n",
       "    .dataframe thead th {\n",
       "        text-align: right;\n",
       "    }\n",
       "</style>\n",
       "<table border=\"1\" class=\"dataframe\">\n",
       "  <thead>\n",
       "    <tr style=\"text-align: right;\">\n",
       "      <th></th>\n",
       "      <th>surface_lat</th>\n",
       "      <th>surface_lng</th>\n",
       "      <th>spud_year</th>\n",
       "      <th>total_lbs_proppant_isnull</th>\n",
       "      <th>total_volume_bbls_isnull</th>\n",
       "      <th>total_num_stages_isnull</th>\n",
       "    </tr>\n",
       "  </thead>\n",
       "  <tbody>\n",
       "    <tr>\n",
       "      <th>surface_lat</th>\n",
       "      <td>1.000000</td>\n",
       "      <td>-0.126848</td>\n",
       "      <td>0.003178</td>\n",
       "      <td>0.006326</td>\n",
       "      <td>-0.002830</td>\n",
       "      <td>-0.040458</td>\n",
       "    </tr>\n",
       "    <tr>\n",
       "      <th>surface_lng</th>\n",
       "      <td>-0.126848</td>\n",
       "      <td>1.000000</td>\n",
       "      <td>-0.245711</td>\n",
       "      <td>0.265234</td>\n",
       "      <td>0.258472</td>\n",
       "      <td>0.187109</td>\n",
       "    </tr>\n",
       "    <tr>\n",
       "      <th>spud_year</th>\n",
       "      <td>0.003178</td>\n",
       "      <td>-0.245711</td>\n",
       "      <td>1.000000</td>\n",
       "      <td>-0.661677</td>\n",
       "      <td>-0.646359</td>\n",
       "      <td>-0.634365</td>\n",
       "    </tr>\n",
       "    <tr>\n",
       "      <th>total_lbs_proppant_isnull</th>\n",
       "      <td>0.006326</td>\n",
       "      <td>0.265234</td>\n",
       "      <td>-0.661677</td>\n",
       "      <td>1.000000</td>\n",
       "      <td>0.867450</td>\n",
       "      <td>0.762675</td>\n",
       "    </tr>\n",
       "    <tr>\n",
       "      <th>total_volume_bbls_isnull</th>\n",
       "      <td>-0.002830</td>\n",
       "      <td>0.258472</td>\n",
       "      <td>-0.646359</td>\n",
       "      <td>0.867450</td>\n",
       "      <td>1.000000</td>\n",
       "      <td>0.730929</td>\n",
       "    </tr>\n",
       "    <tr>\n",
       "      <th>total_num_stages_isnull</th>\n",
       "      <td>-0.040458</td>\n",
       "      <td>0.187109</td>\n",
       "      <td>-0.634365</td>\n",
       "      <td>0.762675</td>\n",
       "      <td>0.730929</td>\n",
       "      <td>1.000000</td>\n",
       "    </tr>\n",
       "  </tbody>\n",
       "</table>\n",
       "</div>"
      ],
      "text/plain": [
       "                           surface_lat  surface_lng  spud_year  \\\n",
       "surface_lat                   1.000000    -0.126848   0.003178   \n",
       "surface_lng                  -0.126848     1.000000  -0.245711   \n",
       "spud_year                     0.003178    -0.245711   1.000000   \n",
       "total_lbs_proppant_isnull     0.006326     0.265234  -0.661677   \n",
       "total_volume_bbls_isnull     -0.002830     0.258472  -0.646359   \n",
       "total_num_stages_isnull      -0.040458     0.187109  -0.634365   \n",
       "\n",
       "                           total_lbs_proppant_isnull  \\\n",
       "surface_lat                                 0.006326   \n",
       "surface_lng                                 0.265234   \n",
       "spud_year                                  -0.661677   \n",
       "total_lbs_proppant_isnull                   1.000000   \n",
       "total_volume_bbls_isnull                    0.867450   \n",
       "total_num_stages_isnull                     0.762675   \n",
       "\n",
       "                           total_volume_bbls_isnull  total_num_stages_isnull  \n",
       "surface_lat                               -0.002830                -0.040458  \n",
       "surface_lng                                0.258472                 0.187109  \n",
       "spud_year                                 -0.646359                -0.634365  \n",
       "total_lbs_proppant_isnull                  0.867450                 0.762675  \n",
       "total_volume_bbls_isnull                   1.000000                 0.730929  \n",
       "total_num_stages_isnull                    0.730929                 1.000000  "
      ]
     },
<<<<<<< HEAD
     "execution_count": 119,
=======
     "execution_count": 24,
>>>>>>> 08c300d1bea6bb230179bcd532ecffb75a91ba4e
     "metadata": {},
     "output_type": "execute_result"
    }
   ],
   "source": [
    "null_flag_corr_df"
   ]
  },
  {
<<<<<<< HEAD
   "cell_type": "markdown",
   "metadata": {},
   "source": [
    "#### Most features don't have a strong correlation the count of missing values per row.\n",
    "... Except for Spud Year, where the absolute value of the correlation coefficient is relatively high, above `0.6`."
   ]
  },
  {
   "cell_type": "code",
   "execution_count": 120,
=======
   "cell_type": "code",
   "execution_count": 25,
>>>>>>> 08c300d1bea6bb230179bcd532ecffb75a91ba4e
   "metadata": {},
   "outputs": [
    {
     "data": {
<<<<<<< HEAD
      "image/png": "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\n",
      "text/plain": [
       "<Figure size 864x504 with 1 Axes>"
      ]
     },
     "metadata": {
      "needs_background": "light"
     },
     "output_type": "display_data"
    }
   ],
   "source": [
    "has_nulls_df = full_df.copy().assign(has_nulls= lambda x: pd.isnull(x).sum(axis=1))\n",
    "correlations = has_nulls_df.corr().sort_values('has_nulls')[['has_nulls']]\n",
    "fig, ax = plt.subplots(figsize=(12, 7))\n",
    "ax = sns.barplot(x='index', y='has_nulls', \n",
    "                 data=correlations.dropna().drop('has_nulls', axis=0).reset_index())\n",
    "ax.set_xticklabels(ax.get_xticklabels(), rotation=90)\n",
    "ax.set_xlabel('')\n",
    "ax.set_ylabel('correlation')\n",
    "plt.show()"
   ]
  },
  {
   "cell_type": "code",
   "execution_count": 121,
   "metadata": {},
   "outputs": [
    {
     "data": {
      "text/plain": [
       "<matplotlib.axes._subplots.AxesSubplot at 0x10f4b45f8>"
      ]
     },
     "execution_count": 121,
=======
      "text/plain": [
       "<matplotlib.axes._subplots.AxesSubplot at 0x10e6dc198>"
      ]
     },
     "execution_count": 25,
>>>>>>> 08c300d1bea6bb230179bcd532ecffb75a91ba4e
     "metadata": {},
     "output_type": "execute_result"
    },
    {
     "data": {
      "image/png": "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\n",
      "text/plain": [
       "<Figure size 720x432 with 1 Axes>"
      ]
     },
     "metadata": {
      "needs_background": "light"
     },
     "output_type": "display_data"
    }
   ],
   "source": [
    "fig, ax = plt.subplots(figsize=(10,6))\n",
    "sns.boxplot(data=null_flag_df, y=\"spud_year\", x=\"total_lbs_proppant_isnull\")"
   ]
  },
  {
   "cell_type": "code",
<<<<<<< HEAD
   "execution_count": 122,
=======
   "execution_count": 26,
>>>>>>> 08c300d1bea6bb230179bcd532ecffb75a91ba4e
   "metadata": {},
   "outputs": [
    {
     "data": {
      "text/html": [
       "<div>\n",
       "<style scoped>\n",
       "    .dataframe tbody tr th:only-of-type {\n",
       "        vertical-align: middle;\n",
       "    }\n",
       "\n",
       "    .dataframe tbody tr th {\n",
       "        vertical-align: top;\n",
       "    }\n",
       "\n",
       "    .dataframe thead th {\n",
       "        text-align: right;\n",
       "    }\n",
       "</style>\n",
       "<table border=\"1\" class=\"dataframe\">\n",
       "  <thead>\n",
       "    <tr style=\"text-align: right;\">\n",
       "      <th></th>\n",
       "      <th>spud_year</th>\n",
       "    </tr>\n",
       "    <tr>\n",
       "      <th>total_lbs_proppant_isnull</th>\n",
       "      <th></th>\n",
       "    </tr>\n",
       "  </thead>\n",
       "  <tbody>\n",
       "    <tr>\n",
       "      <th>False</th>\n",
       "      <td>2011.993457</td>\n",
       "    </tr>\n",
       "    <tr>\n",
       "      <th>True</th>\n",
       "      <td>2008.738722</td>\n",
       "    </tr>\n",
       "  </tbody>\n",
       "</table>\n",
       "</div>"
      ],
      "text/plain": [
       "                             spud_year\n",
       "total_lbs_proppant_isnull             \n",
       "False                      2011.993457\n",
       "True                       2008.738722"
      ]
     },
<<<<<<< HEAD
     "execution_count": 122,
=======
     "execution_count": 26,
>>>>>>> 08c300d1bea6bb230179bcd532ecffb75a91ba4e
     "metadata": {},
     "output_type": "execute_result"
    }
   ],
   "source": [
    "null_flag_df.filter([\"total_lbs_proppant_isnull\", \"spud_year\"]).groupby(\"total_lbs_proppant_isnull\").mean()"
   ]
  },
  {
   "cell_type": "code",
<<<<<<< HEAD
   "execution_count": 123,
   "metadata": {},
   "outputs": [],
   "source": [
    "vc = full_df.spud_year.value_counts().sort_index().to_frame().rename(columns={\"spud_year\": \"value_counts\"})\n",
    "\n",
    "num_missing_by_year = (full_df.copy()\n",
    "               .filter([\"total_lbs_proppant\", \"total_volume_bbls\", \"spud_year\"])\n",
    "               .groupby(\"spud_year\")\n",
    "               .apply(lambda x: x.isnull().sum())\n",
    "               .drop(\"spud_year\", axis=1)\n",
    "               .rename(columns={\"total_lbs_proppant\": \"prop_num_missing\",\n",
    "                               \"total_volume_bbls\" : \"fluid_num_missing\"\n",
    "                               })\n",
    "               .join(vc)\n",
    "               .assign(prop_perc_missing = lambda x: x[\"prop_num_missing\"]/ x[\"value_counts\"] * 100,\n",
    "                       fluid_perc_missing = lambda x: x[\"fluid_num_missing\"]/ x[\"value_counts\"] * 100,\n",
    "                      )\n",
    "              )"
   ]
  },
  {
   "cell_type": "markdown",
   "metadata": {},
   "source": [
    "#### Before 2010, most observations (83 - 97% are missing values for fluid and proppant)."
   ]
  },
  {
   "cell_type": "code",
   "execution_count": 124,
=======
   "execution_count": 27,
>>>>>>> 08c300d1bea6bb230179bcd532ecffb75a91ba4e
   "metadata": {},
   "outputs": [
    {
     "data": {
      "text/html": [
       "<div>\n",
       "<style scoped>\n",
       "    .dataframe tbody tr th:only-of-type {\n",
       "        vertical-align: middle;\n",
       "    }\n",
       "\n",
       "    .dataframe tbody tr th {\n",
       "        vertical-align: top;\n",
       "    }\n",
       "\n",
       "    .dataframe thead th {\n",
       "        text-align: right;\n",
       "    }\n",
       "</style>\n",
       "<table border=\"1\" class=\"dataframe\">\n",
       "  <thead>\n",
       "    <tr style=\"text-align: right;\">\n",
       "      <th></th>\n",
       "      <th>prop_num_missing</th>\n",
       "      <th>fluid_num_missing</th>\n",
       "      <th>value_counts</th>\n",
       "      <th>prop_perc_missing</th>\n",
       "      <th>fluid_perc_missing</th>\n",
       "    </tr>\n",
       "    <tr>\n",
       "      <th>spud_year</th>\n",
       "      <th></th>\n",
       "      <th></th>\n",
       "      <th></th>\n",
       "      <th></th>\n",
       "      <th></th>\n",
       "    </tr>\n",
       "  </thead>\n",
       "  <tbody>\n",
       "    <tr>\n",
       "      <th>1992.0</th>\n",
       "      <td>0</td>\n",
       "      <td>0</td>\n",
       "      <td>1</td>\n",
       "      <td>0.000000</td>\n",
       "      <td>0.000000</td>\n",
       "    </tr>\n",
       "    <tr>\n",
       "      <th>2006.0</th>\n",
       "      <td>0</td>\n",
       "      <td>0</td>\n",
       "      <td>3</td>\n",
       "      <td>0.000000</td>\n",
       "      <td>0.000000</td>\n",
       "    </tr>\n",
       "    <tr>\n",
       "      <th>2007.0</th>\n",
       "      <td>156</td>\n",
       "      <td>156</td>\n",
       "      <td>161</td>\n",
       "      <td>96.894410</td>\n",
       "      <td>96.894410</td>\n",
       "    </tr>\n",
       "    <tr>\n",
       "      <th>2008.0</th>\n",
       "      <td>409</td>\n",
       "      <td>409</td>\n",
       "      <td>433</td>\n",
       "      <td>94.457275</td>\n",
       "      <td>94.457275</td>\n",
       "    </tr>\n",
       "    <tr>\n",
       "      <th>2009.0</th>\n",
       "      <td>305</td>\n",
       "      <td>310</td>\n",
       "      <td>367</td>\n",
       "      <td>83.106267</td>\n",
       "      <td>84.468665</td>\n",
       "    </tr>\n",
       "    <tr>\n",
       "      <th>2010.0</th>\n",
       "      <td>77</td>\n",
       "      <td>93</td>\n",
       "      <td>848</td>\n",
       "      <td>9.080189</td>\n",
       "      <td>10.966981</td>\n",
       "    </tr>\n",
       "    <tr>\n",
       "      <th>2011.0</th>\n",
       "      <td>33</td>\n",
       "      <td>44</td>\n",
       "      <td>1274</td>\n",
       "      <td>2.590267</td>\n",
       "      <td>3.453689</td>\n",
       "    </tr>\n",
       "    <tr>\n",
       "      <th>2012.0</th>\n",
       "      <td>43</td>\n",
       "      <td>84</td>\n",
       "      <td>1846</td>\n",
       "      <td>2.329361</td>\n",
       "      <td>4.550379</td>\n",
       "    </tr>\n",
       "    <tr>\n",
       "      <th>2013.0</th>\n",
       "      <td>34</td>\n",
       "      <td>40</td>\n",
       "      <td>1966</td>\n",
       "      <td>1.729400</td>\n",
       "      <td>2.034588</td>\n",
       "    </tr>\n",
       "    <tr>\n",
       "      <th>2014.0</th>\n",
       "      <td>7</td>\n",
       "      <td>6</td>\n",
       "      <td>584</td>\n",
       "      <td>1.198630</td>\n",
       "      <td>1.027397</td>\n",
       "    </tr>\n",
       "  </tbody>\n",
       "</table>\n",
       "</div>"
      ],
      "text/plain": [
       "           prop_num_missing  fluid_num_missing  value_counts  \\\n",
       "spud_year                                                      \n",
       "1992.0                    0                  0             1   \n",
       "2006.0                    0                  0             3   \n",
       "2007.0                  156                156           161   \n",
       "2008.0                  409                409           433   \n",
       "2009.0                  305                310           367   \n",
       "2010.0                   77                 93           848   \n",
       "2011.0                   33                 44          1274   \n",
       "2012.0                   43                 84          1846   \n",
       "2013.0                   34                 40          1966   \n",
       "2014.0                    7                  6           584   \n",
       "\n",
       "           prop_perc_missing  fluid_perc_missing  \n",
       "spud_year                                         \n",
       "1992.0              0.000000            0.000000  \n",
       "2006.0              0.000000            0.000000  \n",
       "2007.0             96.894410           96.894410  \n",
       "2008.0             94.457275           94.457275  \n",
       "2009.0             83.106267           84.468665  \n",
       "2010.0              9.080189           10.966981  \n",
       "2011.0              2.590267            3.453689  \n",
       "2012.0              2.329361            4.550379  \n",
       "2013.0              1.729400            2.034588  \n",
       "2014.0              1.198630            1.027397  "
      ]
     },
<<<<<<< HEAD
     "execution_count": 124,
=======
     "execution_count": 27,
>>>>>>> 08c300d1bea6bb230179bcd532ecffb75a91ba4e
     "metadata": {},
     "output_type": "execute_result"
    }
   ],
   "source": [
<<<<<<< HEAD
    "num_missing_by_year"
=======
    "vc = full_df.spud_year.value_counts().sort_index().to_frame().rename(columns={\"spud_year\": \"value_counts\"})\n",
    "\n",
    "num_missing = (full_df.copy()\n",
    "               .filter([\"total_lbs_proppant\", \"total_volume_bbls\", \"spud_year\"])\n",
    "               .groupby(\"spud_year\")\n",
    "               .apply(lambda x: x.isnull().sum())\n",
    "               .drop(\"spud_year\", axis=1)\n",
    "               .rename(columns={\"total_lbs_proppant\": \"prop_num_missing\",\n",
    "                               \"total_volume_bbls\" : \"fluid_num_missing\"\n",
    "                               })\n",
    "               .join(vc)\n",
    "               .assign(prop_perc_missing = lambda x: x[\"prop_num_missing\"]/ x[\"value_counts\"] * 100,\n",
    "                       fluid_perc_missing = lambda x: x[\"fluid_num_missing\"]/ x[\"value_counts\"] * 100,\n",
    "                      )\n",
    "              )\n",
    "\n",
    "num_missing"
   ]
  },
  {
   "cell_type": "code",
   "execution_count": 28,
   "metadata": {},
   "outputs": [
    {
     "data": {
      "image/png": "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\n",
      "text/plain": [
       "<Figure size 864x504 with 1 Axes>"
      ]
     },
     "metadata": {
      "needs_background": "light"
     },
     "output_type": "display_data"
    }
   ],
   "source": [
    "has_nulls_df = full_df.copy().assign(has_nulls= lambda x: pd.isnull(x).sum(axis=1))\n",
    "correlations = has_nulls_df.corr().sort_values('has_nulls')[['has_nulls']]\n",
    "fig, ax = plt.subplots(figsize=(12, 7))\n",
    "ax = sns.barplot(x='index', y='has_nulls', \n",
    "                 data=correlations.dropna().drop('has_nulls', axis=0).reset_index())\n",
    "ax.set_xticklabels(ax.get_xticklabels(), rotation=-90)\n",
    "ax.set_xlabel('')\n",
    "ax.set_ylabel('correlation')\n",
    "plt.show()"
>>>>>>> 08c300d1bea6bb230179bcd532ecffb75a91ba4e
   ]
  },
  {
   "cell_type": "markdown",
   "metadata": {},
   "source": [
<<<<<<< HEAD
    "### Testing Imputation Methods"
=======
    "### FROM SciKit Docs"
>>>>>>> 08c300d1bea6bb230179bcd532ecffb75a91ba4e
   ]
  },
  {
   "cell_type": "code",
<<<<<<< HEAD
   "execution_count": 125,
=======
   "execution_count": 62,
>>>>>>> 08c300d1bea6bb230179bcd532ecffb75a91ba4e
   "metadata": {},
   "outputs": [],
   "source": [
    "# To use this experimental feature, we need to explicitly ask for it:\n",
    "import numpy as np\n",
    "from sklearn.experimental import enable_iterative_imputer\n",
    "from sklearn.impute import SimpleImputer\n",
    "from sklearn.impute import IterativeImputer\n",
    "from sklearn.linear_model import BayesianRidge\n",
    "from sklearn.tree import DecisionTreeRegressor\n",
    "from sklearn.ensemble import ExtraTreesRegressor\n",
    "from sklearn.neighbors import KNeighborsRegressor\n",
    "from sklearn.pipeline import make_pipeline\n",
    "from sklearn.model_selection import cross_val_score"
   ]
  },
  {
   "cell_type": "code",
<<<<<<< HEAD
   "execution_count": null,
   "metadata": {},
   "outputs": [],
   "source": [
    "import model_fitting_tools as mft"
   ]
  },
  {
   "cell_type": "code",
   "execution_count": 126,
=======
   "execution_count": 33,
>>>>>>> 08c300d1bea6bb230179bcd532ecffb75a91ba4e
   "metadata": {
    "scrolled": false
   },
   "outputs": [
    {
     "data": {
      "text/plain": [
       "18.621700879765395"
      ]
     },
<<<<<<< HEAD
     "execution_count": 126,
=======
     "execution_count": 33,
>>>>>>> 08c300d1bea6bb230179bcd532ecffb75a91ba4e
     "metadata": {},
     "output_type": "execute_result"
    }
   ],
   "source": [
    "# approx 19% of rows have more than one missing_value\n",
    "full_df.isnull().sum(axis=1).to_frame().reset_index().rename(columns={0: \"count\"}).query(\"count > 1\").shape[0] / full_df.shape[0] * 100"
   ]
  },
  {
   "cell_type": "code",
<<<<<<< HEAD
   "execution_count": 127,
=======
   "execution_count": 43,
>>>>>>> 08c300d1bea6bb230179bcd532ecffb75a91ba4e
   "metadata": {},
   "outputs": [],
   "source": [
    "test_df = (full_df.copy()\n",
    "     .drop([\"choke_size\", \"data_group\"], axis=1)\n",
    "     .query(\"spud_year > 2009\")\n",
    "     .dropna()\n",
    ")"
   ]
  },
  {
   "cell_type": "code",
<<<<<<< HEAD
   "execution_count": 128,
=======
   "execution_count": 44,
>>>>>>> 08c300d1bea6bb230179bcd532ecffb75a91ba4e
   "metadata": {},
   "outputs": [
    {
     "data": {
      "text/plain": [
       "bakken_isopach_ft        0\n",
       "bh_lat                   0\n",
       "bh_lng                   0\n",
       "legs                     0\n",
       "mean_tvd                 0\n",
       "min_tvd                  0\n",
       "production_liquid_180    0\n",
       "std_tvd                  0\n",
       "surface_lat              0\n",
       "surface_lng              0\n",
       "td                       0\n",
       "total_lbs_proppant       0\n",
       "total_num_stages         0\n",
       "total_volume_bbls        0\n",
       "tvd                      0\n",
       "length                   0\n",
       "stage_spacing            0\n",
       "spud_year                0\n",
       "shortest_dist            0\n",
       "target_formation         0\n",
       "dtype: int64"
      ]
     },
<<<<<<< HEAD
     "execution_count": 128,
=======
     "execution_count": 44,
>>>>>>> 08c300d1bea6bb230179bcd532ecffb75a91ba4e
     "metadata": {},
     "output_type": "execute_result"
    }
   ],
   "source": [
    "test_df.isnull().sum()"
   ]
  },
  {
   "cell_type": "code",
<<<<<<< HEAD
   "execution_count": 129,
=======
   "execution_count": null,
   "metadata": {},
   "outputs": [],
   "source": [
    "import model_fitting_tools as mft"
   ]
  },
  {
   "cell_type": "code",
   "execution_count": 48,
>>>>>>> 08c300d1bea6bb230179bcd532ecffb75a91ba4e
   "metadata": {},
   "outputs": [],
   "source": [
    "target_col = \"production_liquid_180\""
   ]
  },
  {
   "cell_type": "code",
<<<<<<< HEAD
   "execution_count": 130,
=======
   "execution_count": 53,
>>>>>>> 08c300d1bea6bb230179bcd532ecffb75a91ba4e
   "metadata": {
    "scrolled": true
   },
   "outputs": [],
   "source": [
    "X_full, y_full = mft.X_y_split(test_df, target=target_col)"
   ]
  },
  {
   "cell_type": "code",
<<<<<<< HEAD
   "execution_count": 131,
=======
   "execution_count": 54,
>>>>>>> 08c300d1bea6bb230179bcd532ecffb75a91ba4e
   "metadata": {},
   "outputs": [],
   "source": [
    "X_full = X_full.values"
   ]
  },
  {
   "cell_type": "code",
<<<<<<< HEAD
   "execution_count": 132,
=======
   "execution_count": 55,
>>>>>>> 08c300d1bea6bb230179bcd532ecffb75a91ba4e
   "metadata": {},
   "outputs": [
    {
     "data": {
      "text/plain": [
       "(5831, 19)"
      ]
     },
<<<<<<< HEAD
     "execution_count": 132,
=======
     "execution_count": 55,
>>>>>>> 08c300d1bea6bb230179bcd532ecffb75a91ba4e
     "metadata": {},
     "output_type": "execute_result"
    }
   ],
   "source": [
    "X_full.shape"
   ]
  },
  {
   "cell_type": "code",
   "execution_count": 63,
   "metadata": {},
   "outputs": [
    {
     "name": "stderr",
     "output_type": "stream",
     "text": [
      "/Users/jameshelfrich/miniconda3/envs/my_env/lib/python3.7/site-packages/sklearn/impute/_iterative.py:599: ConvergenceWarning: [IterativeImputer] Early stopping criterion not reached.\n",
      "  \" reached.\", ConvergenceWarning)\n",
      "/Users/jameshelfrich/miniconda3/envs/my_env/lib/python3.7/site-packages/sklearn/impute/_iterative.py:599: ConvergenceWarning: [IterativeImputer] Early stopping criterion not reached.\n",
      "  \" reached.\", ConvergenceWarning)\n",
      "/Users/jameshelfrich/miniconda3/envs/my_env/lib/python3.7/site-packages/sklearn/impute/_iterative.py:599: ConvergenceWarning: [IterativeImputer] Early stopping criterion not reached.\n",
      "  \" reached.\", ConvergenceWarning)\n",
      "/Users/jameshelfrich/miniconda3/envs/my_env/lib/python3.7/site-packages/sklearn/impute/_iterative.py:599: ConvergenceWarning: [IterativeImputer] Early stopping criterion not reached.\n",
      "  \" reached.\", ConvergenceWarning)\n",
      "/Users/jameshelfrich/miniconda3/envs/my_env/lib/python3.7/site-packages/sklearn/impute/_iterative.py:599: ConvergenceWarning: [IterativeImputer] Early stopping criterion not reached.\n",
      "  \" reached.\", ConvergenceWarning)\n",
      "/Users/jameshelfrich/miniconda3/envs/my_env/lib/python3.7/site-packages/sklearn/impute/_iterative.py:599: ConvergenceWarning: [IterativeImputer] Early stopping criterion not reached.\n",
      "  \" reached.\", ConvergenceWarning)\n",
      "/Users/jameshelfrich/miniconda3/envs/my_env/lib/python3.7/site-packages/sklearn/impute/_iterative.py:599: ConvergenceWarning: [IterativeImputer] Early stopping criterion not reached.\n",
      "  \" reached.\", ConvergenceWarning)\n",
      "/Users/jameshelfrich/miniconda3/envs/my_env/lib/python3.7/site-packages/sklearn/impute/_iterative.py:599: ConvergenceWarning: [IterativeImputer] Early stopping criterion not reached.\n",
      "  \" reached.\", ConvergenceWarning)\n",
      "/Users/jameshelfrich/miniconda3/envs/my_env/lib/python3.7/site-packages/sklearn/impute/_iterative.py:599: ConvergenceWarning: [IterativeImputer] Early stopping criterion not reached.\n",
      "  \" reached.\", ConvergenceWarning)\n",
      "/Users/jameshelfrich/miniconda3/envs/my_env/lib/python3.7/site-packages/sklearn/impute/_iterative.py:599: ConvergenceWarning: [IterativeImputer] Early stopping criterion not reached.\n",
      "  \" reached.\", ConvergenceWarning)\n",
      "/Users/jameshelfrich/miniconda3/envs/my_env/lib/python3.7/site-packages/sklearn/impute/_iterative.py:599: ConvergenceWarning: [IterativeImputer] Early stopping criterion not reached.\n",
      "  \" reached.\", ConvergenceWarning)\n",
      "/Users/jameshelfrich/miniconda3/envs/my_env/lib/python3.7/site-packages/sklearn/impute/_iterative.py:599: ConvergenceWarning: [IterativeImputer] Early stopping criterion not reached.\n",
      "  \" reached.\", ConvergenceWarning)\n",
      "/Users/jameshelfrich/miniconda3/envs/my_env/lib/python3.7/site-packages/sklearn/impute/_iterative.py:599: ConvergenceWarning: [IterativeImputer] Early stopping criterion not reached.\n",
      "  \" reached.\", ConvergenceWarning)\n",
      "/Users/jameshelfrich/miniconda3/envs/my_env/lib/python3.7/site-packages/sklearn/impute/_iterative.py:599: ConvergenceWarning: [IterativeImputer] Early stopping criterion not reached.\n",
      "  \" reached.\", ConvergenceWarning)\n",
      "/Users/jameshelfrich/miniconda3/envs/my_env/lib/python3.7/site-packages/sklearn/impute/_iterative.py:599: ConvergenceWarning: [IterativeImputer] Early stopping criterion not reached.\n",
      "  \" reached.\", ConvergenceWarning)\n",
      "/Users/jameshelfrich/miniconda3/envs/my_env/lib/python3.7/site-packages/sklearn/impute/_iterative.py:599: ConvergenceWarning: [IterativeImputer] Early stopping criterion not reached.\n",
      "  \" reached.\", ConvergenceWarning)\n",
      "/Users/jameshelfrich/miniconda3/envs/my_env/lib/python3.7/site-packages/sklearn/impute/_iterative.py:599: ConvergenceWarning: [IterativeImputer] Early stopping criterion not reached.\n",
      "  \" reached.\", ConvergenceWarning)\n",
      "/Users/jameshelfrich/miniconda3/envs/my_env/lib/python3.7/site-packages/sklearn/impute/_iterative.py:599: ConvergenceWarning: [IterativeImputer] Early stopping criterion not reached.\n",
      "  \" reached.\", ConvergenceWarning)\n",
      "/Users/jameshelfrich/miniconda3/envs/my_env/lib/python3.7/site-packages/sklearn/impute/_iterative.py:599: ConvergenceWarning: [IterativeImputer] Early stopping criterion not reached.\n",
      "  \" reached.\", ConvergenceWarning)\n",
      "/Users/jameshelfrich/miniconda3/envs/my_env/lib/python3.7/site-packages/sklearn/impute/_iterative.py:599: ConvergenceWarning: [IterativeImputer] Early stopping criterion not reached.\n",
      "  \" reached.\", ConvergenceWarning)\n",
      "/Users/jameshelfrich/miniconda3/envs/my_env/lib/python3.7/site-packages/sklearn/impute/_iterative.py:599: ConvergenceWarning: [IterativeImputer] Early stopping criterion not reached.\n",
      "  \" reached.\", ConvergenceWarning)\n",
      "/Users/jameshelfrich/miniconda3/envs/my_env/lib/python3.7/site-packages/sklearn/impute/_iterative.py:599: ConvergenceWarning: [IterativeImputer] Early stopping criterion not reached.\n",
      "  \" reached.\", ConvergenceWarning)\n",
      "/Users/jameshelfrich/miniconda3/envs/my_env/lib/python3.7/site-packages/sklearn/impute/_iterative.py:599: ConvergenceWarning: [IterativeImputer] Early stopping criterion not reached.\n",
      "  \" reached.\", ConvergenceWarning)\n",
      "/Users/jameshelfrich/miniconda3/envs/my_env/lib/python3.7/site-packages/sklearn/impute/_iterative.py:599: ConvergenceWarning: [IterativeImputer] Early stopping criterion not reached.\n",
      "  \" reached.\", ConvergenceWarning)\n",
      "/Users/jameshelfrich/miniconda3/envs/my_env/lib/python3.7/site-packages/sklearn/impute/_iterative.py:599: ConvergenceWarning: [IterativeImputer] Early stopping criterion not reached.\n",
      "  \" reached.\", ConvergenceWarning)\n",
      "/Users/jameshelfrich/miniconda3/envs/my_env/lib/python3.7/site-packages/sklearn/impute/_iterative.py:599: ConvergenceWarning: [IterativeImputer] Early stopping criterion not reached.\n",
      "  \" reached.\", ConvergenceWarning)\n",
      "/Users/jameshelfrich/miniconda3/envs/my_env/lib/python3.7/site-packages/sklearn/impute/_iterative.py:599: ConvergenceWarning: [IterativeImputer] Early stopping criterion not reached.\n",
      "  \" reached.\", ConvergenceWarning)\n",
      "/Users/jameshelfrich/miniconda3/envs/my_env/lib/python3.7/site-packages/sklearn/impute/_iterative.py:599: ConvergenceWarning: [IterativeImputer] Early stopping criterion not reached.\n",
      "  \" reached.\", ConvergenceWarning)\n",
      "/Users/jameshelfrich/miniconda3/envs/my_env/lib/python3.7/site-packages/sklearn/impute/_iterative.py:599: ConvergenceWarning: [IterativeImputer] Early stopping criterion not reached.\n",
      "  \" reached.\", ConvergenceWarning)\n",
      "/Users/jameshelfrich/miniconda3/envs/my_env/lib/python3.7/site-packages/sklearn/impute/_iterative.py:599: ConvergenceWarning: [IterativeImputer] Early stopping criterion not reached.\n",
      "  \" reached.\", ConvergenceWarning)\n"
     ]
    }
   ],
   "source": [
    "N_SPLITS = 10\n",
    "\n",
    "rng = np.random.RandomState(0)\n",
    "\n",
    "# X_full, y_full = fetch_california_housing(return_X_y=True)\n",
    "# ~2k samples is enough for the purpose of the example.\n",
    "# Remove the following two lines for a slower run with different error bars.\n",
    "# X_full = X_full[::10]\n",
    "# y_full = y_full[::10]\n",
    "n_samples, n_features = X_full.shape\n",
    "\n",
    "# Estimate the score on the entire dataset, with no missing values\n",
    "br_estimator = BayesianRidge()\n",
    "score_full_data = pd.DataFrame(\n",
    "    cross_val_score(\n",
    "        br_estimator, X_full, y_full, scoring='neg_mean_squared_error',\n",
    "        cv=N_SPLITS\n",
    "    ),\n",
    "    columns=['Full Data']\n",
    ")\n",
    "\n",
    "# Add a single missing value to each row\n",
    "X_missing = X_full.copy()\n",
    "y_missing = y_full\n",
    "missing_samples = np.arange(n_samples)\n",
    "missing_features = rng.choice(n_features, n_samples, replace=True)\n",
    "X_missing[missing_samples, missing_features] = np.nan\n",
    "\n",
    "# Estimate the score after imputation (mean and median strategies)\n",
    "score_simple_imputer = pd.DataFrame()\n",
    "for strategy in ('mean', 'median'):\n",
    "    estimator = make_pipeline(\n",
    "        SimpleImputer(missing_values=np.nan, strategy=strategy),\n",
    "        br_estimator\n",
    "    )\n",
    "    score_simple_imputer[strategy] = cross_val_score(\n",
    "        estimator, X_missing, y_missing, scoring='neg_mean_squared_error',\n",
    "        cv=N_SPLITS\n",
    "    )\n",
    "\n",
    "# Estimate the score after iterative imputation of the missing values\n",
    "# with different estimators\n",
    "estimators = [\n",
    "    BayesianRidge(),\n",
    "    DecisionTreeRegressor(max_features='sqrt', random_state=0),\n",
    "    ExtraTreesRegressor(n_estimators=10, random_state=0),\n",
    "    KNeighborsRegressor(n_neighbors=15)\n",
    "]\n",
    "score_iterative_imputer = pd.DataFrame()\n",
    "for impute_estimator in estimators:\n",
    "    estimator = make_pipeline(\n",
    "        IterativeImputer(random_state=0, estimator=impute_estimator),\n",
    "        br_estimator\n",
    "    )\n",
    "    score_iterative_imputer[impute_estimator.__class__.__name__] = \\\n",
    "        cross_val_score(\n",
    "            estimator, X_missing, y_missing, scoring='neg_mean_squared_error',\n",
    "            cv=N_SPLITS\n",
    "        )"
   ]
  },
  {
   "cell_type": "code",
<<<<<<< HEAD
   "execution_count": 72,
=======
   "execution_count": 66,
>>>>>>> 08c300d1bea6bb230179bcd532ecffb75a91ba4e
   "metadata": {},
   "outputs": [],
   "source": [
    "scores = pd.concat(\n",
    "    [score_full_data, score_simple_imputer, score_iterative_imputer],\n",
    "    keys=['Original', 'SimpleImputer', 'IterativeImputer'], axis=1\n",
<<<<<<< HEAD
    ") * -1"
=======
    ")"
>>>>>>> 08c300d1bea6bb230179bcd532ecffb75a91ba4e
   ]
  },
  {
   "cell_type": "code",
<<<<<<< HEAD
   "execution_count": 73,
=======
   "execution_count": 67,
>>>>>>> 08c300d1bea6bb230179bcd532ecffb75a91ba4e
   "metadata": {},
   "outputs": [
    {
     "data": {
      "text/html": [
       "<div>\n",
       "<style scoped>\n",
       "    .dataframe tbody tr th:only-of-type {\n",
       "        vertical-align: middle;\n",
       "    }\n",
       "\n",
       "    .dataframe tbody tr th {\n",
       "        vertical-align: top;\n",
       "    }\n",
       "\n",
       "    .dataframe thead tr th {\n",
       "        text-align: left;\n",
       "    }\n",
       "</style>\n",
       "<table border=\"1\" class=\"dataframe\">\n",
       "  <thead>\n",
       "    <tr>\n",
       "      <th></th>\n",
       "      <th>Original</th>\n",
       "      <th colspan=\"2\" halign=\"left\">SimpleImputer</th>\n",
       "      <th colspan=\"4\" halign=\"left\">IterativeImputer</th>\n",
       "    </tr>\n",
       "    <tr>\n",
       "      <th></th>\n",
       "      <th>Full Data</th>\n",
       "      <th>mean</th>\n",
       "      <th>median</th>\n",
       "      <th>BayesianRidge</th>\n",
       "      <th>DecisionTreeRegressor</th>\n",
       "      <th>ExtraTreesRegressor</th>\n",
       "      <th>KNeighborsRegressor</th>\n",
       "    </tr>\n",
       "  </thead>\n",
       "  <tbody>\n",
       "    <tr>\n",
       "      <th>0</th>\n",
<<<<<<< HEAD
       "      <td>6.333849e+08</td>\n",
       "      <td>6.491465e+08</td>\n",
       "      <td>6.497013e+08</td>\n",
       "      <td>6.323599e+08</td>\n",
       "      <td>6.426553e+08</td>\n",
       "      <td>6.314358e+08</td>\n",
       "      <td>6.436333e+08</td>\n",
       "    </tr>\n",
       "    <tr>\n",
       "      <th>1</th>\n",
       "      <td>6.119954e+08</td>\n",
       "      <td>6.254598e+08</td>\n",
       "      <td>6.246371e+08</td>\n",
       "      <td>6.204330e+08</td>\n",
       "      <td>6.176799e+08</td>\n",
       "      <td>6.140274e+08</td>\n",
       "      <td>6.202034e+08</td>\n",
       "    </tr>\n",
       "    <tr>\n",
       "      <th>2</th>\n",
       "      <td>6.540959e+08</td>\n",
       "      <td>7.048119e+08</td>\n",
       "      <td>7.043376e+08</td>\n",
       "      <td>6.748148e+08</td>\n",
       "      <td>6.551346e+08</td>\n",
       "      <td>6.539265e+08</td>\n",
       "      <td>6.994255e+08</td>\n",
       "    </tr>\n",
       "    <tr>\n",
       "      <th>3</th>\n",
       "      <td>7.462266e+08</td>\n",
       "      <td>7.607987e+08</td>\n",
       "      <td>7.623926e+08</td>\n",
       "      <td>7.521055e+08</td>\n",
       "      <td>7.515202e+08</td>\n",
       "      <td>7.414826e+08</td>\n",
       "      <td>7.574154e+08</td>\n",
       "    </tr>\n",
       "    <tr>\n",
       "      <th>4</th>\n",
       "      <td>6.228117e+08</td>\n",
       "      <td>6.197352e+08</td>\n",
       "      <td>6.217150e+08</td>\n",
       "      <td>6.205338e+08</td>\n",
       "      <td>6.235290e+08</td>\n",
       "      <td>6.261157e+08</td>\n",
       "      <td>6.177839e+08</td>\n",
       "    </tr>\n",
       "    <tr>\n",
       "      <th>5</th>\n",
       "      <td>5.788534e+08</td>\n",
       "      <td>5.705576e+08</td>\n",
       "      <td>5.710469e+08</td>\n",
       "      <td>5.810321e+08</td>\n",
       "      <td>5.839220e+08</td>\n",
       "      <td>5.837941e+08</td>\n",
       "      <td>5.760188e+08</td>\n",
       "    </tr>\n",
       "    <tr>\n",
       "      <th>6</th>\n",
       "      <td>6.143262e+08</td>\n",
       "      <td>6.378366e+08</td>\n",
       "      <td>6.395381e+08</td>\n",
       "      <td>6.179797e+08</td>\n",
       "      <td>6.191539e+08</td>\n",
       "      <td>6.141551e+08</td>\n",
       "      <td>6.272009e+08</td>\n",
       "    </tr>\n",
       "    <tr>\n",
       "      <th>7</th>\n",
       "      <td>6.100398e+08</td>\n",
       "      <td>6.288395e+08</td>\n",
       "      <td>6.282028e+08</td>\n",
       "      <td>6.120951e+08</td>\n",
       "      <td>6.164056e+08</td>\n",
       "      <td>6.104440e+08</td>\n",
       "      <td>6.257027e+08</td>\n",
       "    </tr>\n",
       "    <tr>\n",
       "      <th>8</th>\n",
       "      <td>6.389456e+08</td>\n",
       "      <td>6.507717e+08</td>\n",
       "      <td>6.531347e+08</td>\n",
       "      <td>6.402531e+08</td>\n",
       "      <td>6.404416e+08</td>\n",
       "      <td>6.399484e+08</td>\n",
       "      <td>6.461679e+08</td>\n",
       "    </tr>\n",
       "    <tr>\n",
       "      <th>9</th>\n",
       "      <td>6.981712e+08</td>\n",
       "      <td>7.051659e+08</td>\n",
       "      <td>7.050899e+08</td>\n",
       "      <td>7.033068e+08</td>\n",
       "      <td>7.168775e+08</td>\n",
       "      <td>7.007752e+08</td>\n",
       "      <td>7.034152e+08</td>\n",
=======
       "      <td>-6.333849e+08</td>\n",
       "      <td>-6.491465e+08</td>\n",
       "      <td>-6.497013e+08</td>\n",
       "      <td>-6.323599e+08</td>\n",
       "      <td>-6.426553e+08</td>\n",
       "      <td>-6.314358e+08</td>\n",
       "      <td>-6.436333e+08</td>\n",
       "    </tr>\n",
       "    <tr>\n",
       "      <th>1</th>\n",
       "      <td>-6.119954e+08</td>\n",
       "      <td>-6.254598e+08</td>\n",
       "      <td>-6.246371e+08</td>\n",
       "      <td>-6.204330e+08</td>\n",
       "      <td>-6.176799e+08</td>\n",
       "      <td>-6.140274e+08</td>\n",
       "      <td>-6.202034e+08</td>\n",
       "    </tr>\n",
       "    <tr>\n",
       "      <th>2</th>\n",
       "      <td>-6.540959e+08</td>\n",
       "      <td>-7.048119e+08</td>\n",
       "      <td>-7.043376e+08</td>\n",
       "      <td>-6.748148e+08</td>\n",
       "      <td>-6.551346e+08</td>\n",
       "      <td>-6.539265e+08</td>\n",
       "      <td>-6.994255e+08</td>\n",
       "    </tr>\n",
       "    <tr>\n",
       "      <th>3</th>\n",
       "      <td>-7.462266e+08</td>\n",
       "      <td>-7.607987e+08</td>\n",
       "      <td>-7.623926e+08</td>\n",
       "      <td>-7.521055e+08</td>\n",
       "      <td>-7.515202e+08</td>\n",
       "      <td>-7.414826e+08</td>\n",
       "      <td>-7.574154e+08</td>\n",
       "    </tr>\n",
       "    <tr>\n",
       "      <th>4</th>\n",
       "      <td>-6.228117e+08</td>\n",
       "      <td>-6.197352e+08</td>\n",
       "      <td>-6.217150e+08</td>\n",
       "      <td>-6.205338e+08</td>\n",
       "      <td>-6.235290e+08</td>\n",
       "      <td>-6.261157e+08</td>\n",
       "      <td>-6.177839e+08</td>\n",
       "    </tr>\n",
       "    <tr>\n",
       "      <th>5</th>\n",
       "      <td>-5.788534e+08</td>\n",
       "      <td>-5.705576e+08</td>\n",
       "      <td>-5.710469e+08</td>\n",
       "      <td>-5.810321e+08</td>\n",
       "      <td>-5.839220e+08</td>\n",
       "      <td>-5.837941e+08</td>\n",
       "      <td>-5.760188e+08</td>\n",
       "    </tr>\n",
       "    <tr>\n",
       "      <th>6</th>\n",
       "      <td>-6.143262e+08</td>\n",
       "      <td>-6.378366e+08</td>\n",
       "      <td>-6.395381e+08</td>\n",
       "      <td>-6.179797e+08</td>\n",
       "      <td>-6.191539e+08</td>\n",
       "      <td>-6.141551e+08</td>\n",
       "      <td>-6.272009e+08</td>\n",
       "    </tr>\n",
       "    <tr>\n",
       "      <th>7</th>\n",
       "      <td>-6.100398e+08</td>\n",
       "      <td>-6.288395e+08</td>\n",
       "      <td>-6.282028e+08</td>\n",
       "      <td>-6.120951e+08</td>\n",
       "      <td>-6.164056e+08</td>\n",
       "      <td>-6.104440e+08</td>\n",
       "      <td>-6.257027e+08</td>\n",
       "    </tr>\n",
       "    <tr>\n",
       "      <th>8</th>\n",
       "      <td>-6.389456e+08</td>\n",
       "      <td>-6.507717e+08</td>\n",
       "      <td>-6.531347e+08</td>\n",
       "      <td>-6.402531e+08</td>\n",
       "      <td>-6.404416e+08</td>\n",
       "      <td>-6.399484e+08</td>\n",
       "      <td>-6.461679e+08</td>\n",
       "    </tr>\n",
       "    <tr>\n",
       "      <th>9</th>\n",
       "      <td>-6.981712e+08</td>\n",
       "      <td>-7.051659e+08</td>\n",
       "      <td>-7.050899e+08</td>\n",
       "      <td>-7.033068e+08</td>\n",
       "      <td>-7.168775e+08</td>\n",
       "      <td>-7.007752e+08</td>\n",
       "      <td>-7.034152e+08</td>\n",
>>>>>>> 08c300d1bea6bb230179bcd532ecffb75a91ba4e
       "    </tr>\n",
       "  </tbody>\n",
       "</table>\n",
       "</div>"
      ],
      "text/plain": [
       "       Original SimpleImputer               IterativeImputer  \\\n",
       "      Full Data          mean        median    BayesianRidge   \n",
<<<<<<< HEAD
       "0  6.333849e+08  6.491465e+08  6.497013e+08     6.323599e+08   \n",
       "1  6.119954e+08  6.254598e+08  6.246371e+08     6.204330e+08   \n",
       "2  6.540959e+08  7.048119e+08  7.043376e+08     6.748148e+08   \n",
       "3  7.462266e+08  7.607987e+08  7.623926e+08     7.521055e+08   \n",
       "4  6.228117e+08  6.197352e+08  6.217150e+08     6.205338e+08   \n",
       "5  5.788534e+08  5.705576e+08  5.710469e+08     5.810321e+08   \n",
       "6  6.143262e+08  6.378366e+08  6.395381e+08     6.179797e+08   \n",
       "7  6.100398e+08  6.288395e+08  6.282028e+08     6.120951e+08   \n",
       "8  6.389456e+08  6.507717e+08  6.531347e+08     6.402531e+08   \n",
       "9  6.981712e+08  7.051659e+08  7.050899e+08     7.033068e+08   \n",
       "\n",
       "                                                                 \n",
       "  DecisionTreeRegressor ExtraTreesRegressor KNeighborsRegressor  \n",
       "0          6.426553e+08        6.314358e+08        6.436333e+08  \n",
       "1          6.176799e+08        6.140274e+08        6.202034e+08  \n",
       "2          6.551346e+08        6.539265e+08        6.994255e+08  \n",
       "3          7.515202e+08        7.414826e+08        7.574154e+08  \n",
       "4          6.235290e+08        6.261157e+08        6.177839e+08  \n",
       "5          5.839220e+08        5.837941e+08        5.760188e+08  \n",
       "6          6.191539e+08        6.141551e+08        6.272009e+08  \n",
       "7          6.164056e+08        6.104440e+08        6.257027e+08  \n",
       "8          6.404416e+08        6.399484e+08        6.461679e+08  \n",
       "9          7.168775e+08        7.007752e+08        7.034152e+08  "
      ]
     },
     "execution_count": 73,
=======
       "0 -6.333849e+08 -6.491465e+08 -6.497013e+08    -6.323599e+08   \n",
       "1 -6.119954e+08 -6.254598e+08 -6.246371e+08    -6.204330e+08   \n",
       "2 -6.540959e+08 -7.048119e+08 -7.043376e+08    -6.748148e+08   \n",
       "3 -7.462266e+08 -7.607987e+08 -7.623926e+08    -7.521055e+08   \n",
       "4 -6.228117e+08 -6.197352e+08 -6.217150e+08    -6.205338e+08   \n",
       "5 -5.788534e+08 -5.705576e+08 -5.710469e+08    -5.810321e+08   \n",
       "6 -6.143262e+08 -6.378366e+08 -6.395381e+08    -6.179797e+08   \n",
       "7 -6.100398e+08 -6.288395e+08 -6.282028e+08    -6.120951e+08   \n",
       "8 -6.389456e+08 -6.507717e+08 -6.531347e+08    -6.402531e+08   \n",
       "9 -6.981712e+08 -7.051659e+08 -7.050899e+08    -7.033068e+08   \n",
       "\n",
       "                                                                 \n",
       "  DecisionTreeRegressor ExtraTreesRegressor KNeighborsRegressor  \n",
       "0         -6.426553e+08       -6.314358e+08       -6.436333e+08  \n",
       "1         -6.176799e+08       -6.140274e+08       -6.202034e+08  \n",
       "2         -6.551346e+08       -6.539265e+08       -6.994255e+08  \n",
       "3         -7.515202e+08       -7.414826e+08       -7.574154e+08  \n",
       "4         -6.235290e+08       -6.261157e+08       -6.177839e+08  \n",
       "5         -5.839220e+08       -5.837941e+08       -5.760188e+08  \n",
       "6         -6.191539e+08       -6.141551e+08       -6.272009e+08  \n",
       "7         -6.164056e+08       -6.104440e+08       -6.257027e+08  \n",
       "8         -6.404416e+08       -6.399484e+08       -6.461679e+08  \n",
       "9         -7.168775e+08       -7.007752e+08       -7.034152e+08  "
      ]
     },
     "execution_count": 67,
>>>>>>> 08c300d1bea6bb230179bcd532ecffb75a91ba4e
     "metadata": {},
     "output_type": "execute_result"
    }
   ],
   "source": [
    "scores"
   ]
  },
  {
   "cell_type": "code",
<<<<<<< HEAD
   "execution_count": 80,
=======
   "execution_count": 70,
>>>>>>> 08c300d1bea6bb230179bcd532ecffb75a91ba4e
   "metadata": {
    "scrolled": false
   },
   "outputs": [
    {
     "data": {
<<<<<<< HEAD
      "text/plain": [
       "Text(0, 0.5, 'MAE (smaller is better)')"
      ]
     },
     "execution_count": 80,
     "metadata": {},
     "output_type": "execute_result"
    },
    {
     "data": {
      "image/png": "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\n",
=======
      "image/png": "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\n",
>>>>>>> 08c300d1bea6bb230179bcd532ecffb75a91ba4e
      "text/plain": [
       "<Figure size 1008x432 with 1 Axes>"
      ]
     },
     "metadata": {
      "needs_background": "light"
     },
     "output_type": "display_data"
    }
   ],
   "source": [
    "fig, ax = plt.subplots(figsize=(14, 6))\n",
    "sns.boxplot(data=scores)\n",
    "for item in ax.get_xticklabels():\n",
<<<<<<< HEAD
    "        item.set_rotation(90)\n",
    "ax.set_ylabel(\"MAE (smaller is better)\")"
   ]
=======
    "        item.set_rotation(45)"
   ]
  },
  {
   "cell_type": "code",
   "execution_count": 135,
   "metadata": {},
   "outputs": [],
   "source": [
    "# examine them for\n",
    "# patterns of missingness. A common approach is to build\n"
   ]
  },
  {
   "cell_type": "code",
   "execution_count": null,
   "metadata": {},
   "outputs": [],
   "source": []
  },
  {
   "cell_type": "code",
   "execution_count": null,
   "metadata": {},
   "outputs": [],
   "source": []
>>>>>>> 08c300d1bea6bb230179bcd532ecffb75a91ba4e
  }
 ],
 "metadata": {
  "kernelspec": {
   "display_name": "Python 3",
   "language": "python",
   "name": "python3"
  },
  "language_info": {
   "codemirror_mode": {
    "name": "ipython",
    "version": 3
   },
   "file_extension": ".py",
   "mimetype": "text/x-python",
   "name": "python",
   "nbconvert_exporter": "python",
   "pygments_lexer": "ipython3",
   "version": "3.7.3"
  }
 },
 "nbformat": 4,
 "nbformat_minor": 2
}
