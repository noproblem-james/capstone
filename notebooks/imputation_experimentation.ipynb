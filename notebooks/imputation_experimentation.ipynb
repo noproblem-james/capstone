{
 "cells": [
  {
   "cell_type": "markdown",
   "metadata": {},
   "source": [
    "# Missingness\n",
    "- A problem both common and insidious\n",
    "\n",
    "### Diagnosis: \n",
    "- How many rows are missing at least one value?\n",
    "- What fraction of columns/features are missing values?\n",
    "- Is there any pattern to the missing values? (What is the missigness regime?)\n",
    " - Create a missingness indicator for each feature with missing values, and run pairwise correlations against other features in the dataset. \n",
    " - Compute Pearson correlation strength of model features with count of the number of missing values per observation.\n",
    "\n",
    "#### Looking at some auxiliary features\n",
    "- Not expecting to use frac year in the model, but it can be used to test missingness regime\n",
    "\n",
    " ### Remedy:\n",
    "- Use modern multiple imputation technique\n",
    "- Test different imputation techniques using cross-validation\n",
    "  - First create a dataset that is close to MCAR (missing completely at random).\n",
    "  - Mask out a portion of known datapoints, then build models over and over again on different random partitions of the dataset."
   ]
  },
  {
   "cell_type": "code",
   "execution_count": 1,
   "metadata": {},
   "outputs": [],
   "source": [
    "import matplotlib.pyplot as plt\n",
    "%matplotlib inline\n",
    "import seaborn as sns\n",
    "import pandas as pd\n",
    "\n",
    "# custom tools\n",
    "import sys\n",
    "sys.path.insert(1, '../scripts/')\n",
    "# import eda_tools as et\n",
    "# import data_munging_tools as dmt\n",
    "import model_fitting_tools as mft"
   ]
  },
  {
   "cell_type": "code",
   "execution_count": 2,
   "metadata": {},
   "outputs": [],
   "source": [
    "full_df =  pd.read_csv(\"../data/full_df.tsv\", sep=\"\\t\", index_col=\"api\")"
   ]
  },
  {
   "cell_type": "code",
   "execution_count": 3,
   "metadata": {},
   "outputs": [],
   "source": [
    "def count_missings(df):\n",
    "    percent_missing_df = (df.isnull().sum() / full_df.shape[0] * 100).round(2).to_frame().rename(columns={0: \"percent_missing\"})\n",
    "    return percent_missing_df"
   ]
  },
  {
   "cell_type": "code",
   "execution_count": 4,
   "metadata": {
    "scrolled": false
   },
   "outputs": [
    {
     "data": {
      "text/html": [
       "<div>\n",
       "<style scoped>\n",
       "    .dataframe tbody tr th:only-of-type {\n",
       "        vertical-align: middle;\n",
       "    }\n",
       "\n",
       "    .dataframe tbody tr th {\n",
       "        vertical-align: top;\n",
       "    }\n",
       "\n",
       "    .dataframe thead th {\n",
       "        text-align: right;\n",
       "    }\n",
       "</style>\n",
       "<table border=\"1\" class=\"dataframe\">\n",
       "  <thead>\n",
       "    <tr style=\"text-align: right;\">\n",
       "      <th></th>\n",
       "      <th>percent_missing</th>\n",
       "    </tr>\n",
       "  </thead>\n",
       "  <tbody>\n",
       "    <tr>\n",
       "      <th>bakken_isopach_ft</th>\n",
       "      <td>0.00</td>\n",
       "    </tr>\n",
       "    <tr>\n",
       "      <th>data_group</th>\n",
       "      <td>0.00</td>\n",
       "    </tr>\n",
       "    <tr>\n",
       "      <th>length</th>\n",
       "      <td>5.11</td>\n",
       "    </tr>\n",
       "    <tr>\n",
       "      <th>mean_tvd</th>\n",
       "      <td>0.00</td>\n",
       "    </tr>\n",
       "    <tr>\n",
       "      <th>production_liquid_180</th>\n",
       "      <td>0.00</td>\n",
       "    </tr>\n",
       "    <tr>\n",
       "      <th>shortest_dist</th>\n",
       "      <td>0.00</td>\n",
       "    </tr>\n",
       "    <tr>\n",
       "      <th>spud_year</th>\n",
       "      <td>0.25</td>\n",
       "    </tr>\n",
       "    <tr>\n",
       "      <th>stage_spacing</th>\n",
       "      <td>13.94</td>\n",
       "    </tr>\n",
       "    <tr>\n",
       "      <th>std_tvd</th>\n",
       "      <td>0.00</td>\n",
       "    </tr>\n",
       "    <tr>\n",
       "      <th>surface_lat</th>\n",
       "      <td>0.00</td>\n",
       "    </tr>\n",
       "    <tr>\n",
       "      <th>surface_lng</th>\n",
       "      <td>0.00</td>\n",
       "    </tr>\n",
       "    <tr>\n",
       "      <th>target_formation</th>\n",
       "      <td>0.15</td>\n",
       "    </tr>\n",
       "    <tr>\n",
       "      <th>total_lbs_proppant</th>\n",
       "      <td>14.18</td>\n",
       "    </tr>\n",
       "    <tr>\n",
       "      <th>total_num_stages</th>\n",
       "      <td>9.46</td>\n",
       "    </tr>\n",
       "    <tr>\n",
       "      <th>total_volume_bbls</th>\n",
       "      <td>15.24</td>\n",
       "    </tr>\n",
       "    <tr>\n",
       "      <th>tvd</th>\n",
       "      <td>0.00</td>\n",
       "    </tr>\n",
       "  </tbody>\n",
       "</table>\n",
       "</div>"
      ],
      "text/plain": [
       "                       percent_missing\n",
       "bakken_isopach_ft                 0.00\n",
       "data_group                        0.00\n",
       "length                            5.11\n",
       "mean_tvd                          0.00\n",
       "production_liquid_180             0.00\n",
       "shortest_dist                     0.00\n",
       "spud_year                         0.25\n",
       "stage_spacing                    13.94\n",
       "std_tvd                           0.00\n",
       "surface_lat                       0.00\n",
       "surface_lng                       0.00\n",
       "target_formation                  0.15\n",
       "total_lbs_proppant               14.18\n",
       "total_num_stages                  9.46\n",
       "total_volume_bbls                15.24\n",
       "tvd                               0.00"
      ]
     },
     "execution_count": 4,
     "metadata": {},
     "output_type": "execute_result"
    }
   ],
   "source": [
    "percent_missing_df = count_missings(full_df)\n",
    "percent_missing_df"
   ]
  },
  {
   "cell_type": "code",
   "execution_count": 5,
   "metadata": {
    "scrolled": false
   },
   "outputs": [
    {
     "data": {
      "text/html": [
       "<div>\n",
       "<style scoped>\n",
       "    .dataframe tbody tr th:only-of-type {\n",
       "        vertical-align: middle;\n",
       "    }\n",
       "\n",
       "    .dataframe tbody tr th {\n",
       "        vertical-align: top;\n",
       "    }\n",
       "\n",
       "    .dataframe thead th {\n",
       "        text-align: right;\n",
       "    }\n",
       "</style>\n",
       "<table border=\"1\" class=\"dataframe\">\n",
       "  <thead>\n",
       "    <tr style=\"text-align: right;\">\n",
       "      <th></th>\n",
       "      <th>percent_missing</th>\n",
       "    </tr>\n",
       "  </thead>\n",
       "  <tbody>\n",
       "    <tr>\n",
       "      <th>bakken_isopach_ft</th>\n",
       "      <td>0.00</td>\n",
       "    </tr>\n",
       "    <tr>\n",
       "      <th>data_group</th>\n",
       "      <td>0.00</td>\n",
       "    </tr>\n",
       "    <tr>\n",
       "      <th>length</th>\n",
       "      <td>4.35</td>\n",
       "    </tr>\n",
       "    <tr>\n",
       "      <th>mean_tvd</th>\n",
       "      <td>0.00</td>\n",
       "    </tr>\n",
       "    <tr>\n",
       "      <th>production_liquid_180</th>\n",
       "      <td>0.00</td>\n",
       "    </tr>\n",
       "    <tr>\n",
       "      <th>shortest_dist</th>\n",
       "      <td>0.00</td>\n",
       "    </tr>\n",
       "    <tr>\n",
       "      <th>spud_year</th>\n",
       "      <td>0.00</td>\n",
       "    </tr>\n",
       "    <tr>\n",
       "      <th>stage_spacing</th>\n",
       "      <td>4.77</td>\n",
       "    </tr>\n",
       "    <tr>\n",
       "      <th>std_tvd</th>\n",
       "      <td>0.00</td>\n",
       "    </tr>\n",
       "    <tr>\n",
       "      <th>surface_lat</th>\n",
       "      <td>0.00</td>\n",
       "    </tr>\n",
       "    <tr>\n",
       "      <th>surface_lng</th>\n",
       "      <td>0.00</td>\n",
       "    </tr>\n",
       "    <tr>\n",
       "      <th>target_formation</th>\n",
       "      <td>0.09</td>\n",
       "    </tr>\n",
       "    <tr>\n",
       "      <th>total_lbs_proppant</th>\n",
       "      <td>2.59</td>\n",
       "    </tr>\n",
       "    <tr>\n",
       "      <th>total_num_stages</th>\n",
       "      <td>0.45</td>\n",
       "    </tr>\n",
       "    <tr>\n",
       "      <th>total_volume_bbls</th>\n",
       "      <td>3.56</td>\n",
       "    </tr>\n",
       "    <tr>\n",
       "      <th>tvd</th>\n",
       "      <td>0.00</td>\n",
       "    </tr>\n",
       "  </tbody>\n",
       "</table>\n",
       "</div>"
      ],
      "text/plain": [
       "                       percent_missing\n",
       "bakken_isopach_ft                 0.00\n",
       "data_group                        0.00\n",
       "length                            4.35\n",
       "mean_tvd                          0.00\n",
       "production_liquid_180             0.00\n",
       "shortest_dist                     0.00\n",
       "spud_year                         0.00\n",
       "stage_spacing                     4.77\n",
       "std_tvd                           0.00\n",
       "surface_lat                       0.00\n",
       "surface_lng                       0.00\n",
       "target_formation                  0.09\n",
       "total_lbs_proppant                2.59\n",
       "total_num_stages                  0.45\n",
       "total_volume_bbls                 3.56\n",
       "tvd                               0.00"
      ]
     },
     "execution_count": 5,
     "metadata": {},
     "output_type": "execute_result"
    }
   ],
   "source": [
    "percent_missing_df = count_missings(full_df.query(\"spud_year > 2009\"))\n",
    "percent_missing_df"
   ]
  },
  {
   "cell_type": "code",
   "execution_count": 6,
   "metadata": {},
   "outputs": [
    {
     "data": {
      "text/plain": [
       "(383, 16)"
      ]
     },
     "execution_count": 6,
     "metadata": {},
     "output_type": "execute_result"
    }
   ],
   "source": [
    "#TODO this is a problem. haversine is not working properly for about 5% of observations\n",
    "full_df.query(\"length != length\").shape"
   ]
  },
  {
   "cell_type": "code",
   "execution_count": 7,
   "metadata": {},
   "outputs": [
    {
     "data": {
      "text/plain": [
       "(7502, 16)"
      ]
     },
     "execution_count": 7,
     "metadata": {},
     "output_type": "execute_result"
    }
   ],
   "source": [
    "full_df.shape"
   ]
  },
  {
   "cell_type": "code",
   "execution_count": 11,
   "metadata": {},
   "outputs": [
    {
     "data": {
      "text/plain": [
       "(5836, 16)"
      ]
     },
     "execution_count": 11,
     "metadata": {},
     "output_type": "execute_result"
    }
   ],
   "source": [
    "full_df.query(\"spud_year > 2009\").dropna().shape"
   ]
  },
  {
   "cell_type": "code",
   "execution_count": 12,
   "metadata": {},
   "outputs": [],
   "source": [
    "later_df = full_df.copy().query(\"spud_year > 2009\")"
   ]
  },
  {
   "cell_type": "code",
   "execution_count": 13,
   "metadata": {
    "scrolled": true
   },
   "outputs": [
    {
     "data": {
      "text/plain": [
       "(6518, 16)"
      ]
     },
     "execution_count": 13,
     "metadata": {},
     "output_type": "execute_result"
    }
   ],
   "source": [
    "later_df.shape"
   ]
  },
  {
   "cell_type": "code",
   "execution_count": 14,
   "metadata": {},
   "outputs": [
    {
     "name": "stdout",
     "output_type": "stream",
     "text": [
      "\n",
      "    353 missing either fluid OR proppant,\n",
      "    108 missing both fluid AND proppant,\n",
      "    159 missing only fluid\n",
      "    86 missing only proppant\n",
      "    \n"
     ]
    }
   ],
   "source": [
    "missing_fluid = set(later_df.query(\"total_volume_bbls != total_volume_bbls\").index.values)\n",
    "\n",
    "missing_proppant = set(later_df.query(\"total_lbs_proppant!= total_lbs_proppant\").index.values)\n",
    "\n",
    "print(f'''\n",
    "    {len(missing_fluid.union(missing_proppant))} missing either fluid OR proppant,\n",
    "    {len(missing_fluid.intersection(missing_proppant))} missing both fluid AND proppant,\n",
    "    {len(missing_fluid - missing_proppant)} missing only fluid\n",
    "    {len(missing_proppant - missing_fluid)} missing only proppant\n",
    "    ''')\n"
   ]
  },
  {
   "cell_type": "code",
   "execution_count": 17,
   "metadata": {},
   "outputs": [],
   "source": [
    "foi = [\"std_tvd\", \n",
    "       \"tvd\", \n",
    "       \"total_lbs_proppant\", \n",
    "       \"total_volume_bbls\", \n",
    "       \"total_num_stages\", \n",
    "       \"spud_year\", \n",
    "#        \"bh_lat\", \n",
    "#        \"bh_lng\", \n",
    "       \"target_formation\",\n",
    "       \"production_liquid_180\"]"
   ]
  },
  {
   "cell_type": "code",
   "execution_count": 18,
   "metadata": {},
   "outputs": [
    {
     "data": {
      "text/plain": [
       "std_tvd                  0.000000\n",
       "tvd                      0.000000\n",
       "total_lbs_proppant       0.141829\n",
       "total_volume_bbls        0.152359\n",
       "total_num_stages         0.094641\n",
       "spud_year                0.002533\n",
       "target_formation         0.001466\n",
       "production_liquid_180    0.000000\n",
       "dtype: float64"
      ]
     },
     "execution_count": 18,
     "metadata": {},
     "output_type": "execute_result"
    }
   ],
   "source": [
    "full_df[foi].isnull().sum() / full_df[foi].shape[0]"
   ]
  },
  {
   "cell_type": "code",
   "execution_count": 19,
   "metadata": {},
   "outputs": [],
   "source": [
    "null_count_df = full_df[foi].isnull().sum().to_frame().rename(columns={0: \"null_count\"})"
   ]
  },
  {
   "cell_type": "code",
   "execution_count": 20,
   "metadata": {},
   "outputs": [
    {
     "data": {
      "text/plain": [
       "['total_lbs_proppant',\n",
       " 'total_volume_bbls',\n",
       " 'total_num_stages',\n",
       " 'spud_year',\n",
       " 'target_formation']"
      ]
     },
     "execution_count": 20,
     "metadata": {},
     "output_type": "execute_result"
    }
   ],
   "source": [
    "null_count_df.query(\"null_count > 1\").index.tolist()"
   ]
  },
  {
   "cell_type": "code",
   "execution_count": 21,
   "metadata": {},
   "outputs": [],
   "source": [
    "null_flag_df = full_df.copy()\n",
    "\n",
    "for col in foi:\n",
    "    null_flag_df[col + \"_isnull\"] = null_flag_df[col].isnull()"
   ]
  },
  {
   "cell_type": "code",
   "execution_count": 22,
   "metadata": {},
   "outputs": [],
   "source": [
    "completion_features = \\\n",
    "['total_lbs_proppant',\n",
    " 'total_volume_bbls',\n",
    " 'total_num_stages']"
   ]
  },
  {
   "cell_type": "code",
   "execution_count": 23,
   "metadata": {},
   "outputs": [],
   "source": [
    "null_flag_corr_df = null_flag_df[[\"surface_lat\", \"surface_lng\", \"spud_year\"] + [x + \"_isnull\" for x in completion_features]].corr()"
   ]
  },
  {
   "cell_type": "markdown",
   "metadata": {},
   "source": [
    "## Missingness of `total_lbs_proppant` is highly correlated (~87%) with missingness of `total_volume_bbls`"
   ]
  },
  {
   "cell_type": "code",
   "execution_count": 24,
   "metadata": {
    "scrolled": true
   },
   "outputs": [
    {
     "data": {
      "text/html": [
       "<div>\n",
       "<style scoped>\n",
       "    .dataframe tbody tr th:only-of-type {\n",
       "        vertical-align: middle;\n",
       "    }\n",
       "\n",
       "    .dataframe tbody tr th {\n",
       "        vertical-align: top;\n",
       "    }\n",
       "\n",
       "    .dataframe thead th {\n",
       "        text-align: right;\n",
       "    }\n",
       "</style>\n",
       "<table border=\"1\" class=\"dataframe\">\n",
       "  <thead>\n",
       "    <tr style=\"text-align: right;\">\n",
       "      <th></th>\n",
       "      <th>surface_lat</th>\n",
       "      <th>surface_lng</th>\n",
       "      <th>spud_year</th>\n",
       "      <th>total_lbs_proppant_isnull</th>\n",
       "      <th>total_volume_bbls_isnull</th>\n",
       "      <th>total_num_stages_isnull</th>\n",
       "    </tr>\n",
       "  </thead>\n",
       "  <tbody>\n",
       "    <tr>\n",
       "      <th>surface_lat</th>\n",
       "      <td>1.000000</td>\n",
       "      <td>-0.126848</td>\n",
       "      <td>0.003178</td>\n",
       "      <td>0.006326</td>\n",
       "      <td>-0.002830</td>\n",
       "      <td>-0.040458</td>\n",
       "    </tr>\n",
       "    <tr>\n",
       "      <th>surface_lng</th>\n",
       "      <td>-0.126848</td>\n",
       "      <td>1.000000</td>\n",
       "      <td>-0.245711</td>\n",
       "      <td>0.265234</td>\n",
       "      <td>0.258472</td>\n",
       "      <td>0.187109</td>\n",
       "    </tr>\n",
       "    <tr>\n",
       "      <th>spud_year</th>\n",
       "      <td>0.003178</td>\n",
       "      <td>-0.245711</td>\n",
       "      <td>1.000000</td>\n",
       "      <td>-0.661677</td>\n",
       "      <td>-0.646359</td>\n",
       "      <td>-0.634365</td>\n",
       "    </tr>\n",
       "    <tr>\n",
       "      <th>total_lbs_proppant_isnull</th>\n",
       "      <td>0.006326</td>\n",
       "      <td>0.265234</td>\n",
       "      <td>-0.661677</td>\n",
       "      <td>1.000000</td>\n",
       "      <td>0.867450</td>\n",
       "      <td>0.762675</td>\n",
       "    </tr>\n",
       "    <tr>\n",
       "      <th>total_volume_bbls_isnull</th>\n",
       "      <td>-0.002830</td>\n",
       "      <td>0.258472</td>\n",
       "      <td>-0.646359</td>\n",
       "      <td>0.867450</td>\n",
       "      <td>1.000000</td>\n",
       "      <td>0.730929</td>\n",
       "    </tr>\n",
       "    <tr>\n",
       "      <th>total_num_stages_isnull</th>\n",
       "      <td>-0.040458</td>\n",
       "      <td>0.187109</td>\n",
       "      <td>-0.634365</td>\n",
       "      <td>0.762675</td>\n",
       "      <td>0.730929</td>\n",
       "      <td>1.000000</td>\n",
       "    </tr>\n",
       "  </tbody>\n",
       "</table>\n",
       "</div>"
      ],
      "text/plain": [
       "                           surface_lat  surface_lng  spud_year  \\\n",
       "surface_lat                   1.000000    -0.126848   0.003178   \n",
       "surface_lng                  -0.126848     1.000000  -0.245711   \n",
       "spud_year                     0.003178    -0.245711   1.000000   \n",
       "total_lbs_proppant_isnull     0.006326     0.265234  -0.661677   \n",
       "total_volume_bbls_isnull     -0.002830     0.258472  -0.646359   \n",
       "total_num_stages_isnull      -0.040458     0.187109  -0.634365   \n",
       "\n",
       "                           total_lbs_proppant_isnull  \\\n",
       "surface_lat                                 0.006326   \n",
       "surface_lng                                 0.265234   \n",
       "spud_year                                  -0.661677   \n",
       "total_lbs_proppant_isnull                   1.000000   \n",
       "total_volume_bbls_isnull                    0.867450   \n",
       "total_num_stages_isnull                     0.762675   \n",
       "\n",
       "                           total_volume_bbls_isnull  total_num_stages_isnull  \n",
       "surface_lat                               -0.002830                -0.040458  \n",
       "surface_lng                                0.258472                 0.187109  \n",
       "spud_year                                 -0.646359                -0.634365  \n",
       "total_lbs_proppant_isnull                  0.867450                 0.762675  \n",
       "total_volume_bbls_isnull                   1.000000                 0.730929  \n",
       "total_num_stages_isnull                    0.730929                 1.000000  "
      ]
     },
     "execution_count": 24,
     "metadata": {},
     "output_type": "execute_result"
    }
   ],
   "source": [
    "null_flag_corr_df"
   ]
  },
  {
   "cell_type": "markdown",
   "metadata": {},
   "source": [
    "#### Most features don't have a strong correlation the count of missing values per row.\n",
    "... Except for Spud Year, where the absolute value of the correlation coefficient is relatively high, above `0.6`."
   ]
  },
  {
   "cell_type": "code",
   "execution_count": 25,
   "metadata": {},
   "outputs": [
    {
     "data": {
      "image/png": "[encoded data removed]",
      "text/plain": [
       "<Figure size 864x504 with 1 Axes>"
      ]
     },
     "metadata": {
      "needs_background": "light"
     },
     "output_type": "display_data"
    }
   ],
   "source": [
    "has_nulls_df = full_df.copy().assign(has_nulls= lambda x: pd.isnull(x).sum(axis=1))\n",
    "correlations = has_nulls_df.corr().sort_values('has_nulls')[['has_nulls']]\n",
    "fig, ax = plt.subplots(figsize=(12, 7))\n",
    "ax = sns.barplot(x='index', y='has_nulls', \n",
    "                 data=correlations.dropna().drop('has_nulls', axis=0).reset_index())\n",
    "ax.set_xticklabels(ax.get_xticklabels(), rotation=90)\n",
    "ax.set_xlabel('')\n",
    "ax.set_ylabel('correlation')\n",
    "plt.show()"
   ]
  },
  {
   "cell_type": "code",
   "execution_count": 26,
   "metadata": {},
   "outputs": [
    {
     "data": {
      "text/plain": [
       "<matplotlib.axes._subplots.AxesSubplot at 0x118285940>"
      ]
     },
     "execution_count": 26,
     "metadata": {},
     "output_type": "execute_result"
    },
    {
     "data": {
      "image/png": "[encoded data removed]",
      "text/plain": [
       "<Figure size 720x432 with 1 Axes>"
      ]
     },
     "metadata": {
      "needs_background": "light"
     },
     "output_type": "display_data"
    }
   ],
   "source": [
    "fig, ax = plt.subplots(figsize=(10,6))\n",
    "sns.boxplot(data=null_flag_df, y=\"spud_year\", x=\"total_lbs_proppant_isnull\")"
   ]
  },
  {
   "cell_type": "code",
   "execution_count": 27,
   "metadata": {},
   "outputs": [
    {
     "data": {
      "text/html": [
       "<div>\n",
       "<style scoped>\n",
       "    .dataframe tbody tr th:only-of-type {\n",
       "        vertical-align: middle;\n",
       "    }\n",
       "\n",
       "    .dataframe tbody tr th {\n",
       "        vertical-align: top;\n",
       "    }\n",
       "\n",
       "    .dataframe thead th {\n",
       "        text-align: right;\n",
       "    }\n",
       "</style>\n",
       "<table border=\"1\" class=\"dataframe\">\n",
       "  <thead>\n",
       "    <tr style=\"text-align: right;\">\n",
       "      <th></th>\n",
       "      <th>spud_year</th>\n",
       "    </tr>\n",
       "    <tr>\n",
       "      <th>total_lbs_proppant_isnull</th>\n",
       "      <th></th>\n",
       "    </tr>\n",
       "  </thead>\n",
       "  <tbody>\n",
       "    <tr>\n",
       "      <th>False</th>\n",
       "      <td>2011.993457</td>\n",
       "    </tr>\n",
       "    <tr>\n",
       "      <th>True</th>\n",
       "      <td>2008.738722</td>\n",
       "    </tr>\n",
       "  </tbody>\n",
       "</table>\n",
       "</div>"
      ],
      "text/plain": [
       "                             spud_year\n",
       "total_lbs_proppant_isnull             \n",
       "False                      2011.993457\n",
       "True                       2008.738722"
      ]
     },
     "execution_count": 27,
     "metadata": {},
     "output_type": "execute_result"
    }
   ],
   "source": [
    "null_flag_df.filter([\"total_lbs_proppant_isnull\", \"spud_year\"]).groupby(\"total_lbs_proppant_isnull\").mean()"
   ]
  },
  {
   "cell_type": "code",
   "execution_count": 28,
   "metadata": {},
   "outputs": [],
   "source": [
    "vc = full_df.spud_year.value_counts().sort_index().to_frame().rename(columns={\"spud_year\": \"value_counts\"})\n",
    "\n",
    "num_missing_by_year = (full_df.copy()\n",
    "               .filter([\"total_lbs_proppant\", \"total_volume_bbls\", \"spud_year\"])\n",
    "               .groupby(\"spud_year\")\n",
    "               .apply(lambda x: x.isnull().sum())\n",
    "               .drop(\"spud_year\", axis=1)\n",
    "               .rename(columns={\"total_lbs_proppant\": \"prop_num_missing\",\n",
    "                               \"total_volume_bbls\" : \"fluid_num_missing\"\n",
    "                               })\n",
    "               .join(vc)\n",
    "               .assign(prop_perc_missing = lambda x: x[\"prop_num_missing\"]/ x[\"value_counts\"] * 100,\n",
    "                       fluid_perc_missing = lambda x: x[\"fluid_num_missing\"]/ x[\"value_counts\"] * 100,\n",
    "                      )\n",
    "              )"
   ]
  },
  {
   "cell_type": "markdown",
   "metadata": {},
   "source": [
    "#### Before 2010, most observations (83 - 97% are missing values for fluid and proppant)."
   ]
  },
  {
   "cell_type": "code",
   "execution_count": 29,
   "metadata": {},
   "outputs": [
    {
     "data": {
      "text/html": [
       "<div>\n",
       "<style scoped>\n",
       "    .dataframe tbody tr th:only-of-type {\n",
       "        vertical-align: middle;\n",
       "    }\n",
       "\n",
       "    .dataframe tbody tr th {\n",
       "        vertical-align: top;\n",
       "    }\n",
       "\n",
       "    .dataframe thead th {\n",
       "        text-align: right;\n",
       "    }\n",
       "</style>\n",
       "<table border=\"1\" class=\"dataframe\">\n",
       "  <thead>\n",
       "    <tr style=\"text-align: right;\">\n",
       "      <th></th>\n",
       "      <th>prop_num_missing</th>\n",
       "      <th>fluid_num_missing</th>\n",
       "      <th>value_counts</th>\n",
       "      <th>prop_perc_missing</th>\n",
       "      <th>fluid_perc_missing</th>\n",
       "    </tr>\n",
       "    <tr>\n",
       "      <th>spud_year</th>\n",
       "      <th></th>\n",
       "      <th></th>\n",
       "      <th></th>\n",
       "      <th></th>\n",
       "      <th></th>\n",
       "    </tr>\n",
       "  </thead>\n",
       "  <tbody>\n",
       "    <tr>\n",
       "      <th>1992.0</th>\n",
       "      <td>0</td>\n",
       "      <td>0</td>\n",
       "      <td>1</td>\n",
       "      <td>0.000000</td>\n",
       "      <td>0.000000</td>\n",
       "    </tr>\n",
       "    <tr>\n",
       "      <th>2006.0</th>\n",
       "      <td>0</td>\n",
       "      <td>0</td>\n",
       "      <td>3</td>\n",
       "      <td>0.000000</td>\n",
       "      <td>0.000000</td>\n",
       "    </tr>\n",
       "    <tr>\n",
       "      <th>2007.0</th>\n",
       "      <td>156</td>\n",
       "      <td>156</td>\n",
       "      <td>161</td>\n",
       "      <td>96.894410</td>\n",
       "      <td>96.894410</td>\n",
       "    </tr>\n",
       "    <tr>\n",
       "      <th>2008.0</th>\n",
       "      <td>409</td>\n",
       "      <td>409</td>\n",
       "      <td>433</td>\n",
       "      <td>94.457275</td>\n",
       "      <td>94.457275</td>\n",
       "    </tr>\n",
       "    <tr>\n",
       "      <th>2009.0</th>\n",
       "      <td>305</td>\n",
       "      <td>310</td>\n",
       "      <td>367</td>\n",
       "      <td>83.106267</td>\n",
       "      <td>84.468665</td>\n",
       "    </tr>\n",
       "    <tr>\n",
       "      <th>2010.0</th>\n",
       "      <td>77</td>\n",
       "      <td>93</td>\n",
       "      <td>848</td>\n",
       "      <td>9.080189</td>\n",
       "      <td>10.966981</td>\n",
       "    </tr>\n",
       "    <tr>\n",
       "      <th>2011.0</th>\n",
       "      <td>33</td>\n",
       "      <td>44</td>\n",
       "      <td>1274</td>\n",
       "      <td>2.590267</td>\n",
       "      <td>3.453689</td>\n",
       "    </tr>\n",
       "    <tr>\n",
       "      <th>2012.0</th>\n",
       "      <td>43</td>\n",
       "      <td>84</td>\n",
       "      <td>1846</td>\n",
       "      <td>2.329361</td>\n",
       "      <td>4.550379</td>\n",
       "    </tr>\n",
       "    <tr>\n",
       "      <th>2013.0</th>\n",
       "      <td>34</td>\n",
       "      <td>40</td>\n",
       "      <td>1966</td>\n",
       "      <td>1.729400</td>\n",
       "      <td>2.034588</td>\n",
       "    </tr>\n",
       "    <tr>\n",
       "      <th>2014.0</th>\n",
       "      <td>7</td>\n",
       "      <td>6</td>\n",
       "      <td>584</td>\n",
       "      <td>1.198630</td>\n",
       "      <td>1.027397</td>\n",
       "    </tr>\n",
       "  </tbody>\n",
       "</table>\n",
       "</div>"
      ],
      "text/plain": [
       "           prop_num_missing  fluid_num_missing  value_counts  \\\n",
       "spud_year                                                      \n",
       "1992.0                    0                  0             1   \n",
       "2006.0                    0                  0             3   \n",
       "2007.0                  156                156           161   \n",
       "2008.0                  409                409           433   \n",
       "2009.0                  305                310           367   \n",
       "2010.0                   77                 93           848   \n",
       "2011.0                   33                 44          1274   \n",
       "2012.0                   43                 84          1846   \n",
       "2013.0                   34                 40          1966   \n",
       "2014.0                    7                  6           584   \n",
       "\n",
       "           prop_perc_missing  fluid_perc_missing  \n",
       "spud_year                                         \n",
       "1992.0              0.000000            0.000000  \n",
       "2006.0              0.000000            0.000000  \n",
       "2007.0             96.894410           96.894410  \n",
       "2008.0             94.457275           94.457275  \n",
       "2009.0             83.106267           84.468665  \n",
       "2010.0              9.080189           10.966981  \n",
       "2011.0              2.590267            3.453689  \n",
       "2012.0              2.329361            4.550379  \n",
       "2013.0              1.729400            2.034588  \n",
       "2014.0              1.198630            1.027397  "
      ]
     },
     "execution_count": 29,
     "metadata": {},
     "output_type": "execute_result"
    }
   ],
   "source": [
    "num_missing_by_year"
   ]
  },
  {
   "cell_type": "markdown",
   "metadata": {},
   "source": [
    "### Testing Imputation Methods"
   ]
  },
  {
   "cell_type": "code",
   "execution_count": 30,
   "metadata": {},
   "outputs": [],
   "source": [
    "# To use this experimental feature, we need to explicitly ask for it:\n",
    "import numpy as np\n",
    "from sklearn.experimental import enable_iterative_imputer\n",
    "from sklearn.impute import SimpleImputer\n",
    "from sklearn.impute import IterativeImputer\n",
    "from sklearn.linear_model import BayesianRidge\n",
    "from sklearn.tree import DecisionTreeRegressor\n",
    "from sklearn.ensemble import ExtraTreesRegressor\n",
    "from sklearn.neighbors import KNeighborsRegressor\n",
    "from sklearn.pipeline import make_pipeline\n",
    "from sklearn.model_selection import cross_val_score"
   ]
  },
  {
   "cell_type": "code",
   "execution_count": 31,
   "metadata": {
    "scrolled": false
   },
   "outputs": [
    {
     "data": {
      "text/plain": [
       "17.70194614769395"
      ]
     },
     "execution_count": 31,
     "metadata": {},
     "output_type": "execute_result"
    }
   ],
   "source": [
    "# approx 19% of rows have more than one missing_value\n",
    "full_df.isnull().sum(axis=1).to_frame().reset_index().rename(columns={0: \"count\"}).query(\"count > 1\").shape[0] / full_df.shape[0] * 100"
   ]
  },
  {
   "cell_type": "code",
   "execution_count": 33,
   "metadata": {},
   "outputs": [],
   "source": [
    "test_df = (full_df.copy()\n",
    "     .drop([\"data_group\"], axis=1)\n",
    "     .query(\"spud_year > 2009\")\n",
    "     .dropna()\n",
    ")"
   ]
  },
  {
   "cell_type": "code",
   "execution_count": 34,
   "metadata": {},
   "outputs": [
    {
     "data": {
      "text/plain": [
       "bakken_isopach_ft        0\n",
       "length                   0\n",
       "mean_tvd                 0\n",
       "production_liquid_180    0\n",
       "shortest_dist            0\n",
       "spud_year                0\n",
       "stage_spacing            0\n",
       "std_tvd                  0\n",
       "surface_lat              0\n",
       "surface_lng              0\n",
       "target_formation         0\n",
       "total_lbs_proppant       0\n",
       "total_num_stages         0\n",
       "total_volume_bbls        0\n",
       "tvd                      0\n",
       "dtype: int64"
      ]
     },
     "execution_count": 34,
     "metadata": {},
     "output_type": "execute_result"
    }
   ],
   "source": [
    "test_df.isnull().sum()"
   ]
  },
  {
   "cell_type": "code",
   "execution_count": 35,
   "metadata": {},
   "outputs": [],
   "source": [
    "target_col = \"production_liquid_180\""
   ]
  },
  {
   "cell_type": "code",
   "execution_count": 36,
   "metadata": {
    "scrolled": true
   },
   "outputs": [],
   "source": [
    "X_full, y_full = mft.X_y_split(test_df, target=target_col)"
   ]
  },
  {
   "cell_type": "code",
   "execution_count": 37,
   "metadata": {},
   "outputs": [],
   "source": [
    "X_full = X_full.values"
   ]
  },
  {
   "cell_type": "code",
   "execution_count": 38,
   "metadata": {},
   "outputs": [
    {
     "data": {
      "text/plain": [
       "(5836, 14)"
      ]
     },
     "execution_count": 38,
     "metadata": {},
     "output_type": "execute_result"
    }
   ],
   "source": [
    "X_full.shape"
   ]
  },
  {
   "cell_type": "code",
   "execution_count": null,
   "metadata": {
    "scrolled": true
   },
   "outputs": [
    {
     "name": "stderr",
     "output_type": "stream",
     "text": [
      "/Users/jameshelfrich/miniconda3/envs/my_env/lib/python3.7/site-packages/sklearn/impute/_iterative.py:599: ConvergenceWarning: [IterativeImputer] Early stopping criterion not reached.\n",
      "  \" reached.\", ConvergenceWarning)\n",
      "/Users/jameshelfrich/miniconda3/envs/my_env/lib/python3.7/site-packages/sklearn/impute/_iterative.py:599: ConvergenceWarning: [IterativeImputer] Early stopping criterion not reached.\n",
      "  \" reached.\", ConvergenceWarning)\n",
      "/Users/jameshelfrich/miniconda3/envs/my_env/lib/python3.7/site-packages/sklearn/impute/_iterative.py:599: ConvergenceWarning: [IterativeImputer] Early stopping criterion not reached.\n",
      "  \" reached.\", ConvergenceWarning)\n",
      "/Users/jameshelfrich/miniconda3/envs/my_env/lib/python3.7/site-packages/sklearn/impute/_iterative.py:599: ConvergenceWarning: [IterativeImputer] Early stopping criterion not reached.\n",
      "  \" reached.\", ConvergenceWarning)\n",
      "/Users/jameshelfrich/miniconda3/envs/my_env/lib/python3.7/site-packages/sklearn/impute/_iterative.py:599: ConvergenceWarning: [IterativeImputer] Early stopping criterion not reached.\n",
      "  \" reached.\", ConvergenceWarning)\n",
      "/Users/jameshelfrich/miniconda3/envs/my_env/lib/python3.7/site-packages/sklearn/impute/_iterative.py:599: ConvergenceWarning: [IterativeImputer] Early stopping criterion not reached.\n",
      "  \" reached.\", ConvergenceWarning)\n",
      "/Users/jameshelfrich/miniconda3/envs/my_env/lib/python3.7/site-packages/sklearn/impute/_iterative.py:599: ConvergenceWarning: [IterativeImputer] Early stopping criterion not reached.\n",
      "  \" reached.\", ConvergenceWarning)\n",
      "/Users/jameshelfrich/miniconda3/envs/my_env/lib/python3.7/site-packages/sklearn/impute/_iterative.py:599: ConvergenceWarning: [IterativeImputer] Early stopping criterion not reached.\n",
      "  \" reached.\", ConvergenceWarning)\n",
      "/Users/jameshelfrich/miniconda3/envs/my_env/lib/python3.7/site-packages/sklearn/impute/_iterative.py:599: ConvergenceWarning: [IterativeImputer] Early stopping criterion not reached.\n",
      "  \" reached.\", ConvergenceWarning)\n",
      "/Users/jameshelfrich/miniconda3/envs/my_env/lib/python3.7/site-packages/sklearn/impute/_iterative.py:599: ConvergenceWarning: [IterativeImputer] Early stopping criterion not reached.\n",
      "  \" reached.\", ConvergenceWarning)\n"
     ]
    }
   ],
   "source": [
    "N_SPLITS = 10\n",
    "\n",
    "rng = np.random.RandomState(0)\n",
    "\n",
    "# X_full, y_full = fetch_california_housing(return_X_y=True)\n",
    "# ~2k samples is enough for the purpose of the example.\n",
    "# Remove the following two lines for a slower run with different error bars.\n",
    "# X_full = X_full[::10]\n",
    "# y_full = y_full[::10]\n",
    "n_samples, n_features = X_full.shape\n",
    "\n",
    "# Estimate the score on the entire dataset, with no missing values\n",
    "br_estimator = BayesianRidge()\n",
    "score_full_data = pd.DataFrame(\n",
    "    cross_val_score(\n",
    "        br_estimator, X_full, y_full, scoring='neg_mean_squared_error',\n",
    "        cv=N_SPLITS\n",
    "    ),\n",
    "    columns=['Full Data']\n",
    ")\n",
    "\n",
    "# Add a single missing value to each row\n",
    "X_missing = X_full.copy()\n",
    "y_missing = y_full\n",
    "missing_samples = np.arange(n_samples)\n",
    "missing_features = rng.choice(n_features, n_samples, replace=True)\n",
    "X_missing[missing_samples, missing_features] = np.nan\n",
    "\n",
    "# Estimate the score after imputation (mean and median strategies)\n",
    "score_simple_imputer = pd.DataFrame()\n",
    "for strategy in ('mean', 'median'):\n",
    "    estimator = make_pipeline(\n",
    "        SimpleImputer(missing_values=np.nan, strategy=strategy),\n",
    "        br_estimator\n",
    "    )\n",
    "    score_simple_imputer[strategy] = cross_val_score(\n",
    "        estimator, X_missing, y_missing, scoring='neg_mean_squared_error',\n",
    "        cv=N_SPLITS\n",
    "    )\n",
    "\n",
    "# Estimate the score after iterative imputation of the missing values\n",
    "# with different estimators\n",
    "estimators = [\n",
    "    BayesianRidge(),\n",
    "    DecisionTreeRegressor(max_features='sqrt', random_state=0),\n",
    "    ExtraTreesRegressor(n_estimators=10, random_state=0),\n",
    "    KNeighborsRegressor(n_neighbors=15)\n",
    "]\n",
    "score_iterative_imputer = pd.DataFrame()\n",
    "for impute_estimator in estimators:\n",
    "    estimator = make_pipeline(\n",
    "        IterativeImputer(random_state=0, estimator=impute_estimator),\n",
    "        br_estimator\n",
    "    )\n",
    "    score_iterative_imputer[impute_estimator.__class__.__name__] = \\\n",
    "        cross_val_score(\n",
    "            estimator, X_missing, y_missing, scoring='neg_mean_squared_error',\n",
    "            cv=N_SPLITS\n",
    "        )"
   ]
  },
  {
   "cell_type": "code",
   "execution_count": 72,
   "metadata": {},
   "outputs": [],
   "source": [
    "scores = pd.concat(\n",
    "    [score_full_data, score_simple_imputer, score_iterative_imputer],\n",
    "    keys=['Original', 'SimpleImputer', 'IterativeImputer'], axis=1\n",
    ") * -1"
   ]
  },
  {
   "cell_type": "code",
   "execution_count": 73,
   "metadata": {},
   "outputs": [
    {
     "data": {
      "text/html": [
       "<div>\n",
       "<style scoped>\n",
       "    .dataframe tbody tr th:only-of-type {\n",
       "        vertical-align: middle;\n",
       "    }\n",
       "\n",
       "    .dataframe tbody tr th {\n",
       "        vertical-align: top;\n",
       "    }\n",
       "\n",
       "    .dataframe thead tr th {\n",
       "        text-align: left;\n",
       "    }\n",
       "</style>\n",
       "<table border=\"1\" class=\"dataframe\">\n",
       "  <thead>\n",
       "    <tr>\n",
       "      <th></th>\n",
       "      <th>Original</th>\n",
       "      <th colspan=\"2\" halign=\"left\">SimpleImputer</th>\n",
       "      <th colspan=\"4\" halign=\"left\">IterativeImputer</th>\n",
       "    </tr>\n",
       "    <tr>\n",
       "      <th></th>\n",
       "      <th>Full Data</th>\n",
       "      <th>mean</th>\n",
       "      <th>median</th>\n",
       "      <th>BayesianRidge</th>\n",
       "      <th>DecisionTreeRegressor</th>\n",
       "      <th>ExtraTreesRegressor</th>\n",
       "      <th>KNeighborsRegressor</th>\n",
       "    </tr>\n",
       "  </thead>\n",
       "  <tbody>\n",
       "    <tr>\n",
       "      <th>0</th>\n",
       "      <td>6.333849e+08</td>\n",
       "      <td>6.491465e+08</td>\n",
       "      <td>6.497013e+08</td>\n",
       "      <td>6.323599e+08</td>\n",
       "      <td>6.426553e+08</td>\n",
       "      <td>6.314358e+08</td>\n",
       "      <td>6.436333e+08</td>\n",
       "    </tr>\n",
       "    <tr>\n",
       "      <th>1</th>\n",
       "      <td>6.119954e+08</td>\n",
       "      <td>6.254598e+08</td>\n",
       "      <td>6.246371e+08</td>\n",
       "      <td>6.204330e+08</td>\n",
       "      <td>6.176799e+08</td>\n",
       "      <td>6.140274e+08</td>\n",
       "      <td>6.202034e+08</td>\n",
       "    </tr>\n",
       "    <tr>\n",
       "      <th>2</th>\n",
       "      <td>6.540959e+08</td>\n",
       "      <td>7.048119e+08</td>\n",
       "      <td>7.043376e+08</td>\n",
       "      <td>6.748148e+08</td>\n",
       "      <td>6.551346e+08</td>\n",
       "      <td>6.539265e+08</td>\n",
       "      <td>6.994255e+08</td>\n",
       "    </tr>\n",
       "    <tr>\n",
       "      <th>3</th>\n",
       "      <td>7.462266e+08</td>\n",
       "      <td>7.607987e+08</td>\n",
       "      <td>7.623926e+08</td>\n",
       "      <td>7.521055e+08</td>\n",
       "      <td>7.515202e+08</td>\n",
       "      <td>7.414826e+08</td>\n",
       "      <td>7.574154e+08</td>\n",
       "    </tr>\n",
       "    <tr>\n",
       "      <th>4</th>\n",
       "      <td>6.228117e+08</td>\n",
       "      <td>6.197352e+08</td>\n",
       "      <td>6.217150e+08</td>\n",
       "      <td>6.205338e+08</td>\n",
       "      <td>6.235290e+08</td>\n",
       "      <td>6.261157e+08</td>\n",
       "      <td>6.177839e+08</td>\n",
       "    </tr>\n",
       "    <tr>\n",
       "      <th>5</th>\n",
       "      <td>5.788534e+08</td>\n",
       "      <td>5.705576e+08</td>\n",
       "      <td>5.710469e+08</td>\n",
       "      <td>5.810321e+08</td>\n",
       "      <td>5.839220e+08</td>\n",
       "      <td>5.837941e+08</td>\n",
       "      <td>5.760188e+08</td>\n",
       "    </tr>\n",
       "    <tr>\n",
       "      <th>6</th>\n",
       "      <td>6.143262e+08</td>\n",
       "      <td>6.378366e+08</td>\n",
       "      <td>6.395381e+08</td>\n",
       "      <td>6.179797e+08</td>\n",
       "      <td>6.191539e+08</td>\n",
       "      <td>6.141551e+08</td>\n",
       "      <td>6.272009e+08</td>\n",
       "    </tr>\n",
       "    <tr>\n",
       "      <th>7</th>\n",
       "      <td>6.100398e+08</td>\n",
       "      <td>6.288395e+08</td>\n",
       "      <td>6.282028e+08</td>\n",
       "      <td>6.120951e+08</td>\n",
       "      <td>6.164056e+08</td>\n",
       "      <td>6.104440e+08</td>\n",
       "      <td>6.257027e+08</td>\n",
       "    </tr>\n",
       "    <tr>\n",
       "      <th>8</th>\n",
       "      <td>6.389456e+08</td>\n",
       "      <td>6.507717e+08</td>\n",
       "      <td>6.531347e+08</td>\n",
       "      <td>6.402531e+08</td>\n",
       "      <td>6.404416e+08</td>\n",
       "      <td>6.399484e+08</td>\n",
       "      <td>6.461679e+08</td>\n",
       "    </tr>\n",
       "    <tr>\n",
       "      <th>9</th>\n",
       "      <td>6.981712e+08</td>\n",
       "      <td>7.051659e+08</td>\n",
       "      <td>7.050899e+08</td>\n",
       "      <td>7.033068e+08</td>\n",
       "      <td>7.168775e+08</td>\n",
       "      <td>7.007752e+08</td>\n",
       "      <td>7.034152e+08</td>\n",
       "    </tr>\n",
       "  </tbody>\n",
       "</table>\n",
       "</div>"
      ],
      "text/plain": [
       "       Original SimpleImputer               IterativeImputer  \\\n",
       "      Full Data          mean        median    BayesianRidge   \n",
       "0  6.333849e+08  6.491465e+08  6.497013e+08     6.323599e+08   \n",
       "1  6.119954e+08  6.254598e+08  6.246371e+08     6.204330e+08   \n",
       "2  6.540959e+08  7.048119e+08  7.043376e+08     6.748148e+08   \n",
       "3  7.462266e+08  7.607987e+08  7.623926e+08     7.521055e+08   \n",
       "4  6.228117e+08  6.197352e+08  6.217150e+08     6.205338e+08   \n",
       "5  5.788534e+08  5.705576e+08  5.710469e+08     5.810321e+08   \n",
       "6  6.143262e+08  6.378366e+08  6.395381e+08     6.179797e+08   \n",
       "7  6.100398e+08  6.288395e+08  6.282028e+08     6.120951e+08   \n",
       "8  6.389456e+08  6.507717e+08  6.531347e+08     6.402531e+08   \n",
       "9  6.981712e+08  7.051659e+08  7.050899e+08     7.033068e+08   \n",
       "\n",
       "                                                                 \n",
       "  DecisionTreeRegressor ExtraTreesRegressor KNeighborsRegressor  \n",
       "0          6.426553e+08        6.314358e+08        6.436333e+08  \n",
       "1          6.176799e+08        6.140274e+08        6.202034e+08  \n",
       "2          6.551346e+08        6.539265e+08        6.994255e+08  \n",
       "3          7.515202e+08        7.414826e+08        7.574154e+08  \n",
       "4          6.235290e+08        6.261157e+08        6.177839e+08  \n",
       "5          5.839220e+08        5.837941e+08        5.760188e+08  \n",
       "6          6.191539e+08        6.141551e+08        6.272009e+08  \n",
       "7          6.164056e+08        6.104440e+08        6.257027e+08  \n",
       "8          6.404416e+08        6.399484e+08        6.461679e+08  \n",
       "9          7.168775e+08        7.007752e+08        7.034152e+08  "
      ]
     },
     "execution_count": 73,
     "metadata": {},
     "output_type": "execute_result"
    }
   ],
   "source": [
    "scores"
   ]
  },
  {
   "cell_type": "code",
   "execution_count": 80,
   "metadata": {
    "scrolled": false
   },
   "outputs": [
    {
     "data": {
      "text/plain": [
       "Text(0, 0.5, 'MAE (smaller is better)')"
      ]
     },
     "execution_count": 80,
     "metadata": {},
     "output_type": "execute_result"
    },
    {
     "data": {
      "image/png": "[encoded data removed]",
      "text/plain": [
       "<Figure size 1008x432 with 1 Axes>"
      ]
     },
     "metadata": {
      "needs_background": "light"
     },
     "output_type": "display_data"
    }
   ],
   "source": [
    "fig, ax = plt.subplots(figsize=(14, 6))\n",
    "sns.boxplot(data=scores)\n",
    "for item in ax.get_xticklabels():\n",
    "        item.set_rotation(90)\n",
    "ax.set_ylabel(\"MAE (smaller is better)\")"
   ]
  }
 ],
 "metadata": {
  "kernelspec": {
   "display_name": "Python 3",
   "language": "python",
   "name": "python3"
  },
  "language_info": {
   "codemirror_mode": {
    "name": "ipython",
    "version": 3
   },
   "file_extension": ".py",
   "mimetype": "text/x-python",
   "name": "python",
   "nbconvert_exporter": "python",
   "pygments_lexer": "ipython3",
   "version": "3.7.3"
  }
 },
 "nbformat": 4,
 "nbformat_minor": 2
}
