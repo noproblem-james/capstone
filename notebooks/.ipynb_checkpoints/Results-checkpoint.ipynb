{
 "cells": [
  {
   "cell_type": "code",
   "execution_count": 1,
   "metadata": {
    "collapsed": true
   },
   "outputs": [],
   "source": [
    "from imports import *"
   ]
  },
  {
   "cell_type": "code",
   "execution_count": 2,
   "metadata": {
    "collapsed": false
   },
   "outputs": [
    {
     "data": {
      "text/html": [
       "<style>.container { width:100% !important; }</style>"
      ],
      "text/plain": [
       "<IPython.core.display.HTML object>"
      ]
     },
     "metadata": {},
     "output_type": "display_data"
    }
   ],
   "source": [
    "from IPython.core.display import display, HTML\n",
    "display(HTML(\"<style>.container { width:100% !important; }</style>\"))"
   ]
  },
  {
   "cell_type": "code",
   "execution_count": 5,
   "metadata": {
    "collapsed": false
   },
   "outputs": [
    {
     "data": {
      "text/plain": [
       "Soft Impute    112\n",
       "Mean           112\n",
       "MICE           112\n",
       "Median         112\n",
       "KNN            112\n",
       "Name: imputer, dtype: int64"
      ]
     },
     "execution_count": 5,
     "metadata": {},
     "output_type": "execute_result"
    }
   ],
   "source": [
    "percent_imputation_results = pd.read_csv(\"../results/percent_imputation_results.csv\")\n",
    "percent_imputation_results.drop(\"Unnamed: 0\", axis=1, inplace=True)\n",
    "percent_imputation_results.head()\n",
    "percent_imputation_results['imputer'].replace(\"SoftMax\", \"Soft Impute\",inplace=True)\n",
    "percent_imputation_results.imputer.value_counts()"
   ]
  },
  {
   "cell_type": "code",
   "execution_count": 6,
   "metadata": {
    "collapsed": false
   },
   "outputs": [
    {
     "data": {
      "text/html": [
       "<iframe id=\"igraph\" scrolling=\"no\" style=\"border:none;\" seamless=\"seamless\" src=\"https://plot.ly/~noproblem-james/17.embed\" height=\"525px\" width=\"100%\"></iframe>"
      ],
      "text/plain": [
       "<plotly.tools.PlotlyDisplay object>"
      ]
     },
     "execution_count": 6,
     "metadata": {},
     "output_type": "execute_result"
    }
   ],
   "source": [
    "# Plotting\n",
    "\n",
    "import plotly.plotly as py\n",
    "import plotly.graph_objs as go\n",
    "\n",
    "def plot_errors(feature):\n",
    "    current = feature\n",
    "    N = 10\n",
    "    x_axis = np.linspace(10, 100, 10)\n",
    "#     svd_y = svd_impute_test.loc[current].values\n",
    "    knn_y = percent_imputation_results[(percent_imputation_results[\"imputer\"] == \"KNN\") & (percent_imputation_results[\"feature\"] == current)][\"mae\"]\n",
    "    mice_y = percent_imputation_results[(percent_imputation_results[\"imputer\"] == \"MICE\") & (percent_imputation_results[\"feature\"] == current)][\"mae\"]\n",
    "    soft_y = percent_imputation_results[(percent_imputation_results[\"imputer\"] == \"Soft Impute\") & (percent_imputation_results[\"feature\"] == current)][\"mae\"]\n",
    "    mean_y = percent_imputation_results[(percent_imputation_results[\"imputer\"] == \"Mean\") & (percent_imputation_results[\"feature\"] == current)][\"mae\"]\n",
    "    median_y = percent_imputation_results[(percent_imputation_results[\"imputer\"] == \"Median\") & (percent_imputation_results[\"feature\"] == current)][\"mae\"]\n",
    "\n",
    "    # Create traces\n",
    "    trace0 = go.Scatter(\n",
    "        x =  x_axis,\n",
    "        y = knn_y,\n",
    "        mode = 'lines+markers',\n",
    "        name = 'KNN Imputer'\n",
    "    )\n",
    "    trace1 = go.Scatter(\n",
    "        x =  x_axis,\n",
    "        y = median_y,\n",
    "        mode = 'lines+markers',\n",
    "        name = 'Median Imputer'\n",
    "    )\n",
    "\n",
    "    trace2 = go.Scatter(\n",
    "        x = x_axis,\n",
    "        y = mean_y,\n",
    "        mode = 'lines+markers',\n",
    "        name = 'Mean Imputer'\n",
    "    )\n",
    "    trace3 = go.Scatter(\n",
    "        x = x_axis,\n",
    "        y = mice_y,\n",
    "        mode = 'lines+markers',\n",
    "        name = 'MICE Imputer'\n",
    "    )\n",
    "    trace4 = go.Scatter(\n",
    "        x = x_axis,\n",
    "        y = soft_y,\n",
    "        mode = 'lines+markers',\n",
    "        name = 'Softmax Imputer'\n",
    "    )\n",
    "    \n",
    "\n",
    "\n",
    "    data = [trace0, trace1, trace4]\n",
    "\n",
    "\n",
    "    layout = dict(title = current,\n",
    "                  xaxis = dict(title = 'Percent of data imputed'),\n",
    "                 yaxis = dict(title = 'Mean Absolute Error'),\n",
    "                  )\n",
    "\n",
    "    fig = dict(data=data, layout=layout)\n",
    "\n",
    "    return py.iplot(fig, filename='line-mode')\n",
    "\n",
    "\n",
    "## Some top features:\n",
    "### 'surface_lat', 'bh_lat', 'total_lbs_proppant', 'total_volume_bbls', 'mean_tvd', 'max_tvd'\n",
    "\n",
    "plot_errors(\"surface_lat\")\n",
    "\n",
    "plot_errors(\"total_lbs_proppant\")\n",
    "\n",
    "plot_errors(\"total_volume_bbls\")\n",
    "\n",
    "plot_errors(\"mean_tvd\")\n",
    "\n",
    "plot_errors(\"legs\")"
   ]
  },
  {
   "cell_type": "code",
   "execution_count": null,
   "metadata": {
    "collapsed": true
   },
   "outputs": [],
   "source": []
  }
 ],
 "metadata": {
  "kernelspec": {
   "display_name": "Python 2",
   "language": "python",
   "name": "python2"
  },
  "language_info": {
   "codemirror_mode": {
    "name": "ipython",
    "version": 2
   },
   "file_extension": ".py",
   "mimetype": "text/x-python",
   "name": "python",
   "nbconvert_exporter": "python",
   "pygments_lexer": "ipython2",
   "version": "2.7.13"
  }
 },
 "nbformat": 4,
 "nbformat_minor": 2
}
